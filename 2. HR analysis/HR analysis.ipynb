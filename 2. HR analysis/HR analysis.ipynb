{
 "cells": [
  {
   "cell_type": "markdown",
   "id": "1f2c1d25",
   "metadata": {},
   "source": [
    "# Дано"
   ]
  },
  {
   "cell_type": "markdown",
   "id": "02b7c9b4",
   "metadata": {},
   "source": [
    "**Описание проекта:**\n",
    "\n",
    "HR-аналитики компании «Работа с заботой» помогают бизнесу оптимизировать управление персоналом: бизнес предоставляет данные, а аналитики предлагают, как избежать финансовых потерь и оттока сотрудников. В этом HR-аналитикам пригодится машинное обучение, с помощью которого получится быстрее и точнее отвечать на вопросы бизнеса.\n",
    "Компания предоставила данные с характеристиками сотрудников компании. Среди них — уровень удовлетворённости сотрудника работой в компании. Эту информацию получили из форм обратной связи: сотрудники заполняют тест-опросник, и по его результатам рассчитывается доля их удовлетворённости от 0 до 1, где 0 — совершенно неудовлетворён, 1 — полностью удовлетворён. \n",
    "Собирать данные такими опросниками не так легко: компания большая, и всех сотрудников надо сначала оповестить об опросе, а затем проследить, что все его прошли. "
   ]
  },
  {
   "cell_type": "markdown",
   "id": "2c517d82",
   "metadata": {},
   "source": [
    "**Задача 1:** предсказание уровня удовлетворённости сотрудника\n",
    "Для этой задачи заказчик предоставил данные с признаками:\n",
    "- id — уникальный идентификатор сотрудника;\n",
    "- dept — отдел, в котором работает сотрудник;\n",
    "- level — уровень занимаемой должности;\n",
    "- workload — уровень загруженности сотрудника;\n",
    "- employment_years — длительность работы в компании (в годах);\n",
    "- last_year_promo — показывает, было ли повышение за последний год;\n",
    "- last_year_violations — показывает, нарушал ли сотрудник трудовой договор за последний год;\n",
    "- supervisor_evaluation — оценка качества работы сотрудника, которую дал руководитель;\n",
    "- salary — ежемесячная зарплата сотрудника;\n",
    "- job_satisfaction_rate — уровень удовлетворённости сотрудника работой в компании, целевой признак."
   ]
  },
  {
   "cell_type": "markdown",
   "id": "d4661a23",
   "metadata": {},
   "source": [
    "**Задача 2:** предсказание увольнения сотрудника из компании\n",
    "Для этой задачи вы можете использовать те же входные признаки, что и в предыдущей задаче. Однако целевой признак отличается: это quit — увольнение сотрудника из компании."
   ]
  },
  {
   "cell_type": "markdown",
   "id": "56b37fe0",
   "metadata": {},
   "source": [
    "# Задача 1"
   ]
  },
  {
   "cell_type": "markdown",
   "id": "0c2e2fcf",
   "metadata": {},
   "source": [
    "## Импорт библиотек"
   ]
  },
  {
   "cell_type": "code",
   "execution_count": 1,
   "id": "3cd98056",
   "metadata": {},
   "outputs": [],
   "source": [
    "!pip install --upgrade scikit-learn -q\n",
    "import warnings\n",
    "warnings.filterwarnings('ignore')\n",
    "#установка phik\n",
    "! pip install phik -q\n",
    "import seaborn as sns\n",
    "\n",
    "import pandas as pd\n",
    "import numpy as np\n",
    "import pandas as pd\n",
    "import matplotlib.pyplot as plt\n",
    "from sklearn.model_selection import train_test_split\n",
    "\n",
    "from phik.report import plot_correlation_matrix\n",
    "\n",
    "from sklearn.pipeline import Pipeline\n",
    "from sklearn.compose import ColumnTransformer\n",
    "from sklearn.preprocessing import OneHotEncoder, OrdinalEncoder, StandardScaler, MinMaxScaler\n",
    "from sklearn.preprocessing import LabelEncoder\n",
    "from sklearn.model_selection import RandomizedSearchCV\n",
    "from sklearn.model_selection import GridSearchCV\n",
    "from sklearn.impute import SimpleImputer\n",
    "from sklearn.metrics import roc_auc_score\n",
    "from sklearn.metrics import make_scorer\n",
    "from sklearn.tree import DecisionTreeClassifier\n",
    "from sklearn.tree import DecisionTreeRegressor\n",
    "from sklearn.linear_model import LinearRegression\n",
    "from sklearn.neighbors import KNeighborsClassifier\n",
    "from sklearn.linear_model import LogisticRegression\n",
    "from sklearn.svm import SVC\n",
    "from sklearn.preprocessing import PolynomialFeatures\n",
    "from sklearn.linear_model import Ridge\n",
    "from sklearn.ensemble import RandomForestClassifier"
   ]
  },
  {
   "cell_type": "code",
   "execution_count": 2,
   "id": "e3381f6e",
   "metadata": {},
   "outputs": [
    {
     "name": "stdout",
     "output_type": "stream",
     "text": [
      "<class 'pandas.core.frame.DataFrame'>\n",
      "Int64Index: 4000 entries, 155278 to 338347\n",
      "Data columns (total 9 columns):\n",
      " #   Column                 Non-Null Count  Dtype  \n",
      "---  ------                 --------------  -----  \n",
      " 0   dept                   3994 non-null   object \n",
      " 1   level                  3996 non-null   object \n",
      " 2   workload               4000 non-null   object \n",
      " 3   employment_years       4000 non-null   int64  \n",
      " 4   last_year_promo        4000 non-null   object \n",
      " 5   last_year_violations   4000 non-null   object \n",
      " 6   supervisor_evaluation  4000 non-null   int64  \n",
      " 7   salary                 4000 non-null   int64  \n",
      " 8   job_satisfaction_rate  4000 non-null   float64\n",
      "dtypes: float64(1), int64(3), object(5)\n",
      "memory usage: 312.5+ KB\n"
     ]
    },
    {
     "data": {
      "text/html": [
       "<div>\n",
       "<style scoped>\n",
       "    .dataframe tbody tr th:only-of-type {\n",
       "        vertical-align: middle;\n",
       "    }\n",
       "\n",
       "    .dataframe tbody tr th {\n",
       "        vertical-align: top;\n",
       "    }\n",
       "\n",
       "    .dataframe thead th {\n",
       "        text-align: right;\n",
       "    }\n",
       "</style>\n",
       "<table border=\"1\" class=\"dataframe\">\n",
       "  <thead>\n",
       "    <tr style=\"text-align: right;\">\n",
       "      <th></th>\n",
       "      <th>dept</th>\n",
       "      <th>level</th>\n",
       "      <th>workload</th>\n",
       "      <th>employment_years</th>\n",
       "      <th>last_year_promo</th>\n",
       "      <th>last_year_violations</th>\n",
       "      <th>supervisor_evaluation</th>\n",
       "      <th>salary</th>\n",
       "      <th>job_satisfaction_rate</th>\n",
       "    </tr>\n",
       "    <tr>\n",
       "      <th>id</th>\n",
       "      <th></th>\n",
       "      <th></th>\n",
       "      <th></th>\n",
       "      <th></th>\n",
       "      <th></th>\n",
       "      <th></th>\n",
       "      <th></th>\n",
       "      <th></th>\n",
       "      <th></th>\n",
       "    </tr>\n",
       "  </thead>\n",
       "  <tbody>\n",
       "    <tr>\n",
       "      <th>155278</th>\n",
       "      <td>sales</td>\n",
       "      <td>junior</td>\n",
       "      <td>medium</td>\n",
       "      <td>2</td>\n",
       "      <td>no</td>\n",
       "      <td>no</td>\n",
       "      <td>1</td>\n",
       "      <td>24000</td>\n",
       "      <td>0.58</td>\n",
       "    </tr>\n",
       "    <tr>\n",
       "      <th>653870</th>\n",
       "      <td>hr</td>\n",
       "      <td>junior</td>\n",
       "      <td>high</td>\n",
       "      <td>2</td>\n",
       "      <td>no</td>\n",
       "      <td>no</td>\n",
       "      <td>5</td>\n",
       "      <td>38400</td>\n",
       "      <td>0.76</td>\n",
       "    </tr>\n",
       "    <tr>\n",
       "      <th>184592</th>\n",
       "      <td>sales</td>\n",
       "      <td>junior</td>\n",
       "      <td>low</td>\n",
       "      <td>1</td>\n",
       "      <td>no</td>\n",
       "      <td>no</td>\n",
       "      <td>2</td>\n",
       "      <td>12000</td>\n",
       "      <td>0.11</td>\n",
       "    </tr>\n",
       "    <tr>\n",
       "      <th>171431</th>\n",
       "      <td>technology</td>\n",
       "      <td>junior</td>\n",
       "      <td>low</td>\n",
       "      <td>4</td>\n",
       "      <td>no</td>\n",
       "      <td>no</td>\n",
       "      <td>2</td>\n",
       "      <td>18000</td>\n",
       "      <td>0.37</td>\n",
       "    </tr>\n",
       "    <tr>\n",
       "      <th>693419</th>\n",
       "      <td>hr</td>\n",
       "      <td>junior</td>\n",
       "      <td>medium</td>\n",
       "      <td>1</td>\n",
       "      <td>no</td>\n",
       "      <td>no</td>\n",
       "      <td>3</td>\n",
       "      <td>22800</td>\n",
       "      <td>0.20</td>\n",
       "    </tr>\n",
       "  </tbody>\n",
       "</table>\n",
       "</div>"
      ],
      "text/plain": [
       "              dept   level workload  employment_years last_year_promo  \\\n",
       "id                                                                      \n",
       "155278       sales  junior   medium                 2              no   \n",
       "653870          hr  junior     high                 2              no   \n",
       "184592       sales  junior      low                 1              no   \n",
       "171431  technology  junior      low                 4              no   \n",
       "693419          hr  junior   medium                 1              no   \n",
       "\n",
       "       last_year_violations  supervisor_evaluation  salary  \\\n",
       "id                                                           \n",
       "155278                   no                      1   24000   \n",
       "653870                   no                      5   38400   \n",
       "184592                   no                      2   12000   \n",
       "171431                   no                      2   18000   \n",
       "693419                   no                      3   22800   \n",
       "\n",
       "        job_satisfaction_rate  \n",
       "id                             \n",
       "155278                   0.58  \n",
       "653870                   0.76  \n",
       "184592                   0.11  \n",
       "171431                   0.37  \n",
       "693419                   0.20  "
      ]
     },
     "metadata": {},
     "output_type": "display_data"
    }
   ],
   "source": [
    "train_1 = pd.read_csv('/datasets/train_job_satisfaction_rate.csv').set_index('id')\n",
    "train_1.info()\n",
    "display(train_1.head())"
   ]
  },
  {
   "cell_type": "code",
   "execution_count": 3,
   "id": "62c772ce",
   "metadata": {},
   "outputs": [
    {
     "name": "stdout",
     "output_type": "stream",
     "text": [
      "<class 'pandas.core.frame.DataFrame'>\n",
      "Int64Index: 2000 entries, 485046 to 771859\n",
      "Data columns (total 8 columns):\n",
      " #   Column                 Non-Null Count  Dtype \n",
      "---  ------                 --------------  ----- \n",
      " 0   dept                   1998 non-null   object\n",
      " 1   level                  1999 non-null   object\n",
      " 2   workload               2000 non-null   object\n",
      " 3   employment_years       2000 non-null   int64 \n",
      " 4   last_year_promo        2000 non-null   object\n",
      " 5   last_year_violations   2000 non-null   object\n",
      " 6   supervisor_evaluation  2000 non-null   int64 \n",
      " 7   salary                 2000 non-null   int64 \n",
      "dtypes: int64(3), object(5)\n",
      "memory usage: 140.6+ KB\n"
     ]
    },
    {
     "data": {
      "text/html": [
       "<div>\n",
       "<style scoped>\n",
       "    .dataframe tbody tr th:only-of-type {\n",
       "        vertical-align: middle;\n",
       "    }\n",
       "\n",
       "    .dataframe tbody tr th {\n",
       "        vertical-align: top;\n",
       "    }\n",
       "\n",
       "    .dataframe thead th {\n",
       "        text-align: right;\n",
       "    }\n",
       "</style>\n",
       "<table border=\"1\" class=\"dataframe\">\n",
       "  <thead>\n",
       "    <tr style=\"text-align: right;\">\n",
       "      <th></th>\n",
       "      <th>dept</th>\n",
       "      <th>level</th>\n",
       "      <th>workload</th>\n",
       "      <th>employment_years</th>\n",
       "      <th>last_year_promo</th>\n",
       "      <th>last_year_violations</th>\n",
       "      <th>supervisor_evaluation</th>\n",
       "      <th>salary</th>\n",
       "    </tr>\n",
       "    <tr>\n",
       "      <th>id</th>\n",
       "      <th></th>\n",
       "      <th></th>\n",
       "      <th></th>\n",
       "      <th></th>\n",
       "      <th></th>\n",
       "      <th></th>\n",
       "      <th></th>\n",
       "      <th></th>\n",
       "    </tr>\n",
       "  </thead>\n",
       "  <tbody>\n",
       "    <tr>\n",
       "      <th>485046</th>\n",
       "      <td>marketing</td>\n",
       "      <td>junior</td>\n",
       "      <td>medium</td>\n",
       "      <td>2</td>\n",
       "      <td>no</td>\n",
       "      <td>no</td>\n",
       "      <td>5</td>\n",
       "      <td>28800</td>\n",
       "    </tr>\n",
       "    <tr>\n",
       "      <th>686555</th>\n",
       "      <td>hr</td>\n",
       "      <td>junior</td>\n",
       "      <td>medium</td>\n",
       "      <td>1</td>\n",
       "      <td>no</td>\n",
       "      <td>no</td>\n",
       "      <td>4</td>\n",
       "      <td>30000</td>\n",
       "    </tr>\n",
       "    <tr>\n",
       "      <th>467458</th>\n",
       "      <td>sales</td>\n",
       "      <td>middle</td>\n",
       "      <td>low</td>\n",
       "      <td>5</td>\n",
       "      <td>no</td>\n",
       "      <td>no</td>\n",
       "      <td>4</td>\n",
       "      <td>19200</td>\n",
       "    </tr>\n",
       "    <tr>\n",
       "      <th>418655</th>\n",
       "      <td>sales</td>\n",
       "      <td>middle</td>\n",
       "      <td>low</td>\n",
       "      <td>6</td>\n",
       "      <td>no</td>\n",
       "      <td>no</td>\n",
       "      <td>4</td>\n",
       "      <td>19200</td>\n",
       "    </tr>\n",
       "    <tr>\n",
       "      <th>789145</th>\n",
       "      <td>hr</td>\n",
       "      <td>middle</td>\n",
       "      <td>medium</td>\n",
       "      <td>5</td>\n",
       "      <td>no</td>\n",
       "      <td>no</td>\n",
       "      <td>5</td>\n",
       "      <td>40800</td>\n",
       "    </tr>\n",
       "  </tbody>\n",
       "</table>\n",
       "</div>"
      ],
      "text/plain": [
       "             dept   level workload  employment_years last_year_promo  \\\n",
       "id                                                                     \n",
       "485046  marketing  junior   medium                 2              no   \n",
       "686555         hr  junior   medium                 1              no   \n",
       "467458      sales  middle      low                 5              no   \n",
       "418655      sales  middle      low                 6              no   \n",
       "789145         hr  middle   medium                 5              no   \n",
       "\n",
       "       last_year_violations  supervisor_evaluation  salary  \n",
       "id                                                          \n",
       "485046                   no                      5   28800  \n",
       "686555                   no                      4   30000  \n",
       "467458                   no                      4   19200  \n",
       "418655                   no                      4   19200  \n",
       "789145                   no                      5   40800  "
      ]
     },
     "metadata": {},
     "output_type": "display_data"
    }
   ],
   "source": [
    "X_test_1 = pd.read_csv('/datasets/test_features.csv').set_index('id')\n",
    "X_test_1.info()\n",
    "display(X_test_1.head())"
   ]
  },
  {
   "cell_type": "code",
   "execution_count": 4,
   "id": "cb198012",
   "metadata": {},
   "outputs": [
    {
     "name": "stdout",
     "output_type": "stream",
     "text": [
      "<class 'pandas.core.frame.DataFrame'>\n",
      "Int64Index: 2000 entries, 130604 to 648995\n",
      "Data columns (total 1 columns):\n",
      " #   Column                 Non-Null Count  Dtype  \n",
      "---  ------                 --------------  -----  \n",
      " 0   job_satisfaction_rate  2000 non-null   float64\n",
      "dtypes: float64(1)\n",
      "memory usage: 31.2 KB\n"
     ]
    },
    {
     "data": {
      "text/html": [
       "<div>\n",
       "<style scoped>\n",
       "    .dataframe tbody tr th:only-of-type {\n",
       "        vertical-align: middle;\n",
       "    }\n",
       "\n",
       "    .dataframe tbody tr th {\n",
       "        vertical-align: top;\n",
       "    }\n",
       "\n",
       "    .dataframe thead th {\n",
       "        text-align: right;\n",
       "    }\n",
       "</style>\n",
       "<table border=\"1\" class=\"dataframe\">\n",
       "  <thead>\n",
       "    <tr style=\"text-align: right;\">\n",
       "      <th></th>\n",
       "      <th>job_satisfaction_rate</th>\n",
       "    </tr>\n",
       "    <tr>\n",
       "      <th>id</th>\n",
       "      <th></th>\n",
       "    </tr>\n",
       "  </thead>\n",
       "  <tbody>\n",
       "    <tr>\n",
       "      <th>130604</th>\n",
       "      <td>0.74</td>\n",
       "    </tr>\n",
       "    <tr>\n",
       "      <th>825977</th>\n",
       "      <td>0.75</td>\n",
       "    </tr>\n",
       "    <tr>\n",
       "      <th>418490</th>\n",
       "      <td>0.60</td>\n",
       "    </tr>\n",
       "    <tr>\n",
       "      <th>555320</th>\n",
       "      <td>0.72</td>\n",
       "    </tr>\n",
       "    <tr>\n",
       "      <th>826430</th>\n",
       "      <td>0.08</td>\n",
       "    </tr>\n",
       "  </tbody>\n",
       "</table>\n",
       "</div>"
      ],
      "text/plain": [
       "        job_satisfaction_rate\n",
       "id                           \n",
       "130604                   0.74\n",
       "825977                   0.75\n",
       "418490                   0.60\n",
       "555320                   0.72\n",
       "826430                   0.08"
      ]
     },
     "metadata": {},
     "output_type": "display_data"
    }
   ],
   "source": [
    "y_test_1 = pd.read_csv('/datasets/test_target_job_satisfaction_rate.csv').set_index('id')\n",
    "y_test_1.info()\n",
    "display(y_test_1.head())"
   ]
  },
  {
   "cell_type": "markdown",
   "id": "fb9b0864",
   "metadata": {},
   "source": [
    "**Вывод:**\n",
    "\n",
    "В данных встречаются пропуски, необходимо их обработать. В остальном, данные выглядят нормально, типы данных корректные."
   ]
  },
  {
   "cell_type": "markdown",
   "id": "debe9490",
   "metadata": {},
   "source": [
    "## Предобработка данных"
   ]
  },
  {
   "cell_type": "code",
   "execution_count": 5,
   "id": "80c4f925",
   "metadata": {},
   "outputs": [
    {
     "data": {
      "text/plain": [
       "'dept'"
      ]
     },
     "metadata": {},
     "output_type": "display_data"
    },
    {
     "data": {
      "text/plain": [
       "sales         1512\n",
       "technology     866\n",
       "purchasing     610\n",
       "marketing      550\n",
       "hr             456\n",
       "Name: dept, dtype: int64"
      ]
     },
     "metadata": {},
     "output_type": "display_data"
    },
    {
     "data": {
      "text/plain": [
       "'level'"
      ]
     },
     "metadata": {},
     "output_type": "display_data"
    },
    {
     "data": {
      "text/plain": [
       "junior    1894\n",
       "middle    1744\n",
       "sinior     358\n",
       "Name: level, dtype: int64"
      ]
     },
     "metadata": {},
     "output_type": "display_data"
    },
    {
     "data": {
      "text/plain": [
       "'workload'"
      ]
     },
     "metadata": {},
     "output_type": "display_data"
    },
    {
     "data": {
      "text/plain": [
       "medium    2066\n",
       "low       1200\n",
       "high       734\n",
       "Name: workload, dtype: int64"
      ]
     },
     "metadata": {},
     "output_type": "display_data"
    },
    {
     "data": {
      "text/plain": [
       "'last_year_promo'"
      ]
     },
     "metadata": {},
     "output_type": "display_data"
    },
    {
     "data": {
      "text/plain": [
       "no     3880\n",
       "yes     120\n",
       "Name: last_year_promo, dtype: int64"
      ]
     },
     "metadata": {},
     "output_type": "display_data"
    },
    {
     "data": {
      "text/plain": [
       "'last_year_violations'"
      ]
     },
     "metadata": {},
     "output_type": "display_data"
    },
    {
     "data": {
      "text/plain": [
       "no     3441\n",
       "yes     559\n",
       "Name: last_year_violations, dtype: int64"
      ]
     },
     "metadata": {},
     "output_type": "display_data"
    }
   ],
   "source": [
    "for i in train_1.select_dtypes(include='object').columns:\n",
    "    display(i,train_1[i].value_counts())"
   ]
  },
  {
   "cell_type": "markdown",
   "id": "c83ca857",
   "metadata": {},
   "source": [
    "**Вывод:** \n",
    "\n",
    "Категориальные переменные не содержат ошибок в наименованиях, кроме \"sinior\" - исправим."
   ]
  },
  {
   "cell_type": "code",
   "execution_count": 6,
   "id": "eec09f23",
   "metadata": {},
   "outputs": [
    {
     "data": {
      "text/html": [
       "<div>\n",
       "<style scoped>\n",
       "    .dataframe tbody tr th:only-of-type {\n",
       "        vertical-align: middle;\n",
       "    }\n",
       "\n",
       "    .dataframe tbody tr th {\n",
       "        vertical-align: top;\n",
       "    }\n",
       "\n",
       "    .dataframe thead th {\n",
       "        text-align: right;\n",
       "    }\n",
       "</style>\n",
       "<table border=\"1\" class=\"dataframe\">\n",
       "  <thead>\n",
       "    <tr style=\"text-align: right;\">\n",
       "      <th></th>\n",
       "      <th>dept</th>\n",
       "      <th>level</th>\n",
       "      <th>workload</th>\n",
       "      <th>employment_years</th>\n",
       "      <th>last_year_promo</th>\n",
       "      <th>last_year_violations</th>\n",
       "      <th>supervisor_evaluation</th>\n",
       "      <th>salary</th>\n",
       "      <th>job_satisfaction_rate</th>\n",
       "    </tr>\n",
       "    <tr>\n",
       "      <th>id</th>\n",
       "      <th></th>\n",
       "      <th></th>\n",
       "      <th></th>\n",
       "      <th></th>\n",
       "      <th></th>\n",
       "      <th></th>\n",
       "      <th></th>\n",
       "      <th></th>\n",
       "      <th></th>\n",
       "    </tr>\n",
       "  </thead>\n",
       "  <tbody>\n",
       "    <tr>\n",
       "      <th>155278</th>\n",
       "      <td>sales</td>\n",
       "      <td>junior</td>\n",
       "      <td>medium</td>\n",
       "      <td>2</td>\n",
       "      <td>no</td>\n",
       "      <td>no</td>\n",
       "      <td>1</td>\n",
       "      <td>24000</td>\n",
       "      <td>0.58</td>\n",
       "    </tr>\n",
       "    <tr>\n",
       "      <th>653870</th>\n",
       "      <td>hr</td>\n",
       "      <td>junior</td>\n",
       "      <td>high</td>\n",
       "      <td>2</td>\n",
       "      <td>no</td>\n",
       "      <td>no</td>\n",
       "      <td>5</td>\n",
       "      <td>38400</td>\n",
       "      <td>0.76</td>\n",
       "    </tr>\n",
       "    <tr>\n",
       "      <th>184592</th>\n",
       "      <td>sales</td>\n",
       "      <td>junior</td>\n",
       "      <td>low</td>\n",
       "      <td>1</td>\n",
       "      <td>no</td>\n",
       "      <td>no</td>\n",
       "      <td>2</td>\n",
       "      <td>12000</td>\n",
       "      <td>0.11</td>\n",
       "    </tr>\n",
       "    <tr>\n",
       "      <th>171431</th>\n",
       "      <td>technology</td>\n",
       "      <td>junior</td>\n",
       "      <td>low</td>\n",
       "      <td>4</td>\n",
       "      <td>no</td>\n",
       "      <td>no</td>\n",
       "      <td>2</td>\n",
       "      <td>18000</td>\n",
       "      <td>0.37</td>\n",
       "    </tr>\n",
       "    <tr>\n",
       "      <th>693419</th>\n",
       "      <td>hr</td>\n",
       "      <td>junior</td>\n",
       "      <td>medium</td>\n",
       "      <td>1</td>\n",
       "      <td>no</td>\n",
       "      <td>no</td>\n",
       "      <td>3</td>\n",
       "      <td>22800</td>\n",
       "      <td>0.20</td>\n",
       "    </tr>\n",
       "    <tr>\n",
       "      <th>405448</th>\n",
       "      <td>hr</td>\n",
       "      <td>middle</td>\n",
       "      <td>low</td>\n",
       "      <td>7</td>\n",
       "      <td>no</td>\n",
       "      <td>no</td>\n",
       "      <td>4</td>\n",
       "      <td>30000</td>\n",
       "      <td>0.78</td>\n",
       "    </tr>\n",
       "    <tr>\n",
       "      <th>857135</th>\n",
       "      <td>sales</td>\n",
       "      <td>senior</td>\n",
       "      <td>medium</td>\n",
       "      <td>9</td>\n",
       "      <td>no</td>\n",
       "      <td>no</td>\n",
       "      <td>3</td>\n",
       "      <td>56400</td>\n",
       "      <td>0.56</td>\n",
       "    </tr>\n",
       "    <tr>\n",
       "      <th>400657</th>\n",
       "      <td>purchasing</td>\n",
       "      <td>middle</td>\n",
       "      <td>high</td>\n",
       "      <td>9</td>\n",
       "      <td>no</td>\n",
       "      <td>no</td>\n",
       "      <td>3</td>\n",
       "      <td>52800</td>\n",
       "      <td>0.44</td>\n",
       "    </tr>\n",
       "    <tr>\n",
       "      <th>198846</th>\n",
       "      <td>hr</td>\n",
       "      <td>junior</td>\n",
       "      <td>low</td>\n",
       "      <td>1</td>\n",
       "      <td>no</td>\n",
       "      <td>no</td>\n",
       "      <td>2</td>\n",
       "      <td>13200</td>\n",
       "      <td>0.14</td>\n",
       "    </tr>\n",
       "    <tr>\n",
       "      <th>149797</th>\n",
       "      <td>technology</td>\n",
       "      <td>middle</td>\n",
       "      <td>high</td>\n",
       "      <td>6</td>\n",
       "      <td>no</td>\n",
       "      <td>no</td>\n",
       "      <td>3</td>\n",
       "      <td>54000</td>\n",
       "      <td>0.47</td>\n",
       "    </tr>\n",
       "  </tbody>\n",
       "</table>\n",
       "</div>"
      ],
      "text/plain": [
       "              dept   level workload  employment_years last_year_promo  \\\n",
       "id                                                                      \n",
       "155278       sales  junior   medium                 2              no   \n",
       "653870          hr  junior     high                 2              no   \n",
       "184592       sales  junior      low                 1              no   \n",
       "171431  technology  junior      low                 4              no   \n",
       "693419          hr  junior   medium                 1              no   \n",
       "405448          hr  middle      low                 7              no   \n",
       "857135       sales  senior   medium                 9              no   \n",
       "400657  purchasing  middle     high                 9              no   \n",
       "198846          hr  junior      low                 1              no   \n",
       "149797  technology  middle     high                 6              no   \n",
       "\n",
       "       last_year_violations  supervisor_evaluation  salary  \\\n",
       "id                                                           \n",
       "155278                   no                      1   24000   \n",
       "653870                   no                      5   38400   \n",
       "184592                   no                      2   12000   \n",
       "171431                   no                      2   18000   \n",
       "693419                   no                      3   22800   \n",
       "405448                   no                      4   30000   \n",
       "857135                   no                      3   56400   \n",
       "400657                   no                      3   52800   \n",
       "198846                   no                      2   13200   \n",
       "149797                   no                      3   54000   \n",
       "\n",
       "        job_satisfaction_rate  \n",
       "id                             \n",
       "155278                   0.58  \n",
       "653870                   0.76  \n",
       "184592                   0.11  \n",
       "171431                   0.37  \n",
       "693419                   0.20  \n",
       "405448                   0.78  \n",
       "857135                   0.56  \n",
       "400657                   0.44  \n",
       "198846                   0.14  \n",
       "149797                   0.47  "
      ]
     },
     "metadata": {},
     "output_type": "display_data"
    }
   ],
   "source": [
    "# выполняем замену\n",
    "train_1['level'] = train_1['level'].replace(\"sinior\", \"senior\")\n",
    "\n",
    "# проверяем результат\n",
    "display(train_1.head(10))"
   ]
  },
  {
   "cell_type": "markdown",
   "id": "47debf64",
   "metadata": {},
   "source": [
    "**Разберемся с пропусками:**"
   ]
  },
  {
   "cell_type": "code",
   "execution_count": 7,
   "id": "1072432b",
   "metadata": {},
   "outputs": [
    {
     "data": {
      "text/html": [
       "<div>\n",
       "<style scoped>\n",
       "    .dataframe tbody tr th:only-of-type {\n",
       "        vertical-align: middle;\n",
       "    }\n",
       "\n",
       "    .dataframe tbody tr th {\n",
       "        vertical-align: top;\n",
       "    }\n",
       "\n",
       "    .dataframe thead th {\n",
       "        text-align: right;\n",
       "    }\n",
       "</style>\n",
       "<table border=\"1\" class=\"dataframe\">\n",
       "  <thead>\n",
       "    <tr style=\"text-align: right;\">\n",
       "      <th></th>\n",
       "      <th>dept</th>\n",
       "      <th>level</th>\n",
       "      <th>workload</th>\n",
       "      <th>employment_years</th>\n",
       "      <th>last_year_promo</th>\n",
       "      <th>last_year_violations</th>\n",
       "      <th>supervisor_evaluation</th>\n",
       "      <th>salary</th>\n",
       "      <th>job_satisfaction_rate</th>\n",
       "    </tr>\n",
       "    <tr>\n",
       "      <th>id</th>\n",
       "      <th></th>\n",
       "      <th></th>\n",
       "      <th></th>\n",
       "      <th></th>\n",
       "      <th></th>\n",
       "      <th></th>\n",
       "      <th></th>\n",
       "      <th></th>\n",
       "      <th></th>\n",
       "    </tr>\n",
       "  </thead>\n",
       "  <tbody>\n",
       "    <tr>\n",
       "      <th>694746</th>\n",
       "      <td>NaN</td>\n",
       "      <td>junior</td>\n",
       "      <td>medium</td>\n",
       "      <td>5</td>\n",
       "      <td>no</td>\n",
       "      <td>no</td>\n",
       "      <td>4</td>\n",
       "      <td>21600</td>\n",
       "      <td>0.62</td>\n",
       "    </tr>\n",
       "    <tr>\n",
       "      <th>814624</th>\n",
       "      <td>NaN</td>\n",
       "      <td>junior</td>\n",
       "      <td>medium</td>\n",
       "      <td>3</td>\n",
       "      <td>no</td>\n",
       "      <td>no</td>\n",
       "      <td>4</td>\n",
       "      <td>24000</td>\n",
       "      <td>0.88</td>\n",
       "    </tr>\n",
       "    <tr>\n",
       "      <th>475114</th>\n",
       "      <td>NaN</td>\n",
       "      <td>junior</td>\n",
       "      <td>high</td>\n",
       "      <td>4</td>\n",
       "      <td>no</td>\n",
       "      <td>no</td>\n",
       "      <td>4</td>\n",
       "      <td>31200</td>\n",
       "      <td>0.63</td>\n",
       "    </tr>\n",
       "    <tr>\n",
       "      <th>497243</th>\n",
       "      <td>NaN</td>\n",
       "      <td>junior</td>\n",
       "      <td>medium</td>\n",
       "      <td>1</td>\n",
       "      <td>no</td>\n",
       "      <td>no</td>\n",
       "      <td>3</td>\n",
       "      <td>26400</td>\n",
       "      <td>0.28</td>\n",
       "    </tr>\n",
       "    <tr>\n",
       "      <th>168668</th>\n",
       "      <td>NaN</td>\n",
       "      <td>junior</td>\n",
       "      <td>low</td>\n",
       "      <td>3</td>\n",
       "      <td>no</td>\n",
       "      <td>no</td>\n",
       "      <td>4</td>\n",
       "      <td>18000</td>\n",
       "      <td>0.88</td>\n",
       "    </tr>\n",
       "    <tr>\n",
       "      <th>641150</th>\n",
       "      <td>NaN</td>\n",
       "      <td>junior</td>\n",
       "      <td>low</td>\n",
       "      <td>3</td>\n",
       "      <td>no</td>\n",
       "      <td>yes</td>\n",
       "      <td>4</td>\n",
       "      <td>12000</td>\n",
       "      <td>0.54</td>\n",
       "    </tr>\n",
       "  </tbody>\n",
       "</table>\n",
       "</div>"
      ],
      "text/plain": [
       "       dept   level workload  employment_years last_year_promo  \\\n",
       "id                                                               \n",
       "694746  NaN  junior   medium                 5              no   \n",
       "814624  NaN  junior   medium                 3              no   \n",
       "475114  NaN  junior     high                 4              no   \n",
       "497243  NaN  junior   medium                 1              no   \n",
       "168668  NaN  junior      low                 3              no   \n",
       "641150  NaN  junior      low                 3              no   \n",
       "\n",
       "       last_year_violations  supervisor_evaluation  salary  \\\n",
       "id                                                           \n",
       "694746                   no                      4   21600   \n",
       "814624                   no                      4   24000   \n",
       "475114                   no                      4   31200   \n",
       "497243                   no                      3   26400   \n",
       "168668                   no                      4   18000   \n",
       "641150                  yes                      4   12000   \n",
       "\n",
       "        job_satisfaction_rate  \n",
       "id                             \n",
       "694746                   0.62  \n",
       "814624                   0.88  \n",
       "475114                   0.63  \n",
       "497243                   0.28  \n",
       "168668                   0.88  \n",
       "641150                   0.54  "
      ]
     },
     "execution_count": 7,
     "metadata": {},
     "output_type": "execute_result"
    }
   ],
   "source": [
    "#пропуски в департаменте\n",
    "\n",
    "train_1[train_1['dept'].isnull()]"
   ]
  },
  {
   "cell_type": "code",
   "execution_count": 8,
   "id": "6f36b40b",
   "metadata": {},
   "outputs": [
    {
     "data": {
      "text/html": [
       "<div>\n",
       "<style scoped>\n",
       "    .dataframe tbody tr th:only-of-type {\n",
       "        vertical-align: middle;\n",
       "    }\n",
       "\n",
       "    .dataframe tbody tr th {\n",
       "        vertical-align: top;\n",
       "    }\n",
       "\n",
       "    .dataframe thead th {\n",
       "        text-align: right;\n",
       "    }\n",
       "</style>\n",
       "<table border=\"1\" class=\"dataframe\">\n",
       "  <thead>\n",
       "    <tr style=\"text-align: right;\">\n",
       "      <th></th>\n",
       "      <th>dept</th>\n",
       "      <th>level</th>\n",
       "      <th>workload</th>\n",
       "      <th>employment_years</th>\n",
       "      <th>last_year_promo</th>\n",
       "      <th>last_year_violations</th>\n",
       "      <th>supervisor_evaluation</th>\n",
       "      <th>salary</th>\n",
       "      <th>job_satisfaction_rate</th>\n",
       "    </tr>\n",
       "    <tr>\n",
       "      <th>id</th>\n",
       "      <th></th>\n",
       "      <th></th>\n",
       "      <th></th>\n",
       "      <th></th>\n",
       "      <th></th>\n",
       "      <th></th>\n",
       "      <th></th>\n",
       "      <th></th>\n",
       "      <th></th>\n",
       "    </tr>\n",
       "  </thead>\n",
       "  <tbody>\n",
       "    <tr>\n",
       "      <th>631073</th>\n",
       "      <td>sales</td>\n",
       "      <td>NaN</td>\n",
       "      <td>medium</td>\n",
       "      <td>1</td>\n",
       "      <td>no</td>\n",
       "      <td>no</td>\n",
       "      <td>4</td>\n",
       "      <td>27600</td>\n",
       "      <td>0.66</td>\n",
       "    </tr>\n",
       "    <tr>\n",
       "      <th>416327</th>\n",
       "      <td>sales</td>\n",
       "      <td>NaN</td>\n",
       "      <td>low</td>\n",
       "      <td>1</td>\n",
       "      <td>no</td>\n",
       "      <td>no</td>\n",
       "      <td>5</td>\n",
       "      <td>18000</td>\n",
       "      <td>0.73</td>\n",
       "    </tr>\n",
       "    <tr>\n",
       "      <th>135043</th>\n",
       "      <td>sales</td>\n",
       "      <td>NaN</td>\n",
       "      <td>medium</td>\n",
       "      <td>1</td>\n",
       "      <td>no</td>\n",
       "      <td>no</td>\n",
       "      <td>3</td>\n",
       "      <td>26400</td>\n",
       "      <td>0.30</td>\n",
       "    </tr>\n",
       "    <tr>\n",
       "      <th>998838</th>\n",
       "      <td>sales</td>\n",
       "      <td>NaN</td>\n",
       "      <td>medium</td>\n",
       "      <td>1</td>\n",
       "      <td>no</td>\n",
       "      <td>no</td>\n",
       "      <td>5</td>\n",
       "      <td>27600</td>\n",
       "      <td>0.71</td>\n",
       "    </tr>\n",
       "  </tbody>\n",
       "</table>\n",
       "</div>"
      ],
      "text/plain": [
       "         dept level workload  employment_years last_year_promo  \\\n",
       "id                                                               \n",
       "631073  sales   NaN   medium                 1              no   \n",
       "416327  sales   NaN      low                 1              no   \n",
       "135043  sales   NaN   medium                 1              no   \n",
       "998838  sales   NaN   medium                 1              no   \n",
       "\n",
       "       last_year_violations  supervisor_evaluation  salary  \\\n",
       "id                                                           \n",
       "631073                   no                      4   27600   \n",
       "416327                   no                      5   18000   \n",
       "135043                   no                      3   26400   \n",
       "998838                   no                      5   27600   \n",
       "\n",
       "        job_satisfaction_rate  \n",
       "id                             \n",
       "631073                   0.66  \n",
       "416327                   0.73  \n",
       "135043                   0.30  \n",
       "998838                   0.71  "
      ]
     },
     "execution_count": 8,
     "metadata": {},
     "output_type": "execute_result"
    }
   ],
   "source": [
    "#пропуски в уровне\n",
    "\n",
    "train_1[train_1['level'].isnull()]"
   ]
  },
  {
   "cell_type": "code",
   "execution_count": 9,
   "id": "6ae1715c",
   "metadata": {},
   "outputs": [
    {
     "data": {
      "text/html": [
       "<div>\n",
       "<style scoped>\n",
       "    .dataframe tbody tr th:only-of-type {\n",
       "        vertical-align: middle;\n",
       "    }\n",
       "\n",
       "    .dataframe tbody tr th {\n",
       "        vertical-align: top;\n",
       "    }\n",
       "\n",
       "    .dataframe thead th {\n",
       "        text-align: right;\n",
       "    }\n",
       "</style>\n",
       "<table border=\"1\" class=\"dataframe\">\n",
       "  <thead>\n",
       "    <tr style=\"text-align: right;\">\n",
       "      <th></th>\n",
       "      <th>employment_years</th>\n",
       "      <th>supervisor_evaluation</th>\n",
       "      <th>salary</th>\n",
       "      <th>job_satisfaction_rate</th>\n",
       "    </tr>\n",
       "  </thead>\n",
       "  <tbody>\n",
       "    <tr>\n",
       "      <th>count</th>\n",
       "      <td>4000.000000</td>\n",
       "      <td>4000.000000</td>\n",
       "      <td>4000.000000</td>\n",
       "      <td>4000.000000</td>\n",
       "    </tr>\n",
       "    <tr>\n",
       "      <th>mean</th>\n",
       "      <td>3.718500</td>\n",
       "      <td>3.476500</td>\n",
       "      <td>33926.700000</td>\n",
       "      <td>0.533995</td>\n",
       "    </tr>\n",
       "    <tr>\n",
       "      <th>std</th>\n",
       "      <td>2.542513</td>\n",
       "      <td>1.008812</td>\n",
       "      <td>14900.703838</td>\n",
       "      <td>0.225327</td>\n",
       "    </tr>\n",
       "    <tr>\n",
       "      <th>min</th>\n",
       "      <td>1.000000</td>\n",
       "      <td>1.000000</td>\n",
       "      <td>12000.000000</td>\n",
       "      <td>0.030000</td>\n",
       "    </tr>\n",
       "    <tr>\n",
       "      <th>25%</th>\n",
       "      <td>2.000000</td>\n",
       "      <td>3.000000</td>\n",
       "      <td>22800.000000</td>\n",
       "      <td>0.360000</td>\n",
       "    </tr>\n",
       "    <tr>\n",
       "      <th>50%</th>\n",
       "      <td>3.000000</td>\n",
       "      <td>4.000000</td>\n",
       "      <td>30000.000000</td>\n",
       "      <td>0.560000</td>\n",
       "    </tr>\n",
       "    <tr>\n",
       "      <th>75%</th>\n",
       "      <td>6.000000</td>\n",
       "      <td>4.000000</td>\n",
       "      <td>43200.000000</td>\n",
       "      <td>0.710000</td>\n",
       "    </tr>\n",
       "    <tr>\n",
       "      <th>max</th>\n",
       "      <td>10.000000</td>\n",
       "      <td>5.000000</td>\n",
       "      <td>98400.000000</td>\n",
       "      <td>1.000000</td>\n",
       "    </tr>\n",
       "  </tbody>\n",
       "</table>\n",
       "</div>"
      ],
      "text/plain": [
       "       employment_years  supervisor_evaluation        salary  \\\n",
       "count       4000.000000            4000.000000   4000.000000   \n",
       "mean           3.718500               3.476500  33926.700000   \n",
       "std            2.542513               1.008812  14900.703838   \n",
       "min            1.000000               1.000000  12000.000000   \n",
       "25%            2.000000               3.000000  22800.000000   \n",
       "50%            3.000000               4.000000  30000.000000   \n",
       "75%            6.000000               4.000000  43200.000000   \n",
       "max           10.000000               5.000000  98400.000000   \n",
       "\n",
       "       job_satisfaction_rate  \n",
       "count            4000.000000  \n",
       "mean                0.533995  \n",
       "std                 0.225327  \n",
       "min                 0.030000  \n",
       "25%                 0.360000  \n",
       "50%                 0.560000  \n",
       "75%                 0.710000  \n",
       "max                 1.000000  "
      ]
     },
     "execution_count": 9,
     "metadata": {},
     "output_type": "execute_result"
    }
   ],
   "source": [
    "#выведем основные количественные данные о датасете\n",
    "\n",
    "train_1.describe()"
   ]
  },
  {
   "cell_type": "markdown",
   "id": "70dd6e4d",
   "metadata": {},
   "source": [
    "Ошибок в количественных данных нет, посмотрим, с чем связаны пропуски в департаменте и уровне должности."
   ]
  },
  {
   "cell_type": "code",
   "execution_count": 10,
   "id": "6358d451",
   "metadata": {},
   "outputs": [
    {
     "data": {
      "text/html": [
       "<div>\n",
       "<style scoped>\n",
       "    .dataframe tbody tr th:only-of-type {\n",
       "        vertical-align: middle;\n",
       "    }\n",
       "\n",
       "    .dataframe tbody tr th {\n",
       "        vertical-align: top;\n",
       "    }\n",
       "\n",
       "    .dataframe thead th {\n",
       "        text-align: right;\n",
       "    }\n",
       "</style>\n",
       "<table border=\"1\" class=\"dataframe\">\n",
       "  <thead>\n",
       "    <tr style=\"text-align: right;\">\n",
       "      <th></th>\n",
       "      <th>dept</th>\n",
       "      <th>level</th>\n",
       "      <th>workload</th>\n",
       "      <th>employment_years</th>\n",
       "      <th>last_year_promo</th>\n",
       "      <th>last_year_violations</th>\n",
       "      <th>supervisor_evaluation</th>\n",
       "      <th>salary</th>\n",
       "    </tr>\n",
       "    <tr>\n",
       "      <th>id</th>\n",
       "      <th></th>\n",
       "      <th></th>\n",
       "      <th></th>\n",
       "      <th></th>\n",
       "      <th></th>\n",
       "      <th></th>\n",
       "      <th></th>\n",
       "      <th></th>\n",
       "    </tr>\n",
       "  </thead>\n",
       "  <tbody>\n",
       "    <tr>\n",
       "      <th>609865</th>\n",
       "      <td>NaN</td>\n",
       "      <td>junior</td>\n",
       "      <td>medium</td>\n",
       "      <td>1</td>\n",
       "      <td>no</td>\n",
       "      <td>no</td>\n",
       "      <td>1</td>\n",
       "      <td>20400</td>\n",
       "    </tr>\n",
       "    <tr>\n",
       "      <th>832342</th>\n",
       "      <td>NaN</td>\n",
       "      <td>junior</td>\n",
       "      <td>medium</td>\n",
       "      <td>1</td>\n",
       "      <td>no</td>\n",
       "      <td>no</td>\n",
       "      <td>4</td>\n",
       "      <td>28800</td>\n",
       "    </tr>\n",
       "  </tbody>\n",
       "</table>\n",
       "</div>"
      ],
      "text/plain": [
       "       dept   level workload  employment_years last_year_promo  \\\n",
       "id                                                               \n",
       "609865  NaN  junior   medium                 1              no   \n",
       "832342  NaN  junior   medium                 1              no   \n",
       "\n",
       "       last_year_violations  supervisor_evaluation  salary  \n",
       "id                                                          \n",
       "609865                   no                      1   20400  \n",
       "832342                   no                      4   28800  "
      ]
     },
     "execution_count": 10,
     "metadata": {},
     "output_type": "execute_result"
    }
   ],
   "source": [
    "X_test_1[X_test_1['dept'].isnull()]"
   ]
  },
  {
   "cell_type": "code",
   "execution_count": 11,
   "id": "51445326",
   "metadata": {},
   "outputs": [
    {
     "data": {
      "text/html": [
       "<div>\n",
       "<style scoped>\n",
       "    .dataframe tbody tr th:only-of-type {\n",
       "        vertical-align: middle;\n",
       "    }\n",
       "\n",
       "    .dataframe tbody tr th {\n",
       "        vertical-align: top;\n",
       "    }\n",
       "\n",
       "    .dataframe thead th {\n",
       "        text-align: right;\n",
       "    }\n",
       "</style>\n",
       "<table border=\"1\" class=\"dataframe\">\n",
       "  <thead>\n",
       "    <tr style=\"text-align: right;\">\n",
       "      <th></th>\n",
       "      <th>dept</th>\n",
       "      <th>level</th>\n",
       "      <th>workload</th>\n",
       "      <th>employment_years</th>\n",
       "      <th>last_year_promo</th>\n",
       "      <th>last_year_violations</th>\n",
       "      <th>supervisor_evaluation</th>\n",
       "      <th>salary</th>\n",
       "    </tr>\n",
       "    <tr>\n",
       "      <th>id</th>\n",
       "      <th></th>\n",
       "      <th></th>\n",
       "      <th></th>\n",
       "      <th></th>\n",
       "      <th></th>\n",
       "      <th></th>\n",
       "      <th></th>\n",
       "      <th></th>\n",
       "    </tr>\n",
       "  </thead>\n",
       "  <tbody>\n",
       "    <tr>\n",
       "      <th>471990</th>\n",
       "      <td>sales</td>\n",
       "      <td>NaN</td>\n",
       "      <td>low</td>\n",
       "      <td>1</td>\n",
       "      <td>no</td>\n",
       "      <td>no</td>\n",
       "      <td>3</td>\n",
       "      <td>12000</td>\n",
       "    </tr>\n",
       "  </tbody>\n",
       "</table>\n",
       "</div>"
      ],
      "text/plain": [
       "         dept level workload  employment_years last_year_promo  \\\n",
       "id                                                               \n",
       "471990  sales   NaN      low                 1              no   \n",
       "\n",
       "       last_year_violations  supervisor_evaluation  salary  \n",
       "id                                                          \n",
       "471990                   no                      3   12000  "
      ]
     },
     "execution_count": 11,
     "metadata": {},
     "output_type": "execute_result"
    }
   ],
   "source": [
    "X_test_1[X_test_1['level'].isnull()]"
   ]
  },
  {
   "cell_type": "markdown",
   "id": "e3c23f2f",
   "metadata": {},
   "source": [
    "**Вывод:** скорее всего пропуски связаны с тем что на этапе внесения данных не были указаны соответсвтующие признаки dept и level, могу предположить что также имели место быть смена департамента, неуказанный грейд - стажерская позиция."
   ]
  },
  {
   "cell_type": "code",
   "execution_count": 12,
   "id": "7d40aa0d",
   "metadata": {},
   "outputs": [],
   "source": [
    "RANDOM_STATE = 42\n",
    "\n",
    "# для заполнения пропусков создаем пайплайн\n",
    "# создаем списки с названиями признаков\n",
    "ohe_columns = ['dept', 'last_year_promo','last_year_violations']\n",
    "ord_columns = ['level','workload']\n",
    "num_columns = ['employment_years', 'supervisor_evaluation','salary']\n",
    "\n",
    "# создаем пайплайн для подготовки признаков из списка ohe_columns: заполнение пропусков и OHE-кодирование\n",
    "# SimpleImputer + OHE\n",
    "ohe_pipe = Pipeline(\n",
    "    [\n",
    "        (\n",
    "            'simpleImputer_ohe', \n",
    "            SimpleImputer(missing_values=np.nan, strategy='most_frequent')\n",
    "        ),\n",
    "        (\n",
    "            'ohe', \n",
    "            OneHotEncoder(drop='first', handle_unknown='ignore', sparse_output=False)\n",
    "        )\n",
    "    ]\n",
    ")\n",
    "\n",
    "# создаем пайплайн для подготовки признаков из списка ord_columns: заполнение пропусков и Ordinal-кодирование\n",
    "# SimpleImputer + OE\n",
    "ord_pipe = Pipeline(\n",
    "    [\n",
    "        (\n",
    "            'simpleImputer_before_ord', \n",
    "            SimpleImputer(missing_values=np.nan, strategy='most_frequent')\n",
    "        ),\n",
    "        (\n",
    "            'ord',\n",
    "            OrdinalEncoder(\n",
    "                categories=[\n",
    "                    ['junior', 'middle', 'sinior'],\n",
    "                    ['low', 'medium', 'high']\n",
    "                ], \n",
    "                handle_unknown='use_encoded_value',\n",
    "                unknown_value=np.nan\n",
    "            )\n",
    "        ),\n",
    "        (\n",
    "            'simpleImputer_after_ord', \n",
    "            SimpleImputer(missing_values=np.nan, strategy='most_frequent')\n",
    "        )\n",
    "    ]\n",
    ")\n",
    "\n",
    "# создаем общий пайплайн для подготовки данных\n",
    "data_preprocessor = ColumnTransformer(\n",
    "    [\n",
    "        ('ohe', ohe_pipe, ohe_columns),\n",
    "        ('ord', ord_pipe, ord_columns),\n",
    "        ('num', MinMaxScaler(), num_columns)    \n",
    "    ], \n",
    "    remainder =  'passthrough')\n",
    "\n",
    "# создаем итоговый пайплайн: подготовка данных и модель\n",
    "pipe_final = Pipeline([\n",
    "    ('preprocessor', data_preprocessor),\n",
    "    ('models', LinearRegression())\n",
    "])\n",
    "\n",
    "param_grid = [\n",
    "    {\n",
    "        'models': [DecisionTreeRegressor(random_state=RANDOM_STATE)],\n",
    "        'models__max_depth': [None, 5, 10, 20, 40],\n",
    "        'models__min_samples_split': [2, 5, 10, 20],\n",
    "        'models__min_samples_leaf': [1, 2, 4, 6]\n",
    "    },\n",
    "    {\n",
    "        'models': [LinearRegression()],\n",
    "        'models__normalize': [True, False]\n",
    "    }\n",
    "]"
   ]
  },
  {
   "cell_type": "markdown",
   "id": "01bb73c3",
   "metadata": {},
   "source": [
    "### Вывод:\n",
    "\n",
    "На данном этапе выполнили предобработку данных, были выявлены пропуски связанные либо с отсутствием корректных вводных при вводе даных, либо с тем что ряд признаков было невозможно определить. Также подготовили пайпланы, проверили ошибки в количественных признаках."
   ]
  },
  {
   "cell_type": "markdown",
   "id": "b21b7768",
   "metadata": {},
   "source": [
    "## Исследовательский анализ"
   ]
  },
  {
   "cell_type": "markdown",
   "id": "531b8859",
   "metadata": {},
   "source": [
    "Построим гистограммы для признаков \"salary\", \"job_satisfaction_rate\" в тренировочной выборке:"
   ]
  },
  {
   "cell_type": "code",
   "execution_count": 13,
   "id": "ed5b0a2c",
   "metadata": {
    "scrolled": true
   },
   "outputs": [
    {
     "data": {
      "image/png": "[encoded data removed]",
      "text/plain": [
       "<Figure size 720x360 with 1 Axes>"
      ]
     },
     "metadata": {
      "needs_background": "light"
     },
     "output_type": "display_data"
    }
   ],
   "source": [
    "plt.figure(figsize=(10, 5))\n",
    "sns.histplot(train_1['salary'], bins=30, color='green')\n",
    "plt.title('Гистограмма для признака salary')\n",
    "plt.xlabel('salary')\n",
    "plt.ylabel('Частота')\n",
    "plt.show()"
   ]
  },
  {
   "cell_type": "code",
   "execution_count": 14,
   "id": "b8b2e819",
   "metadata": {},
   "outputs": [
    {
     "data": {
      "image/png": "[encoded data removed]",
      "text/plain": [
       "<Figure size 720x360 with 1 Axes>"
      ]
     },
     "metadata": {
      "needs_background": "light"
     },
     "output_type": "display_data"
    }
   ],
   "source": [
    "plt.figure(figsize=(10, 5))\n",
    "sns.histplot(train_1['job_satisfaction_rate'], bins=30, color='green')\n",
    "plt.title('Гистограмма для признака job_satisfaction_rate')\n",
    "plt.xlabel('job_satisfaction_rate')\n",
    "plt.ylabel('Частота')\n",
    "plt.show()"
   ]
  },
  {
   "cell_type": "markdown",
   "id": "e96650e1",
   "metadata": {},
   "source": [
    "Также построим столбчатые диаграммы для признаков \"employment_years\", \"supervisor_evaluation\":"
   ]
  },
  {
   "cell_type": "code",
   "execution_count": 15,
   "id": "8e352e22",
   "metadata": {},
   "outputs": [
    {
     "data": {
      "image/png": "[encoded data removed]",
      "text/plain": [
       "<Figure size 720x360 with 1 Axes>"
      ]
     },
     "metadata": {
      "needs_background": "light"
     },
     "output_type": "display_data"
    }
   ],
   "source": [
    "# Подсчет долей для каждого значения employment_years\n",
    "employment_years_counts = train_1['employment_years'].value_counts(normalize=True)\n",
    "\n",
    "# Визуализация распределения длительности работы с учетом долей\n",
    "plt.figure(figsize=(10, 5))\n",
    "employment_years_counts.sort_index().plot(kind='bar', color='green')\n",
    "plt.title('Распределение длительности работы в компании с учетом долей')\n",
    "plt.xlabel('Стаж, год')\n",
    "plt.ylabel('Доля')\n",
    "plt.show()"
   ]
  },
  {
   "cell_type": "code",
   "execution_count": 16,
   "id": "bc1914ea",
   "metadata": {},
   "outputs": [
    {
     "data": {
      "image/png": "[encoded data removed]",
      "text/plain": [
       "<Figure size 720x360 with 1 Axes>"
      ]
     },
     "metadata": {
      "needs_background": "light"
     },
     "output_type": "display_data"
    }
   ],
   "source": [
    "# Подсчет долей для каждого значения employment_years\n",
    "supervisor_evaluation_counts = train_1['supervisor_evaluation'].value_counts(normalize=True)\n",
    "\n",
    "# Визуализация распределения длительности работы с учетом долей\n",
    "plt.figure(figsize=(10, 5))\n",
    "supervisor_evaluation_counts.sort_index().plot(kind='bar', color='green')\n",
    "plt.title('Распределение оценки качества работы сотрудников с учетом долей')\n",
    "plt.xlabel('Оценки')\n",
    "plt.ylabel('Доля')\n",
    "plt.show()"
   ]
  },
  {
   "cell_type": "markdown",
   "id": "c904de9b",
   "metadata": {},
   "source": [
    "1) Наиболее распространенная оценка — 4:\n",
    "\n",
    "Комментарий: Самый высокий столбец на графике соответствует оценке 4. Это указывает на то, что большинство сотрудников получают высокие оценки от своих руководителей, что может отражать общее удовлетворение качеством их работы. Эта оценка, вероятно, является стандартом, используемым для сотрудников, которые выполняют свои обязанности на высоком уровне.\n",
    "\n",
    "2) Оценка 3 — также частое явление:\n",
    "\n",
    "Комментарий: Оценка 3 также часто встречается, что может говорить о том, что значительная часть сотрудников выполняет свои обязанности на среднем уровне. Это может свидетельствовать о том, что руководство склонно использовать средние оценки, возможно, для сотрудников, чья работа соответствует ожиданиям, но не выделяется.\n",
    "Редкие крайние оценки (1 и 5):\n",
    "\n",
    "3) Оценки 1 и 5 встречаются реже. \n",
    "\n",
    "Низкие оценки (1) применяются крайне редко, что может означать, что руководители стараются избегать самых низких оценок, вероятно, чтобы не демотивировать сотрудников. Высокие оценки (5), хотя и не такие редкие, как 1, также используются с осторожностью, что может указывать на высокие требования для получения самой высокой оценки."
   ]
  },
  {
   "cell_type": "markdown",
   "id": "1bc6d192",
   "metadata": {},
   "source": [
    "Построим гистограммы для тестовой выборки X_test_1:"
   ]
  },
  {
   "cell_type": "code",
   "execution_count": 17,
   "id": "41b74e2c",
   "metadata": {},
   "outputs": [
    {
     "data": {
      "image/png": "[encoded data removed]",
      "text/plain": [
       "<Figure size 720x576 with 4 Axes>"
      ]
     },
     "metadata": {
      "needs_background": "light"
     },
     "output_type": "display_data"
    }
   ],
   "source": [
    "# Фильтрация числовых столбцов\n",
    "numeric_cols = X_test_1.select_dtypes(include=['number'])\n",
    "\n",
    "# Установка числа строк и столбцов для графиков\n",
    "n_rows = (len(numeric_cols.columns) + 1) // 2\n",
    "n_cols = 2\n",
    "\n",
    "fig, axes = plt.subplots(n_rows, n_cols, figsize=(10, n_rows * 4))\n",
    "\n",
    "for i in range(n_rows * n_cols):\n",
    "    if i >= len(numeric_cols.columns):\n",
    "        axes.flatten()[i].axis('off')\n",
    "\n",
    "# Построение гистограмм\n",
    "for ax, column in zip(axes.flatten(), numeric_cols.columns):\n",
    "    ax.hist(numeric_cols[column], bins=10, color='green', alpha=0.8)\n",
    "    ax.set_title(f'Гистограмма для {column}')\n",
    "    ax.set_xlabel(column)\n",
    "    ax.set_ylabel('Частота')\n",
    "    ax.grid(True)\n",
    "\n",
    "plt.tight_layout()\n",
    "plt.show()"
   ]
  },
  {
   "cell_type": "markdown",
   "id": "a2697c4e",
   "metadata": {},
   "source": [
    "Построим гистограмму для выборки с целевым признаком y_test_1:"
   ]
  },
  {
   "cell_type": "code",
   "execution_count": 18,
   "id": "b8113b6d",
   "metadata": {},
   "outputs": [
    {
     "data": {
      "image/png": "[encoded data removed]",
      "text/plain": [
       "<Figure size 720x288 with 2 Axes>"
      ]
     },
     "metadata": {
      "needs_background": "light"
     },
     "output_type": "display_data"
    }
   ],
   "source": [
    "# Фильтрация числовых столбцов\n",
    "numeric_cols = y_test_1.select_dtypes(include=['number'])\n",
    "\n",
    "# Установка числа строк и столбцов для графиков\n",
    "n_rows = (len(numeric_cols.columns) + 1) // 2\n",
    "n_cols = 2\n",
    "\n",
    "fig, axes = plt.subplots(n_rows, n_cols, figsize=(10, n_rows * 4))\n",
    "\n",
    "for i in range(n_rows * n_cols):\n",
    "    if i >= len(numeric_cols.columns):\n",
    "        axes.flatten()[i].axis('off')\n",
    "\n",
    "# Построение гистограмм\n",
    "for ax, column in zip(axes.flatten(), numeric_cols.columns):\n",
    "    ax.hist(numeric_cols[column], bins=10, color='green', alpha=0.8)\n",
    "    ax.set_title(f'Гистограмма для {column}')\n",
    "    ax.set_xlabel(column)\n",
    "    ax.set_ylabel('Частота')\n",
    "    ax.grid(True)\n",
    "\n",
    "plt.tight_layout()\n",
    "plt.show()"
   ]
  },
  {
   "cell_type": "markdown",
   "id": "60d86f48",
   "metadata": {},
   "source": [
    "**Вывод:** распределение количества отработанных лет в компании выглядит ожидаемо: чем ближе к 10 годам, тем меньше значений. Оценки руководителей в основном составляют 3 и 4, причем наивысшая частота наблюдается для 4. Что касается зарплаты, то она достигает пика в 30 тысяч рублей, как в тренировочных, так и в тестовых данных. В целевой переменной, как в тренировочной выборке, так и в целевом датасете, наблюдаются два пика: на уровнях 0.4 и 0.8."
   ]
  },
  {
   "cell_type": "code",
   "execution_count": 19,
   "id": "f0c44397",
   "metadata": {},
   "outputs": [
    {
     "data": {
      "image/png": "[encoded data removed]",
      "text/plain": [
       "<Figure size 1296x1296 with 5 Axes>"
      ]
     },
     "metadata": {},
     "output_type": "display_data"
    }
   ],
   "source": [
    "#круговые диаграммы для тренировочных данных\n",
    "fig,(ax0,ax1,ax2,ax3,ax4) = plt.subplots(nrows=1,ncols=5,sharey=True,figsize=(18,18));\n",
    "fig.suptitle('Распределение категориальных признаков',y=0.6);\n",
    "train_1['dept'].value_counts().plot(kind='pie',y='dept',ax=ax0,autopct='%1.0f%%',legend=None);\n",
    "train_1['level'].value_counts().plot(kind='pie',y='level',ax=ax1,autopct='%1.0f%%',legend=None);\n",
    "train_1['workload'].value_counts().plot(kind='pie',y='workload',ax=ax2,autopct='%1.0f%%',legend=None);\n",
    "train_1['last_year_promo'].value_counts().plot(kind='pie',y='last_year_promo',ax=ax3,autopct='%1.0f%%',legend=None);\n",
    "train_1['last_year_violations'].value_counts().plot(kind='pie',y='last_year_violations',ax=ax4,autopct='%1.0f%%',legend=None);\n",
    "\n",
    "ax0.set(title='Отдел',ylabel='');\n",
    "ax1.set(title='Должность');\n",
    "ax2.set(title='Загруженность');\n",
    "ax3.set(title='Повышение');\n",
    "ax4.set(title='Нарушения');"
   ]
  },
  {
   "cell_type": "code",
   "execution_count": 20,
   "id": "4ce59384",
   "metadata": {},
   "outputs": [
    {
     "data": {
      "image/png": "[encoded data removed]",
      "text/plain": [
       "<Figure size 1296x1296 with 5 Axes>"
      ]
     },
     "metadata": {},
     "output_type": "display_data"
    }
   ],
   "source": [
    "#круговые диаграммы для тестовых данных\n",
    "fig,(ax0,ax1,ax2,ax3,ax4) = plt.subplots(nrows=1,ncols=5,sharey=True,figsize=(18,18));\n",
    "fig.suptitle('Распределение категориальных признаков',y=0.6);\n",
    "X_test_1['dept'].value_counts().plot(kind='pie',y='dept',ax=ax0,autopct='%1.0f%%',legend=None);\n",
    "X_test_1['level'].value_counts().plot(kind='pie',y='level',ax=ax1,autopct='%1.0f%%',legend=None);\n",
    "X_test_1['workload'].value_counts().plot(kind='pie',y='workload',ax=ax2,autopct='%1.0f%%',legend=None);\n",
    "X_test_1['last_year_promo'].value_counts().plot(kind='pie',y='last_year_promo',ax=ax3,autopct='%1.0f%%',legend=None);\n",
    "X_test_1['last_year_violations'].value_counts().plot(kind='pie',y='last_year_violations',ax=ax4,autopct='%1.0f%%',legend=None);\n",
    "\n",
    "ax0.set(title='Отдел',ylabel='');\n",
    "ax1.set(title='Должность');\n",
    "ax2.set(title='Загруженность');\n",
    "ax3.set(title='Повышение');\n",
    "ax4.set(title='Нарушения');"
   ]
  },
  {
   "cell_type": "markdown",
   "id": "bffc73ba",
   "metadata": {},
   "source": [
    "Распределение долей в тренировочных и тестовых данных идентично. В основном это:\n",
    "\n",
    "- сотрудники продающего подразделения или IT\n",
    "- джуниоры или миддл специалисты\n",
    "- со средней загруженностью\n",
    "- без повышения в последний год\n",
    "- в большинстве случаев без нарушений"
   ]
  },
  {
   "cell_type": "markdown",
   "id": "abb62d9e",
   "metadata": {},
   "source": [
    "**Построение и визуализация матрицы корреляции phik**"
   ]
  },
  {
   "cell_type": "code",
   "execution_count": 21,
   "id": "029e22d7",
   "metadata": {},
   "outputs": [
    {
     "data": {
      "image/png": "[encoded data removed]",
      "text/plain": [
       "<Figure size 936x936 with 2 Axes>"
      ]
     },
     "metadata": {
      "needs_background": "light"
     },
     "output_type": "display_data"
    }
   ],
   "source": [
    "#для корреляционного анализа используем тепловую карту коэффициентов кореляции ф\n",
    "interval_cols =['employment_years','supervisor_evaluation','salary','job_satisfaction_rate']\n",
    "\n",
    "# вычисляем коэффициенты корреляции phik для датафрейма \n",
    "phik_overview = train_1.phik_matrix(interval_cols=interval_cols)\n",
    "\n",
    "# визуализация тепловой карты коэффициентов корреляции\n",
    "plot_correlation_matrix(\n",
    "    phik_overview.values,\n",
    "    x_labels=phik_overview.columns,\n",
    "    y_labels=phik_overview.index,\n",
    "    title=r\"correlation $\\phi_K$\",\n",
    "    fontsize_factor=1.5,\n",
    "    figsize=(13, 13)\n",
    ")"
   ]
  },
  {
   "cell_type": "markdown",
   "id": "a5200db4",
   "metadata": {},
   "source": [
    "На целевой признак в наибольшей степени влияют такие факторы, как оценки руководителя, количество проступков за прошлый год и стаж работы в компании.\n",
    "\n",
    "Кроме того, наблюдается мультиколлинеарность между следующими показателями:\n",
    "\n",
    "- зарплата и загруженность, должность\n",
    "- количество лет в компании и должность."
   ]
  },
  {
   "cell_type": "markdown",
   "id": "c2bf707f",
   "metadata": {},
   "source": [
    "### Вывод:\n",
    "\n",
    "как тренировочный, и тестовый датасеты содержат ценную информацию для дальнейшего анализа."
   ]
  },
  {
   "cell_type": "markdown",
   "id": "805829d5",
   "metadata": {},
   "source": [
    "## Подготовка данных"
   ]
  },
  {
   "cell_type": "code",
   "execution_count": 22,
   "id": "c4fed32a",
   "metadata": {},
   "outputs": [],
   "source": [
    "#метрика SMAPE\n",
    "def smape(y_true, y_pred):\n",
    "    return 100*np.mean(2*np.abs(y_pred - y_true)/(np.abs(y_pred) + np.abs(y_true)))\n",
    "\n",
    "def smape_scorer(y_true, y_pred):\n",
    "    return smape(y_true, y_pred)\n",
    "# создаем итоговый пайплайн: подготовка данных\n",
    "pipe_final = Pipeline([\n",
    "    ('preprocessor', data_preprocessor),\n",
    "    ('models', LinearRegression())\n",
    "])"
   ]
  },
  {
   "cell_type": "code",
   "execution_count": 23,
   "id": "dca056ea",
   "metadata": {},
   "outputs": [
    {
     "data": {
      "text/plain": [
       "245"
      ]
     },
     "metadata": {},
     "output_type": "display_data"
    }
   ],
   "source": [
    "train_1 = train_1.reset_index(drop=True)\n",
    "display(train_1.duplicated().sum())"
   ]
  },
  {
   "cell_type": "markdown",
   "id": "8b7ea217",
   "metadata": {},
   "source": [
    "### Вывод:\n",
    "\n",
    "После удаления \"id\" и проверки на наличие дубликатов, было обнаружено увеличение их количества, однако, данные дубликаты могут быть обсуловлены тем, что у разных сотрудников одинаковые показатели, к тому же, процент дубликатов мал, составляет порядка 6%, удаление считается нецелосообразным."
   ]
  },
  {
   "cell_type": "markdown",
   "id": "dd3b24a1",
   "metadata": {},
   "source": [
    "## Обучение модели"
   ]
  },
  {
   "cell_type": "code",
   "execution_count": 24,
   "id": "58619714",
   "metadata": {},
   "outputs": [
    {
     "name": "stdout",
     "output_type": "stream",
     "text": [
      "Лучшая модель и её параметры:\n",
      "\n",
      " Pipeline(steps=[('preprocessor',\n",
      "                 ColumnTransformer(remainder='passthrough',\n",
      "                                   transformers=[('ohe',\n",
      "                                                  Pipeline(steps=[('simpleImputer_ohe',\n",
      "                                                                   SimpleImputer(strategy='most_frequent')),\n",
      "                                                                  ('ohe',\n",
      "                                                                   OneHotEncoder(drop='first',\n",
      "                                                                                 handle_unknown='ignore',\n",
      "                                                                                 sparse_output=False))]),\n",
      "                                                  ['dept', 'last_year_promo',\n",
      "                                                   'last_year_violations']),\n",
      "                                                 ('ord',\n",
      "                                                  Pipeline(steps=[('simpleImputer_befor...\n",
      "                                                                                              ['low',\n",
      "                                                                                               'medium',\n",
      "                                                                                               'high']],\n",
      "                                                                                  handle_unknown='use_encoded_value',\n",
      "                                                                                  unknown_value=nan)),\n",
      "                                                                  ('simpleImputer_after_ord',\n",
      "                                                                   SimpleImputer(strategy='most_frequent'))]),\n",
      "                                                  ['level', 'workload']),\n",
      "                                                 ('num', MinMaxScaler(),\n",
      "                                                  ['employment_years',\n",
      "                                                   'supervisor_evaluation',\n",
      "                                                   'salary'])])),\n",
      "                ('models',\n",
      "                 DecisionTreeRegressor(max_depth=20, min_samples_leaf=4,\n",
      "                                       min_samples_split=10,\n",
      "                                       random_state=42))])\n",
      "Метрика лучшей модели на тренировочной выборке: 14.700623873492145\n"
     ]
    }
   ],
   "source": [
    "randomized_search = RandomizedSearchCV(\n",
    "    pipe_final, \n",
    "    param_distributions=param_grid, \n",
    "    cv=5,\n",
    "    scoring=make_scorer(smape_scorer, greater_is_better=False),\n",
    "    n_jobs=-1\n",
    ")\n",
    "\n",
    "columns_to_drop = ['job_satisfaction_rate']\n",
    "X_train_1 = train_1.drop(columns_to_drop, axis=1)\n",
    "y_train_1 = train_1['job_satisfaction_rate']\n",
    "\n",
    "randomized_search.fit(X_train_1, y_train_1)\n",
    "\n",
    "print('Лучшая модель и её параметры:\\n\\n', randomized_search.best_estimator_)\n",
    "print('Метрика лучшей модели на тренировочной выборке:', -randomized_search.best_score_)"
   ]
  },
  {
   "cell_type": "code",
   "execution_count": 25,
   "id": "62f4decb",
   "metadata": {},
   "outputs": [
    {
     "data": {
      "text/html": [
       "<div>\n",
       "<style scoped>\n",
       "    .dataframe tbody tr th:only-of-type {\n",
       "        vertical-align: middle;\n",
       "    }\n",
       "\n",
       "    .dataframe tbody tr th {\n",
       "        vertical-align: top;\n",
       "    }\n",
       "\n",
       "    .dataframe thead th {\n",
       "        text-align: right;\n",
       "    }\n",
       "</style>\n",
       "<table border=\"1\" class=\"dataframe\">\n",
       "  <thead>\n",
       "    <tr style=\"text-align: right;\">\n",
       "      <th></th>\n",
       "      <th>std_test_score</th>\n",
       "      <th>rank_test_score</th>\n",
       "      <th>param_models</th>\n",
       "      <th>mean_test_score</th>\n",
       "      <th>params</th>\n",
       "    </tr>\n",
       "  </thead>\n",
       "  <tbody>\n",
       "    <tr>\n",
       "      <th>2</th>\n",
       "      <td>0.425120</td>\n",
       "      <td>1</td>\n",
       "      <td>DecisionTreeRegressor(random_state=42)</td>\n",
       "      <td>-14.700624</td>\n",
       "      <td>{'models__min_samples_split': 10, 'models__min_samples_leaf': 4, 'models__max_depth': 20, 'models': DecisionTreeRegressor(random_state=42)}</td>\n",
       "    </tr>\n",
       "    <tr>\n",
       "      <th>9</th>\n",
       "      <td>0.519753</td>\n",
       "      <td>2</td>\n",
       "      <td>DecisionTreeRegressor(random_state=42)</td>\n",
       "      <td>-14.758292</td>\n",
       "      <td>{'models__min_samples_split': 2, 'models__min_samples_leaf': 2, 'models__max_depth': None, 'models': DecisionTreeRegressor(random_state=42)}</td>\n",
       "    </tr>\n",
       "    <tr>\n",
       "      <th>4</th>\n",
       "      <td>0.658882</td>\n",
       "      <td>3</td>\n",
       "      <td>DecisionTreeRegressor(random_state=42)</td>\n",
       "      <td>-14.776922</td>\n",
       "      <td>{'models__min_samples_split': 10, 'models__min_samples_leaf': 1, 'models__max_depth': None, 'models': DecisionTreeRegressor(random_state=42)}</td>\n",
       "    </tr>\n",
       "    <tr>\n",
       "      <th>0</th>\n",
       "      <td>0.644651</td>\n",
       "      <td>4</td>\n",
       "      <td>DecisionTreeRegressor(random_state=42)</td>\n",
       "      <td>-14.785207</td>\n",
       "      <td>{'models__min_samples_split': 10, 'models__min_samples_leaf': 2, 'models__max_depth': 40, 'models': DecisionTreeRegressor(random_state=42)}</td>\n",
       "    </tr>\n",
       "    <tr>\n",
       "      <th>7</th>\n",
       "      <td>0.719360</td>\n",
       "      <td>5</td>\n",
       "      <td>DecisionTreeRegressor(random_state=42)</td>\n",
       "      <td>-14.850128</td>\n",
       "      <td>{'models__min_samples_split': 5, 'models__min_samples_leaf': 1, 'models__max_depth': 40, 'models': DecisionTreeRegressor(random_state=42)}</td>\n",
       "    </tr>\n",
       "    <tr>\n",
       "      <th>8</th>\n",
       "      <td>0.352753</td>\n",
       "      <td>6</td>\n",
       "      <td>DecisionTreeRegressor(random_state=42)</td>\n",
       "      <td>-15.824807</td>\n",
       "      <td>{'models__min_samples_split': 2, 'models__min_samples_leaf': 4, 'models__max_depth': 10, 'models': DecisionTreeRegressor(random_state=42)}</td>\n",
       "    </tr>\n",
       "    <tr>\n",
       "      <th>1</th>\n",
       "      <td>0.349302</td>\n",
       "      <td>7</td>\n",
       "      <td>DecisionTreeRegressor(random_state=42)</td>\n",
       "      <td>-20.025805</td>\n",
       "      <td>{'models__min_samples_split': 2, 'models__min_samples_leaf': 1, 'models__max_depth': 5, 'models': DecisionTreeRegressor(random_state=42)}</td>\n",
       "    </tr>\n",
       "    <tr>\n",
       "      <th>6</th>\n",
       "      <td>0.357083</td>\n",
       "      <td>8</td>\n",
       "      <td>DecisionTreeRegressor(random_state=42)</td>\n",
       "      <td>-20.030250</td>\n",
       "      <td>{'models__min_samples_split': 2, 'models__min_samples_leaf': 4, 'models__max_depth': 5, 'models': DecisionTreeRegressor(random_state=42)}</td>\n",
       "    </tr>\n",
       "    <tr>\n",
       "      <th>5</th>\n",
       "      <td>0.352805</td>\n",
       "      <td>9</td>\n",
       "      <td>DecisionTreeRegressor(random_state=42)</td>\n",
       "      <td>-20.031625</td>\n",
       "      <td>{'models__min_samples_split': 5, 'models__min_samples_leaf': 1, 'models__max_depth': 5, 'models': DecisionTreeRegressor(random_state=42)}</td>\n",
       "    </tr>\n",
       "    <tr>\n",
       "      <th>3</th>\n",
       "      <td>0.378184</td>\n",
       "      <td>10</td>\n",
       "      <td>DecisionTreeRegressor(random_state=42)</td>\n",
       "      <td>-20.051215</td>\n",
       "      <td>{'models__min_samples_split': 10, 'models__min_samples_leaf': 6, 'models__max_depth': 5, 'models': DecisionTreeRegressor(random_state=42)}</td>\n",
       "    </tr>\n",
       "  </tbody>\n",
       "</table>\n",
       "</div>"
      ],
      "text/plain": [
       "   std_test_score  rank_test_score                            param_models  \\\n",
       "2        0.425120                1  DecisionTreeRegressor(random_state=42)   \n",
       "9        0.519753                2  DecisionTreeRegressor(random_state=42)   \n",
       "4        0.658882                3  DecisionTreeRegressor(random_state=42)   \n",
       "0        0.644651                4  DecisionTreeRegressor(random_state=42)   \n",
       "7        0.719360                5  DecisionTreeRegressor(random_state=42)   \n",
       "8        0.352753                6  DecisionTreeRegressor(random_state=42)   \n",
       "1        0.349302                7  DecisionTreeRegressor(random_state=42)   \n",
       "6        0.357083                8  DecisionTreeRegressor(random_state=42)   \n",
       "5        0.352805                9  DecisionTreeRegressor(random_state=42)   \n",
       "3        0.378184               10  DecisionTreeRegressor(random_state=42)   \n",
       "\n",
       "   mean_test_score  \\\n",
       "2       -14.700624   \n",
       "9       -14.758292   \n",
       "4       -14.776922   \n",
       "0       -14.785207   \n",
       "7       -14.850128   \n",
       "8       -15.824807   \n",
       "1       -20.025805   \n",
       "6       -20.030250   \n",
       "5       -20.031625   \n",
       "3       -20.051215   \n",
       "\n",
       "                                                                                                                                          params  \n",
       "2    {'models__min_samples_split': 10, 'models__min_samples_leaf': 4, 'models__max_depth': 20, 'models': DecisionTreeRegressor(random_state=42)}  \n",
       "9   {'models__min_samples_split': 2, 'models__min_samples_leaf': 2, 'models__max_depth': None, 'models': DecisionTreeRegressor(random_state=42)}  \n",
       "4  {'models__min_samples_split': 10, 'models__min_samples_leaf': 1, 'models__max_depth': None, 'models': DecisionTreeRegressor(random_state=42)}  \n",
       "0    {'models__min_samples_split': 10, 'models__min_samples_leaf': 2, 'models__max_depth': 40, 'models': DecisionTreeRegressor(random_state=42)}  \n",
       "7     {'models__min_samples_split': 5, 'models__min_samples_leaf': 1, 'models__max_depth': 40, 'models': DecisionTreeRegressor(random_state=42)}  \n",
       "8     {'models__min_samples_split': 2, 'models__min_samples_leaf': 4, 'models__max_depth': 10, 'models': DecisionTreeRegressor(random_state=42)}  \n",
       "1      {'models__min_samples_split': 2, 'models__min_samples_leaf': 1, 'models__max_depth': 5, 'models': DecisionTreeRegressor(random_state=42)}  \n",
       "6      {'models__min_samples_split': 2, 'models__min_samples_leaf': 4, 'models__max_depth': 5, 'models': DecisionTreeRegressor(random_state=42)}  \n",
       "5      {'models__min_samples_split': 5, 'models__min_samples_leaf': 1, 'models__max_depth': 5, 'models': DecisionTreeRegressor(random_state=42)}  \n",
       "3     {'models__min_samples_split': 10, 'models__min_samples_leaf': 6, 'models__max_depth': 5, 'models': DecisionTreeRegressor(random_state=42)}  "
      ]
     },
     "execution_count": 25,
     "metadata": {},
     "output_type": "execute_result"
    }
   ],
   "source": [
    "# преобразуем результаты в датафрейм и выведем результаты\n",
    "pd.set_option('display.max_colwidth', None)\n",
    "pd.DataFrame(randomized_search.cv_results_)[\n",
    "    ['std_test_score', 'rank_test_score',\n",
    "        'param_models', 'mean_test_score', 'params']\n",
    "].sort_values('rank_test_score')"
   ]
  },
  {
   "cell_type": "markdown",
   "id": "4f2e2323",
   "metadata": {},
   "source": [
    "**Вывод:**\n",
    "\n",
    "Лучшая модель: Выбранной моделью стала DecisionTreeRegressor с определенными параметрами, такими как min_samples_leaf=2, min_samples_split=2, max_depth=20. Модель была настроена на определенные условия, чтобы избежать переобучения и повысить стабильность.\n",
    "\n",
    "Метрика модели: Значение метрики на тренировочной выборке составляет 14.74, что указывает на хорошую производительность модели. Однако нужно помнить, что для полноценной оценки качества важно также проверять результаты на тестовой выборке."
   ]
  },
  {
   "cell_type": "code",
   "execution_count": 26,
   "id": "2fc4fa79",
   "metadata": {},
   "outputs": [
    {
     "data": {
      "text/html": [
       "<div>\n",
       "<style scoped>\n",
       "    .dataframe tbody tr th:only-of-type {\n",
       "        vertical-align: middle;\n",
       "    }\n",
       "\n",
       "    .dataframe tbody tr th {\n",
       "        vertical-align: top;\n",
       "    }\n",
       "\n",
       "    .dataframe thead th {\n",
       "        text-align: right;\n",
       "    }\n",
       "</style>\n",
       "<table border=\"1\" class=\"dataframe\">\n",
       "  <thead>\n",
       "    <tr style=\"text-align: right;\">\n",
       "      <th></th>\n",
       "      <th>job_satisfaction_rate</th>\n",
       "    </tr>\n",
       "    <tr>\n",
       "      <th>id</th>\n",
       "      <th></th>\n",
       "    </tr>\n",
       "  </thead>\n",
       "  <tbody>\n",
       "    <tr>\n",
       "      <th>100298</th>\n",
       "      <td>0.80</td>\n",
       "    </tr>\n",
       "    <tr>\n",
       "      <th>100480</th>\n",
       "      <td>0.84</td>\n",
       "    </tr>\n",
       "    <tr>\n",
       "      <th>100503</th>\n",
       "      <td>0.79</td>\n",
       "    </tr>\n",
       "    <tr>\n",
       "      <th>100610</th>\n",
       "      <td>0.75</td>\n",
       "    </tr>\n",
       "    <tr>\n",
       "      <th>100692</th>\n",
       "      <td>0.69</td>\n",
       "    </tr>\n",
       "  </tbody>\n",
       "</table>\n",
       "</div>"
      ],
      "text/plain": [
       "        job_satisfaction_rate\n",
       "id                           \n",
       "100298                   0.80\n",
       "100480                   0.84\n",
       "100503                   0.79\n",
       "100610                   0.75\n",
       "100692                   0.69"
      ]
     },
     "execution_count": 26,
     "metadata": {},
     "output_type": "execute_result"
    }
   ],
   "source": [
    "# Подготовим тестовые данные: номера ID в тренировочной и тестовой выборках не упорядочены.\n",
    "y_test_1 = y_test_1.reset_index().sort_values(by='id')\n",
    "y_test_1 = y_test_1.set_index('id')\n",
    "\n",
    "y_test_1.head()"
   ]
  },
  {
   "cell_type": "code",
   "execution_count": 27,
   "id": "ae227ef3",
   "metadata": {},
   "outputs": [
    {
     "data": {
      "text/html": [
       "<div>\n",
       "<style scoped>\n",
       "    .dataframe tbody tr th:only-of-type {\n",
       "        vertical-align: middle;\n",
       "    }\n",
       "\n",
       "    .dataframe tbody tr th {\n",
       "        vertical-align: top;\n",
       "    }\n",
       "\n",
       "    .dataframe thead th {\n",
       "        text-align: right;\n",
       "    }\n",
       "</style>\n",
       "<table border=\"1\" class=\"dataframe\">\n",
       "  <thead>\n",
       "    <tr style=\"text-align: right;\">\n",
       "      <th></th>\n",
       "      <th>dept</th>\n",
       "      <th>level</th>\n",
       "      <th>workload</th>\n",
       "      <th>employment_years</th>\n",
       "      <th>last_year_promo</th>\n",
       "      <th>last_year_violations</th>\n",
       "      <th>supervisor_evaluation</th>\n",
       "      <th>salary</th>\n",
       "    </tr>\n",
       "    <tr>\n",
       "      <th>id</th>\n",
       "      <th></th>\n",
       "      <th></th>\n",
       "      <th></th>\n",
       "      <th></th>\n",
       "      <th></th>\n",
       "      <th></th>\n",
       "      <th></th>\n",
       "      <th></th>\n",
       "    </tr>\n",
       "  </thead>\n",
       "  <tbody>\n",
       "    <tr>\n",
       "      <th>100298</th>\n",
       "      <td>hr</td>\n",
       "      <td>junior</td>\n",
       "      <td>low</td>\n",
       "      <td>2</td>\n",
       "      <td>no</td>\n",
       "      <td>no</td>\n",
       "      <td>4</td>\n",
       "      <td>19200</td>\n",
       "    </tr>\n",
       "    <tr>\n",
       "      <th>100480</th>\n",
       "      <td>marketing</td>\n",
       "      <td>junior</td>\n",
       "      <td>low</td>\n",
       "      <td>4</td>\n",
       "      <td>no</td>\n",
       "      <td>no</td>\n",
       "      <td>4</td>\n",
       "      <td>16800</td>\n",
       "    </tr>\n",
       "    <tr>\n",
       "      <th>100503</th>\n",
       "      <td>purchasing</td>\n",
       "      <td>middle</td>\n",
       "      <td>high</td>\n",
       "      <td>5</td>\n",
       "      <td>no</td>\n",
       "      <td>no</td>\n",
       "      <td>4</td>\n",
       "      <td>55200</td>\n",
       "    </tr>\n",
       "    <tr>\n",
       "      <th>100610</th>\n",
       "      <td>sales</td>\n",
       "      <td>middle</td>\n",
       "      <td>medium</td>\n",
       "      <td>5</td>\n",
       "      <td>no</td>\n",
       "      <td>no</td>\n",
       "      <td>4</td>\n",
       "      <td>43200</td>\n",
       "    </tr>\n",
       "    <tr>\n",
       "      <th>100692</th>\n",
       "      <td>sales</td>\n",
       "      <td>middle</td>\n",
       "      <td>high</td>\n",
       "      <td>6</td>\n",
       "      <td>no</td>\n",
       "      <td>no</td>\n",
       "      <td>4</td>\n",
       "      <td>48000</td>\n",
       "    </tr>\n",
       "  </tbody>\n",
       "</table>\n",
       "</div>"
      ],
      "text/plain": [
       "              dept   level workload  employment_years last_year_promo  \\\n",
       "id                                                                      \n",
       "100298          hr  junior      low                 2              no   \n",
       "100480   marketing  junior      low                 4              no   \n",
       "100503  purchasing  middle     high                 5              no   \n",
       "100610       sales  middle   medium                 5              no   \n",
       "100692       sales  middle     high                 6              no   \n",
       "\n",
       "       last_year_violations  supervisor_evaluation  salary  \n",
       "id                                                          \n",
       "100298                   no                      4   19200  \n",
       "100480                   no                      4   16800  \n",
       "100503                   no                      4   55200  \n",
       "100610                   no                      4   43200  \n",
       "100692                   no                      4   48000  "
      ]
     },
     "execution_count": 27,
     "metadata": {},
     "output_type": "execute_result"
    }
   ],
   "source": [
    "X_test_1 = X_test_1.reset_index().sort_values(by='id')\n",
    "\n",
    "X_test_1 = X_test_1.set_index('id')\n",
    "X_test_1.head()"
   ]
  },
  {
   "cell_type": "code",
   "execution_count": 28,
   "id": "9a461653",
   "metadata": {},
   "outputs": [
    {
     "name": "stdout",
     "output_type": "stream",
     "text": [
      "Метрика:  13.550309456308089\n"
     ]
    }
   ],
   "source": [
    "X_test_1 = X_test_1.replace(' ', np.nan)\n",
    "y_test_pred = randomized_search.best_estimator_.predict(X_test_1)\n",
    "y_true = y_test_1['job_satisfaction_rate']\n",
    "\n",
    "print('Метрика: ', smape_scorer(y_true, y_test_pred))"
   ]
  },
  {
   "cell_type": "markdown",
   "id": "08a924bf",
   "metadata": {},
   "source": [
    "## Вывод"
   ]
  },
  {
   "cell_type": "markdown",
   "id": "9404fa2a",
   "metadata": {},
   "source": [
    "Коэффициент удовлетворенности работой варьируется от 0 до 1. В результате случайного поиска среди двух моделей — линейной регрессии и дерева решений — было принято решение выбрать дерево решений в качестве лучшей модели.\n",
    "\n",
    "Тем не менее, качество модели нельзя назвать достаточно высоким: значение метрики на тренировочной выборке составляет 14.68, а на тестовой — 14.17."
   ]
  },
  {
   "cell_type": "markdown",
   "id": "f4dfbc69",
   "metadata": {},
   "source": [
    "# Задача 2"
   ]
  },
  {
   "cell_type": "markdown",
   "id": "f3ad2106",
   "metadata": {},
   "source": [
    "## Загрузка данных "
   ]
  },
  {
   "cell_type": "code",
   "execution_count": 29,
   "id": "c5b93db3",
   "metadata": {},
   "outputs": [
    {
     "name": "stdout",
     "output_type": "stream",
     "text": [
      "<class 'pandas.core.frame.DataFrame'>\n",
      "Int64Index: 4000 entries, 723290 to 853842\n",
      "Data columns (total 9 columns):\n",
      " #   Column                 Non-Null Count  Dtype \n",
      "---  ------                 --------------  ----- \n",
      " 0   dept                   4000 non-null   object\n",
      " 1   level                  4000 non-null   object\n",
      " 2   workload               4000 non-null   object\n",
      " 3   employment_years       4000 non-null   int64 \n",
      " 4   last_year_promo        4000 non-null   object\n",
      " 5   last_year_violations   4000 non-null   object\n",
      " 6   supervisor_evaluation  4000 non-null   int64 \n",
      " 7   salary                 4000 non-null   int64 \n",
      " 8   quit                   4000 non-null   object\n",
      "dtypes: int64(3), object(6)\n",
      "memory usage: 312.5+ KB\n"
     ]
    },
    {
     "data": {
      "text/html": [
       "<div>\n",
       "<style scoped>\n",
       "    .dataframe tbody tr th:only-of-type {\n",
       "        vertical-align: middle;\n",
       "    }\n",
       "\n",
       "    .dataframe tbody tr th {\n",
       "        vertical-align: top;\n",
       "    }\n",
       "\n",
       "    .dataframe thead th {\n",
       "        text-align: right;\n",
       "    }\n",
       "</style>\n",
       "<table border=\"1\" class=\"dataframe\">\n",
       "  <thead>\n",
       "    <tr style=\"text-align: right;\">\n",
       "      <th></th>\n",
       "      <th>dept</th>\n",
       "      <th>level</th>\n",
       "      <th>workload</th>\n",
       "      <th>employment_years</th>\n",
       "      <th>last_year_promo</th>\n",
       "      <th>last_year_violations</th>\n",
       "      <th>supervisor_evaluation</th>\n",
       "      <th>salary</th>\n",
       "      <th>quit</th>\n",
       "    </tr>\n",
       "    <tr>\n",
       "      <th>id</th>\n",
       "      <th></th>\n",
       "      <th></th>\n",
       "      <th></th>\n",
       "      <th></th>\n",
       "      <th></th>\n",
       "      <th></th>\n",
       "      <th></th>\n",
       "      <th></th>\n",
       "      <th></th>\n",
       "    </tr>\n",
       "  </thead>\n",
       "  <tbody>\n",
       "    <tr>\n",
       "      <th>723290</th>\n",
       "      <td>sales</td>\n",
       "      <td>middle</td>\n",
       "      <td>high</td>\n",
       "      <td>2</td>\n",
       "      <td>no</td>\n",
       "      <td>no</td>\n",
       "      <td>4</td>\n",
       "      <td>54000</td>\n",
       "      <td>no</td>\n",
       "    </tr>\n",
       "    <tr>\n",
       "      <th>814010</th>\n",
       "      <td>sales</td>\n",
       "      <td>junior</td>\n",
       "      <td>medium</td>\n",
       "      <td>2</td>\n",
       "      <td>no</td>\n",
       "      <td>no</td>\n",
       "      <td>4</td>\n",
       "      <td>27600</td>\n",
       "      <td>no</td>\n",
       "    </tr>\n",
       "    <tr>\n",
       "      <th>155091</th>\n",
       "      <td>purchasing</td>\n",
       "      <td>middle</td>\n",
       "      <td>medium</td>\n",
       "      <td>5</td>\n",
       "      <td>no</td>\n",
       "      <td>no</td>\n",
       "      <td>1</td>\n",
       "      <td>37200</td>\n",
       "      <td>no</td>\n",
       "    </tr>\n",
       "    <tr>\n",
       "      <th>257132</th>\n",
       "      <td>sales</td>\n",
       "      <td>junior</td>\n",
       "      <td>medium</td>\n",
       "      <td>2</td>\n",
       "      <td>no</td>\n",
       "      <td>yes</td>\n",
       "      <td>3</td>\n",
       "      <td>24000</td>\n",
       "      <td>yes</td>\n",
       "    </tr>\n",
       "    <tr>\n",
       "      <th>910140</th>\n",
       "      <td>marketing</td>\n",
       "      <td>junior</td>\n",
       "      <td>medium</td>\n",
       "      <td>2</td>\n",
       "      <td>no</td>\n",
       "      <td>no</td>\n",
       "      <td>5</td>\n",
       "      <td>25200</td>\n",
       "      <td>no</td>\n",
       "    </tr>\n",
       "    <tr>\n",
       "      <th>699916</th>\n",
       "      <td>sales</td>\n",
       "      <td>junior</td>\n",
       "      <td>low</td>\n",
       "      <td>1</td>\n",
       "      <td>no</td>\n",
       "      <td>yes</td>\n",
       "      <td>3</td>\n",
       "      <td>18000</td>\n",
       "      <td>yes</td>\n",
       "    </tr>\n",
       "    <tr>\n",
       "      <th>417070</th>\n",
       "      <td>technology</td>\n",
       "      <td>middle</td>\n",
       "      <td>medium</td>\n",
       "      <td>8</td>\n",
       "      <td>no</td>\n",
       "      <td>no</td>\n",
       "      <td>2</td>\n",
       "      <td>44400</td>\n",
       "      <td>no</td>\n",
       "    </tr>\n",
       "    <tr>\n",
       "      <th>165489</th>\n",
       "      <td>sales</td>\n",
       "      <td>middle</td>\n",
       "      <td>low</td>\n",
       "      <td>4</td>\n",
       "      <td>no</td>\n",
       "      <td>no</td>\n",
       "      <td>5</td>\n",
       "      <td>19200</td>\n",
       "      <td>no</td>\n",
       "    </tr>\n",
       "    <tr>\n",
       "      <th>996399</th>\n",
       "      <td>marketing</td>\n",
       "      <td>middle</td>\n",
       "      <td>low</td>\n",
       "      <td>7</td>\n",
       "      <td>no</td>\n",
       "      <td>no</td>\n",
       "      <td>4</td>\n",
       "      <td>25200</td>\n",
       "      <td>no</td>\n",
       "    </tr>\n",
       "    <tr>\n",
       "      <th>613206</th>\n",
       "      <td>technology</td>\n",
       "      <td>middle</td>\n",
       "      <td>medium</td>\n",
       "      <td>2</td>\n",
       "      <td>no</td>\n",
       "      <td>no</td>\n",
       "      <td>3</td>\n",
       "      <td>45600</td>\n",
       "      <td>yes</td>\n",
       "    </tr>\n",
       "  </tbody>\n",
       "</table>\n",
       "</div>"
      ],
      "text/plain": [
       "              dept   level workload  employment_years last_year_promo  \\\n",
       "id                                                                      \n",
       "723290       sales  middle     high                 2              no   \n",
       "814010       sales  junior   medium                 2              no   \n",
       "155091  purchasing  middle   medium                 5              no   \n",
       "257132       sales  junior   medium                 2              no   \n",
       "910140   marketing  junior   medium                 2              no   \n",
       "699916       sales  junior      low                 1              no   \n",
       "417070  technology  middle   medium                 8              no   \n",
       "165489       sales  middle      low                 4              no   \n",
       "996399   marketing  middle      low                 7              no   \n",
       "613206  technology  middle   medium                 2              no   \n",
       "\n",
       "       last_year_violations  supervisor_evaluation  salary quit  \n",
       "id                                                               \n",
       "723290                   no                      4   54000   no  \n",
       "814010                   no                      4   27600   no  \n",
       "155091                   no                      1   37200   no  \n",
       "257132                  yes                      3   24000  yes  \n",
       "910140                   no                      5   25200   no  \n",
       "699916                  yes                      3   18000  yes  \n",
       "417070                   no                      2   44400   no  \n",
       "165489                   no                      5   19200   no  \n",
       "996399                   no                      4   25200   no  \n",
       "613206                   no                      3   45600  yes  "
      ]
     },
     "metadata": {},
     "output_type": "display_data"
    }
   ],
   "source": [
    "train_2 = pd.read_csv('/datasets/train_quit.csv').set_index('id')\n",
    "train_2.info()\n",
    "display(train_2.head(10))"
   ]
  },
  {
   "cell_type": "code",
   "execution_count": 30,
   "id": "f3240cf3",
   "metadata": {},
   "outputs": [
    {
     "name": "stdout",
     "output_type": "stream",
     "text": [
      "<class 'pandas.core.frame.DataFrame'>\n",
      "Int64Index: 2000 entries, 999029 to 460332\n",
      "Data columns (total 1 columns):\n",
      " #   Column  Non-Null Count  Dtype \n",
      "---  ------  --------------  ----- \n",
      " 0   quit    2000 non-null   object\n",
      "dtypes: object(1)\n",
      "memory usage: 31.2+ KB\n"
     ]
    },
    {
     "data": {
      "text/html": [
       "<div>\n",
       "<style scoped>\n",
       "    .dataframe tbody tr th:only-of-type {\n",
       "        vertical-align: middle;\n",
       "    }\n",
       "\n",
       "    .dataframe tbody tr th {\n",
       "        vertical-align: top;\n",
       "    }\n",
       "\n",
       "    .dataframe thead th {\n",
       "        text-align: right;\n",
       "    }\n",
       "</style>\n",
       "<table border=\"1\" class=\"dataframe\">\n",
       "  <thead>\n",
       "    <tr style=\"text-align: right;\">\n",
       "      <th></th>\n",
       "      <th>quit</th>\n",
       "    </tr>\n",
       "    <tr>\n",
       "      <th>id</th>\n",
       "      <th></th>\n",
       "    </tr>\n",
       "  </thead>\n",
       "  <tbody>\n",
       "    <tr>\n",
       "      <th>999029</th>\n",
       "      <td>yes</td>\n",
       "    </tr>\n",
       "    <tr>\n",
       "      <th>372846</th>\n",
       "      <td>no</td>\n",
       "    </tr>\n",
       "    <tr>\n",
       "      <th>726767</th>\n",
       "      <td>no</td>\n",
       "    </tr>\n",
       "    <tr>\n",
       "      <th>490105</th>\n",
       "      <td>no</td>\n",
       "    </tr>\n",
       "    <tr>\n",
       "      <th>416898</th>\n",
       "      <td>yes</td>\n",
       "    </tr>\n",
       "    <tr>\n",
       "      <th>223063</th>\n",
       "      <td>no</td>\n",
       "    </tr>\n",
       "    <tr>\n",
       "      <th>810370</th>\n",
       "      <td>no</td>\n",
       "    </tr>\n",
       "    <tr>\n",
       "      <th>998900</th>\n",
       "      <td>no</td>\n",
       "    </tr>\n",
       "    <tr>\n",
       "      <th>578329</th>\n",
       "      <td>no</td>\n",
       "    </tr>\n",
       "    <tr>\n",
       "      <th>648850</th>\n",
       "      <td>no</td>\n",
       "    </tr>\n",
       "  </tbody>\n",
       "</table>\n",
       "</div>"
      ],
      "text/plain": [
       "       quit\n",
       "id         \n",
       "999029  yes\n",
       "372846   no\n",
       "726767   no\n",
       "490105   no\n",
       "416898  yes\n",
       "223063   no\n",
       "810370   no\n",
       "998900   no\n",
       "578329   no\n",
       "648850   no"
      ]
     },
     "metadata": {},
     "output_type": "display_data"
    }
   ],
   "source": [
    "y_test_2 = pd.read_csv('/datasets/test_target_quit.csv').set_index('id')\n",
    "y_test_2.info()\n",
    "display(y_test_2.head(10))"
   ]
  },
  {
   "cell_type": "markdown",
   "id": "75608373",
   "metadata": {},
   "source": [
    "**Вывод:** пропусков в даных нет, типы данных также в порядке."
   ]
  },
  {
   "cell_type": "markdown",
   "id": "365f1935",
   "metadata": {},
   "source": [
    "## Предобработка данных\n"
   ]
  },
  {
   "cell_type": "code",
   "execution_count": 31,
   "id": "4556d7a7",
   "metadata": {},
   "outputs": [
    {
     "data": {
      "text/plain": [
       "'dept'"
      ]
     },
     "metadata": {},
     "output_type": "display_data"
    },
    {
     "data": {
      "text/plain": [
       "sales         1438\n",
       "technology     928\n",
       "purchasing     588\n",
       "marketing      582\n",
       "hr             464\n",
       "Name: dept, dtype: int64"
      ]
     },
     "metadata": {},
     "output_type": "display_data"
    },
    {
     "data": {
      "text/plain": [
       "'level'"
      ]
     },
     "metadata": {},
     "output_type": "display_data"
    },
    {
     "data": {
      "text/plain": [
       "junior    1949\n",
       "middle    1694\n",
       "sinior     357\n",
       "Name: level, dtype: int64"
      ]
     },
     "metadata": {},
     "output_type": "display_data"
    },
    {
     "data": {
      "text/plain": [
       "'workload'"
      ]
     },
     "metadata": {},
     "output_type": "display_data"
    },
    {
     "data": {
      "text/plain": [
       "medium    2118\n",
       "low       1208\n",
       "high       674\n",
       "Name: workload, dtype: int64"
      ]
     },
     "metadata": {},
     "output_type": "display_data"
    },
    {
     "data": {
      "text/plain": [
       "'last_year_promo'"
      ]
     },
     "metadata": {},
     "output_type": "display_data"
    },
    {
     "data": {
      "text/plain": [
       "no     3887\n",
       "yes     113\n",
       "Name: last_year_promo, dtype: int64"
      ]
     },
     "metadata": {},
     "output_type": "display_data"
    },
    {
     "data": {
      "text/plain": [
       "'last_year_violations'"
      ]
     },
     "metadata": {},
     "output_type": "display_data"
    },
    {
     "data": {
      "text/plain": [
       "no     3455\n",
       "yes     545\n",
       "Name: last_year_violations, dtype: int64"
      ]
     },
     "metadata": {},
     "output_type": "display_data"
    },
    {
     "data": {
      "text/plain": [
       "'quit'"
      ]
     },
     "metadata": {},
     "output_type": "display_data"
    },
    {
     "data": {
      "text/plain": [
       "no     2872\n",
       "yes    1128\n",
       "Name: quit, dtype: int64"
      ]
     },
     "metadata": {},
     "output_type": "display_data"
    }
   ],
   "source": [
    "for i in train_2.select_dtypes(include='object').columns:\n",
    "    display(i,train_2[i].value_counts())"
   ]
  },
  {
   "cell_type": "markdown",
   "id": "20ca45cb",
   "metadata": {},
   "source": [
    "**Вывод:** \n",
    "\n",
    "Категориальные переменные не содержат ошибок в наименованиях, кроме \"sinior\" - скорректируем наименование на корректное."
   ]
  },
  {
   "cell_type": "code",
   "execution_count": 32,
   "id": "1b8213f4",
   "metadata": {},
   "outputs": [
    {
     "data": {
      "text/plain": [
       "array(['middle', 'junior', 'senior'], dtype=object)"
      ]
     },
     "metadata": {},
     "output_type": "display_data"
    }
   ],
   "source": [
    "#корректируем наименование признака и выводим результат\n",
    "\n",
    "train_2['level'] = train_2['level'].replace('sinior', 'senior')\n",
    "display(train_2['level'].unique())"
   ]
  },
  {
   "cell_type": "code",
   "execution_count": 33,
   "id": "54a00b68",
   "metadata": {},
   "outputs": [
    {
     "data": {
      "text/plain": [
       "no     1436\n",
       "yes     564\n",
       "Name: quit, dtype: int64"
      ]
     },
     "execution_count": 33,
     "metadata": {},
     "output_type": "execute_result"
    }
   ],
   "source": [
    "y_test_2['quit'].value_counts()"
   ]
  },
  {
   "cell_type": "markdown",
   "id": "b50777cb",
   "metadata": {},
   "source": [
    "## Исследовательский анализ"
   ]
  },
  {
   "cell_type": "markdown",
   "id": "35937447",
   "metadata": {},
   "source": [
    "Построим гистограмму для признака \"salary\" в тренировочной выборке train_2:"
   ]
  },
  {
   "cell_type": "code",
   "execution_count": 34,
   "id": "1c1fa493",
   "metadata": {},
   "outputs": [
    {
     "data": {
      "image/png": "[encoded data removed]",
      "text/plain": [
       "<Figure size 720x360 with 1 Axes>"
      ]
     },
     "metadata": {
      "needs_background": "light"
     },
     "output_type": "display_data"
    }
   ],
   "source": [
    "plt.figure(figsize=(10, 5))\n",
    "sns.histplot(train_2['salary'], bins=30, color='green')\n",
    "plt.title('Гистограмма для признака salary')\n",
    "plt.xlabel('salary')\n",
    "plt.ylabel('Частота')\n",
    "plt.show()"
   ]
  },
  {
   "cell_type": "markdown",
   "id": "f7a79702",
   "metadata": {},
   "source": [
    "Также построим столбчатые диаграммы для признаков \"employment_years\", \"supervisor_evaluation\":"
   ]
  },
  {
   "cell_type": "code",
   "execution_count": 35,
   "id": "bc25bf14",
   "metadata": {},
   "outputs": [
    {
     "data": {
      "image/png": "[encoded data removed]",
      "text/plain": [
       "<Figure size 720x360 with 1 Axes>"
      ]
     },
     "metadata": {
      "needs_background": "light"
     },
     "output_type": "display_data"
    }
   ],
   "source": [
    "# Подсчет долей для каждого значения employment_years\n",
    "employment_years_counts = train_2['employment_years'].value_counts(normalize=True)\n",
    "\n",
    "# Визуализация распределения длительности работы с учетом долей\n",
    "plt.figure(figsize=(10, 5))\n",
    "employment_years_counts.sort_index().plot(kind='bar', color='green')\n",
    "plt.title('Распределение длительности работы в компании с учетом долей')\n",
    "plt.xlabel('Стаж, год')\n",
    "plt.ylabel('Доля')\n",
    "plt.show()"
   ]
  },
  {
   "cell_type": "code",
   "execution_count": 36,
   "id": "90b51052",
   "metadata": {},
   "outputs": [
    {
     "data": {
      "image/png": "[encoded data removed]",
      "text/plain": [
       "<Figure size 720x360 with 1 Axes>"
      ]
     },
     "metadata": {
      "needs_background": "light"
     },
     "output_type": "display_data"
    }
   ],
   "source": [
    "# Подсчет долей для каждого значения supervisor_evaluation\n",
    "supervisor_evaluation_counts = train_2['supervisor_evaluation'].value_counts(normalize=True)\n",
    "\n",
    "# Визуализация распределения оценки качества работы с учетом долей\n",
    "plt.figure(figsize=(10, 5))\n",
    "supervisor_evaluation_counts.sort_index().plot(kind='bar', color='green')\n",
    "plt.title('Распределение оценки качества работы сотрудников с учетом долей')\n",
    "plt.xlabel('Оценки')\n",
    "plt.ylabel('Доля')\n",
    "plt.show()"
   ]
  },
  {
   "cell_type": "code",
   "execution_count": 37,
   "id": "28559640",
   "metadata": {},
   "outputs": [
    {
     "data": {
      "text/html": [
       "<div>\n",
       "<style scoped>\n",
       "    .dataframe tbody tr th:only-of-type {\n",
       "        vertical-align: middle;\n",
       "    }\n",
       "\n",
       "    .dataframe tbody tr th {\n",
       "        vertical-align: top;\n",
       "    }\n",
       "\n",
       "    .dataframe thead th {\n",
       "        text-align: right;\n",
       "    }\n",
       "</style>\n",
       "<table border=\"1\" class=\"dataframe\">\n",
       "  <thead>\n",
       "    <tr style=\"text-align: right;\">\n",
       "      <th></th>\n",
       "      <th>employment_years</th>\n",
       "      <th>supervisor_evaluation</th>\n",
       "      <th>salary</th>\n",
       "    </tr>\n",
       "  </thead>\n",
       "  <tbody>\n",
       "    <tr>\n",
       "      <th>count</th>\n",
       "      <td>4000.000000</td>\n",
       "      <td>4000.000000</td>\n",
       "      <td>4000.000000</td>\n",
       "    </tr>\n",
       "    <tr>\n",
       "      <th>mean</th>\n",
       "      <td>3.701500</td>\n",
       "      <td>3.474750</td>\n",
       "      <td>33805.800000</td>\n",
       "    </tr>\n",
       "    <tr>\n",
       "      <th>std</th>\n",
       "      <td>2.541852</td>\n",
       "      <td>1.004049</td>\n",
       "      <td>15152.415163</td>\n",
       "    </tr>\n",
       "    <tr>\n",
       "      <th>min</th>\n",
       "      <td>1.000000</td>\n",
       "      <td>1.000000</td>\n",
       "      <td>12000.000000</td>\n",
       "    </tr>\n",
       "    <tr>\n",
       "      <th>25%</th>\n",
       "      <td>2.000000</td>\n",
       "      <td>3.000000</td>\n",
       "      <td>22800.000000</td>\n",
       "    </tr>\n",
       "    <tr>\n",
       "      <th>50%</th>\n",
       "      <td>3.000000</td>\n",
       "      <td>4.000000</td>\n",
       "      <td>30000.000000</td>\n",
       "    </tr>\n",
       "    <tr>\n",
       "      <th>75%</th>\n",
       "      <td>6.000000</td>\n",
       "      <td>4.000000</td>\n",
       "      <td>43200.000000</td>\n",
       "    </tr>\n",
       "    <tr>\n",
       "      <th>max</th>\n",
       "      <td>10.000000</td>\n",
       "      <td>5.000000</td>\n",
       "      <td>96000.000000</td>\n",
       "    </tr>\n",
       "  </tbody>\n",
       "</table>\n",
       "</div>"
      ],
      "text/plain": [
       "       employment_years  supervisor_evaluation        salary\n",
       "count       4000.000000            4000.000000   4000.000000\n",
       "mean           3.701500               3.474750  33805.800000\n",
       "std            2.541852               1.004049  15152.415163\n",
       "min            1.000000               1.000000  12000.000000\n",
       "25%            2.000000               3.000000  22800.000000\n",
       "50%            3.000000               4.000000  30000.000000\n",
       "75%            6.000000               4.000000  43200.000000\n",
       "max           10.000000               5.000000  96000.000000"
      ]
     },
     "execution_count": 37,
     "metadata": {},
     "output_type": "execute_result"
    }
   ],
   "source": [
    "# выведем основные количественные данные о датасете\n",
    "\n",
    "train_2.describe()"
   ]
  },
  {
   "cell_type": "code",
   "execution_count": 38,
   "id": "db68541c",
   "metadata": {},
   "outputs": [
    {
     "data": {
      "text/html": [
       "<div>\n",
       "<style scoped>\n",
       "    .dataframe tbody tr th:only-of-type {\n",
       "        vertical-align: middle;\n",
       "    }\n",
       "\n",
       "    .dataframe tbody tr th {\n",
       "        vertical-align: top;\n",
       "    }\n",
       "\n",
       "    .dataframe thead tr th {\n",
       "        text-align: left;\n",
       "    }\n",
       "\n",
       "    .dataframe thead tr:last-of-type th {\n",
       "        text-align: right;\n",
       "    }\n",
       "</style>\n",
       "<table border=\"1\" class=\"dataframe\">\n",
       "  <thead>\n",
       "    <tr>\n",
       "      <th></th>\n",
       "      <th colspan=\"2\" halign=\"left\">level</th>\n",
       "      <th colspan=\"2\" halign=\"left\">salary</th>\n",
       "      <th>share_quit</th>\n",
       "    </tr>\n",
       "    <tr>\n",
       "      <th>quit</th>\n",
       "      <th>no</th>\n",
       "      <th>yes</th>\n",
       "      <th>no</th>\n",
       "      <th>yes</th>\n",
       "      <th></th>\n",
       "    </tr>\n",
       "    <tr>\n",
       "      <th>dept</th>\n",
       "      <th></th>\n",
       "      <th></th>\n",
       "      <th></th>\n",
       "      <th></th>\n",
       "      <th></th>\n",
       "    </tr>\n",
       "  </thead>\n",
       "  <tbody>\n",
       "    <tr>\n",
       "      <th>sales</th>\n",
       "      <td>1031</td>\n",
       "      <td>407</td>\n",
       "      <td>35278.370514</td>\n",
       "      <td>21832.923833</td>\n",
       "      <td>39.476237</td>\n",
       "    </tr>\n",
       "    <tr>\n",
       "      <th>technology</th>\n",
       "      <td>652</td>\n",
       "      <td>276</td>\n",
       "      <td>42003.680982</td>\n",
       "      <td>27686.956522</td>\n",
       "      <td>42.331288</td>\n",
       "    </tr>\n",
       "    <tr>\n",
       "      <th>purchasing</th>\n",
       "      <td>422</td>\n",
       "      <td>166</td>\n",
       "      <td>35840.758294</td>\n",
       "      <td>23378.313253</td>\n",
       "      <td>39.336493</td>\n",
       "    </tr>\n",
       "    <tr>\n",
       "      <th>marketing</th>\n",
       "      <td>419</td>\n",
       "      <td>163</td>\n",
       "      <td>39161.813842</td>\n",
       "      <td>24058.895706</td>\n",
       "      <td>38.902148</td>\n",
       "    </tr>\n",
       "    <tr>\n",
       "      <th>hr</th>\n",
       "      <td>348</td>\n",
       "      <td>116</td>\n",
       "      <td>37324.137931</td>\n",
       "      <td>22520.689655</td>\n",
       "      <td>33.333333</td>\n",
       "    </tr>\n",
       "  </tbody>\n",
       "</table>\n",
       "</div>"
      ],
      "text/plain": [
       "           level             salary               share_quit\n",
       "quit          no  yes            no           yes           \n",
       "dept                                                        \n",
       "sales       1031  407  35278.370514  21832.923833  39.476237\n",
       "technology   652  276  42003.680982  27686.956522  42.331288\n",
       "purchasing   422  166  35840.758294  23378.313253  39.336493\n",
       "marketing    419  163  39161.813842  24058.895706  38.902148\n",
       "hr           348  116  37324.137931  22520.689655  33.333333"
      ]
     },
     "execution_count": 38,
     "metadata": {},
     "output_type": "execute_result"
    }
   ],
   "source": [
    "# Построим пивот\n",
    "\n",
    "train_2_pivot = train_2.pivot_table(index='dept',columns='quit',values=['level','salary'],\n",
    "                    aggfunc={'level':'count','salary':'mean'}).sort_values([('level','yes')],ascending=False)\n",
    "\n",
    "train_2_pivot['share_quit'] = train_2_pivot['level','yes'] / train_2_pivot['level','no'] * 100\n",
    "train_2_pivot"
   ]
  },
  {
   "cell_type": "code",
   "execution_count": 39,
   "id": "d036576f",
   "metadata": {},
   "outputs": [
    {
     "data": {
      "text/plain": [
       "quit  workload\n",
       "no    medium      1630\n",
       "      low          689\n",
       "      high         553\n",
       "yes   low          519\n",
       "      medium       488\n",
       "      high         121\n",
       "Name: workload, dtype: int64"
      ]
     },
     "execution_count": 39,
     "metadata": {},
     "output_type": "execute_result"
    }
   ],
   "source": [
    "train_2.groupby('quit')['workload'].value_counts()"
   ]
  },
  {
   "cell_type": "code",
   "execution_count": 40,
   "id": "45de29b3",
   "metadata": {},
   "outputs": [
    {
     "data": {
      "image/png": "[encoded data removed]",
      "text/plain": [
       "<Figure size 720x504 with 1 Axes>"
      ]
     },
     "metadata": {
      "needs_background": "light"
     },
     "output_type": "display_data"
    }
   ],
   "source": [
    "# Зарплата\n",
    "plt.figure(figsize=(10, 7))\n",
    "sns.histplot(train_2, x='salary', hue='quit', kde=True, stat='density', common_norm=False)\n",
    "plt.title('Распределение зарплаты')\n",
    "plt.ylabel('Плотность')\n",
    "plt.xlabel('Зарплата')\n",
    "plt.show()"
   ]
  },
  {
   "cell_type": "markdown",
   "id": "b5feea8c",
   "metadata": {},
   "source": [
    "- Низкие зарплаты: График показывает, что плотность распределения для уволившихся сотрудников выше в диапазоне зарплат от 0 до 20,000. Это может указывать на то, что сотрудники с низкими зарплатами чаще решаются на увольнение.\n",
    "\n",
    "\n",
    "- Пик плотности: Основной пик плотности среди уволившихся сотрудников расположен в диапазоне от 20,000 до 40,000, что свидетельствует о том, что значительное количество уволившихся получало зарплату в этом интервале.\n",
    "\n",
    "\n",
    "- Перекрытие с оставшимися: В диапазоне от 20,000 до 60,000 наблюдается значительное перекрытие распределений уволившихся и оставшихся сотрудников. Это говорит о том, что в этом диапазоне зарплат нет четкого различия между теми, кто уволился, и теми, кто остался.\n",
    "\n",
    "\n",
    "- Высокие зарплаты: В диапазоне от 60,000 до 100,000 плотность распределения для уволившихся сотрудников заметно ниже. Это может указывать на то, что сотрудники с высокими зарплатами реже принимают решение об увольнении.\n",
    "\n",
    "\n",
    "- Общие тенденции: В целом можно заключить, что сотрудники с низкими зарплатами чаще увольняются, в то время как те, кто получает более высокую зарплату, склонны оставаться на своих местах."
   ]
  },
  {
   "cell_type": "code",
   "execution_count": 41,
   "id": "439a8229",
   "metadata": {},
   "outputs": [
    {
     "data": {
      "image/png": "[encoded data removed]",
      "text/plain": [
       "<Figure size 720x432 with 1 Axes>"
      ]
     },
     "metadata": {
      "needs_background": "light"
     },
     "output_type": "display_data"
    }
   ],
   "source": [
    "plt.figure(figsize=(10, 6))\n",
    "sns.countplot(data=train_2, x='supervisor_evaluation', hue='quit')\n",
    "plt.title('Оценка супервизора и статус увольнения')\n",
    "plt.ylabel('Количество')\n",
    "plt.xlabel('Оценка супервизора')\n",
    "plt.grid(True)\n",
    "plt.show()\n"
   ]
  },
  {
   "cell_type": "markdown",
   "id": "ecd55b31",
   "metadata": {},
   "source": [
    "**Оценка 1:** Большинство сотрудников с этой оценкой уволились.\n",
    "\n",
    "**Оценка 2:** Примерно равное число сотрудников уволилось и осталось.\n",
    "\n",
    "**Оценка 3:** Больше сотрудников осталось, чем покинуло компанию.\n",
    "\n",
    "**Оценки 4 и 5:** Значительно больше сотрудников осталось по сравнению с теми, кто уволился.\n",
    "\n",
    "**Общие тенденции:** Сотрудники с низкими оценками от супервизоров (1 и 2) чаще увольняются, тогда как сотрудники с высокими оценками (4 и 5) реже принимают решение об увольнении."
   ]
  },
  {
   "cell_type": "code",
   "execution_count": 42,
   "id": "6b05f4e6",
   "metadata": {},
   "outputs": [
    {
     "data": {
      "image/png": "[encoded data removed]",
      "text/plain": [
       "<Figure size 720x432 with 1 Axes>"
      ]
     },
     "metadata": {
      "needs_background": "light"
     },
     "output_type": "display_data"
    }
   ],
   "source": [
    "plt.figure(figsize=(10, 6))\n",
    "sns.countplot(data=train_2, x='employment_years', hue='quit')\n",
    "plt.title('Стаж работы и статус увольнения')\n",
    "plt.ylabel('Количество')\n",
    "plt.xlabel('Годы')\n",
    "plt.grid(True)\n",
    "plt.show()"
   ]
  },
  {
   "cell_type": "markdown",
   "id": "2654c254",
   "metadata": {},
   "source": [
    "**0-1 год:** Большинство сотрудников с небольшим стажем (0-1 год) чаще покидают компанию.\n",
    "\n",
    "**2-5 лет:** В этом диапазоне стажа количество уволившихся и оставшихся сотрудников примерно равное.\n",
    "\n",
    "**6-10+ лет:** Сотрудники с большим стажем (6-10+ лет) реже увольняются.\n",
    "\n",
    "В целом можно отметить, что сотрудники с меньшим стажем работы чаще принимают решение об увольнении, в то время как сотрудники с большим стажем склонны оставаться на своих местах."
   ]
  },
  {
   "cell_type": "code",
   "execution_count": 43,
   "id": "402182f9",
   "metadata": {},
   "outputs": [
    {
     "data": {
      "image/png": "[encoded data removed]",
      "text/plain": [
       "<Figure size 432x288 with 1 Axes>"
      ]
     },
     "metadata": {
      "needs_background": "light"
     },
     "output_type": "display_data"
    }
   ],
   "source": [
    "merge = train_1.merge(train_2,how='inner')\n",
    "\n",
    "merge_quit = merge.query('quit == \"yes\"')\n",
    "merge_stay = merge.query('quit == \"no\"')\n",
    "\n",
    "plt.hist(merge_quit['job_satisfaction_rate'],bins=10,label='Уволился')\n",
    "plt.hist(merge_stay['job_satisfaction_rate'],bins=10,label='Остался',alpha=0.5)\n",
    "plt.legend(loc='upper right')\n",
    "plt.xlabel('Удовлетворенность работой')\n",
    "plt.grid(True)\n",
    "plt.show()\n"
   ]
  },
  {
   "cell_type": "markdown",
   "id": "636edeeb",
   "metadata": {},
   "source": [
    "Распределение удовлетворенности работой демонстрирует, что уволившиеся сотрудники были менее довольны своей работой. У них наблюдаются два пика — на уровнях 0.3 и 0.5, в то время как у оставшихся сотрудников пик сосредоточен на уровне 0.7."
   ]
  },
  {
   "cell_type": "markdown",
   "id": "92185a5d",
   "metadata": {},
   "source": [
    "**Построение и визуализация матрицы корреляции phik**"
   ]
  },
  {
   "cell_type": "code",
   "execution_count": 44,
   "id": "bea31e79",
   "metadata": {},
   "outputs": [
    {
     "data": {
      "image/png": "[encoded data removed]",
      "text/plain": [
       "<Figure size 936x936 with 2 Axes>"
      ]
     },
     "metadata": {
      "needs_background": "light"
     },
     "output_type": "display_data"
    }
   ],
   "source": [
    "#для корреляционного анализа используем тепловую карту коэффициентов кореляции ф\n",
    "interval_cols =['employment_years','supervisor_evaluation','salary','job_satisfaction_rate']\n",
    "\n",
    "# вычисляем коэффициенты корреляции phik для датафрейма \n",
    "phik_overview = train_2.phik_matrix(interval_cols=interval_cols)\n",
    "\n",
    "# визуализация тепловой карты коэффициентов корреляции\n",
    "plot_correlation_matrix(\n",
    "    phik_overview.values,\n",
    "    x_labels=phik_overview.columns,\n",
    "    y_labels=phik_overview.index,\n",
    "    title=r\"correlation $\\phi_K$\",\n",
    "    fontsize_factor=1.5,\n",
    "    figsize=(13, 13)\n",
    ")"
   ]
  },
  {
   "cell_type": "markdown",
   "id": "6600c4ad",
   "metadata": {},
   "source": [
    "**Вывод:**\n",
    "\n",
    "Уволившиеся сотрудники получали в 1.5 раза меньшую зарплату и не были довольны своей работой.\n",
    "\n",
    "Согласно матрице корреляции, зарплата и стаж работы в компании оказывают влияние на целевой признак."
   ]
  },
  {
   "cell_type": "markdown",
   "id": "2aa43da2",
   "metadata": {},
   "source": [
    "## Добавление нового входного признака"
   ]
  },
  {
   "cell_type": "code",
   "execution_count": 45,
   "id": "cc23ecd9",
   "metadata": {
    "scrolled": true
   },
   "outputs": [
    {
     "data": {
      "text/html": [
       "<div>\n",
       "<style scoped>\n",
       "    .dataframe tbody tr th:only-of-type {\n",
       "        vertical-align: middle;\n",
       "    }\n",
       "\n",
       "    .dataframe tbody tr th {\n",
       "        vertical-align: top;\n",
       "    }\n",
       "\n",
       "    .dataframe thead th {\n",
       "        text-align: right;\n",
       "    }\n",
       "</style>\n",
       "<table border=\"1\" class=\"dataframe\">\n",
       "  <thead>\n",
       "    <tr style=\"text-align: right;\">\n",
       "      <th></th>\n",
       "      <th>dept</th>\n",
       "      <th>level</th>\n",
       "      <th>workload</th>\n",
       "      <th>employment_years</th>\n",
       "      <th>last_year_promo</th>\n",
       "      <th>last_year_violations</th>\n",
       "      <th>supervisor_evaluation</th>\n",
       "      <th>salary</th>\n",
       "      <th>job_satisfaction_rate</th>\n",
       "      <th>quit</th>\n",
       "    </tr>\n",
       "    <tr>\n",
       "      <th>id</th>\n",
       "      <th></th>\n",
       "      <th></th>\n",
       "      <th></th>\n",
       "      <th></th>\n",
       "      <th></th>\n",
       "      <th></th>\n",
       "      <th></th>\n",
       "      <th></th>\n",
       "      <th></th>\n",
       "      <th></th>\n",
       "    </tr>\n",
       "  </thead>\n",
       "  <tbody>\n",
       "    <tr>\n",
       "      <th>100298</th>\n",
       "      <td>hr</td>\n",
       "      <td>junior</td>\n",
       "      <td>low</td>\n",
       "      <td>2</td>\n",
       "      <td>no</td>\n",
       "      <td>no</td>\n",
       "      <td>4</td>\n",
       "      <td>19200</td>\n",
       "      <td>0.880000</td>\n",
       "      <td>no</td>\n",
       "    </tr>\n",
       "    <tr>\n",
       "      <th>100480</th>\n",
       "      <td>marketing</td>\n",
       "      <td>junior</td>\n",
       "      <td>low</td>\n",
       "      <td>4</td>\n",
       "      <td>no</td>\n",
       "      <td>no</td>\n",
       "      <td>4</td>\n",
       "      <td>16800</td>\n",
       "      <td>0.852000</td>\n",
       "      <td>no</td>\n",
       "    </tr>\n",
       "    <tr>\n",
       "      <th>100503</th>\n",
       "      <td>purchasing</td>\n",
       "      <td>middle</td>\n",
       "      <td>high</td>\n",
       "      <td>5</td>\n",
       "      <td>no</td>\n",
       "      <td>no</td>\n",
       "      <td>4</td>\n",
       "      <td>55200</td>\n",
       "      <td>0.790000</td>\n",
       "      <td>no</td>\n",
       "    </tr>\n",
       "    <tr>\n",
       "      <th>100610</th>\n",
       "      <td>sales</td>\n",
       "      <td>middle</td>\n",
       "      <td>medium</td>\n",
       "      <td>5</td>\n",
       "      <td>no</td>\n",
       "      <td>no</td>\n",
       "      <td>4</td>\n",
       "      <td>43200</td>\n",
       "      <td>0.813333</td>\n",
       "      <td>no</td>\n",
       "    </tr>\n",
       "    <tr>\n",
       "      <th>100692</th>\n",
       "      <td>sales</td>\n",
       "      <td>middle</td>\n",
       "      <td>high</td>\n",
       "      <td>6</td>\n",
       "      <td>no</td>\n",
       "      <td>no</td>\n",
       "      <td>4</td>\n",
       "      <td>48000</td>\n",
       "      <td>0.700000</td>\n",
       "      <td>no</td>\n",
       "    </tr>\n",
       "    <tr>\n",
       "      <th>100710</th>\n",
       "      <td>hr</td>\n",
       "      <td>sinior</td>\n",
       "      <td>low</td>\n",
       "      <td>6</td>\n",
       "      <td>no</td>\n",
       "      <td>no</td>\n",
       "      <td>4</td>\n",
       "      <td>27600</td>\n",
       "      <td>0.781429</td>\n",
       "      <td>no</td>\n",
       "    </tr>\n",
       "    <tr>\n",
       "      <th>100894</th>\n",
       "      <td>sales</td>\n",
       "      <td>middle</td>\n",
       "      <td>high</td>\n",
       "      <td>6</td>\n",
       "      <td>no</td>\n",
       "      <td>no</td>\n",
       "      <td>3</td>\n",
       "      <td>56400</td>\n",
       "      <td>0.532500</td>\n",
       "      <td>no</td>\n",
       "    </tr>\n",
       "    <tr>\n",
       "      <th>102102</th>\n",
       "      <td>marketing</td>\n",
       "      <td>junior</td>\n",
       "      <td>medium</td>\n",
       "      <td>3</td>\n",
       "      <td>no</td>\n",
       "      <td>no</td>\n",
       "      <td>4</td>\n",
       "      <td>25200</td>\n",
       "      <td>0.767500</td>\n",
       "      <td>no</td>\n",
       "    </tr>\n",
       "    <tr>\n",
       "      <th>102222</th>\n",
       "      <td>marketing</td>\n",
       "      <td>middle</td>\n",
       "      <td>medium</td>\n",
       "      <td>8</td>\n",
       "      <td>no</td>\n",
       "      <td>no</td>\n",
       "      <td>4</td>\n",
       "      <td>36000</td>\n",
       "      <td>0.691429</td>\n",
       "      <td>no</td>\n",
       "    </tr>\n",
       "    <tr>\n",
       "      <th>102320</th>\n",
       "      <td>sales</td>\n",
       "      <td>middle</td>\n",
       "      <td>high</td>\n",
       "      <td>4</td>\n",
       "      <td>no</td>\n",
       "      <td>no</td>\n",
       "      <td>3</td>\n",
       "      <td>57600</td>\n",
       "      <td>0.250000</td>\n",
       "      <td>no</td>\n",
       "    </tr>\n",
       "  </tbody>\n",
       "</table>\n",
       "</div>"
      ],
      "text/plain": [
       "              dept   level workload  employment_years last_year_promo  \\\n",
       "id                                                                      \n",
       "100298          hr  junior      low                 2              no   \n",
       "100480   marketing  junior      low                 4              no   \n",
       "100503  purchasing  middle     high                 5              no   \n",
       "100610       sales  middle   medium                 5              no   \n",
       "100692       sales  middle     high                 6              no   \n",
       "100710          hr  sinior      low                 6              no   \n",
       "100894       sales  middle     high                 6              no   \n",
       "102102   marketing  junior   medium                 3              no   \n",
       "102222   marketing  middle   medium                 8              no   \n",
       "102320       sales  middle     high                 4              no   \n",
       "\n",
       "       last_year_violations  supervisor_evaluation  salary  \\\n",
       "id                                                           \n",
       "100298                   no                      4   19200   \n",
       "100480                   no                      4   16800   \n",
       "100503                   no                      4   55200   \n",
       "100610                   no                      4   43200   \n",
       "100692                   no                      4   48000   \n",
       "100710                   no                      4   27600   \n",
       "100894                   no                      3   56400   \n",
       "102102                   no                      4   25200   \n",
       "102222                   no                      4   36000   \n",
       "102320                   no                      3   57600   \n",
       "\n",
       "        job_satisfaction_rate quit  \n",
       "id                                  \n",
       "100298               0.880000   no  \n",
       "100480               0.852000   no  \n",
       "100503               0.790000   no  \n",
       "100610               0.813333   no  \n",
       "100692               0.700000   no  \n",
       "100710               0.781429   no  \n",
       "100894               0.532500   no  \n",
       "102102               0.767500   no  \n",
       "102222               0.691429   no  \n",
       "102320               0.250000   no  "
      ]
     },
     "metadata": {},
     "output_type": "display_data"
    }
   ],
   "source": [
    "merged_df = pd.merge(X_test_1, y_test_1, on='id', how='inner')\n",
    "\n",
    "# Объединяем получившийся DataFrame с y_test_2 по столбцу 'id'\n",
    "final_merged_df = pd.merge(merged_df, y_test_2, on='id', how='inner')\n",
    "\n",
    "new_df = final_merged_df.drop(columns=['job_satisfaction_rate'])\n",
    "final_merged_df['job_satisfaction_rate'] = randomized_search.best_estimator_.predict(new_df)\n",
    "display(final_merged_df.head(10))"
   ]
  },
  {
   "cell_type": "code",
   "execution_count": 46,
   "id": "671a3d73",
   "metadata": {},
   "outputs": [
    {
     "data": {
      "text/plain": [
       "0"
      ]
     },
     "metadata": {},
     "output_type": "display_data"
    }
   ],
   "source": [
    "display(final_merged_df.reset_index('id').duplicated().sum())"
   ]
  },
  {
   "cell_type": "markdown",
   "id": "42e2a629",
   "metadata": {},
   "source": [
    "После удаления id дубликатов нет"
   ]
  },
  {
   "cell_type": "code",
   "execution_count": 47,
   "id": "c70dbef3",
   "metadata": {},
   "outputs": [
    {
     "data": {
      "text/html": [
       "<div>\n",
       "<style scoped>\n",
       "    .dataframe tbody tr th:only-of-type {\n",
       "        vertical-align: middle;\n",
       "    }\n",
       "\n",
       "    .dataframe tbody tr th {\n",
       "        vertical-align: top;\n",
       "    }\n",
       "\n",
       "    .dataframe thead th {\n",
       "        text-align: right;\n",
       "    }\n",
       "</style>\n",
       "<table border=\"1\" class=\"dataframe\">\n",
       "  <thead>\n",
       "    <tr style=\"text-align: right;\">\n",
       "      <th></th>\n",
       "      <th>id</th>\n",
       "      <th>dept</th>\n",
       "      <th>level</th>\n",
       "      <th>workload</th>\n",
       "      <th>employment_years</th>\n",
       "      <th>last_year_promo</th>\n",
       "      <th>last_year_violations</th>\n",
       "      <th>supervisor_evaluation</th>\n",
       "      <th>salary</th>\n",
       "      <th>job_satisfaction_rate</th>\n",
       "      <th>quit</th>\n",
       "    </tr>\n",
       "  </thead>\n",
       "  <tbody>\n",
       "    <tr>\n",
       "      <th>0</th>\n",
       "      <td>100298</td>\n",
       "      <td>hr</td>\n",
       "      <td>junior</td>\n",
       "      <td>low</td>\n",
       "      <td>2</td>\n",
       "      <td>no</td>\n",
       "      <td>no</td>\n",
       "      <td>4</td>\n",
       "      <td>19200</td>\n",
       "      <td>0.880000</td>\n",
       "      <td>no</td>\n",
       "    </tr>\n",
       "    <tr>\n",
       "      <th>1</th>\n",
       "      <td>100480</td>\n",
       "      <td>marketing</td>\n",
       "      <td>junior</td>\n",
       "      <td>low</td>\n",
       "      <td>4</td>\n",
       "      <td>no</td>\n",
       "      <td>no</td>\n",
       "      <td>4</td>\n",
       "      <td>16800</td>\n",
       "      <td>0.852000</td>\n",
       "      <td>no</td>\n",
       "    </tr>\n",
       "    <tr>\n",
       "      <th>2</th>\n",
       "      <td>100503</td>\n",
       "      <td>purchasing</td>\n",
       "      <td>middle</td>\n",
       "      <td>high</td>\n",
       "      <td>5</td>\n",
       "      <td>no</td>\n",
       "      <td>no</td>\n",
       "      <td>4</td>\n",
       "      <td>55200</td>\n",
       "      <td>0.790000</td>\n",
       "      <td>no</td>\n",
       "    </tr>\n",
       "    <tr>\n",
       "      <th>3</th>\n",
       "      <td>100610</td>\n",
       "      <td>sales</td>\n",
       "      <td>middle</td>\n",
       "      <td>medium</td>\n",
       "      <td>5</td>\n",
       "      <td>no</td>\n",
       "      <td>no</td>\n",
       "      <td>4</td>\n",
       "      <td>43200</td>\n",
       "      <td>0.813333</td>\n",
       "      <td>no</td>\n",
       "    </tr>\n",
       "    <tr>\n",
       "      <th>4</th>\n",
       "      <td>100692</td>\n",
       "      <td>sales</td>\n",
       "      <td>middle</td>\n",
       "      <td>high</td>\n",
       "      <td>6</td>\n",
       "      <td>no</td>\n",
       "      <td>no</td>\n",
       "      <td>4</td>\n",
       "      <td>48000</td>\n",
       "      <td>0.700000</td>\n",
       "      <td>no</td>\n",
       "    </tr>\n",
       "    <tr>\n",
       "      <th>5</th>\n",
       "      <td>100710</td>\n",
       "      <td>hr</td>\n",
       "      <td>sinior</td>\n",
       "      <td>low</td>\n",
       "      <td>6</td>\n",
       "      <td>no</td>\n",
       "      <td>no</td>\n",
       "      <td>4</td>\n",
       "      <td>27600</td>\n",
       "      <td>0.781429</td>\n",
       "      <td>no</td>\n",
       "    </tr>\n",
       "    <tr>\n",
       "      <th>6</th>\n",
       "      <td>100894</td>\n",
       "      <td>sales</td>\n",
       "      <td>middle</td>\n",
       "      <td>high</td>\n",
       "      <td>6</td>\n",
       "      <td>no</td>\n",
       "      <td>no</td>\n",
       "      <td>3</td>\n",
       "      <td>56400</td>\n",
       "      <td>0.532500</td>\n",
       "      <td>no</td>\n",
       "    </tr>\n",
       "    <tr>\n",
       "      <th>7</th>\n",
       "      <td>102102</td>\n",
       "      <td>marketing</td>\n",
       "      <td>junior</td>\n",
       "      <td>medium</td>\n",
       "      <td>3</td>\n",
       "      <td>no</td>\n",
       "      <td>no</td>\n",
       "      <td>4</td>\n",
       "      <td>25200</td>\n",
       "      <td>0.767500</td>\n",
       "      <td>no</td>\n",
       "    </tr>\n",
       "    <tr>\n",
       "      <th>8</th>\n",
       "      <td>102222</td>\n",
       "      <td>marketing</td>\n",
       "      <td>middle</td>\n",
       "      <td>medium</td>\n",
       "      <td>8</td>\n",
       "      <td>no</td>\n",
       "      <td>no</td>\n",
       "      <td>4</td>\n",
       "      <td>36000</td>\n",
       "      <td>0.691429</td>\n",
       "      <td>no</td>\n",
       "    </tr>\n",
       "    <tr>\n",
       "      <th>9</th>\n",
       "      <td>102320</td>\n",
       "      <td>sales</td>\n",
       "      <td>middle</td>\n",
       "      <td>high</td>\n",
       "      <td>4</td>\n",
       "      <td>no</td>\n",
       "      <td>no</td>\n",
       "      <td>3</td>\n",
       "      <td>57600</td>\n",
       "      <td>0.250000</td>\n",
       "      <td>no</td>\n",
       "    </tr>\n",
       "  </tbody>\n",
       "</table>\n",
       "</div>"
      ],
      "text/plain": [
       "       id        dept   level workload  employment_years last_year_promo  \\\n",
       "0  100298          hr  junior      low                 2              no   \n",
       "1  100480   marketing  junior      low                 4              no   \n",
       "2  100503  purchasing  middle     high                 5              no   \n",
       "3  100610       sales  middle   medium                 5              no   \n",
       "4  100692       sales  middle     high                 6              no   \n",
       "5  100710          hr  sinior      low                 6              no   \n",
       "6  100894       sales  middle     high                 6              no   \n",
       "7  102102   marketing  junior   medium                 3              no   \n",
       "8  102222   marketing  middle   medium                 8              no   \n",
       "9  102320       sales  middle     high                 4              no   \n",
       "\n",
       "  last_year_violations  supervisor_evaluation  salary  job_satisfaction_rate  \\\n",
       "0                   no                      4   19200               0.880000   \n",
       "1                   no                      4   16800               0.852000   \n",
       "2                   no                      4   55200               0.790000   \n",
       "3                   no                      4   43200               0.813333   \n",
       "4                   no                      4   48000               0.700000   \n",
       "5                   no                      4   27600               0.781429   \n",
       "6                   no                      3   56400               0.532500   \n",
       "7                   no                      4   25200               0.767500   \n",
       "8                   no                      4   36000               0.691429   \n",
       "9                   no                      3   57600               0.250000   \n",
       "\n",
       "  quit  \n",
       "0   no  \n",
       "1   no  \n",
       "2   no  \n",
       "3   no  \n",
       "4   no  \n",
       "5   no  \n",
       "6   no  \n",
       "7   no  \n",
       "8   no  \n",
       "9   no  "
      ]
     },
     "metadata": {},
     "output_type": "display_data"
    }
   ],
   "source": [
    "X_test_2 = final_merged_df.sort_values(by='id').reset_index('id')\n",
    "display(X_test_2.head(10))"
   ]
  },
  {
   "cell_type": "markdown",
   "id": "5b763b0e",
   "metadata": {},
   "source": [
    "## Подготовка данных"
   ]
  },
  {
   "cell_type": "code",
   "execution_count": 48,
   "id": "ed212f41",
   "metadata": {},
   "outputs": [],
   "source": [
    "RANDOM_STATE = 42\n",
    "\n",
    "#для заполнения пропусков подготовим пайплайн\n",
    "# создадим списки с названиями признаков\n",
    "ohe_columns = ['dept', 'last_year_promo','last_year_violations']\n",
    "ord_columns = ['level','workload']\n",
    "num_columns = ['employment_years', 'supervisor_evaluation','salary']\n",
    "\n",
    "# создаём пайплайн для подготовки признаков из списка ohe_columns: заполнение пропусков и OHE-кодирование\n",
    "# SimpleImputer + OHE\n",
    "ohe_pipe = Pipeline(\n",
    "    [\n",
    "        (\n",
    "            'simpleImputer_ohe', \n",
    "            SimpleImputer(missing_values=np.nan, strategy='most_frequent')\n",
    "        ),\n",
    "        (\n",
    "            'ohe', \n",
    "            OneHotEncoder(drop='first',handle_unknown='ignore', sparse_output=False)\n",
    "        )\n",
    "    ]\n",
    ")\n",
    "\n",
    "# cоздаём пайплайн для подготовки признаков из списка ord_columns: заполнение пропусков и Ordinal-кодирование\n",
    "# SimpleImputer + OE\n",
    "ord_pipe = Pipeline(\n",
    "    [\n",
    "        (\n",
    "            'simpleImputer_before_ord', \n",
    "            SimpleImputer(missing_values=np.nan, strategy='most_frequent')\n",
    "        ),\n",
    "        (\n",
    "            'ord',\n",
    "            OrdinalEncoder(\n",
    "                categories=[\n",
    "                    ['junior', 'middle', 'sinior'],\n",
    "                    ['low', 'medium', 'high']\n",
    "                ], \n",
    "                handle_unknown='use_encoded_value',\n",
    "                unknown_value=np.nan\n",
    "            )\n",
    "        ),\n",
    "        (\n",
    "            'simpleImputer_after_ord', \n",
    "            SimpleImputer(missing_values=np.nan, strategy='most_frequent')\n",
    "        )\n",
    "    ]\n",
    ")\n",
    "\n",
    "# создайте общий пайплайн для подготовки данных\n",
    "data_preprocessor = ColumnTransformer(\n",
    "    [\n",
    "        ('ohe', ohe_pipe, ohe_columns),\n",
    "        ('ord', ord_pipe, ord_columns),\n",
    "        ('num', MinMaxScaler(), num_columns)    \n",
    "    ], \n",
    "    remainder =  'passthrough')"
   ]
  },
  {
   "cell_type": "markdown",
   "id": "4b7f12fd",
   "metadata": {},
   "source": [
    "## Обучение модели\n"
   ]
  },
  {
   "cell_type": "code",
   "execution_count": 49,
   "id": "7f8a9c7f",
   "metadata": {},
   "outputs": [
    {
     "name": "stdout",
     "output_type": "stream",
     "text": [
      "Лучшая модель и её параметры:\n",
      "\n",
      " Pipeline(steps=[('preprocessor',\n",
      "                 ColumnTransformer(remainder='passthrough',\n",
      "                                   transformers=[('ohe',\n",
      "                                                  Pipeline(steps=[('simpleImputer_ohe',\n",
      "                                                                   SimpleImputer(strategy='most_frequent')),\n",
      "                                                                  ('ohe',\n",
      "                                                                   OneHotEncoder(drop='first',\n",
      "                                                                                 handle_unknown='ignore',\n",
      "                                                                                 sparse_output=False))]),\n",
      "                                                  ['dept', 'last_year_promo',\n",
      "                                                   'last_year_violations']),\n",
      "                                                 ('ord',\n",
      "                                                  Pipeline(steps=[('simpleImputer_befor...\n",
      "                                                                   OrdinalEncoder(categories=[['junior',\n",
      "                                                                                               'middle',\n",
      "                                                                                               'sinior'],\n",
      "                                                                                              ['low',\n",
      "                                                                                               'medium',\n",
      "                                                                                               'high']],\n",
      "                                                                                  handle_unknown='use_encoded_value',\n",
      "                                                                                  unknown_value=nan)),\n",
      "                                                                  ('simpleImputer_after_ord',\n",
      "                                                                   SimpleImputer(strategy='most_frequent'))]),\n",
      "                                                  ['level', 'workload']),\n",
      "                                                 ('num', StandardScaler(),\n",
      "                                                  ['employment_years',\n",
      "                                                   'supervisor_evaluation',\n",
      "                                                   'salary'])])),\n",
      "                ('models', KNeighborsClassifier(n_neighbors=4))])\n",
      "Метрика лучшей модели на тренировочной выборке: 0.9023120975965211\n"
     ]
    }
   ],
   "source": [
    "pipe_final = Pipeline([\n",
    "    ('preprocessor', data_preprocessor),\n",
    "    ('models', DecisionTreeClassifier(random_state=RANDOM_STATE))\n",
    "])\n",
    "\n",
    "param_grid = [\n",
    "    # словарь для модели DecisionTreeClassifier()\n",
    "    {\n",
    "        'models': [DecisionTreeClassifier(random_state=RANDOM_STATE)],\n",
    "        'models__max_depth': range(2, 5),\n",
    "        'models__max_features': range(2, 4),\n",
    "        'preprocessor__num': [StandardScaler(), MinMaxScaler(), 'passthrough']  \n",
    "    },\n",
    "    # словарь для модели KNeighborsClassifier() \n",
    "    {\n",
    "        'models': [KNeighborsClassifier()],\n",
    "        'models__n_neighbors': range(2, 10),\n",
    "        'preprocessor__num': [StandardScaler(), MinMaxScaler(), 'passthrough']   \n",
    "    },\n",
    "    \n",
    "    # словарь для модели LogisticRegression() \n",
    "    {\n",
    "        'models': [LogisticRegression(random_state=RANDOM_STATE)],\n",
    "        'preprocessor__num': [StandardScaler(), MinMaxScaler(), 'passthrough'] \n",
    "    }]\n",
    "\n",
    "randomized_search = RandomizedSearchCV(\n",
    "    pipe_final, \n",
    "    param_grid, \n",
    "    cv=5,\n",
    "    scoring='roc_auc',\n",
    "    n_jobs=-1\n",
    ")\n",
    "\n",
    "X_train_2 = final_merged_df.drop('quit',axis=1)\n",
    "y_train_2 = final_merged_df['quit']\n",
    "encoder = LabelEncoder()\n",
    "#y_train_1 = encoder.fit_transform(y_train_1)\n",
    "\n",
    "randomized_search.fit(X_train_2, y_train_2)\n",
    "\n",
    "print('Лучшая модель и её параметры:\\n\\n', randomized_search.best_estimator_)\n",
    "print ('Метрика лучшей модели на тренировочной выборке:', randomized_search.best_score_)"
   ]
  },
  {
   "cell_type": "code",
   "execution_count": 50,
   "id": "c3b29c69",
   "metadata": {},
   "outputs": [
    {
     "data": {
      "text/html": [
       "<div>\n",
       "<style scoped>\n",
       "    .dataframe tbody tr th:only-of-type {\n",
       "        vertical-align: middle;\n",
       "    }\n",
       "\n",
       "    .dataframe tbody tr th {\n",
       "        vertical-align: top;\n",
       "    }\n",
       "\n",
       "    .dataframe thead th {\n",
       "        text-align: right;\n",
       "    }\n",
       "</style>\n",
       "<table border=\"1\" class=\"dataframe\">\n",
       "  <thead>\n",
       "    <tr style=\"text-align: right;\">\n",
       "      <th></th>\n",
       "      <th>quit</th>\n",
       "    </tr>\n",
       "    <tr>\n",
       "      <th>id</th>\n",
       "      <th></th>\n",
       "    </tr>\n",
       "  </thead>\n",
       "  <tbody>\n",
       "    <tr>\n",
       "      <th>100298</th>\n",
       "      <td>no</td>\n",
       "    </tr>\n",
       "    <tr>\n",
       "      <th>100480</th>\n",
       "      <td>no</td>\n",
       "    </tr>\n",
       "    <tr>\n",
       "      <th>100503</th>\n",
       "      <td>no</td>\n",
       "    </tr>\n",
       "    <tr>\n",
       "      <th>100610</th>\n",
       "      <td>no</td>\n",
       "    </tr>\n",
       "    <tr>\n",
       "      <th>100692</th>\n",
       "      <td>no</td>\n",
       "    </tr>\n",
       "    <tr>\n",
       "      <th>100710</th>\n",
       "      <td>no</td>\n",
       "    </tr>\n",
       "    <tr>\n",
       "      <th>100894</th>\n",
       "      <td>no</td>\n",
       "    </tr>\n",
       "    <tr>\n",
       "      <th>102102</th>\n",
       "      <td>no</td>\n",
       "    </tr>\n",
       "    <tr>\n",
       "      <th>102222</th>\n",
       "      <td>no</td>\n",
       "    </tr>\n",
       "    <tr>\n",
       "      <th>102320</th>\n",
       "      <td>no</td>\n",
       "    </tr>\n",
       "  </tbody>\n",
       "</table>\n",
       "</div>"
      ],
      "text/plain": [
       "       quit\n",
       "id         \n",
       "100298   no\n",
       "100480   no\n",
       "100503   no\n",
       "100610   no\n",
       "100692   no\n",
       "100710   no\n",
       "100894   no\n",
       "102102   no\n",
       "102222   no\n",
       "102320   no"
      ]
     },
     "metadata": {},
     "output_type": "display_data"
    }
   ],
   "source": [
    "y_test_2 = y_test_2.reset_index('id')\n",
    "y_test_2 = y_test_2.sort_values(by='id')\n",
    "y_test_2 = y_test_2.set_index('id')\n",
    "\n",
    "display(y_test_2.head(10))"
   ]
  },
  {
   "cell_type": "code",
   "execution_count": 51,
   "id": "866668b2",
   "metadata": {},
   "outputs": [
    {
     "name": "stdout",
     "output_type": "stream",
     "text": [
      "Метрика ROC-AUC на тестовой выборке: 0.972480071712203\n"
     ]
    }
   ],
   "source": [
    "# проверим работу модели на тестовой выборке\n",
    "# рассчитаем прогноз на тестовых данных\n",
    "\n",
    "y_test_pred_2 = randomized_search.predict_proba(X_test_2)[:,1]\n",
    "encoder.fit(y_train_2)\n",
    "y_true_2 = encoder.transform(y_test_2['quit'])\n",
    "\n",
    "print(f'Метрика ROC-AUC на тестовой выборке: {roc_auc_score(y_true_2, y_test_pred_2)}')"
   ]
  },
  {
   "cell_type": "markdown",
   "id": "b5c622a2",
   "metadata": {},
   "source": [
    "## Вывод"
   ]
  },
  {
   "cell_type": "markdown",
   "id": "f851ad9c",
   "metadata": {},
   "source": [
    "Лучшая модель, выбранная с помощью случайного подбора, — это метод поиска ближайших соседей. Метрика на тренировочной выборке составила 0.90.\n",
    "\n",
    "На тестовой выборке результат немного ниже — 0.96."
   ]
  },
  {
   "cell_type": "markdown",
   "id": "9802155e",
   "metadata": {},
   "source": [
    "## Общий вывод"
   ]
  },
  {
   "cell_type": "markdown",
   "id": "dd42d026",
   "metadata": {},
   "source": [
    "На уровень удовлетворенности работой наибольшее влияние оказывают оценки руководителей, количество проступков за прошлый год и стаж работы в компании. Для предсказания удовлетворенности наиболее эффективной оказалась модель дерева решений.\n",
    "\n",
    "Анализ показал, что сотрудники, покинувшие компанию, зарабатывали в 1.5 раза меньше и были менее удовлетворены своей работой. Доля уволившихся колеблется в пределах 30-40%. Основными факторами, коррелирующими с увольнением, являются зарплата и стаж работы в компании. Наилучшие результаты в предсказании увольнений продемонстрировала модель k-ближайших соседей.\n",
    "\n",
    "**Рекомендации для бизнеса:**\n",
    "\n",
    "- Высокий уровень увольнений (30-40%) требует внимания со стороны компании.\n",
    "\n",
    "\n",
    "- Необходимо пересмотреть политику оплаты труда, поскольку уволившиеся сотрудники зарабатывали значительно меньше.\n",
    "\n",
    "\n",
    "- Рекомендуется проводить беседы с недовольными сотрудниками и предлагать им новые проекты или роли. Уволившиеся работники чаще всего имели низкую рабочую нагрузку.\n",
    "\n",
    "\n",
    "- Внедрение нематериальных бонусов, таких как обучение или скидки у партнеров, может улучшить ситуацию. Это поможет повысить уровень удовлетворенности и компенсировать недостатки в оплате труда и рабочей нагрузке."
   ]
  }
 ],
 "metadata": {
  "ExecuteTimeLog": [
   {
    "duration": 12139,
    "start_time": "2024-09-20T17:27:13.769Z"
   },
   {
    "duration": 103,
    "start_time": "2024-09-20T17:30:13.012Z"
   },
   {
    "duration": 50,
    "start_time": "2024-09-20T17:30:37.672Z"
   },
   {
    "duration": 86,
    "start_time": "2024-09-20T17:34:02.382Z"
   },
   {
    "duration": 102,
    "start_time": "2024-09-20T17:34:42.789Z"
   },
   {
    "duration": 25,
    "start_time": "2024-09-20T17:38:44.029Z"
   },
   {
    "duration": 5,
    "start_time": "2024-09-20T17:46:44.227Z"
   },
   {
    "duration": 124,
    "start_time": "2024-09-20T17:47:02.201Z"
   },
   {
    "duration": 12,
    "start_time": "2024-09-20T17:47:17.413Z"
   },
   {
    "duration": 12,
    "start_time": "2024-09-20T17:47:45.223Z"
   },
   {
    "duration": 88,
    "start_time": "2024-09-20T17:49:31.904Z"
   },
   {
    "duration": 81,
    "start_time": "2024-09-20T17:49:52.021Z"
   },
   {
    "duration": 6,
    "start_time": "2024-09-20T17:50:52.839Z"
   },
   {
    "duration": 5,
    "start_time": "2024-09-20T17:51:57.202Z"
   },
   {
    "duration": 5,
    "start_time": "2024-09-20T17:52:39.124Z"
   },
   {
    "duration": 85,
    "start_time": "2024-09-20T17:53:52.015Z"
   },
   {
    "duration": 13,
    "start_time": "2024-09-20T17:54:14.221Z"
   },
   {
    "duration": 13,
    "start_time": "2024-09-20T17:54:52.830Z"
   },
   {
    "duration": 14,
    "start_time": "2024-09-20T17:55:02.177Z"
   },
   {
    "duration": 22,
    "start_time": "2024-09-20T17:56:15.849Z"
   },
   {
    "duration": 11,
    "start_time": "2024-09-20T17:59:09.106Z"
   },
   {
    "duration": 11,
    "start_time": "2024-09-20T17:59:10.029Z"
   },
   {
    "duration": 11,
    "start_time": "2024-09-20T17:59:12.097Z"
   },
   {
    "duration": 70,
    "start_time": "2024-09-20T18:02:50.925Z"
   },
   {
    "duration": 7,
    "start_time": "2024-09-20T18:03:12.982Z"
   },
   {
    "duration": 799,
    "start_time": "2024-09-20T18:07:43.587Z"
   },
   {
    "duration": 883,
    "start_time": "2024-09-20T19:26:40.231Z"
   },
   {
    "duration": 836,
    "start_time": "2024-09-20T19:29:34.624Z"
   },
   {
    "duration": 816,
    "start_time": "2024-09-20T19:33:04.649Z"
   },
   {
    "duration": 811,
    "start_time": "2024-09-20T19:33:10.184Z"
   },
   {
    "duration": 90,
    "start_time": "2024-09-20T19:36:26.440Z"
   },
   {
    "duration": 796,
    "start_time": "2024-09-20T19:37:02.981Z"
   },
   {
    "duration": 70,
    "start_time": "2024-09-20T19:39:42.048Z"
   },
   {
    "duration": 330,
    "start_time": "2024-09-20T19:40:27.176Z"
   },
   {
    "duration": 534,
    "start_time": "2024-09-20T19:42:30.854Z"
   },
   {
    "duration": 615,
    "start_time": "2024-09-20T19:42:40.601Z"
   },
   {
    "duration": 675,
    "start_time": "2024-09-20T19:42:53.271Z"
   },
   {
    "duration": 628,
    "start_time": "2024-09-20T19:43:01.745Z"
   },
   {
    "duration": 488,
    "start_time": "2024-09-20T19:45:42.407Z"
   },
   {
    "duration": 514,
    "start_time": "2024-09-20T19:46:01.315Z"
   },
   {
    "duration": 513,
    "start_time": "2024-09-20T19:46:53.922Z"
   },
   {
    "duration": 214,
    "start_time": "2024-09-20T19:50:37.177Z"
   },
   {
    "duration": 224,
    "start_time": "2024-09-20T19:50:47.693Z"
   },
   {
    "duration": 1766,
    "start_time": "2024-09-20T19:51:54.253Z"
   },
   {
    "duration": 1440,
    "start_time": "2024-09-20T19:52:07.777Z"
   },
   {
    "duration": 10,
    "start_time": "2024-09-20T19:55:06.616Z"
   },
   {
    "duration": 2277,
    "start_time": "2024-09-20T19:56:22.871Z"
   },
   {
    "duration": 22,
    "start_time": "2024-09-20T19:59:23.346Z"
   },
   {
    "duration": 12,
    "start_time": "2024-09-20T20:04:18.209Z"
   },
   {
    "duration": 11,
    "start_time": "2024-09-20T20:04:53.271Z"
   },
   {
    "duration": 19,
    "start_time": "2024-09-20T20:04:59.778Z"
   },
   {
    "duration": 21,
    "start_time": "2024-09-20T20:05:11.193Z"
   },
   {
    "duration": 120,
    "start_time": "2024-09-20T20:09:45.865Z"
   },
   {
    "duration": 101,
    "start_time": "2024-09-20T20:09:49.895Z"
   },
   {
    "duration": 47,
    "start_time": "2024-09-20T20:10:08.647Z"
   },
   {
    "duration": 54,
    "start_time": "2024-09-20T20:10:20.691Z"
   },
   {
    "duration": 78,
    "start_time": "2024-09-20T20:10:58.548Z"
   },
   {
    "duration": 3,
    "start_time": "2024-09-20T20:11:26.851Z"
   },
   {
    "duration": 37,
    "start_time": "2024-09-20T20:13:52.414Z"
   },
   {
    "duration": 66,
    "start_time": "2024-09-20T20:14:14.001Z"
   },
   {
    "duration": 9,
    "start_time": "2024-09-20T20:14:50.058Z"
   },
   {
    "duration": 6,
    "start_time": "2024-09-20T20:15:19.261Z"
   },
   {
    "duration": 6,
    "start_time": "2024-09-20T20:15:45.937Z"
   },
   {
    "duration": 75,
    "start_time": "2024-09-20T20:16:37.705Z"
   },
   {
    "duration": 731,
    "start_time": "2024-09-20T20:17:09.901Z"
   },
   {
    "duration": 29,
    "start_time": "2024-09-20T20:17:43.035Z"
   },
   {
    "duration": 51,
    "start_time": "2024-09-20T20:21:59.909Z"
   },
   {
    "duration": 8,
    "start_time": "2024-09-20T20:22:16.271Z"
   },
   {
    "duration": 407,
    "start_time": "2024-09-20T20:22:32.907Z"
   },
   {
    "duration": 410,
    "start_time": "2024-09-20T20:34:57.472Z"
   },
   {
    "duration": 548,
    "start_time": "2024-09-20T20:35:04.692Z"
   },
   {
    "duration": 210,
    "start_time": "2024-09-20T20:39:16.660Z"
   },
   {
    "duration": 374,
    "start_time": "2024-09-20T20:41:34.316Z"
   },
   {
    "duration": 215,
    "start_time": "2024-09-20T20:42:13.841Z"
   },
   {
    "duration": 276,
    "start_time": "2024-09-20T20:48:37.437Z"
   },
   {
    "duration": 221,
    "start_time": "2024-09-20T20:51:27.742Z"
   },
   {
    "duration": 1384,
    "start_time": "2024-09-20T20:52:06.758Z"
   },
   {
    "duration": 349,
    "start_time": "2024-09-20T20:52:32.056Z"
   },
   {
    "duration": 220,
    "start_time": "2024-09-20T20:52:43.272Z"
   },
   {
    "duration": 1507,
    "start_time": "2024-09-20T20:52:54.591Z"
   },
   {
    "duration": 20,
    "start_time": "2024-09-20T20:54:38.672Z"
   },
   {
    "duration": 13,
    "start_time": "2024-09-20T20:54:53.170Z"
   },
   {
    "duration": 10,
    "start_time": "2024-09-20T20:55:16.096Z"
   },
   {
    "duration": 6,
    "start_time": "2024-09-20T20:55:27.689Z"
   },
   {
    "duration": 8,
    "start_time": "2024-09-20T20:55:45.729Z"
   },
   {
    "duration": 8,
    "start_time": "2024-09-20T20:56:13.832Z"
   },
   {
    "duration": 2960,
    "start_time": "2024-09-20T20:56:44.518Z"
   },
   {
    "duration": 13,
    "start_time": "2024-09-20T20:57:02.468Z"
   },
   {
    "duration": 9,
    "start_time": "2024-09-20T20:57:15.378Z"
   },
   {
    "duration": 63,
    "start_time": "2024-09-20T20:57:36.188Z"
   },
   {
    "duration": 6,
    "start_time": "2024-09-20T20:58:36.297Z"
   },
   {
    "duration": 21,
    "start_time": "2024-09-20T20:58:45.924Z"
   },
   {
    "duration": 768,
    "start_time": "2024-09-20T20:59:38.628Z"
   },
   {
    "duration": 399,
    "start_time": "2024-09-20T20:59:44.040Z"
   },
   {
    "duration": 1368,
    "start_time": "2024-09-20T21:00:12.131Z"
   },
   {
    "duration": 9,
    "start_time": "2024-09-20T21:00:22.519Z"
   },
   {
    "duration": 2297,
    "start_time": "2024-09-20T21:00:51.271Z"
   },
   {
    "duration": 22,
    "start_time": "2024-09-20T21:01:03.679Z"
   },
   {
    "duration": 1548,
    "start_time": "2024-09-20T21:02:04.012Z"
   },
   {
    "duration": 21,
    "start_time": "2024-09-20T21:02:15.761Z"
   },
   {
    "duration": 1399,
    "start_time": "2024-09-20T21:02:34.900Z"
   },
   {
    "duration": 7447,
    "start_time": "2024-09-20T21:02:42.892Z"
   },
   {
    "duration": 57,
    "start_time": "2024-09-20T21:02:50.341Z"
   },
   {
    "duration": 38,
    "start_time": "2024-09-20T21:02:50.399Z"
   },
   {
    "duration": 64,
    "start_time": "2024-09-20T21:02:50.440Z"
   },
   {
    "duration": 33,
    "start_time": "2024-09-20T21:02:50.506Z"
   },
   {
    "duration": 15,
    "start_time": "2024-09-20T21:02:50.541Z"
   },
   {
    "duration": 39,
    "start_time": "2024-09-20T21:02:50.559Z"
   },
   {
    "duration": 38,
    "start_time": "2024-09-20T21:02:50.600Z"
   },
   {
    "duration": 44,
    "start_time": "2024-09-20T21:02:50.639Z"
   },
   {
    "duration": 10,
    "start_time": "2024-09-20T21:02:50.686Z"
   },
   {
    "duration": 21,
    "start_time": "2024-09-20T21:02:50.698Z"
   },
   {
    "duration": 23,
    "start_time": "2024-09-20T21:02:50.720Z"
   },
   {
    "duration": 809,
    "start_time": "2024-09-20T21:02:50.744Z"
   },
   {
    "duration": 643,
    "start_time": "2024-09-20T21:02:51.555Z"
   },
   {
    "duration": 412,
    "start_time": "2024-09-20T21:02:52.200Z"
   },
   {
    "duration": 503,
    "start_time": "2024-09-20T21:02:52.614Z"
   },
   {
    "duration": 523,
    "start_time": "2024-09-20T21:02:53.118Z"
   },
   {
    "duration": 1666,
    "start_time": "2024-09-20T21:02:53.644Z"
   },
   {
    "duration": 5,
    "start_time": "2024-09-20T21:02:55.312Z"
   },
   {
    "duration": 2144,
    "start_time": "2024-09-20T21:02:55.319Z"
   },
   {
    "duration": 22,
    "start_time": "2024-09-20T21:02:57.465Z"
   },
   {
    "duration": 19,
    "start_time": "2024-09-20T21:02:57.489Z"
   },
   {
    "duration": 27,
    "start_time": "2024-09-20T21:02:57.510Z"
   },
   {
    "duration": 18,
    "start_time": "2024-09-20T21:02:57.539Z"
   },
   {
    "duration": 49,
    "start_time": "2024-09-20T21:02:57.559Z"
   },
   {
    "duration": 41,
    "start_time": "2024-09-20T21:02:57.610Z"
   },
   {
    "duration": 30,
    "start_time": "2024-09-20T21:02:57.653Z"
   },
   {
    "duration": 6,
    "start_time": "2024-09-20T21:02:57.688Z"
   },
   {
    "duration": 34,
    "start_time": "2024-09-20T21:02:57.695Z"
   },
   {
    "duration": 12,
    "start_time": "2024-09-20T21:02:57.731Z"
   },
   {
    "duration": 765,
    "start_time": "2024-09-20T21:02:57.746Z"
   },
   {
    "duration": 26,
    "start_time": "2024-09-20T21:02:58.513Z"
   },
   {
    "duration": 40,
    "start_time": "2024-09-20T21:02:58.540Z"
   },
   {
    "duration": 8,
    "start_time": "2024-09-20T21:02:58.582Z"
   },
   {
    "duration": 354,
    "start_time": "2024-09-20T21:02:58.591Z"
   },
   {
    "duration": 218,
    "start_time": "2024-09-20T21:02:58.947Z"
   },
   {
    "duration": 292,
    "start_time": "2024-09-20T21:02:59.167Z"
   },
   {
    "duration": 206,
    "start_time": "2024-09-20T21:02:59.461Z"
   },
   {
    "duration": 1361,
    "start_time": "2024-09-20T21:02:59.669Z"
   },
   {
    "duration": 17,
    "start_time": "2024-09-20T21:03:01.032Z"
   },
   {
    "duration": 43,
    "start_time": "2024-09-20T21:03:01.050Z"
   },
   {
    "duration": 4896,
    "start_time": "2024-09-20T21:03:01.095Z"
   },
   {
    "duration": 35,
    "start_time": "2024-09-20T21:03:05.993Z"
   },
   {
    "duration": 14,
    "start_time": "2024-09-20T21:03:06.035Z"
   },
   {
    "duration": 64,
    "start_time": "2024-09-20T21:03:06.051Z"
   },
   {
    "duration": 7636,
    "start_time": "2024-09-20T21:12:15.761Z"
   },
   {
    "duration": 73,
    "start_time": "2024-09-20T21:12:23.399Z"
   },
   {
    "duration": 33,
    "start_time": "2024-09-20T21:12:23.474Z"
   },
   {
    "duration": 44,
    "start_time": "2024-09-20T21:12:23.509Z"
   },
   {
    "duration": 24,
    "start_time": "2024-09-20T21:12:23.556Z"
   },
   {
    "duration": 6,
    "start_time": "2024-09-20T21:12:23.581Z"
   },
   {
    "duration": 39,
    "start_time": "2024-09-20T21:12:23.589Z"
   },
   {
    "duration": 17,
    "start_time": "2024-09-20T21:12:23.635Z"
   },
   {
    "duration": 42,
    "start_time": "2024-09-20T21:12:23.654Z"
   },
   {
    "duration": 10,
    "start_time": "2024-09-20T21:12:23.698Z"
   },
   {
    "duration": 23,
    "start_time": "2024-09-20T21:12:23.711Z"
   },
   {
    "duration": 10,
    "start_time": "2024-09-20T21:12:23.737Z"
   },
   {
    "duration": 844,
    "start_time": "2024-09-20T21:12:23.749Z"
   },
   {
    "duration": 679,
    "start_time": "2024-09-20T21:12:24.598Z"
   },
   {
    "duration": 430,
    "start_time": "2024-09-20T21:12:25.278Z"
   },
   {
    "duration": 553,
    "start_time": "2024-09-20T21:12:25.709Z"
   },
   {
    "duration": 530,
    "start_time": "2024-09-20T21:12:26.264Z"
   },
   {
    "duration": 1675,
    "start_time": "2024-09-20T21:12:26.796Z"
   },
   {
    "duration": 4,
    "start_time": "2024-09-20T21:12:28.473Z"
   },
   {
    "duration": 2167,
    "start_time": "2024-09-20T21:12:28.479Z"
   },
   {
    "duration": 28,
    "start_time": "2024-09-20T21:12:30.648Z"
   },
   {
    "duration": 37,
    "start_time": "2024-09-20T21:12:30.678Z"
   },
   {
    "duration": 41,
    "start_time": "2024-09-20T21:12:30.717Z"
   },
   {
    "duration": 23,
    "start_time": "2024-09-20T21:12:30.760Z"
   },
   {
    "duration": 72,
    "start_time": "2024-09-20T21:12:30.785Z"
   },
   {
    "duration": 38,
    "start_time": "2024-09-20T21:12:30.859Z"
   },
   {
    "duration": 49,
    "start_time": "2024-09-20T21:12:30.898Z"
   },
   {
    "duration": 8,
    "start_time": "2024-09-20T21:12:30.950Z"
   },
   {
    "duration": 56,
    "start_time": "2024-09-20T21:12:30.960Z"
   },
   {
    "duration": 35,
    "start_time": "2024-09-20T21:12:31.018Z"
   },
   {
    "duration": 860,
    "start_time": "2024-09-20T21:12:31.055Z"
   },
   {
    "duration": 35,
    "start_time": "2024-09-20T21:12:31.917Z"
   },
   {
    "duration": 55,
    "start_time": "2024-09-20T21:12:31.955Z"
   },
   {
    "duration": 21,
    "start_time": "2024-09-20T21:12:32.013Z"
   },
   {
    "duration": 408,
    "start_time": "2024-09-20T21:12:32.039Z"
   },
   {
    "duration": 226,
    "start_time": "2024-09-20T21:12:32.449Z"
   },
   {
    "duration": 263,
    "start_time": "2024-09-20T21:12:32.677Z"
   },
   {
    "duration": 210,
    "start_time": "2024-09-20T21:12:32.942Z"
   },
   {
    "duration": 1413,
    "start_time": "2024-09-20T21:12:33.154Z"
   },
   {
    "duration": 13,
    "start_time": "2024-09-20T21:12:34.569Z"
   },
   {
    "duration": 31,
    "start_time": "2024-09-20T21:12:34.587Z"
   },
   {
    "duration": 11589,
    "start_time": "2024-09-20T21:12:34.620Z"
   },
   {
    "duration": 31,
    "start_time": "2024-09-20T21:12:46.211Z"
   },
   {
    "duration": 13,
    "start_time": "2024-09-20T21:12:46.244Z"
   },
   {
    "duration": 68,
    "start_time": "2024-09-20T21:12:46.259Z"
   },
   {
    "duration": 126,
    "start_time": "2024-09-24T12:19:42.922Z"
   },
   {
    "duration": 162,
    "start_time": "2024-09-24T12:26:49.139Z"
   },
   {
    "duration": 157,
    "start_time": "2024-09-24T12:28:28.842Z"
   },
   {
    "duration": 59,
    "start_time": "2024-09-24T12:51:04.648Z"
   },
   {
    "duration": 13679,
    "start_time": "2024-09-24T12:51:54.740Z"
   },
   {
    "duration": 174,
    "start_time": "2024-09-24T12:52:08.423Z"
   },
   {
    "duration": 103,
    "start_time": "2024-09-24T12:52:08.599Z"
   },
   {
    "duration": 99,
    "start_time": "2024-09-24T12:52:08.705Z"
   },
   {
    "duration": 22,
    "start_time": "2024-09-24T12:52:08.806Z"
   },
   {
    "duration": 41,
    "start_time": "2024-09-24T12:52:08.830Z"
   },
   {
    "duration": 14,
    "start_time": "2024-09-24T12:52:08.872Z"
   },
   {
    "duration": 29,
    "start_time": "2024-09-24T12:52:08.888Z"
   },
   {
    "duration": 10,
    "start_time": "2024-09-24T12:52:08.919Z"
   },
   {
    "duration": 11,
    "start_time": "2024-09-24T12:52:08.931Z"
   },
   {
    "duration": 867,
    "start_time": "2024-09-24T12:52:08.944Z"
   },
   {
    "duration": 178,
    "start_time": "2024-09-24T12:52:09.813Z"
   },
   {
    "duration": 706,
    "start_time": "2024-09-24T12:52:09.997Z"
   },
   {
    "duration": 356,
    "start_time": "2024-09-24T12:52:10.705Z"
   },
   {
    "duration": 738,
    "start_time": "2024-09-24T12:52:11.062Z"
   },
   {
    "duration": 1025,
    "start_time": "2024-09-24T12:52:11.801Z"
   },
   {
    "duration": 1515,
    "start_time": "2024-09-24T12:52:12.828Z"
   },
   {
    "duration": 125,
    "start_time": "2024-09-24T12:52:14.344Z"
   },
   {
    "duration": 1,
    "start_time": "2024-09-24T12:52:14.472Z"
   },
   {
    "duration": 0,
    "start_time": "2024-09-24T12:52:14.474Z"
   },
   {
    "duration": 0,
    "start_time": "2024-09-24T12:52:14.475Z"
   },
   {
    "duration": 0,
    "start_time": "2024-09-24T12:52:14.477Z"
   },
   {
    "duration": 0,
    "start_time": "2024-09-24T12:52:14.479Z"
   },
   {
    "duration": 0,
    "start_time": "2024-09-24T12:52:14.480Z"
   },
   {
    "duration": 0,
    "start_time": "2024-09-24T12:52:14.482Z"
   },
   {
    "duration": 0,
    "start_time": "2024-09-24T12:52:14.499Z"
   },
   {
    "duration": 0,
    "start_time": "2024-09-24T12:52:14.500Z"
   },
   {
    "duration": 0,
    "start_time": "2024-09-24T12:52:14.502Z"
   },
   {
    "duration": 0,
    "start_time": "2024-09-24T12:52:14.503Z"
   },
   {
    "duration": 0,
    "start_time": "2024-09-24T12:52:14.505Z"
   },
   {
    "duration": 0,
    "start_time": "2024-09-24T12:52:14.506Z"
   },
   {
    "duration": 0,
    "start_time": "2024-09-24T12:52:14.508Z"
   },
   {
    "duration": 0,
    "start_time": "2024-09-24T12:52:14.509Z"
   },
   {
    "duration": 0,
    "start_time": "2024-09-24T12:52:14.512Z"
   },
   {
    "duration": 0,
    "start_time": "2024-09-24T12:52:14.513Z"
   },
   {
    "duration": 0,
    "start_time": "2024-09-24T12:52:14.515Z"
   },
   {
    "duration": 0,
    "start_time": "2024-09-24T12:52:14.516Z"
   },
   {
    "duration": 0,
    "start_time": "2024-09-24T12:52:14.518Z"
   },
   {
    "duration": 0,
    "start_time": "2024-09-24T12:52:14.519Z"
   },
   {
    "duration": 0,
    "start_time": "2024-09-24T12:52:14.521Z"
   },
   {
    "duration": 0,
    "start_time": "2024-09-24T12:52:14.523Z"
   },
   {
    "duration": 0,
    "start_time": "2024-09-24T12:52:14.524Z"
   },
   {
    "duration": 0,
    "start_time": "2024-09-24T12:52:14.526Z"
   },
   {
    "duration": 0,
    "start_time": "2024-09-24T12:52:14.527Z"
   },
   {
    "duration": 6,
    "start_time": "2024-09-24T12:56:05.156Z"
   },
   {
    "duration": 14,
    "start_time": "2024-09-24T12:56:59.691Z"
   },
   {
    "duration": 17,
    "start_time": "2024-09-24T13:03:16.707Z"
   },
   {
    "duration": 301,
    "start_time": "2024-09-24T13:03:30.062Z"
   },
   {
    "duration": 201,
    "start_time": "2024-09-24T13:03:44.766Z"
   },
   {
    "duration": 197,
    "start_time": "2024-09-24T13:04:01.471Z"
   },
   {
    "duration": 189,
    "start_time": "2024-09-24T13:04:31.981Z"
   },
   {
    "duration": 184,
    "start_time": "2024-09-24T13:04:52.613Z"
   },
   {
    "duration": 191,
    "start_time": "2024-09-24T13:04:57.673Z"
   },
   {
    "duration": 193,
    "start_time": "2024-09-24T13:05:02.600Z"
   },
   {
    "duration": 168,
    "start_time": "2024-09-24T13:06:45.019Z"
   },
   {
    "duration": 167,
    "start_time": "2024-09-24T13:08:32.730Z"
   },
   {
    "duration": 183,
    "start_time": "2024-09-24T13:10:24.084Z"
   },
   {
    "duration": 158,
    "start_time": "2024-09-24T13:10:36.971Z"
   },
   {
    "duration": 104,
    "start_time": "2024-09-24T13:10:48.206Z"
   },
   {
    "duration": 299,
    "start_time": "2024-09-24T13:11:02.917Z"
   },
   {
    "duration": 7345,
    "start_time": "2024-09-24T13:11:17.139Z"
   },
   {
    "duration": 62,
    "start_time": "2024-09-24T13:11:24.486Z"
   },
   {
    "duration": 36,
    "start_time": "2024-09-24T13:11:24.550Z"
   },
   {
    "duration": 44,
    "start_time": "2024-09-24T13:11:24.587Z"
   },
   {
    "duration": 26,
    "start_time": "2024-09-24T13:11:24.633Z"
   },
   {
    "duration": 14,
    "start_time": "2024-09-24T13:11:24.661Z"
   },
   {
    "duration": 30,
    "start_time": "2024-09-24T13:11:24.677Z"
   },
   {
    "duration": 12,
    "start_time": "2024-09-24T13:11:24.709Z"
   },
   {
    "duration": 34,
    "start_time": "2024-09-24T13:11:24.723Z"
   },
   {
    "duration": 11,
    "start_time": "2024-09-24T13:11:24.758Z"
   },
   {
    "duration": 67,
    "start_time": "2024-09-24T13:11:24.771Z"
   },
   {
    "duration": 196,
    "start_time": "2024-09-24T13:11:24.840Z"
   },
   {
    "duration": 194,
    "start_time": "2024-09-24T13:11:25.038Z"
   },
   {
    "duration": 136,
    "start_time": "2024-09-24T13:11:25.236Z"
   },
   {
    "duration": 0,
    "start_time": "2024-09-24T13:11:25.375Z"
   },
   {
    "duration": 0,
    "start_time": "2024-09-24T13:11:25.376Z"
   },
   {
    "duration": 0,
    "start_time": "2024-09-24T13:11:25.378Z"
   },
   {
    "duration": 0,
    "start_time": "2024-09-24T13:11:25.380Z"
   },
   {
    "duration": 0,
    "start_time": "2024-09-24T13:11:25.381Z"
   },
   {
    "duration": 0,
    "start_time": "2024-09-24T13:11:25.383Z"
   },
   {
    "duration": 0,
    "start_time": "2024-09-24T13:11:25.385Z"
   },
   {
    "duration": 0,
    "start_time": "2024-09-24T13:11:25.386Z"
   },
   {
    "duration": 0,
    "start_time": "2024-09-24T13:11:25.387Z"
   },
   {
    "duration": 0,
    "start_time": "2024-09-24T13:11:25.388Z"
   },
   {
    "duration": 0,
    "start_time": "2024-09-24T13:11:25.390Z"
   },
   {
    "duration": 0,
    "start_time": "2024-09-24T13:11:25.391Z"
   },
   {
    "duration": 0,
    "start_time": "2024-09-24T13:11:25.392Z"
   },
   {
    "duration": 0,
    "start_time": "2024-09-24T13:11:25.393Z"
   },
   {
    "duration": 0,
    "start_time": "2024-09-24T13:11:25.394Z"
   },
   {
    "duration": 0,
    "start_time": "2024-09-24T13:11:25.395Z"
   },
   {
    "duration": 0,
    "start_time": "2024-09-24T13:11:25.396Z"
   },
   {
    "duration": 0,
    "start_time": "2024-09-24T13:11:25.397Z"
   },
   {
    "duration": 0,
    "start_time": "2024-09-24T13:11:25.398Z"
   },
   {
    "duration": 0,
    "start_time": "2024-09-24T13:11:25.400Z"
   },
   {
    "duration": 0,
    "start_time": "2024-09-24T13:11:25.401Z"
   },
   {
    "duration": 0,
    "start_time": "2024-09-24T13:11:25.402Z"
   },
   {
    "duration": 0,
    "start_time": "2024-09-24T13:11:25.403Z"
   },
   {
    "duration": 0,
    "start_time": "2024-09-24T13:11:25.404Z"
   },
   {
    "duration": 0,
    "start_time": "2024-09-24T13:11:25.406Z"
   },
   {
    "duration": 0,
    "start_time": "2024-09-24T13:11:25.407Z"
   },
   {
    "duration": 0,
    "start_time": "2024-09-24T13:11:25.408Z"
   },
   {
    "duration": 0,
    "start_time": "2024-09-24T13:11:25.409Z"
   },
   {
    "duration": 0,
    "start_time": "2024-09-24T13:11:25.410Z"
   },
   {
    "duration": 0,
    "start_time": "2024-09-24T13:11:25.411Z"
   },
   {
    "duration": 0,
    "start_time": "2024-09-24T13:11:25.412Z"
   },
   {
    "duration": 0,
    "start_time": "2024-09-24T13:11:25.413Z"
   },
   {
    "duration": 0,
    "start_time": "2024-09-24T13:11:25.415Z"
   },
   {
    "duration": 169,
    "start_time": "2024-09-24T13:11:47.801Z"
   },
   {
    "duration": 149,
    "start_time": "2024-09-24T13:11:51.332Z"
   },
   {
    "duration": 7300,
    "start_time": "2024-09-24T13:12:15.953Z"
   },
   {
    "duration": 62,
    "start_time": "2024-09-24T13:12:23.255Z"
   },
   {
    "duration": 36,
    "start_time": "2024-09-24T13:12:23.319Z"
   },
   {
    "duration": 44,
    "start_time": "2024-09-24T13:12:23.357Z"
   },
   {
    "duration": 22,
    "start_time": "2024-09-24T13:12:23.402Z"
   },
   {
    "duration": 13,
    "start_time": "2024-09-24T13:12:23.425Z"
   },
   {
    "duration": 51,
    "start_time": "2024-09-24T13:12:23.440Z"
   },
   {
    "duration": 24,
    "start_time": "2024-09-24T13:12:23.492Z"
   },
   {
    "duration": 24,
    "start_time": "2024-09-24T13:12:23.517Z"
   },
   {
    "duration": 18,
    "start_time": "2024-09-24T13:12:23.543Z"
   },
   {
    "duration": 16,
    "start_time": "2024-09-24T13:12:23.563Z"
   },
   {
    "duration": 188,
    "start_time": "2024-09-24T13:12:23.581Z"
   },
   {
    "duration": 209,
    "start_time": "2024-09-24T13:12:23.771Z"
   },
   {
    "duration": 176,
    "start_time": "2024-09-24T13:12:23.982Z"
   },
   {
    "duration": 160,
    "start_time": "2024-09-24T13:12:24.159Z"
   },
   {
    "duration": 677,
    "start_time": "2024-09-24T13:12:24.321Z"
   },
   {
    "duration": 309,
    "start_time": "2024-09-24T13:12:24.999Z"
   },
   {
    "duration": 483,
    "start_time": "2024-09-24T13:12:25.310Z"
   },
   {
    "duration": 488,
    "start_time": "2024-09-24T13:12:25.797Z"
   },
   {
    "duration": 1448,
    "start_time": "2024-09-24T13:12:26.286Z"
   },
   {
    "duration": 118,
    "start_time": "2024-09-24T13:12:27.736Z"
   },
   {
    "duration": 0,
    "start_time": "2024-09-24T13:12:27.856Z"
   },
   {
    "duration": 1,
    "start_time": "2024-09-24T13:12:27.857Z"
   },
   {
    "duration": 0,
    "start_time": "2024-09-24T13:12:27.858Z"
   },
   {
    "duration": 0,
    "start_time": "2024-09-24T13:12:27.859Z"
   },
   {
    "duration": 0,
    "start_time": "2024-09-24T13:12:27.860Z"
   },
   {
    "duration": 0,
    "start_time": "2024-09-24T13:12:27.861Z"
   },
   {
    "duration": 0,
    "start_time": "2024-09-24T13:12:27.862Z"
   },
   {
    "duration": 0,
    "start_time": "2024-09-24T13:12:27.863Z"
   },
   {
    "duration": 0,
    "start_time": "2024-09-24T13:12:27.864Z"
   },
   {
    "duration": 0,
    "start_time": "2024-09-24T13:12:27.865Z"
   },
   {
    "duration": 0,
    "start_time": "2024-09-24T13:12:27.866Z"
   },
   {
    "duration": 0,
    "start_time": "2024-09-24T13:12:27.868Z"
   },
   {
    "duration": 0,
    "start_time": "2024-09-24T13:12:27.869Z"
   },
   {
    "duration": 0,
    "start_time": "2024-09-24T13:12:27.870Z"
   },
   {
    "duration": 0,
    "start_time": "2024-09-24T13:12:27.871Z"
   },
   {
    "duration": 0,
    "start_time": "2024-09-24T13:12:27.872Z"
   },
   {
    "duration": 0,
    "start_time": "2024-09-24T13:12:27.873Z"
   },
   {
    "duration": 0,
    "start_time": "2024-09-24T13:12:27.874Z"
   },
   {
    "duration": 0,
    "start_time": "2024-09-24T13:12:27.875Z"
   },
   {
    "duration": 0,
    "start_time": "2024-09-24T13:12:27.876Z"
   },
   {
    "duration": 0,
    "start_time": "2024-09-24T13:12:27.897Z"
   },
   {
    "duration": 0,
    "start_time": "2024-09-24T13:12:27.899Z"
   },
   {
    "duration": 0,
    "start_time": "2024-09-24T13:12:27.900Z"
   },
   {
    "duration": 0,
    "start_time": "2024-09-24T13:12:27.901Z"
   },
   {
    "duration": 0,
    "start_time": "2024-09-24T13:12:27.902Z"
   },
   {
    "duration": 0,
    "start_time": "2024-09-24T13:12:27.904Z"
   },
   {
    "duration": 7410,
    "start_time": "2024-09-24T13:29:14.513Z"
   },
   {
    "duration": 64,
    "start_time": "2024-09-24T13:29:21.925Z"
   },
   {
    "duration": 37,
    "start_time": "2024-09-24T13:29:21.991Z"
   },
   {
    "duration": 45,
    "start_time": "2024-09-24T13:29:22.030Z"
   },
   {
    "duration": 22,
    "start_time": "2024-09-24T13:29:22.077Z"
   },
   {
    "duration": 14,
    "start_time": "2024-09-24T13:29:22.100Z"
   },
   {
    "duration": 19,
    "start_time": "2024-09-24T13:29:22.116Z"
   },
   {
    "duration": 75,
    "start_time": "2024-09-24T13:29:22.136Z"
   },
   {
    "duration": 23,
    "start_time": "2024-09-24T13:29:22.213Z"
   },
   {
    "duration": 15,
    "start_time": "2024-09-24T13:29:22.238Z"
   },
   {
    "duration": 27,
    "start_time": "2024-09-24T13:29:22.255Z"
   },
   {
    "duration": 205,
    "start_time": "2024-09-24T13:29:22.284Z"
   },
   {
    "duration": 201,
    "start_time": "2024-09-24T13:29:22.491Z"
   },
   {
    "duration": 175,
    "start_time": "2024-09-24T13:29:22.699Z"
   },
   {
    "duration": 171,
    "start_time": "2024-09-24T13:29:22.875Z"
   },
   {
    "duration": 683,
    "start_time": "2024-09-24T13:29:23.047Z"
   },
   {
    "duration": 341,
    "start_time": "2024-09-24T13:29:23.732Z"
   },
   {
    "duration": 522,
    "start_time": "2024-09-24T13:29:24.075Z"
   },
   {
    "duration": 499,
    "start_time": "2024-09-24T13:29:24.599Z"
   },
   {
    "duration": 1620,
    "start_time": "2024-09-24T13:29:25.099Z"
   },
   {
    "duration": 144,
    "start_time": "2024-09-24T13:29:26.722Z"
   },
   {
    "duration": 1,
    "start_time": "2024-09-24T13:29:26.868Z"
   },
   {
    "duration": 0,
    "start_time": "2024-09-24T13:29:26.870Z"
   },
   {
    "duration": 0,
    "start_time": "2024-09-24T13:29:26.872Z"
   },
   {
    "duration": 0,
    "start_time": "2024-09-24T13:29:26.874Z"
   },
   {
    "duration": 0,
    "start_time": "2024-09-24T13:29:26.875Z"
   },
   {
    "duration": 0,
    "start_time": "2024-09-24T13:29:26.877Z"
   },
   {
    "duration": 0,
    "start_time": "2024-09-24T13:29:26.879Z"
   },
   {
    "duration": 0,
    "start_time": "2024-09-24T13:29:26.898Z"
   },
   {
    "duration": 0,
    "start_time": "2024-09-24T13:29:26.900Z"
   },
   {
    "duration": 0,
    "start_time": "2024-09-24T13:29:26.902Z"
   },
   {
    "duration": 0,
    "start_time": "2024-09-24T13:29:26.903Z"
   },
   {
    "duration": 0,
    "start_time": "2024-09-24T13:29:26.905Z"
   },
   {
    "duration": 0,
    "start_time": "2024-09-24T13:29:26.906Z"
   },
   {
    "duration": 0,
    "start_time": "2024-09-24T13:29:26.908Z"
   },
   {
    "duration": 0,
    "start_time": "2024-09-24T13:29:26.909Z"
   },
   {
    "duration": 0,
    "start_time": "2024-09-24T13:29:26.911Z"
   },
   {
    "duration": 0,
    "start_time": "2024-09-24T13:29:26.912Z"
   },
   {
    "duration": 0,
    "start_time": "2024-09-24T13:29:26.913Z"
   },
   {
    "duration": 0,
    "start_time": "2024-09-24T13:29:26.915Z"
   },
   {
    "duration": 0,
    "start_time": "2024-09-24T13:29:26.916Z"
   },
   {
    "duration": 0,
    "start_time": "2024-09-24T13:29:26.917Z"
   },
   {
    "duration": 0,
    "start_time": "2024-09-24T13:29:26.919Z"
   },
   {
    "duration": 0,
    "start_time": "2024-09-24T13:29:26.920Z"
   },
   {
    "duration": 0,
    "start_time": "2024-09-24T13:29:26.921Z"
   },
   {
    "duration": 0,
    "start_time": "2024-09-24T13:29:26.922Z"
   },
   {
    "duration": 0,
    "start_time": "2024-09-24T13:29:26.924Z"
   },
   {
    "duration": 6,
    "start_time": "2024-09-24T13:36:34.090Z"
   },
   {
    "duration": 7173,
    "start_time": "2024-09-24T13:36:46.905Z"
   },
   {
    "duration": 62,
    "start_time": "2024-09-24T13:36:54.080Z"
   },
   {
    "duration": 36,
    "start_time": "2024-09-24T13:36:54.143Z"
   },
   {
    "duration": 45,
    "start_time": "2024-09-24T13:36:54.180Z"
   },
   {
    "duration": 23,
    "start_time": "2024-09-24T13:36:54.227Z"
   },
   {
    "duration": 14,
    "start_time": "2024-09-24T13:36:54.252Z"
   },
   {
    "duration": 31,
    "start_time": "2024-09-24T13:36:54.268Z"
   },
   {
    "duration": 13,
    "start_time": "2024-09-24T13:36:54.301Z"
   },
   {
    "duration": 23,
    "start_time": "2024-09-24T13:36:54.316Z"
   },
   {
    "duration": 11,
    "start_time": "2024-09-24T13:36:54.342Z"
   },
   {
    "duration": 10,
    "start_time": "2024-09-24T13:36:54.354Z"
   },
   {
    "duration": 35,
    "start_time": "2024-09-24T13:36:54.365Z"
   },
   {
    "duration": 202,
    "start_time": "2024-09-24T13:36:54.402Z"
   },
   {
    "duration": 199,
    "start_time": "2024-09-24T13:36:54.606Z"
   },
   {
    "duration": 179,
    "start_time": "2024-09-24T13:36:54.806Z"
   },
   {
    "duration": 156,
    "start_time": "2024-09-24T13:36:54.987Z"
   },
   {
    "duration": 659,
    "start_time": "2024-09-24T13:36:55.145Z"
   },
   {
    "duration": 305,
    "start_time": "2024-09-24T13:36:55.806Z"
   },
   {
    "duration": 466,
    "start_time": "2024-09-24T13:36:56.113Z"
   },
   {
    "duration": 502,
    "start_time": "2024-09-24T13:36:56.581Z"
   },
   {
    "duration": 1457,
    "start_time": "2024-09-24T13:36:57.085Z"
   },
   {
    "duration": 4,
    "start_time": "2024-09-24T13:36:58.544Z"
   },
   {
    "duration": 2103,
    "start_time": "2024-09-24T13:36:58.549Z"
   },
   {
    "duration": 23,
    "start_time": "2024-09-24T13:37:00.654Z"
   },
   {
    "duration": 38,
    "start_time": "2024-09-24T13:37:00.678Z"
   },
   {
    "duration": 42,
    "start_time": "2024-09-24T13:37:00.718Z"
   },
   {
    "duration": 28,
    "start_time": "2024-09-24T13:37:00.762Z"
   },
   {
    "duration": 175,
    "start_time": "2024-09-24T13:37:00.795Z"
   },
   {
    "duration": 108,
    "start_time": "2024-09-24T13:37:00.972Z"
   },
   {
    "duration": 32,
    "start_time": "2024-09-24T13:37:01.082Z"
   },
   {
    "duration": 6,
    "start_time": "2024-09-24T13:37:01.115Z"
   },
   {
    "duration": 6,
    "start_time": "2024-09-24T13:37:01.123Z"
   },
   {
    "duration": 6,
    "start_time": "2024-09-24T13:37:01.131Z"
   },
   {
    "duration": 725,
    "start_time": "2024-09-24T13:37:01.138Z"
   },
   {
    "duration": 17,
    "start_time": "2024-09-24T13:37:01.864Z"
   },
   {
    "duration": 41,
    "start_time": "2024-09-24T13:37:01.883Z"
   },
   {
    "duration": 7,
    "start_time": "2024-09-24T13:37:01.926Z"
   },
   {
    "duration": 341,
    "start_time": "2024-09-24T13:37:01.935Z"
   },
   {
    "duration": 210,
    "start_time": "2024-09-24T13:37:02.278Z"
   },
   {
    "duration": 234,
    "start_time": "2024-09-24T13:37:02.491Z"
   },
   {
    "duration": 209,
    "start_time": "2024-09-24T13:37:02.728Z"
   },
   {
    "duration": 1324,
    "start_time": "2024-09-24T13:37:02.939Z"
   },
   {
    "duration": 13,
    "start_time": "2024-09-24T13:37:04.264Z"
   },
   {
    "duration": 22,
    "start_time": "2024-09-24T13:37:04.279Z"
   },
   {
    "duration": 2449,
    "start_time": "2024-09-24T13:37:04.303Z"
   },
   {
    "duration": 13,
    "start_time": "2024-09-24T13:37:06.754Z"
   },
   {
    "duration": 10,
    "start_time": "2024-09-24T13:37:06.769Z"
   },
   {
    "duration": 60,
    "start_time": "2024-09-24T13:37:06.799Z"
   },
   {
    "duration": 7,
    "start_time": "2024-09-24T13:38:23.899Z"
   },
   {
    "duration": 4,
    "start_time": "2024-09-24T13:38:57.682Z"
   },
   {
    "duration": 6989,
    "start_time": "2024-09-24T13:42:21.999Z"
   },
   {
    "duration": 61,
    "start_time": "2024-09-24T13:42:28.990Z"
   },
   {
    "duration": 35,
    "start_time": "2024-09-24T13:42:29.052Z"
   },
   {
    "duration": 43,
    "start_time": "2024-09-24T13:42:29.089Z"
   },
   {
    "duration": 28,
    "start_time": "2024-09-24T13:42:29.134Z"
   },
   {
    "duration": 14,
    "start_time": "2024-09-24T13:42:29.164Z"
   },
   {
    "duration": 43,
    "start_time": "2024-09-24T13:42:29.180Z"
   },
   {
    "duration": 32,
    "start_time": "2024-09-24T13:42:29.225Z"
   },
   {
    "duration": 28,
    "start_time": "2024-09-24T13:42:29.259Z"
   },
   {
    "duration": 9,
    "start_time": "2024-09-24T13:42:29.289Z"
   },
   {
    "duration": 11,
    "start_time": "2024-09-24T13:42:29.300Z"
   },
   {
    "duration": 132,
    "start_time": "2024-09-24T13:42:29.313Z"
   },
   {
    "duration": 0,
    "start_time": "2024-09-24T13:42:29.447Z"
   },
   {
    "duration": 0,
    "start_time": "2024-09-24T13:42:29.449Z"
   },
   {
    "duration": 0,
    "start_time": "2024-09-24T13:42:29.450Z"
   },
   {
    "duration": 0,
    "start_time": "2024-09-24T13:42:29.451Z"
   },
   {
    "duration": 0,
    "start_time": "2024-09-24T13:42:29.452Z"
   },
   {
    "duration": 0,
    "start_time": "2024-09-24T13:42:29.453Z"
   },
   {
    "duration": 0,
    "start_time": "2024-09-24T13:42:29.454Z"
   },
   {
    "duration": 0,
    "start_time": "2024-09-24T13:42:29.455Z"
   },
   {
    "duration": 0,
    "start_time": "2024-09-24T13:42:29.457Z"
   },
   {
    "duration": 0,
    "start_time": "2024-09-24T13:42:29.458Z"
   },
   {
    "duration": 0,
    "start_time": "2024-09-24T13:42:29.459Z"
   },
   {
    "duration": 0,
    "start_time": "2024-09-24T13:42:29.460Z"
   },
   {
    "duration": 0,
    "start_time": "2024-09-24T13:42:29.461Z"
   },
   {
    "duration": 0,
    "start_time": "2024-09-24T13:42:29.462Z"
   },
   {
    "duration": 0,
    "start_time": "2024-09-24T13:42:29.463Z"
   },
   {
    "duration": 0,
    "start_time": "2024-09-24T13:42:29.464Z"
   },
   {
    "duration": 0,
    "start_time": "2024-09-24T13:42:29.498Z"
   },
   {
    "duration": 0,
    "start_time": "2024-09-24T13:42:29.499Z"
   },
   {
    "duration": 0,
    "start_time": "2024-09-24T13:42:29.500Z"
   },
   {
    "duration": 0,
    "start_time": "2024-09-24T13:42:29.501Z"
   },
   {
    "duration": 0,
    "start_time": "2024-09-24T13:42:29.503Z"
   },
   {
    "duration": 0,
    "start_time": "2024-09-24T13:42:29.504Z"
   },
   {
    "duration": 0,
    "start_time": "2024-09-24T13:42:29.505Z"
   },
   {
    "duration": 0,
    "start_time": "2024-09-24T13:42:29.507Z"
   },
   {
    "duration": 0,
    "start_time": "2024-09-24T13:42:29.508Z"
   },
   {
    "duration": 0,
    "start_time": "2024-09-24T13:42:29.509Z"
   },
   {
    "duration": 0,
    "start_time": "2024-09-24T13:42:29.510Z"
   },
   {
    "duration": 0,
    "start_time": "2024-09-24T13:42:29.511Z"
   },
   {
    "duration": 0,
    "start_time": "2024-09-24T13:42:29.512Z"
   },
   {
    "duration": 0,
    "start_time": "2024-09-24T13:42:29.514Z"
   },
   {
    "duration": 0,
    "start_time": "2024-09-24T13:42:29.515Z"
   },
   {
    "duration": 0,
    "start_time": "2024-09-24T13:42:29.516Z"
   },
   {
    "duration": 0,
    "start_time": "2024-09-24T13:42:29.517Z"
   },
   {
    "duration": 0,
    "start_time": "2024-09-24T13:42:29.518Z"
   },
   {
    "duration": 0,
    "start_time": "2024-09-24T13:42:29.519Z"
   },
   {
    "duration": 0,
    "start_time": "2024-09-24T13:42:29.521Z"
   },
   {
    "duration": 16,
    "start_time": "2024-09-24T13:43:16.403Z"
   },
   {
    "duration": 8,
    "start_time": "2024-09-24T13:44:41.349Z"
   },
   {
    "duration": 211,
    "start_time": "2024-09-24T13:46:49.803Z"
   },
   {
    "duration": 6,
    "start_time": "2024-09-24T13:49:20.288Z"
   },
   {
    "duration": 8,
    "start_time": "2024-09-24T13:50:42.152Z"
   },
   {
    "duration": 180,
    "start_time": "2024-09-24T13:50:45.152Z"
   },
   {
    "duration": 12,
    "start_time": "2024-09-24T13:51:00.602Z"
   },
   {
    "duration": 5,
    "start_time": "2024-09-24T13:51:04.557Z"
   },
   {
    "duration": 2108,
    "start_time": "2024-09-24T13:51:08.259Z"
   },
   {
    "duration": 8810,
    "start_time": "2024-09-24T13:51:43.074Z"
   },
   {
    "duration": 61,
    "start_time": "2024-09-24T13:51:51.886Z"
   },
   {
    "duration": 36,
    "start_time": "2024-09-24T13:51:51.949Z"
   },
   {
    "duration": 43,
    "start_time": "2024-09-24T13:51:51.987Z"
   },
   {
    "duration": 22,
    "start_time": "2024-09-24T13:51:52.031Z"
   },
   {
    "duration": 14,
    "start_time": "2024-09-24T13:51:52.055Z"
   },
   {
    "duration": 12,
    "start_time": "2024-09-24T13:51:52.070Z"
   },
   {
    "duration": 12,
    "start_time": "2024-09-24T13:51:52.097Z"
   },
   {
    "duration": 31,
    "start_time": "2024-09-24T13:51:52.110Z"
   },
   {
    "duration": 33,
    "start_time": "2024-09-24T13:51:52.143Z"
   },
   {
    "duration": 27,
    "start_time": "2024-09-24T13:51:52.178Z"
   },
   {
    "duration": 44,
    "start_time": "2024-09-24T13:51:52.207Z"
   },
   {
    "duration": 234,
    "start_time": "2024-09-24T13:51:52.252Z"
   },
   {
    "duration": 193,
    "start_time": "2024-09-24T13:51:52.488Z"
   },
   {
    "duration": 172,
    "start_time": "2024-09-24T13:51:52.683Z"
   },
   {
    "duration": 165,
    "start_time": "2024-09-24T13:51:52.856Z"
   },
   {
    "duration": 697,
    "start_time": "2024-09-24T13:51:53.023Z"
   },
   {
    "duration": 334,
    "start_time": "2024-09-24T13:51:53.721Z"
   },
   {
    "duration": 485,
    "start_time": "2024-09-24T13:51:54.057Z"
   },
   {
    "duration": 499,
    "start_time": "2024-09-24T13:51:54.544Z"
   },
   {
    "duration": 1385,
    "start_time": "2024-09-24T13:51:55.045Z"
   },
   {
    "duration": 4,
    "start_time": "2024-09-24T13:51:56.432Z"
   },
   {
    "duration": 2147,
    "start_time": "2024-09-24T13:51:56.438Z"
   },
   {
    "duration": 32,
    "start_time": "2024-09-24T13:51:58.587Z"
   },
   {
    "duration": 21,
    "start_time": "2024-09-24T13:51:58.621Z"
   },
   {
    "duration": 15,
    "start_time": "2024-09-24T13:51:58.643Z"
   },
   {
    "duration": 20,
    "start_time": "2024-09-24T13:51:58.659Z"
   },
   {
    "duration": 53,
    "start_time": "2024-09-24T13:51:58.697Z"
   },
   {
    "duration": 43,
    "start_time": "2024-09-24T13:51:58.751Z"
   },
   {
    "duration": 27,
    "start_time": "2024-09-24T13:51:58.796Z"
   },
   {
    "duration": 6,
    "start_time": "2024-09-24T13:51:58.824Z"
   },
   {
    "duration": 12,
    "start_time": "2024-09-24T13:51:58.832Z"
   },
   {
    "duration": 7,
    "start_time": "2024-09-24T13:51:58.845Z"
   },
   {
    "duration": 746,
    "start_time": "2024-09-24T13:51:58.854Z"
   },
   {
    "duration": 17,
    "start_time": "2024-09-24T13:51:59.602Z"
   },
   {
    "duration": 28,
    "start_time": "2024-09-24T13:51:59.621Z"
   },
   {
    "duration": 7,
    "start_time": "2024-09-24T13:51:59.650Z"
   },
   {
    "duration": 376,
    "start_time": "2024-09-24T13:51:59.659Z"
   },
   {
    "duration": 202,
    "start_time": "2024-09-24T13:52:00.037Z"
   },
   {
    "duration": 229,
    "start_time": "2024-09-24T13:52:00.241Z"
   },
   {
    "duration": 198,
    "start_time": "2024-09-24T13:52:00.471Z"
   },
   {
    "duration": 1284,
    "start_time": "2024-09-24T13:52:00.671Z"
   },
   {
    "duration": 13,
    "start_time": "2024-09-24T13:52:01.957Z"
   },
   {
    "duration": 26,
    "start_time": "2024-09-24T13:52:01.972Z"
   },
   {
    "duration": 7008,
    "start_time": "2024-09-24T13:52:02.000Z"
   },
   {
    "duration": 13,
    "start_time": "2024-09-24T13:52:09.010Z"
   },
   {
    "duration": 42,
    "start_time": "2024-09-24T13:52:09.025Z"
   },
   {
    "duration": 75,
    "start_time": "2024-09-24T13:52:09.069Z"
   },
   {
    "duration": 137,
    "start_time": "2024-09-24T14:14:08.682Z"
   },
   {
    "duration": 17,
    "start_time": "2024-09-24T14:15:19.471Z"
   },
   {
    "duration": 10,
    "start_time": "2024-09-24T14:16:46.686Z"
   },
   {
    "duration": 13,
    "start_time": "2024-09-24T14:16:57.114Z"
   },
   {
    "duration": 4,
    "start_time": "2024-09-24T14:17:10.306Z"
   },
   {
    "duration": 17,
    "start_time": "2024-09-24T14:17:24.513Z"
   },
   {
    "duration": 4,
    "start_time": "2024-09-24T14:17:34.619Z"
   },
   {
    "duration": 8,
    "start_time": "2024-09-24T14:17:54.099Z"
   },
   {
    "duration": 13,
    "start_time": "2024-09-24T14:18:15.164Z"
   },
   {
    "duration": 16,
    "start_time": "2024-09-24T14:18:59.424Z"
   },
   {
    "duration": 11,
    "start_time": "2024-09-24T14:21:59.955Z"
   },
   {
    "duration": 15,
    "start_time": "2024-09-24T14:22:50.929Z"
   },
   {
    "duration": 15,
    "start_time": "2024-09-24T14:23:23.595Z"
   },
   {
    "duration": 17,
    "start_time": "2024-09-24T14:28:53.026Z"
   },
   {
    "duration": 11,
    "start_time": "2024-09-24T14:29:12.413Z"
   },
   {
    "duration": 15,
    "start_time": "2024-09-24T14:30:07.280Z"
   },
   {
    "duration": 9,
    "start_time": "2024-09-24T14:34:03.796Z"
   },
   {
    "duration": 11,
    "start_time": "2024-09-24T14:34:38.677Z"
   },
   {
    "duration": 8,
    "start_time": "2024-09-24T14:35:36.969Z"
   },
   {
    "duration": 8,
    "start_time": "2024-09-24T14:41:36.803Z"
   },
   {
    "duration": 8,
    "start_time": "2024-09-24T14:41:42.737Z"
   },
   {
    "duration": 69,
    "start_time": "2024-09-24T14:49:30.973Z"
   },
   {
    "duration": 63,
    "start_time": "2024-09-24T14:54:07.019Z"
   },
   {
    "duration": 6970,
    "start_time": "2024-09-24T14:58:32.795Z"
   },
   {
    "duration": 60,
    "start_time": "2024-09-24T14:58:39.767Z"
   },
   {
    "duration": 36,
    "start_time": "2024-09-24T14:58:39.829Z"
   },
   {
    "duration": 42,
    "start_time": "2024-09-24T14:58:39.867Z"
   },
   {
    "duration": 25,
    "start_time": "2024-09-24T14:58:39.910Z"
   },
   {
    "duration": 14,
    "start_time": "2024-09-24T14:58:39.936Z"
   },
   {
    "duration": 46,
    "start_time": "2024-09-24T14:58:39.952Z"
   },
   {
    "duration": 11,
    "start_time": "2024-09-24T14:58:40.000Z"
   },
   {
    "duration": 37,
    "start_time": "2024-09-24T14:58:40.013Z"
   },
   {
    "duration": 10,
    "start_time": "2024-09-24T14:58:40.053Z"
   },
   {
    "duration": 14,
    "start_time": "2024-09-24T14:58:40.064Z"
   },
   {
    "duration": 8,
    "start_time": "2024-09-24T14:58:40.079Z"
   },
   {
    "duration": 204,
    "start_time": "2024-09-24T14:58:40.098Z"
   },
   {
    "duration": 187,
    "start_time": "2024-09-24T14:58:40.303Z"
   },
   {
    "duration": 175,
    "start_time": "2024-09-24T14:58:40.492Z"
   },
   {
    "duration": 161,
    "start_time": "2024-09-24T14:58:40.668Z"
   },
   {
    "duration": 668,
    "start_time": "2024-09-24T14:58:40.830Z"
   },
   {
    "duration": 299,
    "start_time": "2024-09-24T14:58:41.499Z"
   },
   {
    "duration": 473,
    "start_time": "2024-09-24T14:58:41.799Z"
   },
   {
    "duration": 498,
    "start_time": "2024-09-24T14:58:42.274Z"
   },
   {
    "duration": 1445,
    "start_time": "2024-09-24T14:58:42.773Z"
   },
   {
    "duration": 3,
    "start_time": "2024-09-24T14:58:44.220Z"
   },
   {
    "duration": 132,
    "start_time": "2024-09-24T14:58:44.224Z"
   },
   {
    "duration": 0,
    "start_time": "2024-09-24T14:58:44.358Z"
   },
   {
    "duration": 0,
    "start_time": "2024-09-24T14:58:44.360Z"
   },
   {
    "duration": 0,
    "start_time": "2024-09-24T14:58:44.361Z"
   },
   {
    "duration": 0,
    "start_time": "2024-09-24T14:58:44.362Z"
   },
   {
    "duration": 0,
    "start_time": "2024-09-24T14:58:44.363Z"
   },
   {
    "duration": 0,
    "start_time": "2024-09-24T14:58:44.364Z"
   },
   {
    "duration": 0,
    "start_time": "2024-09-24T14:58:44.365Z"
   },
   {
    "duration": 0,
    "start_time": "2024-09-24T14:58:44.366Z"
   },
   {
    "duration": 0,
    "start_time": "2024-09-24T14:58:44.367Z"
   },
   {
    "duration": 0,
    "start_time": "2024-09-24T14:58:44.368Z"
   },
   {
    "duration": 0,
    "start_time": "2024-09-24T14:58:44.369Z"
   },
   {
    "duration": 0,
    "start_time": "2024-09-24T14:58:44.371Z"
   },
   {
    "duration": 0,
    "start_time": "2024-09-24T14:58:44.398Z"
   },
   {
    "duration": 0,
    "start_time": "2024-09-24T14:58:44.399Z"
   },
   {
    "duration": 0,
    "start_time": "2024-09-24T14:58:44.400Z"
   },
   {
    "duration": 0,
    "start_time": "2024-09-24T14:58:44.401Z"
   },
   {
    "duration": 0,
    "start_time": "2024-09-24T14:58:44.403Z"
   },
   {
    "duration": 0,
    "start_time": "2024-09-24T14:58:44.403Z"
   },
   {
    "duration": 1,
    "start_time": "2024-09-24T14:58:44.404Z"
   },
   {
    "duration": 0,
    "start_time": "2024-09-24T14:58:44.406Z"
   },
   {
    "duration": 0,
    "start_time": "2024-09-24T14:58:44.407Z"
   },
   {
    "duration": 0,
    "start_time": "2024-09-24T14:58:44.408Z"
   },
   {
    "duration": 0,
    "start_time": "2024-09-24T14:58:44.409Z"
   },
   {
    "duration": 0,
    "start_time": "2024-09-24T14:58:44.410Z"
   },
   {
    "duration": 0,
    "start_time": "2024-09-24T14:58:44.411Z"
   },
   {
    "duration": 8,
    "start_time": "2024-09-24T15:00:24.446Z"
   },
   {
    "duration": 6945,
    "start_time": "2024-09-24T15:00:34.903Z"
   },
   {
    "duration": 61,
    "start_time": "2024-09-24T15:00:41.850Z"
   },
   {
    "duration": 37,
    "start_time": "2024-09-24T15:00:41.912Z"
   },
   {
    "duration": 42,
    "start_time": "2024-09-24T15:00:41.951Z"
   },
   {
    "duration": 20,
    "start_time": "2024-09-24T15:00:41.995Z"
   },
   {
    "duration": 13,
    "start_time": "2024-09-24T15:00:42.017Z"
   },
   {
    "duration": 15,
    "start_time": "2024-09-24T15:00:42.031Z"
   },
   {
    "duration": 51,
    "start_time": "2024-09-24T15:00:42.047Z"
   },
   {
    "duration": 22,
    "start_time": "2024-09-24T15:00:42.099Z"
   },
   {
    "duration": 11,
    "start_time": "2024-09-24T15:00:42.122Z"
   },
   {
    "duration": 11,
    "start_time": "2024-09-24T15:00:42.135Z"
   },
   {
    "duration": 10,
    "start_time": "2024-09-24T15:00:42.147Z"
   },
   {
    "duration": 221,
    "start_time": "2024-09-24T15:00:42.159Z"
   },
   {
    "duration": 203,
    "start_time": "2024-09-24T15:00:42.383Z"
   },
   {
    "duration": 180,
    "start_time": "2024-09-24T15:00:42.588Z"
   },
   {
    "duration": 168,
    "start_time": "2024-09-24T15:00:42.771Z"
   },
   {
    "duration": 687,
    "start_time": "2024-09-24T15:00:42.941Z"
   },
   {
    "duration": 350,
    "start_time": "2024-09-24T15:00:43.629Z"
   },
   {
    "duration": 507,
    "start_time": "2024-09-24T15:00:43.981Z"
   },
   {
    "duration": 492,
    "start_time": "2024-09-24T15:00:44.497Z"
   },
   {
    "duration": 1464,
    "start_time": "2024-09-24T15:00:44.990Z"
   },
   {
    "duration": 4,
    "start_time": "2024-09-24T15:00:46.456Z"
   },
   {
    "duration": 59,
    "start_time": "2024-09-24T15:00:46.462Z"
   },
   {
    "duration": 2188,
    "start_time": "2024-09-24T15:00:46.523Z"
   },
   {
    "duration": 35,
    "start_time": "2024-09-24T15:00:48.713Z"
   },
   {
    "duration": 11,
    "start_time": "2024-09-24T15:00:48.751Z"
   },
   {
    "duration": 35,
    "start_time": "2024-09-24T15:00:48.764Z"
   },
   {
    "duration": 21,
    "start_time": "2024-09-24T15:00:48.801Z"
   },
   {
    "duration": 54,
    "start_time": "2024-09-24T15:00:48.824Z"
   },
   {
    "duration": 42,
    "start_time": "2024-09-24T15:00:48.879Z"
   },
   {
    "duration": 27,
    "start_time": "2024-09-24T15:00:48.923Z"
   },
   {
    "duration": 7,
    "start_time": "2024-09-24T15:00:48.952Z"
   },
   {
    "duration": 6,
    "start_time": "2024-09-24T15:00:48.961Z"
   },
   {
    "duration": 732,
    "start_time": "2024-09-24T15:00:48.968Z"
   },
   {
    "duration": 19,
    "start_time": "2024-09-24T15:00:49.702Z"
   },
   {
    "duration": 41,
    "start_time": "2024-09-24T15:00:49.722Z"
   },
   {
    "duration": 17,
    "start_time": "2024-09-24T15:00:49.765Z"
   },
   {
    "duration": 378,
    "start_time": "2024-09-24T15:00:49.784Z"
   },
   {
    "duration": 208,
    "start_time": "2024-09-24T15:00:50.164Z"
   },
   {
    "duration": 250,
    "start_time": "2024-09-24T15:00:50.374Z"
   },
   {
    "duration": 201,
    "start_time": "2024-09-24T15:00:50.628Z"
   },
   {
    "duration": 1299,
    "start_time": "2024-09-24T15:00:50.831Z"
   },
   {
    "duration": 13,
    "start_time": "2024-09-24T15:00:52.132Z"
   },
   {
    "duration": 19,
    "start_time": "2024-09-24T15:00:52.147Z"
   },
   {
    "duration": 2558,
    "start_time": "2024-09-24T15:00:52.167Z"
   },
   {
    "duration": 12,
    "start_time": "2024-09-24T15:00:54.727Z"
   },
   {
    "duration": 11,
    "start_time": "2024-09-24T15:00:54.741Z"
   },
   {
    "duration": 96,
    "start_time": "2024-09-24T15:00:54.754Z"
   },
   {
    "duration": 62,
    "start_time": "2024-09-24T15:02:13.553Z"
   },
   {
    "duration": 164,
    "start_time": "2024-09-24T15:03:01.885Z"
   },
   {
    "duration": 272,
    "start_time": "2024-09-24T15:03:11.520Z"
   },
   {
    "duration": 1039,
    "start_time": "2024-09-24T15:03:36.790Z"
   },
   {
    "duration": 147,
    "start_time": "2024-09-24T15:05:18.488Z"
   },
   {
    "duration": 189,
    "start_time": "2024-09-24T15:06:30.962Z"
   },
   {
    "duration": 189,
    "start_time": "2024-09-24T15:07:01.630Z"
   },
   {
    "duration": 1007,
    "start_time": "2024-09-24T15:07:05.138Z"
   },
   {
    "duration": 151,
    "start_time": "2024-09-24T15:08:52.847Z"
   },
   {
    "duration": 158,
    "start_time": "2024-09-24T15:09:09.735Z"
   },
   {
    "duration": 6876,
    "start_time": "2024-09-24T15:09:51.900Z"
   },
   {
    "duration": 59,
    "start_time": "2024-09-24T15:09:58.778Z"
   },
   {
    "duration": 35,
    "start_time": "2024-09-24T15:09:58.839Z"
   },
   {
    "duration": 43,
    "start_time": "2024-09-24T15:09:58.876Z"
   },
   {
    "duration": 22,
    "start_time": "2024-09-24T15:09:58.921Z"
   },
   {
    "duration": 13,
    "start_time": "2024-09-24T15:09:58.944Z"
   },
   {
    "duration": 33,
    "start_time": "2024-09-24T15:09:58.959Z"
   },
   {
    "duration": 24,
    "start_time": "2024-09-24T15:09:58.998Z"
   },
   {
    "duration": 36,
    "start_time": "2024-09-24T15:09:59.024Z"
   },
   {
    "duration": 10,
    "start_time": "2024-09-24T15:09:59.062Z"
   },
   {
    "duration": 33,
    "start_time": "2024-09-24T15:09:59.073Z"
   },
   {
    "duration": 20,
    "start_time": "2024-09-24T15:09:59.108Z"
   },
   {
    "duration": 235,
    "start_time": "2024-09-24T15:09:59.130Z"
   },
   {
    "duration": 194,
    "start_time": "2024-09-24T15:09:59.369Z"
   },
   {
    "duration": 177,
    "start_time": "2024-09-24T15:09:59.565Z"
   },
   {
    "duration": 153,
    "start_time": "2024-09-24T15:09:59.744Z"
   },
   {
    "duration": 699,
    "start_time": "2024-09-24T15:09:59.899Z"
   },
   {
    "duration": 280,
    "start_time": "2024-09-24T15:10:00.599Z"
   },
   {
    "duration": 478,
    "start_time": "2024-09-24T15:10:00.899Z"
   },
   {
    "duration": 499,
    "start_time": "2024-09-24T15:10:01.378Z"
   },
   {
    "duration": 1468,
    "start_time": "2024-09-24T15:10:01.878Z"
   },
   {
    "duration": 4,
    "start_time": "2024-09-24T15:10:03.348Z"
   },
   {
    "duration": 149,
    "start_time": "2024-09-24T15:10:03.353Z"
   },
   {
    "duration": 2124,
    "start_time": "2024-09-24T15:10:03.504Z"
   },
   {
    "duration": 21,
    "start_time": "2024-09-24T15:10:05.630Z"
   },
   {
    "duration": 20,
    "start_time": "2024-09-24T15:10:05.652Z"
   },
   {
    "duration": 26,
    "start_time": "2024-09-24T15:10:05.674Z"
   },
   {
    "duration": 21,
    "start_time": "2024-09-24T15:10:05.701Z"
   },
   {
    "duration": 77,
    "start_time": "2024-09-24T15:10:05.724Z"
   },
   {
    "duration": 41,
    "start_time": "2024-09-24T15:10:05.803Z"
   },
   {
    "duration": 27,
    "start_time": "2024-09-24T15:10:05.846Z"
   },
   {
    "duration": 6,
    "start_time": "2024-09-24T15:10:05.874Z"
   },
   {
    "duration": 20,
    "start_time": "2024-09-24T15:10:05.881Z"
   },
   {
    "duration": 314,
    "start_time": "2024-09-24T15:10:05.902Z"
   },
   {
    "duration": 186,
    "start_time": "2024-09-24T15:10:06.218Z"
   },
   {
    "duration": 165,
    "start_time": "2024-09-24T15:10:06.406Z"
   },
   {
    "duration": 27,
    "start_time": "2024-09-24T15:10:06.573Z"
   },
   {
    "duration": 45,
    "start_time": "2024-09-24T15:10:06.602Z"
   },
   {
    "duration": 7,
    "start_time": "2024-09-24T15:10:06.649Z"
   },
   {
    "duration": 330,
    "start_time": "2024-09-24T15:10:06.658Z"
   },
   {
    "duration": 196,
    "start_time": "2024-09-24T15:10:06.997Z"
   },
   {
    "duration": 238,
    "start_time": "2024-09-24T15:10:07.199Z"
   },
   {
    "duration": 205,
    "start_time": "2024-09-24T15:10:07.439Z"
   },
   {
    "duration": 1300,
    "start_time": "2024-09-24T15:10:07.646Z"
   },
   {
    "duration": 13,
    "start_time": "2024-09-24T15:10:08.948Z"
   },
   {
    "duration": 6,
    "start_time": "2024-09-24T15:10:08.963Z"
   },
   {
    "duration": 4281,
    "start_time": "2024-09-24T15:10:08.970Z"
   },
   {
    "duration": 12,
    "start_time": "2024-09-24T15:10:13.252Z"
   },
   {
    "duration": 15,
    "start_time": "2024-09-24T15:10:13.266Z"
   },
   {
    "duration": 71,
    "start_time": "2024-09-24T15:10:13.283Z"
   },
   {
    "duration": 122,
    "start_time": "2024-09-24T15:19:02.913Z"
   },
   {
    "duration": 174,
    "start_time": "2024-09-24T15:31:24.637Z"
   },
   {
    "duration": 174,
    "start_time": "2024-09-24T15:34:06.914Z"
   },
   {
    "duration": 10,
    "start_time": "2024-09-24T15:35:13.059Z"
   },
   {
    "duration": 174,
    "start_time": "2024-09-24T15:35:19.391Z"
   },
   {
    "duration": 20,
    "start_time": "2024-09-24T15:46:09.336Z"
   },
   {
    "duration": 17,
    "start_time": "2024-09-24T15:46:21.839Z"
   },
   {
    "duration": 17,
    "start_time": "2024-09-24T15:47:52.506Z"
   },
   {
    "duration": 21,
    "start_time": "2024-09-24T15:48:02.051Z"
   },
   {
    "duration": 18,
    "start_time": "2024-09-24T15:48:05.812Z"
   },
   {
    "duration": 6939,
    "start_time": "2024-09-24T15:48:17.097Z"
   },
   {
    "duration": 60,
    "start_time": "2024-09-24T15:48:24.038Z"
   },
   {
    "duration": 35,
    "start_time": "2024-09-24T15:48:24.099Z"
   },
   {
    "duration": 43,
    "start_time": "2024-09-24T15:48:24.135Z"
   },
   {
    "duration": 21,
    "start_time": "2024-09-24T15:48:24.180Z"
   },
   {
    "duration": 13,
    "start_time": "2024-09-24T15:48:24.203Z"
   },
   {
    "duration": 12,
    "start_time": "2024-09-24T15:48:24.217Z"
   },
   {
    "duration": 16,
    "start_time": "2024-09-24T15:48:24.230Z"
   },
   {
    "duration": 23,
    "start_time": "2024-09-24T15:48:24.248Z"
   },
   {
    "duration": 25,
    "start_time": "2024-09-24T15:48:24.273Z"
   },
   {
    "duration": 10,
    "start_time": "2024-09-24T15:48:24.300Z"
   },
   {
    "duration": 8,
    "start_time": "2024-09-24T15:48:24.311Z"
   },
   {
    "duration": 208,
    "start_time": "2024-09-24T15:48:24.320Z"
   },
   {
    "duration": 191,
    "start_time": "2024-09-24T15:48:24.531Z"
   },
   {
    "duration": 174,
    "start_time": "2024-09-24T15:48:24.723Z"
   },
   {
    "duration": 159,
    "start_time": "2024-09-24T15:48:24.899Z"
   },
   {
    "duration": 629,
    "start_time": "2024-09-24T15:48:25.060Z"
   },
   {
    "duration": 288,
    "start_time": "2024-09-24T15:48:25.691Z"
   },
   {
    "duration": 487,
    "start_time": "2024-09-24T15:48:25.980Z"
   },
   {
    "duration": 488,
    "start_time": "2024-09-24T15:48:26.469Z"
   },
   {
    "duration": 1420,
    "start_time": "2024-09-24T15:48:26.959Z"
   },
   {
    "duration": 7,
    "start_time": "2024-09-24T15:48:28.381Z"
   },
   {
    "duration": 18,
    "start_time": "2024-09-24T15:48:28.390Z"
   },
   {
    "duration": 555,
    "start_time": "2024-09-24T15:48:28.410Z"
   },
   {
    "duration": 0,
    "start_time": "2024-09-24T15:48:28.967Z"
   },
   {
    "duration": 0,
    "start_time": "2024-09-24T15:48:28.968Z"
   },
   {
    "duration": 0,
    "start_time": "2024-09-24T15:48:28.969Z"
   },
   {
    "duration": 0,
    "start_time": "2024-09-24T15:48:28.970Z"
   },
   {
    "duration": 0,
    "start_time": "2024-09-24T15:48:28.971Z"
   },
   {
    "duration": 0,
    "start_time": "2024-09-24T15:48:28.972Z"
   },
   {
    "duration": 0,
    "start_time": "2024-09-24T15:48:28.973Z"
   },
   {
    "duration": 0,
    "start_time": "2024-09-24T15:48:28.974Z"
   },
   {
    "duration": 0,
    "start_time": "2024-09-24T15:48:28.975Z"
   },
   {
    "duration": 0,
    "start_time": "2024-09-24T15:48:28.998Z"
   },
   {
    "duration": 0,
    "start_time": "2024-09-24T15:48:28.999Z"
   },
   {
    "duration": 0,
    "start_time": "2024-09-24T15:48:29.001Z"
   },
   {
    "duration": 0,
    "start_time": "2024-09-24T15:48:29.002Z"
   },
   {
    "duration": 0,
    "start_time": "2024-09-24T15:48:29.003Z"
   },
   {
    "duration": 0,
    "start_time": "2024-09-24T15:48:29.004Z"
   },
   {
    "duration": 0,
    "start_time": "2024-09-24T15:48:29.005Z"
   },
   {
    "duration": 0,
    "start_time": "2024-09-24T15:48:29.006Z"
   },
   {
    "duration": 0,
    "start_time": "2024-09-24T15:48:29.007Z"
   },
   {
    "duration": 0,
    "start_time": "2024-09-24T15:48:29.008Z"
   },
   {
    "duration": 0,
    "start_time": "2024-09-24T15:48:29.009Z"
   },
   {
    "duration": 0,
    "start_time": "2024-09-24T15:48:29.010Z"
   },
   {
    "duration": 0,
    "start_time": "2024-09-24T15:48:29.011Z"
   },
   {
    "duration": 0,
    "start_time": "2024-09-24T15:48:29.012Z"
   },
   {
    "duration": 1,
    "start_time": "2024-09-24T15:48:29.013Z"
   },
   {
    "duration": 0,
    "start_time": "2024-09-24T15:48:29.014Z"
   },
   {
    "duration": 0,
    "start_time": "2024-09-24T15:48:29.015Z"
   },
   {
    "duration": 2091,
    "start_time": "2024-09-24T15:50:11.939Z"
   },
   {
    "duration": 7042,
    "start_time": "2024-09-24T15:50:32.252Z"
   },
   {
    "duration": 62,
    "start_time": "2024-09-24T15:50:39.296Z"
   },
   {
    "duration": 35,
    "start_time": "2024-09-24T15:50:39.359Z"
   },
   {
    "duration": 43,
    "start_time": "2024-09-24T15:50:39.396Z"
   },
   {
    "duration": 23,
    "start_time": "2024-09-24T15:50:39.441Z"
   },
   {
    "duration": 12,
    "start_time": "2024-09-24T15:50:39.465Z"
   },
   {
    "duration": 21,
    "start_time": "2024-09-24T15:50:39.479Z"
   },
   {
    "duration": 11,
    "start_time": "2024-09-24T15:50:39.502Z"
   },
   {
    "duration": 20,
    "start_time": "2024-09-24T15:50:39.515Z"
   },
   {
    "duration": 10,
    "start_time": "2024-09-24T15:50:39.538Z"
   },
   {
    "duration": 10,
    "start_time": "2024-09-24T15:50:39.549Z"
   },
   {
    "duration": 37,
    "start_time": "2024-09-24T15:50:39.561Z"
   },
   {
    "duration": 264,
    "start_time": "2024-09-24T15:50:39.599Z"
   },
   {
    "duration": 192,
    "start_time": "2024-09-24T15:50:39.864Z"
   },
   {
    "duration": 184,
    "start_time": "2024-09-24T15:50:40.058Z"
   },
   {
    "duration": 158,
    "start_time": "2024-09-24T15:50:40.244Z"
   },
   {
    "duration": 697,
    "start_time": "2024-09-24T15:50:40.403Z"
   },
   {
    "duration": 302,
    "start_time": "2024-09-24T15:50:41.102Z"
   },
   {
    "duration": 498,
    "start_time": "2024-09-24T15:50:41.406Z"
   },
   {
    "duration": 498,
    "start_time": "2024-09-24T15:50:41.906Z"
   },
   {
    "duration": 1413,
    "start_time": "2024-09-24T15:50:42.406Z"
   },
   {
    "duration": 6,
    "start_time": "2024-09-24T15:50:43.821Z"
   },
   {
    "duration": 21,
    "start_time": "2024-09-24T15:50:43.828Z"
   },
   {
    "duration": 2008,
    "start_time": "2024-09-24T15:50:43.851Z"
   },
   {
    "duration": 21,
    "start_time": "2024-09-24T15:50:45.861Z"
   },
   {
    "duration": 22,
    "start_time": "2024-09-24T15:50:45.884Z"
   },
   {
    "duration": 14,
    "start_time": "2024-09-24T15:50:45.907Z"
   },
   {
    "duration": 20,
    "start_time": "2024-09-24T15:50:45.925Z"
   },
   {
    "duration": 53,
    "start_time": "2024-09-24T15:50:45.946Z"
   },
   {
    "duration": 43,
    "start_time": "2024-09-24T15:50:46.001Z"
   },
   {
    "duration": 27,
    "start_time": "2024-09-24T15:50:46.045Z"
   },
   {
    "duration": 6,
    "start_time": "2024-09-24T15:50:46.073Z"
   },
   {
    "duration": 20,
    "start_time": "2024-09-24T15:50:46.081Z"
   },
   {
    "duration": 288,
    "start_time": "2024-09-24T15:50:46.102Z"
   },
   {
    "duration": 162,
    "start_time": "2024-09-24T15:50:46.391Z"
   },
   {
    "duration": 163,
    "start_time": "2024-09-24T15:50:46.555Z"
   },
   {
    "duration": 17,
    "start_time": "2024-09-24T15:50:46.719Z"
   },
   {
    "duration": 24,
    "start_time": "2024-09-24T15:50:46.738Z"
   },
   {
    "duration": 7,
    "start_time": "2024-09-24T15:50:46.764Z"
   },
   {
    "duration": 348,
    "start_time": "2024-09-24T15:50:46.772Z"
   },
   {
    "duration": 191,
    "start_time": "2024-09-24T15:50:47.121Z"
   },
   {
    "duration": 234,
    "start_time": "2024-09-24T15:50:47.313Z"
   },
   {
    "duration": 195,
    "start_time": "2024-09-24T15:50:47.549Z"
   },
   {
    "duration": 1271,
    "start_time": "2024-09-24T15:50:47.746Z"
   },
   {
    "duration": 133,
    "start_time": "2024-09-24T15:50:49.019Z"
   },
   {
    "duration": 0,
    "start_time": "2024-09-24T15:50:49.155Z"
   },
   {
    "duration": 0,
    "start_time": "2024-09-24T15:50:49.156Z"
   },
   {
    "duration": 0,
    "start_time": "2024-09-24T15:50:49.157Z"
   },
   {
    "duration": 0,
    "start_time": "2024-09-24T15:50:49.158Z"
   },
   {
    "duration": 0,
    "start_time": "2024-09-24T15:50:49.159Z"
   },
   {
    "duration": 13,
    "start_time": "2024-09-24T15:53:18.598Z"
   },
   {
    "duration": 35,
    "start_time": "2024-09-24T16:03:34.309Z"
   },
   {
    "duration": 35,
    "start_time": "2024-09-24T16:03:48.027Z"
   },
   {
    "duration": 34,
    "start_time": "2024-09-24T16:04:54.989Z"
   },
   {
    "duration": 34,
    "start_time": "2024-09-24T16:05:52.700Z"
   },
   {
    "duration": 6,
    "start_time": "2024-09-24T16:06:35.302Z"
   },
   {
    "duration": 3205,
    "start_time": "2024-09-24T16:06:42.058Z"
   },
   {
    "duration": 6960,
    "start_time": "2024-09-24T16:07:10.193Z"
   },
   {
    "duration": 60,
    "start_time": "2024-09-24T16:07:17.155Z"
   },
   {
    "duration": 35,
    "start_time": "2024-09-24T16:07:17.217Z"
   },
   {
    "duration": 42,
    "start_time": "2024-09-24T16:07:17.254Z"
   },
   {
    "duration": 21,
    "start_time": "2024-09-24T16:07:17.298Z"
   },
   {
    "duration": 13,
    "start_time": "2024-09-24T16:07:17.321Z"
   },
   {
    "duration": 11,
    "start_time": "2024-09-24T16:07:17.336Z"
   },
   {
    "duration": 11,
    "start_time": "2024-09-24T16:07:17.349Z"
   },
   {
    "duration": 51,
    "start_time": "2024-09-24T16:07:17.362Z"
   },
   {
    "duration": 34,
    "start_time": "2024-09-24T16:07:17.415Z"
   },
   {
    "duration": 19,
    "start_time": "2024-09-24T16:07:17.451Z"
   },
   {
    "duration": 7,
    "start_time": "2024-09-24T16:07:17.471Z"
   },
   {
    "duration": 199,
    "start_time": "2024-09-24T16:07:17.480Z"
   },
   {
    "duration": 192,
    "start_time": "2024-09-24T16:07:17.681Z"
   },
   {
    "duration": 172,
    "start_time": "2024-09-24T16:07:17.874Z"
   },
   {
    "duration": 159,
    "start_time": "2024-09-24T16:07:18.048Z"
   },
   {
    "duration": 706,
    "start_time": "2024-09-24T16:07:18.209Z"
   },
   {
    "duration": 340,
    "start_time": "2024-09-24T16:07:18.917Z"
   },
   {
    "duration": 465,
    "start_time": "2024-09-24T16:07:19.259Z"
   },
   {
    "duration": 490,
    "start_time": "2024-09-24T16:07:19.726Z"
   },
   {
    "duration": 1412,
    "start_time": "2024-09-24T16:07:20.218Z"
   },
   {
    "duration": 4,
    "start_time": "2024-09-24T16:07:21.632Z"
   },
   {
    "duration": 28,
    "start_time": "2024-09-24T16:07:21.638Z"
   },
   {
    "duration": 2058,
    "start_time": "2024-09-24T16:07:21.667Z"
   },
   {
    "duration": 21,
    "start_time": "2024-09-24T16:07:23.727Z"
   },
   {
    "duration": 23,
    "start_time": "2024-09-24T16:07:23.750Z"
   },
   {
    "duration": 23,
    "start_time": "2024-09-24T16:07:23.774Z"
   },
   {
    "duration": 19,
    "start_time": "2024-09-24T16:07:23.801Z"
   },
   {
    "duration": 52,
    "start_time": "2024-09-24T16:07:23.822Z"
   },
   {
    "duration": 42,
    "start_time": "2024-09-24T16:07:23.876Z"
   },
   {
    "duration": 24,
    "start_time": "2024-09-24T16:07:23.919Z"
   },
   {
    "duration": 6,
    "start_time": "2024-09-24T16:07:23.944Z"
   },
   {
    "duration": 9,
    "start_time": "2024-09-24T16:07:23.952Z"
   },
   {
    "duration": 314,
    "start_time": "2024-09-24T16:07:23.962Z"
   },
   {
    "duration": 166,
    "start_time": "2024-09-24T16:07:24.278Z"
   },
   {
    "duration": 165,
    "start_time": "2024-09-24T16:07:24.446Z"
   },
   {
    "duration": 22,
    "start_time": "2024-09-24T16:07:24.614Z"
   },
   {
    "duration": 30,
    "start_time": "2024-09-24T16:07:24.638Z"
   },
   {
    "duration": 29,
    "start_time": "2024-09-24T16:07:24.669Z"
   },
   {
    "duration": 334,
    "start_time": "2024-09-24T16:07:24.700Z"
   },
   {
    "duration": 196,
    "start_time": "2024-09-24T16:07:25.036Z"
   },
   {
    "duration": 224,
    "start_time": "2024-09-24T16:07:25.234Z"
   },
   {
    "duration": 186,
    "start_time": "2024-09-24T16:07:25.460Z"
   },
   {
    "duration": 1256,
    "start_time": "2024-09-24T16:07:25.648Z"
   },
   {
    "duration": 32,
    "start_time": "2024-09-24T16:07:26.906Z"
   },
   {
    "duration": 6,
    "start_time": "2024-09-24T16:07:26.940Z"
   },
   {
    "duration": 3233,
    "start_time": "2024-09-24T16:07:26.948Z"
   },
   {
    "duration": 16,
    "start_time": "2024-09-24T16:07:30.183Z"
   },
   {
    "duration": 63,
    "start_time": "2024-09-24T16:07:30.201Z"
   },
   {
    "duration": 144,
    "start_time": "2024-09-24T16:07:30.266Z"
   },
   {
    "duration": 15,
    "start_time": "2024-09-24T16:08:23.481Z"
   },
   {
    "duration": 15,
    "start_time": "2024-09-24T16:09:52.358Z"
   },
   {
    "duration": 10,
    "start_time": "2024-09-24T16:14:10.813Z"
   },
   {
    "duration": 23,
    "start_time": "2024-09-24T16:14:23.294Z"
   },
   {
    "duration": 23,
    "start_time": "2024-09-24T16:14:35.556Z"
   },
   {
    "duration": 23,
    "start_time": "2024-09-24T16:15:11.183Z"
   },
   {
    "duration": 7207,
    "start_time": "2024-09-24T18:52:36.264Z"
   },
   {
    "duration": 62,
    "start_time": "2024-09-24T18:52:43.473Z"
   },
   {
    "duration": 35,
    "start_time": "2024-09-24T18:52:43.537Z"
   },
   {
    "duration": 43,
    "start_time": "2024-09-24T18:52:43.574Z"
   },
   {
    "duration": 25,
    "start_time": "2024-09-24T18:52:43.620Z"
   },
   {
    "duration": 14,
    "start_time": "2024-09-24T18:52:43.647Z"
   },
   {
    "duration": 43,
    "start_time": "2024-09-24T18:52:43.663Z"
   },
   {
    "duration": 29,
    "start_time": "2024-09-24T18:52:43.708Z"
   },
   {
    "duration": 38,
    "start_time": "2024-09-24T18:52:43.739Z"
   },
   {
    "duration": 11,
    "start_time": "2024-09-24T18:52:43.779Z"
   },
   {
    "duration": 11,
    "start_time": "2024-09-24T18:52:43.792Z"
   },
   {
    "duration": 9,
    "start_time": "2024-09-24T18:52:43.805Z"
   },
   {
    "duration": 209,
    "start_time": "2024-09-24T18:52:43.816Z"
   },
   {
    "duration": 205,
    "start_time": "2024-09-24T18:52:44.029Z"
   },
   {
    "duration": 179,
    "start_time": "2024-09-24T18:52:44.236Z"
   },
   {
    "duration": 164,
    "start_time": "2024-09-24T18:52:44.416Z"
   },
   {
    "duration": 704,
    "start_time": "2024-09-24T18:52:44.582Z"
   },
   {
    "duration": 290,
    "start_time": "2024-09-24T18:52:45.288Z"
   },
   {
    "duration": 496,
    "start_time": "2024-09-24T18:52:45.580Z"
   },
   {
    "duration": 519,
    "start_time": "2024-09-24T18:52:46.078Z"
   },
   {
    "duration": 1486,
    "start_time": "2024-09-24T18:52:46.600Z"
   },
   {
    "duration": 5,
    "start_time": "2024-09-24T18:52:48.088Z"
   },
   {
    "duration": 24,
    "start_time": "2024-09-24T18:52:48.095Z"
   },
   {
    "duration": 2044,
    "start_time": "2024-09-24T18:52:48.121Z"
   },
   {
    "duration": 32,
    "start_time": "2024-09-24T18:52:50.167Z"
   },
   {
    "duration": 24,
    "start_time": "2024-09-24T18:52:50.200Z"
   },
   {
    "duration": 13,
    "start_time": "2024-09-24T18:52:50.225Z"
   },
   {
    "duration": 18,
    "start_time": "2024-09-24T18:52:50.240Z"
   },
   {
    "duration": 51,
    "start_time": "2024-09-24T18:52:50.260Z"
   },
   {
    "duration": 41,
    "start_time": "2024-09-24T18:52:50.313Z"
   },
   {
    "duration": 27,
    "start_time": "2024-09-24T18:52:50.356Z"
   },
   {
    "duration": 15,
    "start_time": "2024-09-24T18:52:50.385Z"
   },
   {
    "duration": 33,
    "start_time": "2024-09-24T18:52:50.402Z"
   },
   {
    "duration": 403,
    "start_time": "2024-09-24T18:52:50.437Z"
   },
   {
    "duration": 368,
    "start_time": "2024-09-24T18:52:50.842Z"
   },
   {
    "duration": 296,
    "start_time": "2024-09-24T18:52:51.212Z"
   },
   {
    "duration": 17,
    "start_time": "2024-09-24T18:52:51.510Z"
   },
   {
    "duration": 85,
    "start_time": "2024-09-24T18:52:51.529Z"
   },
   {
    "duration": 8,
    "start_time": "2024-09-24T18:52:51.615Z"
   },
   {
    "duration": 703,
    "start_time": "2024-09-24T18:52:51.624Z"
   },
   {
    "duration": 209,
    "start_time": "2024-09-24T18:52:52.331Z"
   },
   {
    "duration": 236,
    "start_time": "2024-09-24T18:52:52.542Z"
   },
   {
    "duration": 198,
    "start_time": "2024-09-24T18:52:52.780Z"
   },
   {
    "duration": 1282,
    "start_time": "2024-09-24T18:52:52.979Z"
   },
   {
    "duration": 43,
    "start_time": "2024-09-24T18:52:54.262Z"
   },
   {
    "duration": 7,
    "start_time": "2024-09-24T18:52:54.307Z"
   },
   {
    "duration": 3209,
    "start_time": "2024-09-24T18:52:54.316Z"
   },
   {
    "duration": 160,
    "start_time": "2024-09-24T18:52:57.527Z"
   },
   {
    "duration": 0,
    "start_time": "2024-09-24T18:52:57.689Z"
   },
   {
    "duration": 0,
    "start_time": "2024-09-24T18:52:57.698Z"
   },
   {
    "duration": 24,
    "start_time": "2024-09-24T18:55:31.741Z"
   },
   {
    "duration": 25,
    "start_time": "2024-09-24T18:56:53.657Z"
   },
   {
    "duration": 23,
    "start_time": "2024-09-24T18:57:09.971Z"
   },
   {
    "duration": 7244,
    "start_time": "2024-09-24T18:57:26.586Z"
   },
   {
    "duration": 63,
    "start_time": "2024-09-24T18:57:33.832Z"
   },
   {
    "duration": 44,
    "start_time": "2024-09-24T18:57:33.897Z"
   },
   {
    "duration": 43,
    "start_time": "2024-09-24T18:57:33.943Z"
   },
   {
    "duration": 23,
    "start_time": "2024-09-24T18:57:33.988Z"
   },
   {
    "duration": 22,
    "start_time": "2024-09-24T18:57:34.012Z"
   },
   {
    "duration": 50,
    "start_time": "2024-09-24T18:57:34.036Z"
   },
   {
    "duration": 50,
    "start_time": "2024-09-24T18:57:34.088Z"
   },
   {
    "duration": 85,
    "start_time": "2024-09-24T18:57:34.140Z"
   },
   {
    "duration": 12,
    "start_time": "2024-09-24T18:57:34.227Z"
   },
   {
    "duration": 43,
    "start_time": "2024-09-24T18:57:34.241Z"
   },
   {
    "duration": 22,
    "start_time": "2024-09-24T18:57:34.286Z"
   },
   {
    "duration": 230,
    "start_time": "2024-09-24T18:57:34.309Z"
   },
   {
    "duration": 207,
    "start_time": "2024-09-24T18:57:34.543Z"
   },
   {
    "duration": 186,
    "start_time": "2024-09-24T18:57:34.751Z"
   },
   {
    "duration": 168,
    "start_time": "2024-09-24T18:57:34.939Z"
   },
   {
    "duration": 701,
    "start_time": "2024-09-24T18:57:35.109Z"
   },
   {
    "duration": 342,
    "start_time": "2024-09-24T18:57:35.812Z"
   },
   {
    "duration": 484,
    "start_time": "2024-09-24T18:57:36.156Z"
   },
   {
    "duration": 498,
    "start_time": "2024-09-24T18:57:36.642Z"
   },
   {
    "duration": 1500,
    "start_time": "2024-09-24T18:57:37.142Z"
   },
   {
    "duration": 4,
    "start_time": "2024-09-24T18:57:38.644Z"
   },
   {
    "duration": 19,
    "start_time": "2024-09-24T18:57:38.650Z"
   },
   {
    "duration": 2038,
    "start_time": "2024-09-24T18:57:38.670Z"
   },
   {
    "duration": 21,
    "start_time": "2024-09-24T18:57:40.710Z"
   },
   {
    "duration": 10,
    "start_time": "2024-09-24T18:57:40.733Z"
   },
   {
    "duration": 12,
    "start_time": "2024-09-24T18:57:40.744Z"
   },
   {
    "duration": 52,
    "start_time": "2024-09-24T18:57:40.758Z"
   },
   {
    "duration": 53,
    "start_time": "2024-09-24T18:57:40.812Z"
   },
   {
    "duration": 43,
    "start_time": "2024-09-24T18:57:40.867Z"
   },
   {
    "duration": 28,
    "start_time": "2024-09-24T18:57:40.912Z"
   },
   {
    "duration": 5,
    "start_time": "2024-09-24T18:57:40.941Z"
   },
   {
    "duration": 5,
    "start_time": "2024-09-24T18:57:40.948Z"
   },
   {
    "duration": 331,
    "start_time": "2024-09-24T18:57:40.954Z"
   },
   {
    "duration": 161,
    "start_time": "2024-09-24T18:57:41.287Z"
   },
   {
    "duration": 163,
    "start_time": "2024-09-24T18:57:41.449Z"
   },
   {
    "duration": 18,
    "start_time": "2024-09-24T18:57:41.613Z"
   },
   {
    "duration": 28,
    "start_time": "2024-09-24T18:57:41.633Z"
   },
   {
    "duration": 36,
    "start_time": "2024-09-24T18:57:41.663Z"
   },
   {
    "duration": 330,
    "start_time": "2024-09-24T18:57:41.700Z"
   },
   {
    "duration": 199,
    "start_time": "2024-09-24T18:57:42.034Z"
   },
   {
    "duration": 230,
    "start_time": "2024-09-24T18:57:42.235Z"
   },
   {
    "duration": 197,
    "start_time": "2024-09-24T18:57:42.467Z"
   },
   {
    "duration": 1265,
    "start_time": "2024-09-24T18:57:42.666Z"
   },
   {
    "duration": 141,
    "start_time": "2024-09-24T18:57:43.933Z"
   },
   {
    "duration": 0,
    "start_time": "2024-09-24T18:57:44.076Z"
   },
   {
    "duration": 0,
    "start_time": "2024-09-24T18:57:44.077Z"
   },
   {
    "duration": 0,
    "start_time": "2024-09-24T18:57:44.079Z"
   },
   {
    "duration": 0,
    "start_time": "2024-09-24T18:57:44.080Z"
   },
   {
    "duration": 0,
    "start_time": "2024-09-24T18:57:44.098Z"
   },
   {
    "duration": 34,
    "start_time": "2024-09-24T18:59:19.945Z"
   },
   {
    "duration": 15,
    "start_time": "2024-09-24T18:59:36.618Z"
   },
   {
    "duration": 13,
    "start_time": "2024-09-24T18:59:43.321Z"
   },
   {
    "duration": 17,
    "start_time": "2024-09-24T19:00:25.599Z"
   },
   {
    "duration": 4,
    "start_time": "2024-09-24T19:00:37.071Z"
   },
   {
    "duration": 22,
    "start_time": "2024-09-24T19:00:43.828Z"
   },
   {
    "duration": 15,
    "start_time": "2024-09-24T19:00:50.102Z"
   },
   {
    "duration": 7,
    "start_time": "2024-09-24T19:00:53.807Z"
   },
   {
    "duration": 3238,
    "start_time": "2024-09-24T19:00:57.185Z"
   },
   {
    "duration": 10,
    "start_time": "2024-09-24T19:01:11.437Z"
   },
   {
    "duration": 16,
    "start_time": "2024-09-24T19:01:25.840Z"
   },
   {
    "duration": 54,
    "start_time": "2024-09-24T19:01:57.688Z"
   },
   {
    "duration": 7184,
    "start_time": "2024-09-24T19:02:28.361Z"
   },
   {
    "duration": 60,
    "start_time": "2024-09-24T19:02:35.547Z"
   },
   {
    "duration": 36,
    "start_time": "2024-09-24T19:02:35.609Z"
   },
   {
    "duration": 42,
    "start_time": "2024-09-24T19:02:35.647Z"
   },
   {
    "duration": 23,
    "start_time": "2024-09-24T19:02:35.690Z"
   },
   {
    "duration": 13,
    "start_time": "2024-09-24T19:02:35.714Z"
   },
   {
    "duration": 23,
    "start_time": "2024-09-24T19:02:35.728Z"
   },
   {
    "duration": 35,
    "start_time": "2024-09-24T19:02:35.753Z"
   },
   {
    "duration": 37,
    "start_time": "2024-09-24T19:02:35.790Z"
   },
   {
    "duration": 11,
    "start_time": "2024-09-24T19:02:35.830Z"
   },
   {
    "duration": 32,
    "start_time": "2024-09-24T19:02:35.843Z"
   },
   {
    "duration": 46,
    "start_time": "2024-09-24T19:02:35.877Z"
   },
   {
    "duration": 196,
    "start_time": "2024-09-24T19:02:35.925Z"
   },
   {
    "duration": 189,
    "start_time": "2024-09-24T19:02:36.122Z"
   },
   {
    "duration": 187,
    "start_time": "2024-09-24T19:02:36.313Z"
   },
   {
    "duration": 158,
    "start_time": "2024-09-24T19:02:36.501Z"
   },
   {
    "duration": 644,
    "start_time": "2024-09-24T19:02:36.661Z"
   },
   {
    "duration": 307,
    "start_time": "2024-09-24T19:02:37.307Z"
   },
   {
    "duration": 492,
    "start_time": "2024-09-24T19:02:37.616Z"
   },
   {
    "duration": 516,
    "start_time": "2024-09-24T19:02:38.110Z"
   },
   {
    "duration": 1486,
    "start_time": "2024-09-24T19:02:38.628Z"
   },
   {
    "duration": 4,
    "start_time": "2024-09-24T19:02:40.116Z"
   },
   {
    "duration": 11,
    "start_time": "2024-09-24T19:02:40.121Z"
   },
   {
    "duration": 2034,
    "start_time": "2024-09-24T19:02:40.134Z"
   },
   {
    "duration": 31,
    "start_time": "2024-09-24T19:02:42.169Z"
   },
   {
    "duration": 10,
    "start_time": "2024-09-24T19:02:42.201Z"
   },
   {
    "duration": 13,
    "start_time": "2024-09-24T19:02:42.213Z"
   },
   {
    "duration": 19,
    "start_time": "2024-09-24T19:02:42.229Z"
   },
   {
    "duration": 57,
    "start_time": "2024-09-24T19:02:42.250Z"
   },
   {
    "duration": 42,
    "start_time": "2024-09-24T19:02:42.309Z"
   },
   {
    "duration": 24,
    "start_time": "2024-09-24T19:02:42.352Z"
   },
   {
    "duration": 6,
    "start_time": "2024-09-24T19:02:42.377Z"
   },
   {
    "duration": 14,
    "start_time": "2024-09-24T19:02:42.384Z"
   },
   {
    "duration": 312,
    "start_time": "2024-09-24T19:02:42.400Z"
   },
   {
    "duration": 170,
    "start_time": "2024-09-24T19:02:42.714Z"
   },
   {
    "duration": 156,
    "start_time": "2024-09-24T19:02:42.886Z"
   },
   {
    "duration": 17,
    "start_time": "2024-09-24T19:02:43.044Z"
   },
   {
    "duration": 43,
    "start_time": "2024-09-24T19:02:43.063Z"
   },
   {
    "duration": 8,
    "start_time": "2024-09-24T19:02:43.108Z"
   },
   {
    "duration": 329,
    "start_time": "2024-09-24T19:02:43.117Z"
   },
   {
    "duration": 193,
    "start_time": "2024-09-24T19:02:43.448Z"
   },
   {
    "duration": 241,
    "start_time": "2024-09-24T19:02:43.643Z"
   },
   {
    "duration": 193,
    "start_time": "2024-09-24T19:02:43.886Z"
   },
   {
    "duration": 1326,
    "start_time": "2024-09-24T19:02:44.081Z"
   },
   {
    "duration": 34,
    "start_time": "2024-09-24T19:02:45.409Z"
   },
   {
    "duration": 16,
    "start_time": "2024-09-24T19:02:45.444Z"
   },
   {
    "duration": 11,
    "start_time": "2024-09-24T19:02:45.461Z"
   },
   {
    "duration": 3362,
    "start_time": "2024-09-24T19:02:45.473Z"
   },
   {
    "duration": 10,
    "start_time": "2024-09-24T19:02:48.837Z"
   },
   {
    "duration": 60,
    "start_time": "2024-09-24T19:02:48.848Z"
   },
   {
    "duration": 10,
    "start_time": "2024-09-24T19:04:24.499Z"
   },
   {
    "duration": 8,
    "start_time": "2024-09-24T19:06:08.981Z"
   },
   {
    "duration": 9,
    "start_time": "2024-09-24T19:06:16.402Z"
   },
   {
    "duration": 137,
    "start_time": "2024-09-24T19:07:44.894Z"
   },
   {
    "duration": 13,
    "start_time": "2024-09-24T19:08:28.737Z"
   },
   {
    "duration": 7317,
    "start_time": "2024-09-24T19:08:44.819Z"
   },
   {
    "duration": 60,
    "start_time": "2024-09-24T19:08:52.138Z"
   },
   {
    "duration": 38,
    "start_time": "2024-09-24T19:08:52.200Z"
   },
   {
    "duration": 68,
    "start_time": "2024-09-24T19:08:52.241Z"
   },
   {
    "duration": 33,
    "start_time": "2024-09-24T19:08:52.313Z"
   },
   {
    "duration": 55,
    "start_time": "2024-09-24T19:08:52.349Z"
   },
   {
    "duration": 47,
    "start_time": "2024-09-24T19:08:52.405Z"
   },
   {
    "duration": 37,
    "start_time": "2024-09-24T19:08:52.454Z"
   },
   {
    "duration": 63,
    "start_time": "2024-09-24T19:08:52.493Z"
   },
   {
    "duration": 95,
    "start_time": "2024-09-24T19:08:52.557Z"
   },
   {
    "duration": 32,
    "start_time": "2024-09-24T19:08:52.654Z"
   },
   {
    "duration": 26,
    "start_time": "2024-09-24T19:08:52.688Z"
   },
   {
    "duration": 236,
    "start_time": "2024-09-24T19:08:52.716Z"
   },
   {
    "duration": 204,
    "start_time": "2024-09-24T19:08:52.956Z"
   },
   {
    "duration": 193,
    "start_time": "2024-09-24T19:08:53.162Z"
   },
   {
    "duration": 178,
    "start_time": "2024-09-24T19:08:53.357Z"
   },
   {
    "duration": 698,
    "start_time": "2024-09-24T19:08:53.537Z"
   },
   {
    "duration": 334,
    "start_time": "2024-09-24T19:08:54.237Z"
   },
   {
    "duration": 501,
    "start_time": "2024-09-24T19:08:54.573Z"
   },
   {
    "duration": 510,
    "start_time": "2024-09-24T19:08:55.076Z"
   },
   {
    "duration": 1454,
    "start_time": "2024-09-24T19:08:55.588Z"
   },
   {
    "duration": 4,
    "start_time": "2024-09-24T19:08:57.044Z"
   },
   {
    "duration": 67,
    "start_time": "2024-09-24T19:08:57.050Z"
   },
   {
    "duration": 2214,
    "start_time": "2024-09-24T19:08:57.119Z"
   },
   {
    "duration": 24,
    "start_time": "2024-09-24T19:08:59.334Z"
   },
   {
    "duration": 18,
    "start_time": "2024-09-24T19:08:59.359Z"
   },
   {
    "duration": 31,
    "start_time": "2024-09-24T19:08:59.379Z"
   },
   {
    "duration": 36,
    "start_time": "2024-09-24T19:08:59.411Z"
   },
   {
    "duration": 82,
    "start_time": "2024-09-24T19:08:59.449Z"
   },
   {
    "duration": 45,
    "start_time": "2024-09-24T19:08:59.533Z"
   },
   {
    "duration": 28,
    "start_time": "2024-09-24T19:08:59.580Z"
   },
   {
    "duration": 5,
    "start_time": "2024-09-24T19:08:59.610Z"
   },
   {
    "duration": 10,
    "start_time": "2024-09-24T19:08:59.617Z"
   },
   {
    "duration": 316,
    "start_time": "2024-09-24T19:08:59.628Z"
   },
   {
    "duration": 178,
    "start_time": "2024-09-24T19:08:59.946Z"
   },
   {
    "duration": 168,
    "start_time": "2024-09-24T19:09:00.126Z"
   },
   {
    "duration": 25,
    "start_time": "2024-09-24T19:09:00.298Z"
   },
   {
    "duration": 70,
    "start_time": "2024-09-24T19:09:00.325Z"
   },
   {
    "duration": 12,
    "start_time": "2024-09-24T19:09:00.397Z"
   },
   {
    "duration": 381,
    "start_time": "2024-09-24T19:09:00.411Z"
   },
   {
    "duration": 217,
    "start_time": "2024-09-24T19:09:00.800Z"
   },
   {
    "duration": 241,
    "start_time": "2024-09-24T19:09:01.019Z"
   },
   {
    "duration": 204,
    "start_time": "2024-09-24T19:09:01.262Z"
   },
   {
    "duration": 1448,
    "start_time": "2024-09-24T19:09:01.468Z"
   },
   {
    "duration": 89,
    "start_time": "2024-09-24T19:09:02.918Z"
   },
   {
    "duration": 231,
    "start_time": "2024-09-24T19:09:03.008Z"
   },
   {
    "duration": 0,
    "start_time": "2024-09-24T19:09:03.241Z"
   },
   {
    "duration": 0,
    "start_time": "2024-09-24T19:09:03.242Z"
   },
   {
    "duration": 0,
    "start_time": "2024-09-24T19:09:03.298Z"
   },
   {
    "duration": 0,
    "start_time": "2024-09-24T19:09:03.300Z"
   },
   {
    "duration": 0,
    "start_time": "2024-09-24T19:09:03.301Z"
   },
   {
    "duration": 48,
    "start_time": "2024-09-25T10:42:25.337Z"
   },
   {
    "duration": 11717,
    "start_time": "2024-09-25T10:42:39.119Z"
   },
   {
    "duration": 157,
    "start_time": "2024-09-25T10:42:50.838Z"
   },
   {
    "duration": 93,
    "start_time": "2024-09-25T10:42:50.999Z"
   },
   {
    "duration": 87,
    "start_time": "2024-09-25T10:42:51.094Z"
   },
   {
    "duration": 21,
    "start_time": "2024-09-25T10:42:51.183Z"
   },
   {
    "duration": 57,
    "start_time": "2024-09-25T10:42:51.206Z"
   },
   {
    "duration": 11,
    "start_time": "2024-09-25T10:42:51.265Z"
   },
   {
    "duration": 70,
    "start_time": "2024-09-25T10:42:51.278Z"
   },
   {
    "duration": 20,
    "start_time": "2024-09-25T10:42:51.352Z"
   },
   {
    "duration": 9,
    "start_time": "2024-09-25T10:42:51.374Z"
   },
   {
    "duration": 10,
    "start_time": "2024-09-25T10:42:51.385Z"
   },
   {
    "duration": 8,
    "start_time": "2024-09-25T10:42:51.396Z"
   },
   {
    "duration": 219,
    "start_time": "2024-09-25T10:42:51.405Z"
   },
   {
    "duration": 189,
    "start_time": "2024-09-25T10:42:51.625Z"
   },
   {
    "duration": 177,
    "start_time": "2024-09-25T10:42:51.815Z"
   },
   {
    "duration": 158,
    "start_time": "2024-09-25T10:42:51.994Z"
   },
   {
    "duration": 731,
    "start_time": "2024-09-25T10:42:52.154Z"
   },
   {
    "duration": 323,
    "start_time": "2024-09-25T10:42:52.887Z"
   },
   {
    "duration": 468,
    "start_time": "2024-09-25T10:42:53.211Z"
   },
   {
    "duration": 539,
    "start_time": "2024-09-25T10:42:53.681Z"
   },
   {
    "duration": 1358,
    "start_time": "2024-09-25T10:42:54.222Z"
   },
   {
    "duration": 4,
    "start_time": "2024-09-25T10:42:55.582Z"
   },
   {
    "duration": 11,
    "start_time": "2024-09-25T10:42:55.587Z"
   },
   {
    "duration": 1912,
    "start_time": "2024-09-25T10:42:55.599Z"
   },
   {
    "duration": 21,
    "start_time": "2024-09-25T10:42:57.512Z"
   },
   {
    "duration": 23,
    "start_time": "2024-09-25T10:42:57.534Z"
   },
   {
    "duration": 12,
    "start_time": "2024-09-25T10:42:57.561Z"
   },
   {
    "duration": 18,
    "start_time": "2024-09-25T10:42:57.574Z"
   },
   {
    "duration": 148,
    "start_time": "2024-09-25T10:42:57.593Z"
   },
   {
    "duration": 97,
    "start_time": "2024-09-25T10:42:57.743Z"
   },
   {
    "duration": 31,
    "start_time": "2024-09-25T10:42:57.841Z"
   },
   {
    "duration": 5,
    "start_time": "2024-09-25T10:42:57.873Z"
   },
   {
    "duration": 5,
    "start_time": "2024-09-25T10:42:57.880Z"
   },
   {
    "duration": 301,
    "start_time": "2024-09-25T10:42:57.887Z"
   },
   {
    "duration": 164,
    "start_time": "2024-09-25T10:42:58.190Z"
   },
   {
    "duration": 156,
    "start_time": "2024-09-25T10:42:58.355Z"
   },
   {
    "duration": 17,
    "start_time": "2024-09-25T10:42:58.512Z"
   },
   {
    "duration": 36,
    "start_time": "2024-09-25T10:42:58.530Z"
   },
   {
    "duration": 7,
    "start_time": "2024-09-25T10:42:58.568Z"
   },
   {
    "duration": 326,
    "start_time": "2024-09-25T10:42:58.576Z"
   },
   {
    "duration": 187,
    "start_time": "2024-09-25T10:42:58.904Z"
   },
   {
    "duration": 221,
    "start_time": "2024-09-25T10:42:59.093Z"
   },
   {
    "duration": 188,
    "start_time": "2024-09-25T10:42:59.315Z"
   },
   {
    "duration": 1259,
    "start_time": "2024-09-25T10:42:59.505Z"
   },
   {
    "duration": 33,
    "start_time": "2024-09-25T10:43:00.766Z"
   },
   {
    "duration": 14,
    "start_time": "2024-09-25T10:43:00.800Z"
   },
   {
    "duration": 142,
    "start_time": "2024-09-25T10:43:00.815Z"
   },
   {
    "duration": 0,
    "start_time": "2024-09-25T10:43:00.959Z"
   },
   {
    "duration": 0,
    "start_time": "2024-09-25T10:43:00.960Z"
   },
   {
    "duration": 0,
    "start_time": "2024-09-25T10:43:00.961Z"
   },
   {
    "duration": 0,
    "start_time": "2024-09-25T10:43:00.963Z"
   },
   {
    "duration": 6963,
    "start_time": "2024-09-25T10:43:29.107Z"
   },
   {
    "duration": 57,
    "start_time": "2024-09-25T10:43:36.072Z"
   },
   {
    "duration": 33,
    "start_time": "2024-09-25T10:43:36.130Z"
   },
   {
    "duration": 65,
    "start_time": "2024-09-25T10:43:36.165Z"
   },
   {
    "duration": 23,
    "start_time": "2024-09-25T10:43:36.232Z"
   },
   {
    "duration": 12,
    "start_time": "2024-09-25T10:43:36.256Z"
   },
   {
    "duration": 79,
    "start_time": "2024-09-25T10:43:36.270Z"
   },
   {
    "duration": 22,
    "start_time": "2024-09-25T10:43:36.350Z"
   },
   {
    "duration": 23,
    "start_time": "2024-09-25T10:43:36.373Z"
   },
   {
    "duration": 10,
    "start_time": "2024-09-25T10:43:36.399Z"
   },
   {
    "duration": 16,
    "start_time": "2024-09-25T10:43:36.410Z"
   },
   {
    "duration": 16,
    "start_time": "2024-09-25T10:43:36.428Z"
   },
   {
    "duration": 203,
    "start_time": "2024-09-25T10:43:36.445Z"
   },
   {
    "duration": 194,
    "start_time": "2024-09-25T10:43:36.650Z"
   },
   {
    "duration": 169,
    "start_time": "2024-09-25T10:43:36.846Z"
   },
   {
    "duration": 158,
    "start_time": "2024-09-25T10:43:37.017Z"
   },
   {
    "duration": 669,
    "start_time": "2024-09-25T10:43:37.176Z"
   },
   {
    "duration": 287,
    "start_time": "2024-09-25T10:43:37.846Z"
   },
   {
    "duration": 475,
    "start_time": "2024-09-25T10:43:38.134Z"
   },
   {
    "duration": 479,
    "start_time": "2024-09-25T10:43:38.611Z"
   },
   {
    "duration": 1418,
    "start_time": "2024-09-25T10:43:39.091Z"
   },
   {
    "duration": 4,
    "start_time": "2024-09-25T10:43:40.511Z"
   },
   {
    "duration": 17,
    "start_time": "2024-09-25T10:43:40.517Z"
   },
   {
    "duration": 2010,
    "start_time": "2024-09-25T10:43:40.536Z"
   },
   {
    "duration": 23,
    "start_time": "2024-09-25T10:43:42.551Z"
   },
   {
    "duration": 11,
    "start_time": "2024-09-25T10:43:42.576Z"
   },
   {
    "duration": 13,
    "start_time": "2024-09-25T10:43:42.589Z"
   },
   {
    "duration": 51,
    "start_time": "2024-09-25T10:43:42.605Z"
   },
   {
    "duration": 51,
    "start_time": "2024-09-25T10:43:42.657Z"
   },
   {
    "duration": 39,
    "start_time": "2024-09-25T10:43:42.710Z"
   },
   {
    "duration": 35,
    "start_time": "2024-09-25T10:43:42.750Z"
   },
   {
    "duration": 5,
    "start_time": "2024-09-25T10:43:42.787Z"
   },
   {
    "duration": 7,
    "start_time": "2024-09-25T10:43:42.793Z"
   },
   {
    "duration": 317,
    "start_time": "2024-09-25T10:43:42.802Z"
   },
   {
    "duration": 166,
    "start_time": "2024-09-25T10:43:43.120Z"
   },
   {
    "duration": 157,
    "start_time": "2024-09-25T10:43:43.287Z"
   },
   {
    "duration": 22,
    "start_time": "2024-09-25T10:43:43.446Z"
   },
   {
    "duration": 27,
    "start_time": "2024-09-25T10:43:43.469Z"
   },
   {
    "duration": 7,
    "start_time": "2024-09-25T10:43:43.498Z"
   },
   {
    "duration": 341,
    "start_time": "2024-09-25T10:43:43.506Z"
   },
   {
    "duration": 237,
    "start_time": "2024-09-25T10:43:43.852Z"
   },
   {
    "duration": 225,
    "start_time": "2024-09-25T10:43:44.090Z"
   },
   {
    "duration": 190,
    "start_time": "2024-09-25T10:43:44.317Z"
   },
   {
    "duration": 1268,
    "start_time": "2024-09-25T10:43:44.508Z"
   },
   {
    "duration": 33,
    "start_time": "2024-09-25T10:43:45.777Z"
   },
   {
    "duration": 14,
    "start_time": "2024-09-25T10:43:45.812Z"
   },
   {
    "duration": 26,
    "start_time": "2024-09-25T10:43:45.827Z"
   },
   {
    "duration": 2961,
    "start_time": "2024-09-25T10:43:45.855Z"
   },
   {
    "duration": 9,
    "start_time": "2024-09-25T10:43:48.817Z"
   },
   {
    "duration": 64,
    "start_time": "2024-09-25T10:43:48.828Z"
   },
   {
    "duration": 12,
    "start_time": "2024-09-25T10:47:05.272Z"
   },
   {
    "duration": 7,
    "start_time": "2024-09-25T10:47:14.950Z"
   },
   {
    "duration": 8,
    "start_time": "2024-09-25T10:47:18.629Z"
   },
   {
    "duration": 8,
    "start_time": "2024-09-25T10:47:50.483Z"
   },
   {
    "duration": 7,
    "start_time": "2024-09-25T10:48:14.213Z"
   },
   {
    "duration": 8,
    "start_time": "2024-09-25T10:48:34.530Z"
   },
   {
    "duration": 14,
    "start_time": "2024-09-25T10:49:29.017Z"
   },
   {
    "duration": 15,
    "start_time": "2024-09-25T10:49:43.587Z"
   },
   {
    "duration": 9,
    "start_time": "2024-09-25T10:49:59.629Z"
   },
   {
    "duration": 123,
    "start_time": "2024-09-25T10:57:56.435Z"
   },
   {
    "duration": 6628,
    "start_time": "2024-09-25T10:58:23.748Z"
   },
   {
    "duration": 58,
    "start_time": "2024-09-25T10:58:30.378Z"
   },
   {
    "duration": 36,
    "start_time": "2024-09-25T10:58:30.437Z"
   },
   {
    "duration": 39,
    "start_time": "2024-09-25T10:58:30.474Z"
   },
   {
    "duration": 51,
    "start_time": "2024-09-25T10:58:30.515Z"
   },
   {
    "duration": 12,
    "start_time": "2024-09-25T10:58:30.568Z"
   },
   {
    "duration": 28,
    "start_time": "2024-09-25T10:58:30.582Z"
   },
   {
    "duration": 38,
    "start_time": "2024-09-25T10:58:30.611Z"
   },
   {
    "duration": 23,
    "start_time": "2024-09-25T10:58:30.651Z"
   },
   {
    "duration": 21,
    "start_time": "2024-09-25T10:58:30.676Z"
   },
   {
    "duration": 26,
    "start_time": "2024-09-25T10:58:30.698Z"
   },
   {
    "duration": 13,
    "start_time": "2024-09-25T10:58:30.726Z"
   },
   {
    "duration": 194,
    "start_time": "2024-09-25T10:58:30.740Z"
   },
   {
    "duration": 178,
    "start_time": "2024-09-25T10:58:30.937Z"
   },
   {
    "duration": 170,
    "start_time": "2024-09-25T10:58:31.117Z"
   },
   {
    "duration": 148,
    "start_time": "2024-09-25T10:58:31.288Z"
   },
   {
    "duration": 632,
    "start_time": "2024-09-25T10:58:31.437Z"
   },
   {
    "duration": 340,
    "start_time": "2024-09-25T10:58:32.071Z"
   },
   {
    "duration": 487,
    "start_time": "2024-09-25T10:58:32.412Z"
   },
   {
    "duration": 461,
    "start_time": "2024-09-25T10:58:32.901Z"
   },
   {
    "duration": 1397,
    "start_time": "2024-09-25T10:58:33.364Z"
   },
   {
    "duration": 4,
    "start_time": "2024-09-25T10:58:34.762Z"
   },
   {
    "duration": 10,
    "start_time": "2024-09-25T10:58:34.767Z"
   },
   {
    "duration": 1889,
    "start_time": "2024-09-25T10:58:34.778Z"
   },
   {
    "duration": 22,
    "start_time": "2024-09-25T10:58:36.668Z"
   },
   {
    "duration": 16,
    "start_time": "2024-09-25T10:58:36.692Z"
   },
   {
    "duration": 18,
    "start_time": "2024-09-25T10:58:36.709Z"
   },
   {
    "duration": 35,
    "start_time": "2024-09-25T10:58:36.728Z"
   },
   {
    "duration": 56,
    "start_time": "2024-09-25T10:58:36.764Z"
   },
   {
    "duration": 39,
    "start_time": "2024-09-25T10:58:36.822Z"
   },
   {
    "duration": 30,
    "start_time": "2024-09-25T10:58:36.863Z"
   },
   {
    "duration": 6,
    "start_time": "2024-09-25T10:58:36.895Z"
   },
   {
    "duration": 15,
    "start_time": "2024-09-25T10:58:36.903Z"
   },
   {
    "duration": 279,
    "start_time": "2024-09-25T10:58:36.953Z"
   },
   {
    "duration": 159,
    "start_time": "2024-09-25T10:58:37.234Z"
   },
   {
    "duration": 153,
    "start_time": "2024-09-25T10:58:37.394Z"
   },
   {
    "duration": 18,
    "start_time": "2024-09-25T10:58:37.548Z"
   },
   {
    "duration": 29,
    "start_time": "2024-09-25T10:58:37.568Z"
   },
   {
    "duration": 7,
    "start_time": "2024-09-25T10:58:37.598Z"
   },
   {
    "duration": 332,
    "start_time": "2024-09-25T10:58:37.606Z"
   },
   {
    "duration": 182,
    "start_time": "2024-09-25T10:58:37.942Z"
   },
   {
    "duration": 214,
    "start_time": "2024-09-25T10:58:38.125Z"
   },
   {
    "duration": 186,
    "start_time": "2024-09-25T10:58:38.340Z"
   },
   {
    "duration": 1203,
    "start_time": "2024-09-25T10:58:38.527Z"
   },
   {
    "duration": 44,
    "start_time": "2024-09-25T10:58:39.732Z"
   },
   {
    "duration": 21,
    "start_time": "2024-09-25T10:58:39.777Z"
   },
   {
    "duration": 6,
    "start_time": "2024-09-25T10:58:39.800Z"
   },
   {
    "duration": 1824,
    "start_time": "2024-09-25T10:58:39.807Z"
   },
   {
    "duration": 20,
    "start_time": "2024-09-25T10:58:41.633Z"
   },
   {
    "duration": 46,
    "start_time": "2024-09-25T10:58:41.655Z"
   },
   {
    "duration": 123,
    "start_time": "2024-09-25T11:09:41.313Z"
   },
   {
    "duration": 6999,
    "start_time": "2024-09-25T11:11:43.414Z"
   },
   {
    "duration": 62,
    "start_time": "2024-09-25T11:11:50.415Z"
   },
   {
    "duration": 32,
    "start_time": "2024-09-25T11:11:50.479Z"
   },
   {
    "duration": 39,
    "start_time": "2024-09-25T11:11:50.513Z"
   },
   {
    "duration": 28,
    "start_time": "2024-09-25T11:11:50.554Z"
   },
   {
    "duration": 13,
    "start_time": "2024-09-25T11:11:50.583Z"
   },
   {
    "duration": 11,
    "start_time": "2024-09-25T11:11:50.598Z"
   },
   {
    "duration": 55,
    "start_time": "2024-09-25T11:11:50.611Z"
   },
   {
    "duration": 19,
    "start_time": "2024-09-25T11:11:50.667Z"
   },
   {
    "duration": 9,
    "start_time": "2024-09-25T11:11:50.688Z"
   },
   {
    "duration": 28,
    "start_time": "2024-09-25T11:11:50.699Z"
   },
   {
    "duration": 9,
    "start_time": "2024-09-25T11:11:50.729Z"
   },
   {
    "duration": 207,
    "start_time": "2024-09-25T11:11:50.740Z"
   },
   {
    "duration": 195,
    "start_time": "2024-09-25T11:11:50.949Z"
   },
   {
    "duration": 170,
    "start_time": "2024-09-25T11:11:51.146Z"
   },
   {
    "duration": 153,
    "start_time": "2024-09-25T11:11:51.318Z"
   },
   {
    "duration": 709,
    "start_time": "2024-09-25T11:11:51.472Z"
   },
   {
    "duration": 337,
    "start_time": "2024-09-25T11:11:52.183Z"
   },
   {
    "duration": 509,
    "start_time": "2024-09-25T11:11:52.522Z"
   },
   {
    "duration": 500,
    "start_time": "2024-09-25T11:11:53.032Z"
   },
   {
    "duration": 1483,
    "start_time": "2024-09-25T11:11:53.534Z"
   },
   {
    "duration": 4,
    "start_time": "2024-09-25T11:11:55.018Z"
   },
   {
    "duration": 13,
    "start_time": "2024-09-25T11:11:55.023Z"
   },
   {
    "duration": 2075,
    "start_time": "2024-09-25T11:11:55.037Z"
   },
   {
    "duration": 20,
    "start_time": "2024-09-25T11:11:57.113Z"
   },
   {
    "duration": 20,
    "start_time": "2024-09-25T11:11:57.135Z"
   },
   {
    "duration": 15,
    "start_time": "2024-09-25T11:11:57.159Z"
   },
   {
    "duration": 18,
    "start_time": "2024-09-25T11:11:57.177Z"
   },
   {
    "duration": 47,
    "start_time": "2024-09-25T11:11:57.197Z"
   },
   {
    "duration": 38,
    "start_time": "2024-09-25T11:11:57.245Z"
   },
   {
    "duration": 23,
    "start_time": "2024-09-25T11:11:57.285Z"
   },
   {
    "duration": 21,
    "start_time": "2024-09-25T11:11:57.309Z"
   },
   {
    "duration": 8,
    "start_time": "2024-09-25T11:11:57.332Z"
   },
   {
    "duration": 296,
    "start_time": "2024-09-25T11:11:57.341Z"
   },
   {
    "duration": 163,
    "start_time": "2024-09-25T11:11:57.638Z"
   },
   {
    "duration": 159,
    "start_time": "2024-09-25T11:11:57.803Z"
   },
   {
    "duration": 18,
    "start_time": "2024-09-25T11:11:57.965Z"
   },
   {
    "duration": 26,
    "start_time": "2024-09-25T11:11:57.984Z"
   },
   {
    "duration": 7,
    "start_time": "2024-09-25T11:11:58.012Z"
   },
   {
    "duration": 376,
    "start_time": "2024-09-25T11:11:58.020Z"
   },
   {
    "duration": 192,
    "start_time": "2024-09-25T11:11:58.397Z"
   },
   {
    "duration": 221,
    "start_time": "2024-09-25T11:11:58.590Z"
   },
   {
    "duration": 193,
    "start_time": "2024-09-25T11:11:58.813Z"
   },
   {
    "duration": 1294,
    "start_time": "2024-09-25T11:11:59.008Z"
   },
   {
    "duration": 30,
    "start_time": "2024-09-25T11:12:00.304Z"
   },
   {
    "duration": 16,
    "start_time": "2024-09-25T11:12:00.336Z"
   },
   {
    "duration": 21,
    "start_time": "2024-09-25T11:12:00.355Z"
   },
   {
    "duration": 24,
    "start_time": "2024-09-25T11:12:00.377Z"
   },
   {
    "duration": 4899,
    "start_time": "2024-09-25T11:12:00.402Z"
   },
   {
    "duration": 9,
    "start_time": "2024-09-25T11:12:05.303Z"
   },
   {
    "duration": 87,
    "start_time": "2024-09-25T11:12:05.313Z"
   },
   {
    "duration": 878,
    "start_time": "2024-09-25T11:15:31.500Z"
   },
   {
    "duration": 58,
    "start_time": "2024-09-25T11:17:12.924Z"
   },
   {
    "duration": 9417,
    "start_time": "2024-09-25T16:09:05.314Z"
   },
   {
    "duration": 151,
    "start_time": "2024-09-25T16:09:14.734Z"
   },
   {
    "duration": 88,
    "start_time": "2024-09-25T16:09:14.887Z"
   },
   {
    "duration": 85,
    "start_time": "2024-09-25T16:09:14.976Z"
   },
   {
    "duration": 21,
    "start_time": "2024-09-25T16:09:15.063Z"
   },
   {
    "duration": 38,
    "start_time": "2024-09-25T16:09:15.086Z"
   },
   {
    "duration": 52,
    "start_time": "2024-09-25T16:09:15.126Z"
   },
   {
    "duration": 21,
    "start_time": "2024-09-25T16:09:15.179Z"
   },
   {
    "duration": 28,
    "start_time": "2024-09-25T16:09:15.202Z"
   },
   {
    "duration": 12,
    "start_time": "2024-09-25T16:09:15.232Z"
   },
   {
    "duration": 16,
    "start_time": "2024-09-25T16:09:15.246Z"
   },
   {
    "duration": 15,
    "start_time": "2024-09-25T16:09:15.263Z"
   },
   {
    "duration": 225,
    "start_time": "2024-09-25T16:09:15.280Z"
   },
   {
    "duration": 186,
    "start_time": "2024-09-25T16:09:15.508Z"
   },
   {
    "duration": 155,
    "start_time": "2024-09-25T16:09:15.696Z"
   },
   {
    "duration": 143,
    "start_time": "2024-09-25T16:09:15.852Z"
   },
   {
    "duration": 626,
    "start_time": "2024-09-25T16:09:15.996Z"
   },
   {
    "duration": 314,
    "start_time": "2024-09-25T16:09:16.624Z"
   },
   {
    "duration": 440,
    "start_time": "2024-09-25T16:09:16.940Z"
   },
   {
    "duration": 451,
    "start_time": "2024-09-25T16:09:17.382Z"
   },
   {
    "duration": 1335,
    "start_time": "2024-09-25T16:09:17.835Z"
   },
   {
    "duration": 4,
    "start_time": "2024-09-25T16:09:19.172Z"
   },
   {
    "duration": 14,
    "start_time": "2024-09-25T16:09:19.177Z"
   },
   {
    "duration": 1913,
    "start_time": "2024-09-25T16:09:19.192Z"
   },
   {
    "duration": 19,
    "start_time": "2024-09-25T16:09:21.107Z"
   },
   {
    "duration": 10,
    "start_time": "2024-09-25T16:09:21.128Z"
   },
   {
    "duration": 13,
    "start_time": "2024-09-25T16:09:21.140Z"
   },
   {
    "duration": 38,
    "start_time": "2024-09-25T16:09:21.154Z"
   },
   {
    "duration": 142,
    "start_time": "2024-09-25T16:09:21.194Z"
   },
   {
    "duration": 92,
    "start_time": "2024-09-25T16:09:21.337Z"
   },
   {
    "duration": 22,
    "start_time": "2024-09-25T16:09:21.430Z"
   },
   {
    "duration": 5,
    "start_time": "2024-09-25T16:09:21.453Z"
   },
   {
    "duration": 12,
    "start_time": "2024-09-25T16:09:21.460Z"
   },
   {
    "duration": 270,
    "start_time": "2024-09-25T16:09:21.473Z"
   },
   {
    "duration": 182,
    "start_time": "2024-09-25T16:09:21.744Z"
   },
   {
    "duration": 163,
    "start_time": "2024-09-25T16:09:21.927Z"
   },
   {
    "duration": 18,
    "start_time": "2024-09-25T16:09:22.091Z"
   },
   {
    "duration": 26,
    "start_time": "2024-09-25T16:09:22.111Z"
   },
   {
    "duration": 7,
    "start_time": "2024-09-25T16:09:22.139Z"
   },
   {
    "duration": 325,
    "start_time": "2024-09-25T16:09:22.147Z"
   },
   {
    "duration": 182,
    "start_time": "2024-09-25T16:09:22.476Z"
   },
   {
    "duration": 209,
    "start_time": "2024-09-25T16:09:22.660Z"
   },
   {
    "duration": 181,
    "start_time": "2024-09-25T16:09:22.870Z"
   },
   {
    "duration": 1203,
    "start_time": "2024-09-25T16:09:23.053Z"
   },
   {
    "duration": 40,
    "start_time": "2024-09-25T16:09:24.257Z"
   },
   {
    "duration": 8,
    "start_time": "2024-09-25T16:09:24.298Z"
   },
   {
    "duration": 61,
    "start_time": "2024-09-25T16:09:24.307Z"
   },
   {
    "duration": 6,
    "start_time": "2024-09-25T16:09:24.369Z"
   },
   {
    "duration": 1750,
    "start_time": "2024-09-25T16:09:24.376Z"
   },
   {
    "duration": 8,
    "start_time": "2024-09-25T16:09:26.128Z"
   },
   {
    "duration": 52,
    "start_time": "2024-09-25T16:09:26.138Z"
   }
  ],
  "kernelspec": {
   "display_name": "Python 3 (ipykernel)",
   "language": "python",
   "name": "python3"
  },
  "language_info": {
   "codemirror_mode": {
    "name": "ipython",
    "version": 3
   },
   "file_extension": ".py",
   "mimetype": "text/x-python",
   "name": "python",
   "nbconvert_exporter": "python",
   "pygments_lexer": "ipython3",
   "version": "3.9.5"
  },
  "toc": {
   "base_numbering": 1,
   "nav_menu": {},
   "number_sections": true,
   "sideBar": true,
   "skip_h1_title": true,
   "title_cell": "Table of Contents",
   "title_sidebar": "Contents",
   "toc_cell": false,
   "toc_position": {
    "height": "calc(100% - 180px)",
    "left": "10px",
    "top": "150px",
    "width": "409.6px"
   },
   "toc_section_display": true,
   "toc_window_display": true
  }
 },
 "nbformat": 4,
 "nbformat_minor": 5
}
