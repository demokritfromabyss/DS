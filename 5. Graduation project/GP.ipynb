{
 "cells": [
  {
   "cell_type": "markdown",
   "id": "7c3e7757",
   "metadata": {},
   "source": [
    "## Описание проекта:\n",
    "\n",
    "Оператор связи «ТелеДом» хочет бороться с оттоком клиентов. Для этого его сотрудники начнут предлагать промокоды и специальные условия всем, кто планирует отказаться от услуг связи. Чтобы заранее находить таких пользователей, «ТелеДому» нужна модель, которая будет предсказывать, разорвёт ли абонент договор. Команда оператора собрала персональные данные о некоторых клиентах, информацию об их тарифах и услугах. Ваша задача — обучить на этих данных модель для прогноза оттока клиентов."
   ]
  },
  {
   "cell_type": "markdown",
   "id": "6058cc62",
   "metadata": {},
   "source": [
    "## Описание данных\n",
    "\n",
    "### Датасеты\n",
    "- **contract_new.csv** — информация о договоре.\n",
    "- **personal_new.csv** — персональные данные клиента.\n",
    "- **internet_new.csv** — информация об интернет-услугах.\n",
    "- **phone_new.csv** — информация об услугах телефонии.\n",
    "\n",
    "---\n",
    "\n",
    "#### contract_new.csv\n",
    "- **customerID** — идентификатор абонента.\n",
    "- **BeginDate** — дата начала действия договора.\n",
    "- **EndDate** — дата окончания действия договора.\n",
    "- **Type** — тип оплаты: раз в год-два или ежемесячно.\n",
    "- **PaperlessBilling** — электронный расчётный лист.\n",
    "- **PaymentMethod** — тип платежа.\n",
    "- **MonthlyCharges** — расходы за месяц.\n",
    "- **TotalCharges** — общие расходы абонента.\n",
    "\n",
    "---\n",
    "\n",
    "#### personal_new.csv\n",
    "- **customerID** — идентификатор пользователя.\n",
    "- **gender** — пол.\n",
    "- **SeniorCitizen** — является ли абонент пенсионером.\n",
    "- **Partner** — есть ли у абонента супруг или супруга.\n",
    "- **Dependents** — есть ли у абонента дети.\n",
    "\n",
    "---\n",
    "\n",
    "#### internet_new.csv\n",
    "- **customerID** — идентификатор пользователя.\n",
    "- **InternetService** — тип подключения.\n",
    "- **OnlineSecurity** — блокировка опасных сайтов.\n",
    "- **OnlineBackup** — облачное хранилище файлов для резервного копирования данных.\n",
    "- **DeviceProtection** — антивирус.\n",
    "- **TechSupport** — выделенная линия технической поддержки.\n",
    "- **StreamingTV** — стриминговое телевидение.\n",
    "- **StreamingMovies** — каталог фильмов.\n",
    "\n",
    "---\n",
    "\n",
    "#### phone_new.csv\n",
    "- **customerID** — идентификатор пользователя.\n",
    "- **MultipleLines** — подключение телефона к нескольким линиям одновременно.\n"
   ]
  },
  {
   "cell_type": "markdown",
   "id": "b52f73df",
   "metadata": {},
   "source": [
    "## План работы\n",
    "\n",
    "1. **Загрузка данных**\n",
    "   - Загрузка всех файлов\n",
    "   - Первичный осмотр данных\n",
    "\n",
    "2. **Исследовательский анализ и предобработка данных**\n",
    "   - Анализ каждого набора данных\n",
    "   - Очистка и подготовка данных для объединения\n",
    "\n",
    "3. **Объединение данных**\n",
    "   - Слияние таблиц в единый датафрейм по ключу `customerID`\n",
    "\n",
    "4. **Анализ объединённого датафрейма**\n",
    "   - Анализ и визуализация распределений признаков\n",
    "   - Проверка корреляций между признаками\n",
    "   - Генерация новых признаков при необходимости\n",
    "\n",
    "5. **Подготовка данных**\n",
    "   - Разделение на обучающую и тестовую выборки\n",
    "   - Масштабирование числовых признаков\n",
    "   - Кодирование категориальных признаков\n",
    "\n",
    "6. **Обучение моделей**\n",
    "   - Тестирование нескольких моделей машинного обучения\n",
    "   - Подбор гиперпараметров для лучшей модели\n",
    "\n",
    "7. **Оценка и выбор модели**\n",
    "   - Проверка качества моделей на тестовой выборке\n",
    "   - Выбор лучшей модели\n",
    "\n",
    "8. **Рекомендации и выводы**\n",
    "   - Формулирование рекомендаций на основе результатов\n",
    "   - Общий вывод по проекту"
   ]
  },
  {
   "cell_type": "markdown",
   "id": "ad18da40",
   "metadata": {},
   "source": [
    "## Цель проекта\n",
    "Разработать модель, прогнозирующую вероятность расторжения договора абонентами оператора связи «ТелеДом», чтобы вовремя предложить меры по их удержанию."
   ]
  },
  {
   "cell_type": "code",
   "execution_count": 1,
   "id": "938ef874",
   "metadata": {},
   "outputs": [
    {
     "name": "stdout",
     "output_type": "stream",
     "text": [
      "Requirement already satisfied: phik in /opt/conda/lib/python3.9/site-packages (0.12.4)\n",
      "Requirement already satisfied: matplotlib>=2.2.3 in /opt/conda/lib/python3.9/site-packages (from phik) (3.3.4)\n",
      "Requirement already satisfied: scipy>=1.5.2 in /opt/conda/lib/python3.9/site-packages (from phik) (1.9.1)\n",
      "Requirement already satisfied: numpy>=1.18.0 in /opt/conda/lib/python3.9/site-packages (from phik) (1.21.1)\n",
      "Requirement already satisfied: pandas>=0.25.1 in /opt/conda/lib/python3.9/site-packages (from phik) (1.2.4)\n",
      "Requirement already satisfied: joblib>=0.14.1 in /opt/conda/lib/python3.9/site-packages (from phik) (1.1.0)\n",
      "Requirement already satisfied: pillow>=6.2.0 in /opt/conda/lib/python3.9/site-packages (from matplotlib>=2.2.3->phik) (8.4.0)\n",
      "Requirement already satisfied: pyparsing!=2.0.4,!=2.1.2,!=2.1.6,>=2.0.3 in /opt/conda/lib/python3.9/site-packages (from matplotlib>=2.2.3->phik) (2.4.7)\n",
      "Requirement already satisfied: kiwisolver>=1.0.1 in /opt/conda/lib/python3.9/site-packages (from matplotlib>=2.2.3->phik) (1.4.4)\n",
      "Requirement already satisfied: python-dateutil>=2.1 in /opt/conda/lib/python3.9/site-packages (from matplotlib>=2.2.3->phik) (2.8.1)\n",
      "Requirement already satisfied: cycler>=0.10 in /opt/conda/lib/python3.9/site-packages (from matplotlib>=2.2.3->phik) (0.11.0)\n",
      "Requirement already satisfied: pytz>=2017.3 in /opt/conda/lib/python3.9/site-packages (from pandas>=0.25.1->phik) (2021.1)\n",
      "Requirement already satisfied: six>=1.5 in /opt/conda/lib/python3.9/site-packages (from python-dateutil>=2.1->matplotlib>=2.2.3->phik) (1.16.0)\n"
     ]
    }
   ],
   "source": [
    "!pip install phik"
   ]
  },
  {
   "cell_type": "code",
   "execution_count": 2,
   "id": "5bd0d32f",
   "metadata": {},
   "outputs": [],
   "source": [
    "# импорт библиотек\n",
    "import phik\n",
    "import numpy as np\n",
    "import matplotlib.pyplot as plt\n",
    "import pandas as pd\n",
    "import seaborn as sns\n",
    "from phik import phik_matrix\n",
    "\n",
    "\n",
    "# Статистические функции\n",
    "from scipy.stats import chi2_contingency, randint, uniform\n",
    "\n",
    "# Модули для предобработки и построения моделей\n",
    "from sklearn.model_selection import train_test_split, cross_val_score, cross_validate, RandomizedSearchCV\n",
    "from sklearn.pipeline import Pipeline\n",
    "from sklearn.compose import ColumnTransformer\n",
    "from sklearn.preprocessing import StandardScaler, OneHotEncoder\n",
    "from sklearn.linear_model import LogisticRegression\n",
    "from sklearn.ensemble import RandomForestClassifier, GradientBoostingClassifier\n",
    "\n",
    "# Метрики для оценки моделей\n",
    "from sklearn.metrics import roc_auc_score, f1_score, precision_score, recall_score, make_scorer, roc_curve, auc, confusion_matrix, accuracy_score"
   ]
  },
  {
   "cell_type": "code",
   "execution_count": 3,
   "id": "a9c900dc",
   "metadata": {},
   "outputs": [],
   "source": [
    "contract_data = pd.read_csv('/datasets/contract_new.csv')\n",
    "personal_data = pd.read_csv('/datasets/personal_new.csv')\n",
    "internet_data = pd.read_csv('/datasets/internet_new.csv')\n",
    "phone_data = pd.read_csv('/datasets/phone_new.csv')"
   ]
  },
  {
   "cell_type": "code",
   "execution_count": 4,
   "id": "d1b0cb74",
   "metadata": {},
   "outputs": [
    {
     "name": "stdout",
     "output_type": "stream",
     "text": [
      "----- Contract Data -----\n"
     ]
    },
    {
     "data": {
      "text/html": [
       "<div>\n",
       "<style scoped>\n",
       "    .dataframe tbody tr th:only-of-type {\n",
       "        vertical-align: middle;\n",
       "    }\n",
       "\n",
       "    .dataframe tbody tr th {\n",
       "        vertical-align: top;\n",
       "    }\n",
       "\n",
       "    .dataframe thead th {\n",
       "        text-align: right;\n",
       "    }\n",
       "</style>\n",
       "<table border=\"1\" class=\"dataframe\">\n",
       "  <thead>\n",
       "    <tr style=\"text-align: right;\">\n",
       "      <th></th>\n",
       "      <th>customerID</th>\n",
       "      <th>BeginDate</th>\n",
       "      <th>EndDate</th>\n",
       "      <th>Type</th>\n",
       "      <th>PaperlessBilling</th>\n",
       "      <th>PaymentMethod</th>\n",
       "      <th>MonthlyCharges</th>\n",
       "      <th>TotalCharges</th>\n",
       "    </tr>\n",
       "  </thead>\n",
       "  <tbody>\n",
       "    <tr>\n",
       "      <th>0</th>\n",
       "      <td>7590-VHVEG</td>\n",
       "      <td>2020-01-01</td>\n",
       "      <td>No</td>\n",
       "      <td>Month-to-month</td>\n",
       "      <td>Yes</td>\n",
       "      <td>Electronic check</td>\n",
       "      <td>29.85</td>\n",
       "      <td>31.04</td>\n",
       "    </tr>\n",
       "    <tr>\n",
       "      <th>1</th>\n",
       "      <td>5575-GNVDE</td>\n",
       "      <td>2017-04-01</td>\n",
       "      <td>No</td>\n",
       "      <td>One year</td>\n",
       "      <td>No</td>\n",
       "      <td>Mailed check</td>\n",
       "      <td>56.95</td>\n",
       "      <td>2071.84</td>\n",
       "    </tr>\n",
       "    <tr>\n",
       "      <th>2</th>\n",
       "      <td>3668-QPYBK</td>\n",
       "      <td>2019-10-01</td>\n",
       "      <td>No</td>\n",
       "      <td>Month-to-month</td>\n",
       "      <td>Yes</td>\n",
       "      <td>Mailed check</td>\n",
       "      <td>53.85</td>\n",
       "      <td>226.17</td>\n",
       "    </tr>\n",
       "    <tr>\n",
       "      <th>3</th>\n",
       "      <td>7795-CFOCW</td>\n",
       "      <td>2016-05-01</td>\n",
       "      <td>No</td>\n",
       "      <td>One year</td>\n",
       "      <td>No</td>\n",
       "      <td>Bank transfer (automatic)</td>\n",
       "      <td>42.30</td>\n",
       "      <td>1960.6</td>\n",
       "    </tr>\n",
       "    <tr>\n",
       "      <th>4</th>\n",
       "      <td>9237-HQITU</td>\n",
       "      <td>2019-09-01</td>\n",
       "      <td>No</td>\n",
       "      <td>Month-to-month</td>\n",
       "      <td>Yes</td>\n",
       "      <td>Electronic check</td>\n",
       "      <td>70.70</td>\n",
       "      <td>353.5</td>\n",
       "    </tr>\n",
       "  </tbody>\n",
       "</table>\n",
       "</div>"
      ],
      "text/plain": [
       "   customerID   BeginDate EndDate            Type PaperlessBilling  \\\n",
       "0  7590-VHVEG  2020-01-01      No  Month-to-month              Yes   \n",
       "1  5575-GNVDE  2017-04-01      No        One year               No   \n",
       "2  3668-QPYBK  2019-10-01      No  Month-to-month              Yes   \n",
       "3  7795-CFOCW  2016-05-01      No        One year               No   \n",
       "4  9237-HQITU  2019-09-01      No  Month-to-month              Yes   \n",
       "\n",
       "               PaymentMethod  MonthlyCharges TotalCharges  \n",
       "0           Electronic check           29.85        31.04  \n",
       "1               Mailed check           56.95      2071.84  \n",
       "2               Mailed check           53.85       226.17  \n",
       "3  Bank transfer (automatic)           42.30       1960.6  \n",
       "4           Electronic check           70.70        353.5  "
      ]
     },
     "metadata": {},
     "output_type": "display_data"
    },
    {
     "name": "stdout",
     "output_type": "stream",
     "text": [
      "<class 'pandas.core.frame.DataFrame'>\n",
      "RangeIndex: 7043 entries, 0 to 7042\n",
      "Data columns (total 8 columns):\n",
      " #   Column            Non-Null Count  Dtype  \n",
      "---  ------            --------------  -----  \n",
      " 0   customerID        7043 non-null   object \n",
      " 1   BeginDate         7043 non-null   object \n",
      " 2   EndDate           7043 non-null   object \n",
      " 3   Type              7043 non-null   object \n",
      " 4   PaperlessBilling  7043 non-null   object \n",
      " 5   PaymentMethod     7043 non-null   object \n",
      " 6   MonthlyCharges    7043 non-null   float64\n",
      " 7   TotalCharges      7043 non-null   object \n",
      "dtypes: float64(1), object(7)\n",
      "memory usage: 440.3+ KB\n",
      "\n",
      "\n",
      "----- Personal Data -----\n"
     ]
    },
    {
     "data": {
      "text/html": [
       "<div>\n",
       "<style scoped>\n",
       "    .dataframe tbody tr th:only-of-type {\n",
       "        vertical-align: middle;\n",
       "    }\n",
       "\n",
       "    .dataframe tbody tr th {\n",
       "        vertical-align: top;\n",
       "    }\n",
       "\n",
       "    .dataframe thead th {\n",
       "        text-align: right;\n",
       "    }\n",
       "</style>\n",
       "<table border=\"1\" class=\"dataframe\">\n",
       "  <thead>\n",
       "    <tr style=\"text-align: right;\">\n",
       "      <th></th>\n",
       "      <th>customerID</th>\n",
       "      <th>gender</th>\n",
       "      <th>SeniorCitizen</th>\n",
       "      <th>Partner</th>\n",
       "      <th>Dependents</th>\n",
       "    </tr>\n",
       "  </thead>\n",
       "  <tbody>\n",
       "    <tr>\n",
       "      <th>0</th>\n",
       "      <td>7590-VHVEG</td>\n",
       "      <td>Female</td>\n",
       "      <td>0</td>\n",
       "      <td>Yes</td>\n",
       "      <td>No</td>\n",
       "    </tr>\n",
       "    <tr>\n",
       "      <th>1</th>\n",
       "      <td>5575-GNVDE</td>\n",
       "      <td>Male</td>\n",
       "      <td>0</td>\n",
       "      <td>No</td>\n",
       "      <td>No</td>\n",
       "    </tr>\n",
       "    <tr>\n",
       "      <th>2</th>\n",
       "      <td>3668-QPYBK</td>\n",
       "      <td>Male</td>\n",
       "      <td>0</td>\n",
       "      <td>No</td>\n",
       "      <td>No</td>\n",
       "    </tr>\n",
       "    <tr>\n",
       "      <th>3</th>\n",
       "      <td>7795-CFOCW</td>\n",
       "      <td>Male</td>\n",
       "      <td>0</td>\n",
       "      <td>No</td>\n",
       "      <td>No</td>\n",
       "    </tr>\n",
       "    <tr>\n",
       "      <th>4</th>\n",
       "      <td>9237-HQITU</td>\n",
       "      <td>Female</td>\n",
       "      <td>0</td>\n",
       "      <td>No</td>\n",
       "      <td>No</td>\n",
       "    </tr>\n",
       "  </tbody>\n",
       "</table>\n",
       "</div>"
      ],
      "text/plain": [
       "   customerID  gender  SeniorCitizen Partner Dependents\n",
       "0  7590-VHVEG  Female              0     Yes         No\n",
       "1  5575-GNVDE    Male              0      No         No\n",
       "2  3668-QPYBK    Male              0      No         No\n",
       "3  7795-CFOCW    Male              0      No         No\n",
       "4  9237-HQITU  Female              0      No         No"
      ]
     },
     "metadata": {},
     "output_type": "display_data"
    },
    {
     "name": "stdout",
     "output_type": "stream",
     "text": [
      "<class 'pandas.core.frame.DataFrame'>\n",
      "RangeIndex: 7043 entries, 0 to 7042\n",
      "Data columns (total 5 columns):\n",
      " #   Column         Non-Null Count  Dtype \n",
      "---  ------         --------------  ----- \n",
      " 0   customerID     7043 non-null   object\n",
      " 1   gender         7043 non-null   object\n",
      " 2   SeniorCitizen  7043 non-null   int64 \n",
      " 3   Partner        7043 non-null   object\n",
      " 4   Dependents     7043 non-null   object\n",
      "dtypes: int64(1), object(4)\n",
      "memory usage: 275.2+ KB\n",
      "\n",
      "\n",
      "----- Internet Data -----\n"
     ]
    },
    {
     "data": {
      "text/html": [
       "<div>\n",
       "<style scoped>\n",
       "    .dataframe tbody tr th:only-of-type {\n",
       "        vertical-align: middle;\n",
       "    }\n",
       "\n",
       "    .dataframe tbody tr th {\n",
       "        vertical-align: top;\n",
       "    }\n",
       "\n",
       "    .dataframe thead th {\n",
       "        text-align: right;\n",
       "    }\n",
       "</style>\n",
       "<table border=\"1\" class=\"dataframe\">\n",
       "  <thead>\n",
       "    <tr style=\"text-align: right;\">\n",
       "      <th></th>\n",
       "      <th>customerID</th>\n",
       "      <th>InternetService</th>\n",
       "      <th>OnlineSecurity</th>\n",
       "      <th>OnlineBackup</th>\n",
       "      <th>DeviceProtection</th>\n",
       "      <th>TechSupport</th>\n",
       "      <th>StreamingTV</th>\n",
       "      <th>StreamingMovies</th>\n",
       "    </tr>\n",
       "  </thead>\n",
       "  <tbody>\n",
       "    <tr>\n",
       "      <th>0</th>\n",
       "      <td>7590-VHVEG</td>\n",
       "      <td>DSL</td>\n",
       "      <td>No</td>\n",
       "      <td>Yes</td>\n",
       "      <td>No</td>\n",
       "      <td>No</td>\n",
       "      <td>No</td>\n",
       "      <td>No</td>\n",
       "    </tr>\n",
       "    <tr>\n",
       "      <th>1</th>\n",
       "      <td>5575-GNVDE</td>\n",
       "      <td>DSL</td>\n",
       "      <td>Yes</td>\n",
       "      <td>No</td>\n",
       "      <td>Yes</td>\n",
       "      <td>No</td>\n",
       "      <td>No</td>\n",
       "      <td>No</td>\n",
       "    </tr>\n",
       "    <tr>\n",
       "      <th>2</th>\n",
       "      <td>3668-QPYBK</td>\n",
       "      <td>DSL</td>\n",
       "      <td>Yes</td>\n",
       "      <td>Yes</td>\n",
       "      <td>No</td>\n",
       "      <td>No</td>\n",
       "      <td>No</td>\n",
       "      <td>No</td>\n",
       "    </tr>\n",
       "    <tr>\n",
       "      <th>3</th>\n",
       "      <td>7795-CFOCW</td>\n",
       "      <td>DSL</td>\n",
       "      <td>Yes</td>\n",
       "      <td>No</td>\n",
       "      <td>Yes</td>\n",
       "      <td>Yes</td>\n",
       "      <td>No</td>\n",
       "      <td>No</td>\n",
       "    </tr>\n",
       "    <tr>\n",
       "      <th>4</th>\n",
       "      <td>9237-HQITU</td>\n",
       "      <td>Fiber optic</td>\n",
       "      <td>No</td>\n",
       "      <td>No</td>\n",
       "      <td>No</td>\n",
       "      <td>No</td>\n",
       "      <td>No</td>\n",
       "      <td>No</td>\n",
       "    </tr>\n",
       "  </tbody>\n",
       "</table>\n",
       "</div>"
      ],
      "text/plain": [
       "   customerID InternetService OnlineSecurity OnlineBackup DeviceProtection  \\\n",
       "0  7590-VHVEG             DSL             No          Yes               No   \n",
       "1  5575-GNVDE             DSL            Yes           No              Yes   \n",
       "2  3668-QPYBK             DSL            Yes          Yes               No   \n",
       "3  7795-CFOCW             DSL            Yes           No              Yes   \n",
       "4  9237-HQITU     Fiber optic             No           No               No   \n",
       "\n",
       "  TechSupport StreamingTV StreamingMovies  \n",
       "0          No          No              No  \n",
       "1          No          No              No  \n",
       "2          No          No              No  \n",
       "3         Yes          No              No  \n",
       "4          No          No              No  "
      ]
     },
     "metadata": {},
     "output_type": "display_data"
    },
    {
     "name": "stdout",
     "output_type": "stream",
     "text": [
      "<class 'pandas.core.frame.DataFrame'>\n",
      "RangeIndex: 5517 entries, 0 to 5516\n",
      "Data columns (total 8 columns):\n",
      " #   Column            Non-Null Count  Dtype \n",
      "---  ------            --------------  ----- \n",
      " 0   customerID        5517 non-null   object\n",
      " 1   InternetService   5517 non-null   object\n",
      " 2   OnlineSecurity    5517 non-null   object\n",
      " 3   OnlineBackup      5517 non-null   object\n",
      " 4   DeviceProtection  5517 non-null   object\n",
      " 5   TechSupport       5517 non-null   object\n",
      " 6   StreamingTV       5517 non-null   object\n",
      " 7   StreamingMovies   5517 non-null   object\n",
      "dtypes: object(8)\n",
      "memory usage: 344.9+ KB\n",
      "\n",
      "\n",
      "----- Phone Data -----\n"
     ]
    },
    {
     "data": {
      "text/html": [
       "<div>\n",
       "<style scoped>\n",
       "    .dataframe tbody tr th:only-of-type {\n",
       "        vertical-align: middle;\n",
       "    }\n",
       "\n",
       "    .dataframe tbody tr th {\n",
       "        vertical-align: top;\n",
       "    }\n",
       "\n",
       "    .dataframe thead th {\n",
       "        text-align: right;\n",
       "    }\n",
       "</style>\n",
       "<table border=\"1\" class=\"dataframe\">\n",
       "  <thead>\n",
       "    <tr style=\"text-align: right;\">\n",
       "      <th></th>\n",
       "      <th>customerID</th>\n",
       "      <th>MultipleLines</th>\n",
       "    </tr>\n",
       "  </thead>\n",
       "  <tbody>\n",
       "    <tr>\n",
       "      <th>0</th>\n",
       "      <td>5575-GNVDE</td>\n",
       "      <td>No</td>\n",
       "    </tr>\n",
       "    <tr>\n",
       "      <th>1</th>\n",
       "      <td>3668-QPYBK</td>\n",
       "      <td>No</td>\n",
       "    </tr>\n",
       "    <tr>\n",
       "      <th>2</th>\n",
       "      <td>9237-HQITU</td>\n",
       "      <td>No</td>\n",
       "    </tr>\n",
       "    <tr>\n",
       "      <th>3</th>\n",
       "      <td>9305-CDSKC</td>\n",
       "      <td>Yes</td>\n",
       "    </tr>\n",
       "    <tr>\n",
       "      <th>4</th>\n",
       "      <td>1452-KIOVK</td>\n",
       "      <td>Yes</td>\n",
       "    </tr>\n",
       "  </tbody>\n",
       "</table>\n",
       "</div>"
      ],
      "text/plain": [
       "   customerID MultipleLines\n",
       "0  5575-GNVDE            No\n",
       "1  3668-QPYBK            No\n",
       "2  9237-HQITU            No\n",
       "3  9305-CDSKC           Yes\n",
       "4  1452-KIOVK           Yes"
      ]
     },
     "metadata": {},
     "output_type": "display_data"
    },
    {
     "name": "stdout",
     "output_type": "stream",
     "text": [
      "<class 'pandas.core.frame.DataFrame'>\n",
      "RangeIndex: 6361 entries, 0 to 6360\n",
      "Data columns (total 2 columns):\n",
      " #   Column         Non-Null Count  Dtype \n",
      "---  ------         --------------  ----- \n",
      " 0   customerID     6361 non-null   object\n",
      " 1   MultipleLines  6361 non-null   object\n",
      "dtypes: object(2)\n",
      "memory usage: 99.5+ KB\n",
      "\n",
      "\n"
     ]
    }
   ],
   "source": [
    "data_sets = {\n",
    "    \"Contract Data\": contract_data,\n",
    "    \"Personal Data\": personal_data,\n",
    "    \"Internet Data\": internet_data,\n",
    "    \"Phone Data\": phone_data\n",
    "}\n",
    "def data_set_info():\n",
    "    for ds_name, ds in data_sets.items():\n",
    "        print(f\"----- {ds_name} -----\")\n",
    "        display(ds.head())  # Убедитесь, что display определён (например, из IPython.display)\n",
    "        ds.info()\n",
    "        print('\\n')\n",
    "\n",
    "# Вызов функции\n",
    "data_set_info()"
   ]
  },
  {
   "cell_type": "markdown",
   "id": "efe28aa5",
   "metadata": {},
   "source": [
    "## Предобработка данных каждого датасета\n",
    "   1. Удаление дубликатов\n",
    "   2. Обработка пропусков\n",
    "   3. Преобразование типов данных\n",
    "   4. Приведение заголовков к змеиному регистру"
   ]
  },
  {
   "cell_type": "code",
   "execution_count": 5,
   "id": "0c556c74",
   "metadata": {},
   "outputs": [
    {
     "name": "stdout",
     "output_type": "stream",
     "text": [
      "----- Contract Data -----\n"
     ]
    },
    {
     "data": {
      "text/html": [
       "<div>\n",
       "<style scoped>\n",
       "    .dataframe tbody tr th:only-of-type {\n",
       "        vertical-align: middle;\n",
       "    }\n",
       "\n",
       "    .dataframe tbody tr th {\n",
       "        vertical-align: top;\n",
       "    }\n",
       "\n",
       "    .dataframe thead th {\n",
       "        text-align: right;\n",
       "    }\n",
       "</style>\n",
       "<table border=\"1\" class=\"dataframe\">\n",
       "  <thead>\n",
       "    <tr style=\"text-align: right;\">\n",
       "      <th></th>\n",
       "      <th>customerid</th>\n",
       "      <th>begindate</th>\n",
       "      <th>enddate</th>\n",
       "      <th>type</th>\n",
       "      <th>paperlessbilling</th>\n",
       "      <th>paymentmethod</th>\n",
       "      <th>monthlycharges</th>\n",
       "      <th>totalcharges</th>\n",
       "    </tr>\n",
       "  </thead>\n",
       "  <tbody>\n",
       "    <tr>\n",
       "      <th>0</th>\n",
       "      <td>7590-VHVEG</td>\n",
       "      <td>2020-01-01</td>\n",
       "      <td>No</td>\n",
       "      <td>Month-to-month</td>\n",
       "      <td>Yes</td>\n",
       "      <td>Electronic check</td>\n",
       "      <td>29.85</td>\n",
       "      <td>31.04</td>\n",
       "    </tr>\n",
       "    <tr>\n",
       "      <th>1</th>\n",
       "      <td>5575-GNVDE</td>\n",
       "      <td>2017-04-01</td>\n",
       "      <td>No</td>\n",
       "      <td>One year</td>\n",
       "      <td>No</td>\n",
       "      <td>Mailed check</td>\n",
       "      <td>56.95</td>\n",
       "      <td>2071.84</td>\n",
       "    </tr>\n",
       "    <tr>\n",
       "      <th>2</th>\n",
       "      <td>3668-QPYBK</td>\n",
       "      <td>2019-10-01</td>\n",
       "      <td>No</td>\n",
       "      <td>Month-to-month</td>\n",
       "      <td>Yes</td>\n",
       "      <td>Mailed check</td>\n",
       "      <td>53.85</td>\n",
       "      <td>226.17</td>\n",
       "    </tr>\n",
       "    <tr>\n",
       "      <th>3</th>\n",
       "      <td>7795-CFOCW</td>\n",
       "      <td>2016-05-01</td>\n",
       "      <td>No</td>\n",
       "      <td>One year</td>\n",
       "      <td>No</td>\n",
       "      <td>Bank transfer (automatic)</td>\n",
       "      <td>42.30</td>\n",
       "      <td>1960.6</td>\n",
       "    </tr>\n",
       "    <tr>\n",
       "      <th>4</th>\n",
       "      <td>9237-HQITU</td>\n",
       "      <td>2019-09-01</td>\n",
       "      <td>No</td>\n",
       "      <td>Month-to-month</td>\n",
       "      <td>Yes</td>\n",
       "      <td>Electronic check</td>\n",
       "      <td>70.70</td>\n",
       "      <td>353.5</td>\n",
       "    </tr>\n",
       "  </tbody>\n",
       "</table>\n",
       "</div>"
      ],
      "text/plain": [
       "   customerid   begindate enddate            type paperlessbilling  \\\n",
       "0  7590-VHVEG  2020-01-01      No  Month-to-month              Yes   \n",
       "1  5575-GNVDE  2017-04-01      No        One year               No   \n",
       "2  3668-QPYBK  2019-10-01      No  Month-to-month              Yes   \n",
       "3  7795-CFOCW  2016-05-01      No        One year               No   \n",
       "4  9237-HQITU  2019-09-01      No  Month-to-month              Yes   \n",
       "\n",
       "               paymentmethod  monthlycharges totalcharges  \n",
       "0           Electronic check           29.85        31.04  \n",
       "1               Mailed check           56.95      2071.84  \n",
       "2               Mailed check           53.85       226.17  \n",
       "3  Bank transfer (automatic)           42.30       1960.6  \n",
       "4           Electronic check           70.70        353.5  "
      ]
     },
     "metadata": {},
     "output_type": "display_data"
    },
    {
     "name": "stdout",
     "output_type": "stream",
     "text": [
      "<class 'pandas.core.frame.DataFrame'>\n",
      "RangeIndex: 7043 entries, 0 to 7042\n",
      "Data columns (total 8 columns):\n",
      " #   Column            Non-Null Count  Dtype  \n",
      "---  ------            --------------  -----  \n",
      " 0   customerid        7043 non-null   object \n",
      " 1   begindate         7043 non-null   object \n",
      " 2   enddate           7043 non-null   object \n",
      " 3   type              7043 non-null   object \n",
      " 4   paperlessbilling  7043 non-null   object \n",
      " 5   paymentmethod     7043 non-null   object \n",
      " 6   monthlycharges    7043 non-null   float64\n",
      " 7   totalcharges      7043 non-null   object \n",
      "dtypes: float64(1), object(7)\n",
      "memory usage: 440.3+ KB\n",
      "\n",
      "\n",
      "----- Personal Data -----\n"
     ]
    },
    {
     "data": {
      "text/html": [
       "<div>\n",
       "<style scoped>\n",
       "    .dataframe tbody tr th:only-of-type {\n",
       "        vertical-align: middle;\n",
       "    }\n",
       "\n",
       "    .dataframe tbody tr th {\n",
       "        vertical-align: top;\n",
       "    }\n",
       "\n",
       "    .dataframe thead th {\n",
       "        text-align: right;\n",
       "    }\n",
       "</style>\n",
       "<table border=\"1\" class=\"dataframe\">\n",
       "  <thead>\n",
       "    <tr style=\"text-align: right;\">\n",
       "      <th></th>\n",
       "      <th>customerid</th>\n",
       "      <th>gender</th>\n",
       "      <th>seniorcitizen</th>\n",
       "      <th>partner</th>\n",
       "      <th>dependents</th>\n",
       "    </tr>\n",
       "  </thead>\n",
       "  <tbody>\n",
       "    <tr>\n",
       "      <th>0</th>\n",
       "      <td>7590-VHVEG</td>\n",
       "      <td>Female</td>\n",
       "      <td>0</td>\n",
       "      <td>Yes</td>\n",
       "      <td>No</td>\n",
       "    </tr>\n",
       "    <tr>\n",
       "      <th>1</th>\n",
       "      <td>5575-GNVDE</td>\n",
       "      <td>Male</td>\n",
       "      <td>0</td>\n",
       "      <td>No</td>\n",
       "      <td>No</td>\n",
       "    </tr>\n",
       "    <tr>\n",
       "      <th>2</th>\n",
       "      <td>3668-QPYBK</td>\n",
       "      <td>Male</td>\n",
       "      <td>0</td>\n",
       "      <td>No</td>\n",
       "      <td>No</td>\n",
       "    </tr>\n",
       "    <tr>\n",
       "      <th>3</th>\n",
       "      <td>7795-CFOCW</td>\n",
       "      <td>Male</td>\n",
       "      <td>0</td>\n",
       "      <td>No</td>\n",
       "      <td>No</td>\n",
       "    </tr>\n",
       "    <tr>\n",
       "      <th>4</th>\n",
       "      <td>9237-HQITU</td>\n",
       "      <td>Female</td>\n",
       "      <td>0</td>\n",
       "      <td>No</td>\n",
       "      <td>No</td>\n",
       "    </tr>\n",
       "  </tbody>\n",
       "</table>\n",
       "</div>"
      ],
      "text/plain": [
       "   customerid  gender  seniorcitizen partner dependents\n",
       "0  7590-VHVEG  Female              0     Yes         No\n",
       "1  5575-GNVDE    Male              0      No         No\n",
       "2  3668-QPYBK    Male              0      No         No\n",
       "3  7795-CFOCW    Male              0      No         No\n",
       "4  9237-HQITU  Female              0      No         No"
      ]
     },
     "metadata": {},
     "output_type": "display_data"
    },
    {
     "name": "stdout",
     "output_type": "stream",
     "text": [
      "<class 'pandas.core.frame.DataFrame'>\n",
      "RangeIndex: 7043 entries, 0 to 7042\n",
      "Data columns (total 5 columns):\n",
      " #   Column         Non-Null Count  Dtype \n",
      "---  ------         --------------  ----- \n",
      " 0   customerid     7043 non-null   object\n",
      " 1   gender         7043 non-null   object\n",
      " 2   seniorcitizen  7043 non-null   int64 \n",
      " 3   partner        7043 non-null   object\n",
      " 4   dependents     7043 non-null   object\n",
      "dtypes: int64(1), object(4)\n",
      "memory usage: 275.2+ KB\n",
      "\n",
      "\n",
      "----- Internet Data -----\n"
     ]
    },
    {
     "data": {
      "text/html": [
       "<div>\n",
       "<style scoped>\n",
       "    .dataframe tbody tr th:only-of-type {\n",
       "        vertical-align: middle;\n",
       "    }\n",
       "\n",
       "    .dataframe tbody tr th {\n",
       "        vertical-align: top;\n",
       "    }\n",
       "\n",
       "    .dataframe thead th {\n",
       "        text-align: right;\n",
       "    }\n",
       "</style>\n",
       "<table border=\"1\" class=\"dataframe\">\n",
       "  <thead>\n",
       "    <tr style=\"text-align: right;\">\n",
       "      <th></th>\n",
       "      <th>customerid</th>\n",
       "      <th>internetservice</th>\n",
       "      <th>onlinesecurity</th>\n",
       "      <th>onlinebackup</th>\n",
       "      <th>deviceprotection</th>\n",
       "      <th>techsupport</th>\n",
       "      <th>streamingtv</th>\n",
       "      <th>streamingmovies</th>\n",
       "    </tr>\n",
       "  </thead>\n",
       "  <tbody>\n",
       "    <tr>\n",
       "      <th>0</th>\n",
       "      <td>7590-VHVEG</td>\n",
       "      <td>DSL</td>\n",
       "      <td>No</td>\n",
       "      <td>Yes</td>\n",
       "      <td>No</td>\n",
       "      <td>No</td>\n",
       "      <td>No</td>\n",
       "      <td>No</td>\n",
       "    </tr>\n",
       "    <tr>\n",
       "      <th>1</th>\n",
       "      <td>5575-GNVDE</td>\n",
       "      <td>DSL</td>\n",
       "      <td>Yes</td>\n",
       "      <td>No</td>\n",
       "      <td>Yes</td>\n",
       "      <td>No</td>\n",
       "      <td>No</td>\n",
       "      <td>No</td>\n",
       "    </tr>\n",
       "    <tr>\n",
       "      <th>2</th>\n",
       "      <td>3668-QPYBK</td>\n",
       "      <td>DSL</td>\n",
       "      <td>Yes</td>\n",
       "      <td>Yes</td>\n",
       "      <td>No</td>\n",
       "      <td>No</td>\n",
       "      <td>No</td>\n",
       "      <td>No</td>\n",
       "    </tr>\n",
       "    <tr>\n",
       "      <th>3</th>\n",
       "      <td>7795-CFOCW</td>\n",
       "      <td>DSL</td>\n",
       "      <td>Yes</td>\n",
       "      <td>No</td>\n",
       "      <td>Yes</td>\n",
       "      <td>Yes</td>\n",
       "      <td>No</td>\n",
       "      <td>No</td>\n",
       "    </tr>\n",
       "    <tr>\n",
       "      <th>4</th>\n",
       "      <td>9237-HQITU</td>\n",
       "      <td>Fiber optic</td>\n",
       "      <td>No</td>\n",
       "      <td>No</td>\n",
       "      <td>No</td>\n",
       "      <td>No</td>\n",
       "      <td>No</td>\n",
       "      <td>No</td>\n",
       "    </tr>\n",
       "  </tbody>\n",
       "</table>\n",
       "</div>"
      ],
      "text/plain": [
       "   customerid internetservice onlinesecurity onlinebackup deviceprotection  \\\n",
       "0  7590-VHVEG             DSL             No          Yes               No   \n",
       "1  5575-GNVDE             DSL            Yes           No              Yes   \n",
       "2  3668-QPYBK             DSL            Yes          Yes               No   \n",
       "3  7795-CFOCW             DSL            Yes           No              Yes   \n",
       "4  9237-HQITU     Fiber optic             No           No               No   \n",
       "\n",
       "  techsupport streamingtv streamingmovies  \n",
       "0          No          No              No  \n",
       "1          No          No              No  \n",
       "2          No          No              No  \n",
       "3         Yes          No              No  \n",
       "4          No          No              No  "
      ]
     },
     "metadata": {},
     "output_type": "display_data"
    },
    {
     "name": "stdout",
     "output_type": "stream",
     "text": [
      "<class 'pandas.core.frame.DataFrame'>\n",
      "RangeIndex: 5517 entries, 0 to 5516\n",
      "Data columns (total 8 columns):\n",
      " #   Column            Non-Null Count  Dtype \n",
      "---  ------            --------------  ----- \n",
      " 0   customerid        5517 non-null   object\n",
      " 1   internetservice   5517 non-null   object\n",
      " 2   onlinesecurity    5517 non-null   object\n",
      " 3   onlinebackup      5517 non-null   object\n",
      " 4   deviceprotection  5517 non-null   object\n",
      " 5   techsupport       5517 non-null   object\n",
      " 6   streamingtv       5517 non-null   object\n",
      " 7   streamingmovies   5517 non-null   object\n",
      "dtypes: object(8)\n",
      "memory usage: 344.9+ KB\n",
      "\n",
      "\n",
      "----- Phone Data -----\n"
     ]
    },
    {
     "data": {
      "text/html": [
       "<div>\n",
       "<style scoped>\n",
       "    .dataframe tbody tr th:only-of-type {\n",
       "        vertical-align: middle;\n",
       "    }\n",
       "\n",
       "    .dataframe tbody tr th {\n",
       "        vertical-align: top;\n",
       "    }\n",
       "\n",
       "    .dataframe thead th {\n",
       "        text-align: right;\n",
       "    }\n",
       "</style>\n",
       "<table border=\"1\" class=\"dataframe\">\n",
       "  <thead>\n",
       "    <tr style=\"text-align: right;\">\n",
       "      <th></th>\n",
       "      <th>customerid</th>\n",
       "      <th>multiplelines</th>\n",
       "    </tr>\n",
       "  </thead>\n",
       "  <tbody>\n",
       "    <tr>\n",
       "      <th>0</th>\n",
       "      <td>5575-GNVDE</td>\n",
       "      <td>No</td>\n",
       "    </tr>\n",
       "    <tr>\n",
       "      <th>1</th>\n",
       "      <td>3668-QPYBK</td>\n",
       "      <td>No</td>\n",
       "    </tr>\n",
       "    <tr>\n",
       "      <th>2</th>\n",
       "      <td>9237-HQITU</td>\n",
       "      <td>No</td>\n",
       "    </tr>\n",
       "    <tr>\n",
       "      <th>3</th>\n",
       "      <td>9305-CDSKC</td>\n",
       "      <td>Yes</td>\n",
       "    </tr>\n",
       "    <tr>\n",
       "      <th>4</th>\n",
       "      <td>1452-KIOVK</td>\n",
       "      <td>Yes</td>\n",
       "    </tr>\n",
       "  </tbody>\n",
       "</table>\n",
       "</div>"
      ],
      "text/plain": [
       "   customerid multiplelines\n",
       "0  5575-GNVDE            No\n",
       "1  3668-QPYBK            No\n",
       "2  9237-HQITU            No\n",
       "3  9305-CDSKC           Yes\n",
       "4  1452-KIOVK           Yes"
      ]
     },
     "metadata": {},
     "output_type": "display_data"
    },
    {
     "name": "stdout",
     "output_type": "stream",
     "text": [
      "<class 'pandas.core.frame.DataFrame'>\n",
      "RangeIndex: 6361 entries, 0 to 6360\n",
      "Data columns (total 2 columns):\n",
      " #   Column         Non-Null Count  Dtype \n",
      "---  ------         --------------  ----- \n",
      " 0   customerid     6361 non-null   object\n",
      " 1   multiplelines  6361 non-null   object\n",
      "dtypes: object(2)\n",
      "memory usage: 99.5+ KB\n",
      "\n",
      "\n"
     ]
    }
   ],
   "source": [
    "# приводим названия столбцов к змеиному регистру\n",
    "contract_data.columns = contract_data.columns.str.lower()\n",
    "personal_data.columns = personal_data.columns.str.lower()\n",
    "internet_data.columns = internet_data.columns.str.lower()\n",
    "phone_data.columns = phone_data.columns.str.lower()\n",
    "\n",
    "# проверяем результат\n",
    "data_set_info()"
   ]
  },
  {
   "cell_type": "code",
   "execution_count": 6,
   "id": "96218b6c",
   "metadata": {},
   "outputs": [],
   "source": [
    "# Преобразуем даты в формат datetime\n",
    "contract_data['begindate'] = pd.to_datetime(contract_data['begindate'])\n",
    "contract_data['enddate'] = contract_data['enddate'].replace({'No': None})\n",
    "contract_data['enddate'] = pd.to_datetime(contract_data['enddate'])"
   ]
  },
  {
   "cell_type": "code",
   "execution_count": 7,
   "id": "3ba14c6d",
   "metadata": {},
   "outputs": [
    {
     "data": {
      "text/html": [
       "<div>\n",
       "<style scoped>\n",
       "    .dataframe tbody tr th:only-of-type {\n",
       "        vertical-align: middle;\n",
       "    }\n",
       "\n",
       "    .dataframe tbody tr th {\n",
       "        vertical-align: top;\n",
       "    }\n",
       "\n",
       "    .dataframe thead th {\n",
       "        text-align: right;\n",
       "    }\n",
       "</style>\n",
       "<table border=\"1\" class=\"dataframe\">\n",
       "  <thead>\n",
       "    <tr style=\"text-align: right;\">\n",
       "      <th></th>\n",
       "      <th>customerid</th>\n",
       "      <th>begindate</th>\n",
       "      <th>enddate</th>\n",
       "      <th>days_on_contract</th>\n",
       "    </tr>\n",
       "  </thead>\n",
       "  <tbody>\n",
       "    <tr>\n",
       "      <th>0</th>\n",
       "      <td>7590-VHVEG</td>\n",
       "      <td>2020-01-01</td>\n",
       "      <td>NaT</td>\n",
       "      <td>31</td>\n",
       "    </tr>\n",
       "    <tr>\n",
       "      <th>1</th>\n",
       "      <td>5575-GNVDE</td>\n",
       "      <td>2017-04-01</td>\n",
       "      <td>NaT</td>\n",
       "      <td>1036</td>\n",
       "    </tr>\n",
       "    <tr>\n",
       "      <th>2</th>\n",
       "      <td>3668-QPYBK</td>\n",
       "      <td>2019-10-01</td>\n",
       "      <td>NaT</td>\n",
       "      <td>123</td>\n",
       "    </tr>\n",
       "    <tr>\n",
       "      <th>3</th>\n",
       "      <td>7795-CFOCW</td>\n",
       "      <td>2016-05-01</td>\n",
       "      <td>NaT</td>\n",
       "      <td>1371</td>\n",
       "    </tr>\n",
       "    <tr>\n",
       "      <th>4</th>\n",
       "      <td>9237-HQITU</td>\n",
       "      <td>2019-09-01</td>\n",
       "      <td>NaT</td>\n",
       "      <td>153</td>\n",
       "    </tr>\n",
       "  </tbody>\n",
       "</table>\n",
       "</div>"
      ],
      "text/plain": [
       "   customerid  begindate enddate  days_on_contract\n",
       "0  7590-VHVEG 2020-01-01     NaT                31\n",
       "1  5575-GNVDE 2017-04-01     NaT              1036\n",
       "2  3668-QPYBK 2019-10-01     NaT               123\n",
       "3  7795-CFOCW 2016-05-01     NaT              1371\n",
       "4  9237-HQITU 2019-09-01     NaT               153"
      ]
     },
     "metadata": {},
     "output_type": "display_data"
    },
    {
     "name": "stdout",
     "output_type": "stream",
     "text": [
      "Среднее количество дней контракта: 898.5557290927162\n",
      "Медианное количество дней контракта: 761.0\n"
     ]
    }
   ],
   "source": [
    "# Дата актуальности данных\n",
    "current_date = pd.to_datetime('2020-02-01')\n",
    "\n",
    "# Вычисляем количество дней действия контракта\n",
    "contract_data['days_on_contract'] = (\n",
    "    contract_data['enddate'].fillna(current_date) - contract_data['begindate']\n",
    ").dt.days\n",
    "\n",
    "# Проверяем результат\n",
    "display(contract_data[['customerid', 'begindate', 'enddate', 'days_on_contract']].head())\n",
    "print(f\"Среднее количество дней контракта: {contract_data['days_on_contract'].mean()}\")\n",
    "print(f\"Медианное количество дней контракта: {contract_data['days_on_contract'].median()}\")"
   ]
  },
  {
   "cell_type": "code",
   "execution_count": 8,
   "id": "e18c488b",
   "metadata": {},
   "outputs": [
    {
     "name": "stdout",
     "output_type": "stream",
     "text": [
      "Количество пропусков в total_charges: 11\n"
     ]
    }
   ],
   "source": [
    "# Преобразование TotalCharges в числовой формат\n",
    "contract_data['totalcharges'] = pd.to_numeric(contract_data['totalcharges'], errors='coerce')\n",
    "\n",
    "# Проверим, есть ли пропуски в totalсharges после преобразования\n",
    "print(f\"Количество пропусков в total_charges: {contract_data['totalcharges'].isna().sum()}\")"
   ]
  },
  {
   "cell_type": "markdown",
   "id": "c6c9d038",
   "metadata": {},
   "source": [
    "Перед объединением данных проверим количество уникальных значений строковых признаков"
   ]
  },
  {
   "cell_type": "code",
   "execution_count": 9,
   "id": "60590d9e",
   "metadata": {},
   "outputs": [],
   "source": [
    "# Функция для проверки уникальных значений и их количества\n",
    "def check_unique_values_from_dict(data_sets, exclude_columns=None):\n",
    "    if exclude_columns is None:\n",
    "        exclude_columns = []\n",
    "        \n",
    "    for table_name, data in data_sets.items():\n",
    "        print(f\"--- Уникальные значения в {table_name} ---\")\n",
    "        for column in data.columns:\n",
    "            if column in exclude_columns:\n",
    "                continue  # Пропускаем ненужные столбцы\n",
    "            if data[column].dtype == 'object':  # Проверяем только строковые данные\n",
    "                unique_values = data[column].unique()\n",
    "                unique_count = len(unique_values)\n",
    "                print(f\"{column}: {unique_values} (Уникальных: {unique_count})\")\n",
    "        print(\"\\n\")\n",
    "        \n"
   ]
  },
  {
   "cell_type": "code",
   "execution_count": 10,
   "id": "54af9006",
   "metadata": {},
   "outputs": [
    {
     "name": "stdout",
     "output_type": "stream",
     "text": [
      "--- Уникальные значения в Contract Data ---\n",
      "type: ['Month-to-month' 'One year' 'Two year'] (Уникальных: 3)\n",
      "paperlessbilling: ['Yes' 'No'] (Уникальных: 2)\n",
      "paymentmethod: ['Electronic check' 'Mailed check' 'Bank transfer (automatic)'\n",
      " 'Credit card (automatic)'] (Уникальных: 4)\n",
      "\n",
      "\n",
      "--- Уникальные значения в Personal Data ---\n",
      "gender: ['Female' 'Male'] (Уникальных: 2)\n",
      "partner: ['Yes' 'No'] (Уникальных: 2)\n",
      "dependents: ['No' 'Yes'] (Уникальных: 2)\n",
      "\n",
      "\n",
      "--- Уникальные значения в Internet Data ---\n",
      "internetservice: ['DSL' 'Fiber optic'] (Уникальных: 2)\n",
      "onlinesecurity: ['No' 'Yes'] (Уникальных: 2)\n",
      "onlinebackup: ['Yes' 'No'] (Уникальных: 2)\n",
      "deviceprotection: ['No' 'Yes'] (Уникальных: 2)\n",
      "techsupport: ['No' 'Yes'] (Уникальных: 2)\n",
      "streamingtv: ['No' 'Yes'] (Уникальных: 2)\n",
      "streamingmovies: ['No' 'Yes'] (Уникальных: 2)\n",
      "\n",
      "\n",
      "--- Уникальные значения в Phone Data ---\n",
      "multiplelines: ['No' 'Yes'] (Уникальных: 2)\n",
      "\n",
      "\n"
     ]
    }
   ],
   "source": [
    "check_unique_values_from_dict(data_sets, exclude_columns=['customerid'])"
   ]
  },
  {
   "cell_type": "markdown",
   "id": "649c05fe",
   "metadata": {},
   "source": [
    "Проверка уникальных customerID в каждой таблице:"
   ]
  },
  {
   "cell_type": "code",
   "execution_count": 11,
   "id": "1b513c84",
   "metadata": {},
   "outputs": [
    {
     "name": "stdout",
     "output_type": "stream",
     "text": [
      "Contract Data: Уникальных customerID: 7043\n",
      "Personal Data: Уникальных customerID: 7043\n",
      "Internet Data: Уникальных customerID: 5517\n",
      "Phone Data: Уникальных customerID: 6361\n"
     ]
    }
   ],
   "source": [
    "for table_name, data in data_sets.items():\n",
    "    unique_ids = data['customerid'].nunique()\n",
    "    print(f\"{table_name}: Уникальных customerID: {unique_ids}\")\n"
   ]
  },
  {
   "cell_type": "markdown",
   "id": "2a36688c",
   "metadata": {},
   "source": [
    "Проверим, есть ли клиенты, отсутствующие в одной из таблиц"
   ]
  },
  {
   "cell_type": "code",
   "execution_count": 12,
   "id": "320dd02d",
   "metadata": {},
   "outputs": [
    {
     "name": "stdout",
     "output_type": "stream",
     "text": [
      "Contract Data: Отсутствуют customerID: 0\n",
      "Personal Data: Отсутствуют customerID: 0\n",
      "Internet Data: Отсутствуют customerID: 1526\n",
      "Phone Data: Отсутствуют customerID: 682\n"
     ]
    }
   ],
   "source": [
    "all_ids = set(contract_data['customerid'])\n",
    "for table_name, data in data_sets.items():\n",
    "    table_ids = set(data['customerid'])\n",
    "    missing_ids = all_ids - table_ids\n",
    "    print(f\"{table_name}: Отсутствуют customerID: {len(missing_ids)}\")"
   ]
  },
  {
   "cell_type": "markdown",
   "id": "28f5ebf0",
   "metadata": {},
   "source": [
    "Клиенты, у которых отсутствуют значения `customerID` в Internet Data или Phone Data, не пользуются соответствующими услугами.\n",
    "\n",
    "При объединении данных такие клиенты будут иметь значения NaN в столбцах, связанных с интернетом или телефонией, что является ожидаемым поведением."
   ]
  },
  {
   "cell_type": "markdown",
   "id": "d2e3aa55",
   "metadata": {},
   "source": [
    "Создадим бинарные признаки для клиентов с телефоном/интернетом:"
   ]
  },
  {
   "cell_type": "code",
   "execution_count": 13,
   "id": "926cc365",
   "metadata": {},
   "outputs": [
    {
     "name": "stdout",
     "output_type": "stream",
     "text": [
      "0    5942\n",
      "1    1101\n",
      "Name: finished, dtype: int64\n"
     ]
    }
   ],
   "source": [
    "# Создаем метку has_internet\n",
    "contract_data['has_internet'] = contract_data['customerid'].isin(internet_data['customerid']).astype(int)\n",
    "\n",
    "# Создаем метку has_phone\n",
    "contract_data['has_phone'] = contract_data['customerid'].isin(phone_data['customerid']).astype(int)\n",
    "\n",
    "# Создаём столбец finished - завершен ли контракт или нет\n",
    "contract_data['finished'] = contract_data['enddate'].notna().astype(int)\n",
    "\n",
    "# Проверим распределение признака finished\n",
    "print(contract_data['finished'].value_counts())"
   ]
  },
  {
   "cell_type": "markdown",
   "id": "ddceced7",
   "metadata": {},
   "source": [
    "## Объединение таблиц"
   ]
  },
  {
   "cell_type": "markdown",
   "id": "5564d6bf",
   "metadata": {},
   "source": [
    "Выполняем объединение таблиц:"
   ]
  },
  {
   "cell_type": "code",
   "execution_count": 14,
   "id": "71639092",
   "metadata": {},
   "outputs": [
    {
     "data": {
      "text/html": [
       "<div>\n",
       "<style scoped>\n",
       "    .dataframe tbody tr th:only-of-type {\n",
       "        vertical-align: middle;\n",
       "    }\n",
       "\n",
       "    .dataframe tbody tr th {\n",
       "        vertical-align: top;\n",
       "    }\n",
       "\n",
       "    .dataframe thead th {\n",
       "        text-align: right;\n",
       "    }\n",
       "</style>\n",
       "<table border=\"1\" class=\"dataframe\">\n",
       "  <thead>\n",
       "    <tr style=\"text-align: right;\">\n",
       "      <th></th>\n",
       "      <th>customerid</th>\n",
       "      <th>begindate</th>\n",
       "      <th>enddate</th>\n",
       "      <th>type</th>\n",
       "      <th>paperlessbilling</th>\n",
       "      <th>paymentmethod</th>\n",
       "      <th>monthlycharges</th>\n",
       "      <th>totalcharges</th>\n",
       "      <th>days_on_contract</th>\n",
       "      <th>has_internet</th>\n",
       "      <th>...</th>\n",
       "      <th>partner</th>\n",
       "      <th>dependents</th>\n",
       "      <th>internetservice</th>\n",
       "      <th>onlinesecurity</th>\n",
       "      <th>onlinebackup</th>\n",
       "      <th>deviceprotection</th>\n",
       "      <th>techsupport</th>\n",
       "      <th>streamingtv</th>\n",
       "      <th>streamingmovies</th>\n",
       "      <th>multiplelines</th>\n",
       "    </tr>\n",
       "  </thead>\n",
       "  <tbody>\n",
       "    <tr>\n",
       "      <th>0</th>\n",
       "      <td>7590-VHVEG</td>\n",
       "      <td>2020-01-01</td>\n",
       "      <td>NaT</td>\n",
       "      <td>Month-to-month</td>\n",
       "      <td>Yes</td>\n",
       "      <td>Electronic check</td>\n",
       "      <td>29.85</td>\n",
       "      <td>31.04</td>\n",
       "      <td>31</td>\n",
       "      <td>1</td>\n",
       "      <td>...</td>\n",
       "      <td>Yes</td>\n",
       "      <td>No</td>\n",
       "      <td>DSL</td>\n",
       "      <td>No</td>\n",
       "      <td>Yes</td>\n",
       "      <td>No</td>\n",
       "      <td>No</td>\n",
       "      <td>No</td>\n",
       "      <td>No</td>\n",
       "      <td>NaN</td>\n",
       "    </tr>\n",
       "    <tr>\n",
       "      <th>1</th>\n",
       "      <td>5575-GNVDE</td>\n",
       "      <td>2017-04-01</td>\n",
       "      <td>NaT</td>\n",
       "      <td>One year</td>\n",
       "      <td>No</td>\n",
       "      <td>Mailed check</td>\n",
       "      <td>56.95</td>\n",
       "      <td>2071.84</td>\n",
       "      <td>1036</td>\n",
       "      <td>1</td>\n",
       "      <td>...</td>\n",
       "      <td>No</td>\n",
       "      <td>No</td>\n",
       "      <td>DSL</td>\n",
       "      <td>Yes</td>\n",
       "      <td>No</td>\n",
       "      <td>Yes</td>\n",
       "      <td>No</td>\n",
       "      <td>No</td>\n",
       "      <td>No</td>\n",
       "      <td>No</td>\n",
       "    </tr>\n",
       "    <tr>\n",
       "      <th>2</th>\n",
       "      <td>3668-QPYBK</td>\n",
       "      <td>2019-10-01</td>\n",
       "      <td>NaT</td>\n",
       "      <td>Month-to-month</td>\n",
       "      <td>Yes</td>\n",
       "      <td>Mailed check</td>\n",
       "      <td>53.85</td>\n",
       "      <td>226.17</td>\n",
       "      <td>123</td>\n",
       "      <td>1</td>\n",
       "      <td>...</td>\n",
       "      <td>No</td>\n",
       "      <td>No</td>\n",
       "      <td>DSL</td>\n",
       "      <td>Yes</td>\n",
       "      <td>Yes</td>\n",
       "      <td>No</td>\n",
       "      <td>No</td>\n",
       "      <td>No</td>\n",
       "      <td>No</td>\n",
       "      <td>No</td>\n",
       "    </tr>\n",
       "    <tr>\n",
       "      <th>3</th>\n",
       "      <td>7795-CFOCW</td>\n",
       "      <td>2016-05-01</td>\n",
       "      <td>NaT</td>\n",
       "      <td>One year</td>\n",
       "      <td>No</td>\n",
       "      <td>Bank transfer (automatic)</td>\n",
       "      <td>42.30</td>\n",
       "      <td>1960.60</td>\n",
       "      <td>1371</td>\n",
       "      <td>1</td>\n",
       "      <td>...</td>\n",
       "      <td>No</td>\n",
       "      <td>No</td>\n",
       "      <td>DSL</td>\n",
       "      <td>Yes</td>\n",
       "      <td>No</td>\n",
       "      <td>Yes</td>\n",
       "      <td>Yes</td>\n",
       "      <td>No</td>\n",
       "      <td>No</td>\n",
       "      <td>NaN</td>\n",
       "    </tr>\n",
       "    <tr>\n",
       "      <th>4</th>\n",
       "      <td>9237-HQITU</td>\n",
       "      <td>2019-09-01</td>\n",
       "      <td>NaT</td>\n",
       "      <td>Month-to-month</td>\n",
       "      <td>Yes</td>\n",
       "      <td>Electronic check</td>\n",
       "      <td>70.70</td>\n",
       "      <td>353.50</td>\n",
       "      <td>153</td>\n",
       "      <td>1</td>\n",
       "      <td>...</td>\n",
       "      <td>No</td>\n",
       "      <td>No</td>\n",
       "      <td>Fiber optic</td>\n",
       "      <td>No</td>\n",
       "      <td>No</td>\n",
       "      <td>No</td>\n",
       "      <td>No</td>\n",
       "      <td>No</td>\n",
       "      <td>No</td>\n",
       "      <td>No</td>\n",
       "    </tr>\n",
       "  </tbody>\n",
       "</table>\n",
       "<p>5 rows × 24 columns</p>\n",
       "</div>"
      ],
      "text/plain": [
       "   customerid  begindate enddate            type paperlessbilling  \\\n",
       "0  7590-VHVEG 2020-01-01     NaT  Month-to-month              Yes   \n",
       "1  5575-GNVDE 2017-04-01     NaT        One year               No   \n",
       "2  3668-QPYBK 2019-10-01     NaT  Month-to-month              Yes   \n",
       "3  7795-CFOCW 2016-05-01     NaT        One year               No   \n",
       "4  9237-HQITU 2019-09-01     NaT  Month-to-month              Yes   \n",
       "\n",
       "               paymentmethod  monthlycharges  totalcharges  days_on_contract  \\\n",
       "0           Electronic check           29.85         31.04                31   \n",
       "1               Mailed check           56.95       2071.84              1036   \n",
       "2               Mailed check           53.85        226.17               123   \n",
       "3  Bank transfer (automatic)           42.30       1960.60              1371   \n",
       "4           Electronic check           70.70        353.50               153   \n",
       "\n",
       "   has_internet  ...  partner  dependents internetservice  onlinesecurity  \\\n",
       "0             1  ...      Yes          No             DSL              No   \n",
       "1             1  ...       No          No             DSL             Yes   \n",
       "2             1  ...       No          No             DSL             Yes   \n",
       "3             1  ...       No          No             DSL             Yes   \n",
       "4             1  ...       No          No     Fiber optic              No   \n",
       "\n",
       "  onlinebackup deviceprotection techsupport streamingtv streamingmovies  \\\n",
       "0          Yes               No          No          No              No   \n",
       "1           No              Yes          No          No              No   \n",
       "2          Yes               No          No          No              No   \n",
       "3           No              Yes         Yes          No              No   \n",
       "4           No               No          No          No              No   \n",
       "\n",
       "  multiplelines  \n",
       "0           NaN  \n",
       "1            No  \n",
       "2            No  \n",
       "3           NaN  \n",
       "4            No  \n",
       "\n",
       "[5 rows x 24 columns]"
      ]
     },
     "metadata": {},
     "output_type": "display_data"
    },
    {
     "name": "stdout",
     "output_type": "stream",
     "text": [
      "<class 'pandas.core.frame.DataFrame'>\n",
      "Int64Index: 7043 entries, 0 to 7042\n",
      "Data columns (total 24 columns):\n",
      " #   Column            Non-Null Count  Dtype         \n",
      "---  ------            --------------  -----         \n",
      " 0   customerid        7043 non-null   object        \n",
      " 1   begindate         7043 non-null   datetime64[ns]\n",
      " 2   enddate           1101 non-null   datetime64[ns]\n",
      " 3   type              7043 non-null   object        \n",
      " 4   paperlessbilling  7043 non-null   object        \n",
      " 5   paymentmethod     7043 non-null   object        \n",
      " 6   monthlycharges    7043 non-null   float64       \n",
      " 7   totalcharges      7032 non-null   float64       \n",
      " 8   days_on_contract  7043 non-null   int64         \n",
      " 9   has_internet      7043 non-null   int64         \n",
      " 10  has_phone         7043 non-null   int64         \n",
      " 11  finished          7043 non-null   int64         \n",
      " 12  gender            7043 non-null   object        \n",
      " 13  seniorcitizen     7043 non-null   int64         \n",
      " 14  partner           7043 non-null   object        \n",
      " 15  dependents        7043 non-null   object        \n",
      " 16  internetservice   5517 non-null   object        \n",
      " 17  onlinesecurity    5517 non-null   object        \n",
      " 18  onlinebackup      5517 non-null   object        \n",
      " 19  deviceprotection  5517 non-null   object        \n",
      " 20  techsupport       5517 non-null   object        \n",
      " 21  streamingtv       5517 non-null   object        \n",
      " 22  streamingmovies   5517 non-null   object        \n",
      " 23  multiplelines     6361 non-null   object        \n",
      "dtypes: datetime64[ns](2), float64(2), int64(5), object(15)\n",
      "memory usage: 1.3+ MB\n"
     ]
    }
   ],
   "source": [
    "# объединяем contract_data и personal_data\n",
    "full_data = contract_data.merge(personal_data, on='customerid', how='left')\n",
    "\n",
    "# объединяем с internet_data\n",
    "full_data = full_data.merge(internet_data, on='customerid', how='left')\n",
    "\n",
    "# объединяем с phone_data\n",
    "full_data = full_data.merge(phone_data, on='customerid', how='left')\n",
    "\n",
    "#проверяем результат\n",
    "\n",
    "display(full_data.head())\n",
    "full_data.info()"
   ]
  },
  {
   "cell_type": "markdown",
   "id": "3eca2ac3",
   "metadata": {},
   "source": [
    "Выполняем замену значений признаков NaN на No для отсутствующих интернет услуг или телефона:"
   ]
  },
  {
   "cell_type": "code",
   "execution_count": 15,
   "id": "9d7746d1",
   "metadata": {},
   "outputs": [
    {
     "name": "stdout",
     "output_type": "stream",
     "text": [
      "customerid             0\n",
      "begindate              0\n",
      "enddate             5942\n",
      "type                   0\n",
      "paperlessbilling       0\n",
      "paymentmethod          0\n",
      "monthlycharges         0\n",
      "totalcharges          11\n",
      "days_on_contract       0\n",
      "has_internet           0\n",
      "has_phone              0\n",
      "finished               0\n",
      "gender                 0\n",
      "seniorcitizen          0\n",
      "partner                0\n",
      "dependents             0\n",
      "internetservice     1526\n",
      "onlinesecurity      1526\n",
      "onlinebackup        1526\n",
      "deviceprotection    1526\n",
      "techsupport         1526\n",
      "streamingtv         1526\n",
      "streamingmovies     1526\n",
      "multiplelines        682\n",
      "dtype: int64\n"
     ]
    },
    {
     "data": {
      "text/html": [
       "<div>\n",
       "<style scoped>\n",
       "    .dataframe tbody tr th:only-of-type {\n",
       "        vertical-align: middle;\n",
       "    }\n",
       "\n",
       "    .dataframe tbody tr th {\n",
       "        vertical-align: top;\n",
       "    }\n",
       "\n",
       "    .dataframe thead th {\n",
       "        text-align: right;\n",
       "    }\n",
       "</style>\n",
       "<table border=\"1\" class=\"dataframe\">\n",
       "  <thead>\n",
       "    <tr style=\"text-align: right;\">\n",
       "      <th></th>\n",
       "      <th>customerid</th>\n",
       "      <th>begindate</th>\n",
       "      <th>enddate</th>\n",
       "      <th>type</th>\n",
       "      <th>paperlessbilling</th>\n",
       "      <th>paymentmethod</th>\n",
       "      <th>monthlycharges</th>\n",
       "      <th>totalcharges</th>\n",
       "      <th>days_on_contract</th>\n",
       "      <th>has_internet</th>\n",
       "      <th>has_phone</th>\n",
       "      <th>finished</th>\n",
       "      <th>gender</th>\n",
       "      <th>seniorcitizen</th>\n",
       "      <th>partner</th>\n",
       "      <th>dependents</th>\n",
       "      <th>internetservice</th>\n",
       "      <th>onlinesecurity</th>\n",
       "      <th>onlinebackup</th>\n",
       "      <th>deviceprotection</th>\n",
       "      <th>techsupport</th>\n",
       "      <th>streamingtv</th>\n",
       "      <th>streamingmovies</th>\n",
       "      <th>multiplelines</th>\n",
       "    </tr>\n",
       "  </thead>\n",
       "  <tbody>\n",
       "    <tr>\n",
       "      <th>0</th>\n",
       "      <td>7590-VHVEG</td>\n",
       "      <td>2020-01-01</td>\n",
       "      <td>NaT</td>\n",
       "      <td>Month-to-month</td>\n",
       "      <td>Yes</td>\n",
       "      <td>Electronic check</td>\n",
       "      <td>29.85</td>\n",
       "      <td>31.04</td>\n",
       "      <td>31</td>\n",
       "      <td>1</td>\n",
       "      <td>0</td>\n",
       "      <td>0</td>\n",
       "      <td>Female</td>\n",
       "      <td>0</td>\n",
       "      <td>Yes</td>\n",
       "      <td>No</td>\n",
       "      <td>DSL</td>\n",
       "      <td>No</td>\n",
       "      <td>Yes</td>\n",
       "      <td>No</td>\n",
       "      <td>No</td>\n",
       "      <td>No</td>\n",
       "      <td>No</td>\n",
       "      <td>NaN</td>\n",
       "    </tr>\n",
       "    <tr>\n",
       "      <th>1</th>\n",
       "      <td>5575-GNVDE</td>\n",
       "      <td>2017-04-01</td>\n",
       "      <td>NaT</td>\n",
       "      <td>One year</td>\n",
       "      <td>No</td>\n",
       "      <td>Mailed check</td>\n",
       "      <td>56.95</td>\n",
       "      <td>2071.84</td>\n",
       "      <td>1036</td>\n",
       "      <td>1</td>\n",
       "      <td>1</td>\n",
       "      <td>0</td>\n",
       "      <td>Male</td>\n",
       "      <td>0</td>\n",
       "      <td>No</td>\n",
       "      <td>No</td>\n",
       "      <td>DSL</td>\n",
       "      <td>Yes</td>\n",
       "      <td>No</td>\n",
       "      <td>Yes</td>\n",
       "      <td>No</td>\n",
       "      <td>No</td>\n",
       "      <td>No</td>\n",
       "      <td>No</td>\n",
       "    </tr>\n",
       "    <tr>\n",
       "      <th>2</th>\n",
       "      <td>3668-QPYBK</td>\n",
       "      <td>2019-10-01</td>\n",
       "      <td>NaT</td>\n",
       "      <td>Month-to-month</td>\n",
       "      <td>Yes</td>\n",
       "      <td>Mailed check</td>\n",
       "      <td>53.85</td>\n",
       "      <td>226.17</td>\n",
       "      <td>123</td>\n",
       "      <td>1</td>\n",
       "      <td>1</td>\n",
       "      <td>0</td>\n",
       "      <td>Male</td>\n",
       "      <td>0</td>\n",
       "      <td>No</td>\n",
       "      <td>No</td>\n",
       "      <td>DSL</td>\n",
       "      <td>Yes</td>\n",
       "      <td>Yes</td>\n",
       "      <td>No</td>\n",
       "      <td>No</td>\n",
       "      <td>No</td>\n",
       "      <td>No</td>\n",
       "      <td>No</td>\n",
       "    </tr>\n",
       "    <tr>\n",
       "      <th>3</th>\n",
       "      <td>7795-CFOCW</td>\n",
       "      <td>2016-05-01</td>\n",
       "      <td>NaT</td>\n",
       "      <td>One year</td>\n",
       "      <td>No</td>\n",
       "      <td>Bank transfer (automatic)</td>\n",
       "      <td>42.30</td>\n",
       "      <td>1960.60</td>\n",
       "      <td>1371</td>\n",
       "      <td>1</td>\n",
       "      <td>0</td>\n",
       "      <td>0</td>\n",
       "      <td>Male</td>\n",
       "      <td>0</td>\n",
       "      <td>No</td>\n",
       "      <td>No</td>\n",
       "      <td>DSL</td>\n",
       "      <td>Yes</td>\n",
       "      <td>No</td>\n",
       "      <td>Yes</td>\n",
       "      <td>Yes</td>\n",
       "      <td>No</td>\n",
       "      <td>No</td>\n",
       "      <td>NaN</td>\n",
       "    </tr>\n",
       "    <tr>\n",
       "      <th>4</th>\n",
       "      <td>9237-HQITU</td>\n",
       "      <td>2019-09-01</td>\n",
       "      <td>NaT</td>\n",
       "      <td>Month-to-month</td>\n",
       "      <td>Yes</td>\n",
       "      <td>Electronic check</td>\n",
       "      <td>70.70</td>\n",
       "      <td>353.50</td>\n",
       "      <td>153</td>\n",
       "      <td>1</td>\n",
       "      <td>1</td>\n",
       "      <td>0</td>\n",
       "      <td>Female</td>\n",
       "      <td>0</td>\n",
       "      <td>No</td>\n",
       "      <td>No</td>\n",
       "      <td>Fiber optic</td>\n",
       "      <td>No</td>\n",
       "      <td>No</td>\n",
       "      <td>No</td>\n",
       "      <td>No</td>\n",
       "      <td>No</td>\n",
       "      <td>No</td>\n",
       "      <td>No</td>\n",
       "    </tr>\n",
       "  </tbody>\n",
       "</table>\n",
       "</div>"
      ],
      "text/plain": [
       "   customerid  begindate enddate            type paperlessbilling  \\\n",
       "0  7590-VHVEG 2020-01-01     NaT  Month-to-month              Yes   \n",
       "1  5575-GNVDE 2017-04-01     NaT        One year               No   \n",
       "2  3668-QPYBK 2019-10-01     NaT  Month-to-month              Yes   \n",
       "3  7795-CFOCW 2016-05-01     NaT        One year               No   \n",
       "4  9237-HQITU 2019-09-01     NaT  Month-to-month              Yes   \n",
       "\n",
       "               paymentmethod  monthlycharges  totalcharges  days_on_contract  \\\n",
       "0           Electronic check           29.85         31.04                31   \n",
       "1               Mailed check           56.95       2071.84              1036   \n",
       "2               Mailed check           53.85        226.17               123   \n",
       "3  Bank transfer (automatic)           42.30       1960.60              1371   \n",
       "4           Electronic check           70.70        353.50               153   \n",
       "\n",
       "   has_internet  has_phone  finished  gender  seniorcitizen partner  \\\n",
       "0             1          0         0  Female              0     Yes   \n",
       "1             1          1         0    Male              0      No   \n",
       "2             1          1         0    Male              0      No   \n",
       "3             1          0         0    Male              0      No   \n",
       "4             1          1         0  Female              0      No   \n",
       "\n",
       "  dependents internetservice onlinesecurity onlinebackup deviceprotection  \\\n",
       "0         No             DSL             No          Yes               No   \n",
       "1         No             DSL            Yes           No              Yes   \n",
       "2         No             DSL            Yes          Yes               No   \n",
       "3         No             DSL            Yes           No              Yes   \n",
       "4         No     Fiber optic             No           No               No   \n",
       "\n",
       "  techsupport streamingtv streamingmovies multiplelines  \n",
       "0          No          No              No           NaN  \n",
       "1          No          No              No            No  \n",
       "2          No          No              No            No  \n",
       "3         Yes          No              No           NaN  \n",
       "4          No          No              No            No  "
      ]
     },
     "metadata": {},
     "output_type": "display_data"
    }
   ],
   "source": [
    "# Проверяем количество пропусков\n",
    "print(full_data.isna().sum())\n",
    "\n",
    "# Выводим все столбцы\n",
    "pd.set_option('display.max_columns', None)\n",
    "\n",
    "# Выводим датасет\n",
    "display(full_data.head())"
   ]
  },
  {
   "cell_type": "markdown",
   "id": "c1258375",
   "metadata": {},
   "source": [
    "Пропуски в столбцах с услугами интернета и телефония оставим, так как их появление связано с тем что у пользователей без интернета или телефонии нет соответствующих услуг, а замена NaN на \"No\" не меняет факта наличия/отсутсвия подлюченного интернета/телефона."
   ]
  },
  {
   "cell_type": "markdown",
   "id": "f15065d7",
   "metadata": {},
   "source": [
    "Удалим строки с пустыми значениями признака totalcharges, так как их доля в ощем объеме датасета незначительна и составляет всего порядка ~ 0.16 процента от общего объема объединенного датасета:\n"
   ]
  },
  {
   "cell_type": "code",
   "execution_count": 16,
   "id": "97496908",
   "metadata": {},
   "outputs": [
    {
     "name": "stdout",
     "output_type": "stream",
     "text": [
      "customerid             0\n",
      "begindate              0\n",
      "enddate             5931\n",
      "type                   0\n",
      "paperlessbilling       0\n",
      "paymentmethod          0\n",
      "monthlycharges         0\n",
      "totalcharges           0\n",
      "days_on_contract       0\n",
      "has_internet           0\n",
      "has_phone              0\n",
      "finished               0\n",
      "gender                 0\n",
      "seniorcitizen          0\n",
      "partner                0\n",
      "dependents             0\n",
      "internetservice     1520\n",
      "onlinesecurity      1520\n",
      "onlinebackup        1520\n",
      "deviceprotection    1520\n",
      "techsupport         1520\n",
      "streamingtv         1520\n",
      "streamingmovies     1520\n",
      "multiplelines        680\n",
      "dtype: int64\n"
     ]
    },
    {
     "data": {
      "text/html": [
       "<div>\n",
       "<style scoped>\n",
       "    .dataframe tbody tr th:only-of-type {\n",
       "        vertical-align: middle;\n",
       "    }\n",
       "\n",
       "    .dataframe tbody tr th {\n",
       "        vertical-align: top;\n",
       "    }\n",
       "\n",
       "    .dataframe thead th {\n",
       "        text-align: right;\n",
       "    }\n",
       "</style>\n",
       "<table border=\"1\" class=\"dataframe\">\n",
       "  <thead>\n",
       "    <tr style=\"text-align: right;\">\n",
       "      <th></th>\n",
       "      <th>customerid</th>\n",
       "      <th>begindate</th>\n",
       "      <th>enddate</th>\n",
       "      <th>type</th>\n",
       "      <th>paperlessbilling</th>\n",
       "      <th>paymentmethod</th>\n",
       "      <th>monthlycharges</th>\n",
       "      <th>totalcharges</th>\n",
       "      <th>days_on_contract</th>\n",
       "      <th>has_internet</th>\n",
       "      <th>has_phone</th>\n",
       "      <th>finished</th>\n",
       "      <th>gender</th>\n",
       "      <th>seniorcitizen</th>\n",
       "      <th>partner</th>\n",
       "      <th>dependents</th>\n",
       "      <th>internetservice</th>\n",
       "      <th>onlinesecurity</th>\n",
       "      <th>onlinebackup</th>\n",
       "      <th>deviceprotection</th>\n",
       "      <th>techsupport</th>\n",
       "      <th>streamingtv</th>\n",
       "      <th>streamingmovies</th>\n",
       "      <th>multiplelines</th>\n",
       "    </tr>\n",
       "  </thead>\n",
       "  <tbody>\n",
       "    <tr>\n",
       "      <th>0</th>\n",
       "      <td>7590-VHVEG</td>\n",
       "      <td>2020-01-01</td>\n",
       "      <td>NaT</td>\n",
       "      <td>Month-to-month</td>\n",
       "      <td>Yes</td>\n",
       "      <td>Electronic check</td>\n",
       "      <td>29.85</td>\n",
       "      <td>31.04</td>\n",
       "      <td>31</td>\n",
       "      <td>1</td>\n",
       "      <td>0</td>\n",
       "      <td>0</td>\n",
       "      <td>Female</td>\n",
       "      <td>0</td>\n",
       "      <td>Yes</td>\n",
       "      <td>No</td>\n",
       "      <td>DSL</td>\n",
       "      <td>No</td>\n",
       "      <td>Yes</td>\n",
       "      <td>No</td>\n",
       "      <td>No</td>\n",
       "      <td>No</td>\n",
       "      <td>No</td>\n",
       "      <td>NaN</td>\n",
       "    </tr>\n",
       "    <tr>\n",
       "      <th>1</th>\n",
       "      <td>5575-GNVDE</td>\n",
       "      <td>2017-04-01</td>\n",
       "      <td>NaT</td>\n",
       "      <td>One year</td>\n",
       "      <td>No</td>\n",
       "      <td>Mailed check</td>\n",
       "      <td>56.95</td>\n",
       "      <td>2071.84</td>\n",
       "      <td>1036</td>\n",
       "      <td>1</td>\n",
       "      <td>1</td>\n",
       "      <td>0</td>\n",
       "      <td>Male</td>\n",
       "      <td>0</td>\n",
       "      <td>No</td>\n",
       "      <td>No</td>\n",
       "      <td>DSL</td>\n",
       "      <td>Yes</td>\n",
       "      <td>No</td>\n",
       "      <td>Yes</td>\n",
       "      <td>No</td>\n",
       "      <td>No</td>\n",
       "      <td>No</td>\n",
       "      <td>No</td>\n",
       "    </tr>\n",
       "    <tr>\n",
       "      <th>2</th>\n",
       "      <td>3668-QPYBK</td>\n",
       "      <td>2019-10-01</td>\n",
       "      <td>NaT</td>\n",
       "      <td>Month-to-month</td>\n",
       "      <td>Yes</td>\n",
       "      <td>Mailed check</td>\n",
       "      <td>53.85</td>\n",
       "      <td>226.17</td>\n",
       "      <td>123</td>\n",
       "      <td>1</td>\n",
       "      <td>1</td>\n",
       "      <td>0</td>\n",
       "      <td>Male</td>\n",
       "      <td>0</td>\n",
       "      <td>No</td>\n",
       "      <td>No</td>\n",
       "      <td>DSL</td>\n",
       "      <td>Yes</td>\n",
       "      <td>Yes</td>\n",
       "      <td>No</td>\n",
       "      <td>No</td>\n",
       "      <td>No</td>\n",
       "      <td>No</td>\n",
       "      <td>No</td>\n",
       "    </tr>\n",
       "    <tr>\n",
       "      <th>3</th>\n",
       "      <td>7795-CFOCW</td>\n",
       "      <td>2016-05-01</td>\n",
       "      <td>NaT</td>\n",
       "      <td>One year</td>\n",
       "      <td>No</td>\n",
       "      <td>Bank transfer (automatic)</td>\n",
       "      <td>42.30</td>\n",
       "      <td>1960.60</td>\n",
       "      <td>1371</td>\n",
       "      <td>1</td>\n",
       "      <td>0</td>\n",
       "      <td>0</td>\n",
       "      <td>Male</td>\n",
       "      <td>0</td>\n",
       "      <td>No</td>\n",
       "      <td>No</td>\n",
       "      <td>DSL</td>\n",
       "      <td>Yes</td>\n",
       "      <td>No</td>\n",
       "      <td>Yes</td>\n",
       "      <td>Yes</td>\n",
       "      <td>No</td>\n",
       "      <td>No</td>\n",
       "      <td>NaN</td>\n",
       "    </tr>\n",
       "    <tr>\n",
       "      <th>4</th>\n",
       "      <td>9237-HQITU</td>\n",
       "      <td>2019-09-01</td>\n",
       "      <td>NaT</td>\n",
       "      <td>Month-to-month</td>\n",
       "      <td>Yes</td>\n",
       "      <td>Electronic check</td>\n",
       "      <td>70.70</td>\n",
       "      <td>353.50</td>\n",
       "      <td>153</td>\n",
       "      <td>1</td>\n",
       "      <td>1</td>\n",
       "      <td>0</td>\n",
       "      <td>Female</td>\n",
       "      <td>0</td>\n",
       "      <td>No</td>\n",
       "      <td>No</td>\n",
       "      <td>Fiber optic</td>\n",
       "      <td>No</td>\n",
       "      <td>No</td>\n",
       "      <td>No</td>\n",
       "      <td>No</td>\n",
       "      <td>No</td>\n",
       "      <td>No</td>\n",
       "      <td>No</td>\n",
       "    </tr>\n",
       "  </tbody>\n",
       "</table>\n",
       "</div>"
      ],
      "text/plain": [
       "   customerid  begindate enddate            type paperlessbilling  \\\n",
       "0  7590-VHVEG 2020-01-01     NaT  Month-to-month              Yes   \n",
       "1  5575-GNVDE 2017-04-01     NaT        One year               No   \n",
       "2  3668-QPYBK 2019-10-01     NaT  Month-to-month              Yes   \n",
       "3  7795-CFOCW 2016-05-01     NaT        One year               No   \n",
       "4  9237-HQITU 2019-09-01     NaT  Month-to-month              Yes   \n",
       "\n",
       "               paymentmethod  monthlycharges  totalcharges  days_on_contract  \\\n",
       "0           Electronic check           29.85         31.04                31   \n",
       "1               Mailed check           56.95       2071.84              1036   \n",
       "2               Mailed check           53.85        226.17               123   \n",
       "3  Bank transfer (automatic)           42.30       1960.60              1371   \n",
       "4           Electronic check           70.70        353.50               153   \n",
       "\n",
       "   has_internet  has_phone  finished  gender  seniorcitizen partner  \\\n",
       "0             1          0         0  Female              0     Yes   \n",
       "1             1          1         0    Male              0      No   \n",
       "2             1          1         0    Male              0      No   \n",
       "3             1          0         0    Male              0      No   \n",
       "4             1          1         0  Female              0      No   \n",
       "\n",
       "  dependents internetservice onlinesecurity onlinebackup deviceprotection  \\\n",
       "0         No             DSL             No          Yes               No   \n",
       "1         No             DSL            Yes           No              Yes   \n",
       "2         No             DSL            Yes          Yes               No   \n",
       "3         No             DSL            Yes           No              Yes   \n",
       "4         No     Fiber optic             No           No               No   \n",
       "\n",
       "  techsupport streamingtv streamingmovies multiplelines  \n",
       "0          No          No              No           NaN  \n",
       "1          No          No              No            No  \n",
       "2          No          No              No            No  \n",
       "3         Yes          No              No           NaN  \n",
       "4          No          No              No            No  "
      ]
     },
     "metadata": {},
     "output_type": "display_data"
    }
   ],
   "source": [
    "indexes_to_drop = full_data[full_data['totalcharges'].isna()].index\n",
    "\n",
    "full_data = full_data.drop(indexes_to_drop)\n",
    "full_data.reset_index(drop=True, inplace=True)\n",
    "\n",
    "#проверяем результат\n",
    "\n",
    "print(full_data.isna().sum())  \n",
    "display(full_data.head())"
   ]
  },
  {
   "cell_type": "markdown",
   "id": "ace641f0",
   "metadata": {},
   "source": [
    "### Вывод по объединению таблиц:\n",
    "\n",
    "1. Процесс объединения:\n",
    " - Таблицы объединены по ключу `customerID`:\n",
    "    - В качестве базовых использованы `contract_data` и `personal_data`, так как они включают информацию обо всех клиентах. \n",
    "    - Таблицы internet_data и phone_data добавлены с данными только для клиентов, использующих соответствующие услуги.\n",
    "\n",
    "\n",
    "2. Обработка пропущенных данных:\n",
    "- После объединения:\n",
    "    - У клиентов без интернет-услуг в соответствующих столбцах указано 'No'.\n",
    "    - Для клиентов без телефонии в столбце `multiplelines` также указано 'No'.\n",
    "    - Для флагов (`has_internet`, `has_phone`) отсутствующие значения заменены на 0, что означает отсутствие услуги.\n",
    "\n",
    "3. Формирование целевого признака:\n",
    "- Добавлен признак `finished`, основанный на столбце `EndDate`:\n",
    "    - 1 — клиент расторг договор.\n",
    "    - 0 — договор остается активным.\n",
    "\n",
    "\n",
    "**Результат:**\n",
    "\n",
    "Все данные объединены в единый датафрейм.\n",
    "Пропущенные значения обработаны, метки и категории добавлены.\n",
    "Данные готовы для анализа и дальнейшего использования в обучении модели."
   ]
  },
  {
   "cell_type": "markdown",
   "id": "77b27552",
   "metadata": {},
   "source": [
    "## Анализ категориальных признаков\n",
    "\n",
    "### Распределение целевого признака (finished)\n",
    "\n",
    "\n",
    "Большая часть клиентов остаётся с компанией (85% активных и 15% ушедших). Это говорит о дисбалансе классов, что важно учитывать при обучении модели:\n",
    "\n",
    "Влияние на модель: Необходимо будет либо использовать методы борьбы с дисбалансом (например, взвешивание классов), либо выбирать метрики, которые учитывают дисбаланс (например, F1-score или AUC-ROC)."
   ]
  },
  {
   "cell_type": "code",
   "execution_count": 17,
   "id": "ec5198a8",
   "metadata": {},
   "outputs": [
    {
     "data": {
      "image/png": "[encoded data removed]",
      "text/plain": [
       "<Figure size 432x288 with 1 Axes>"
      ]
     },
     "metadata": {
      "needs_background": "light"
     },
     "output_type": "display_data"
    },
    {
     "name": "stdout",
     "output_type": "stream",
     "text": [
      "0    5931\n",
      "1    1101\n",
      "Name: finished, dtype: int64\n"
     ]
    }
   ],
   "source": [
    "# Распределение признака finished\n",
    "finished_counts = full_data['finished'].value_counts()\n",
    "\n",
    "plt.figure(figsize=(6, 4))\n",
    "finished_counts.plot(kind='bar', color=['green', 'lightblue'], alpha=0.8)\n",
    "plt.title(\"Распределение целевого признака (finished)\")\n",
    "plt.xlabel(\"finished (0 = активные, 1 = ушедшие)\")\n",
    "plt.ylabel(\"Количество клиентов\")\n",
    "plt.xticks(rotation=0)\n",
    "plt.show()\n",
    "\n",
    "# Вывод числовых данных\n",
    "print(finished_counts)"
   ]
  },
  {
   "cell_type": "code",
   "execution_count": 18,
   "id": "cdc066fe",
   "metadata": {},
   "outputs": [
    {
     "data": {
      "image/png": "[encoded data removed]",
      "text/plain": [
       "<Figure size 1440x1152 with 14 Axes>"
      ]
     },
     "metadata": {
      "needs_background": "light"
     },
     "output_type": "display_data"
    }
   ],
   "source": [
    "# Список категориальных признаков\n",
    "categorical_columns = ['gender', 'partner', 'dependents', 'internetservice', \n",
    "                       'onlinesecurity', 'onlinebackup', 'deviceprotection', \n",
    "                       'techsupport', 'streamingtv', 'streamingmovies', \n",
    "                       'multiplelines', 'paymentmethod', 'type', 'paperlessbilling']\n",
    "\n",
    "# Настройка размера сетки\n",
    "rows = 4\n",
    "cols = 4\n",
    "fig, axes = plt.subplots(rows, cols, figsize=(20, 16))\n",
    "axes = axes.flatten()  # Преобразуем оси в одномерный массив для удобства\n",
    "\n",
    "# Построение графиков\n",
    "for i, column in enumerate(categorical_columns):\n",
    "    full_data[column].value_counts().plot(kind='bar', alpha=0.8, color='green', ax=axes[i])\n",
    "    axes[i].set_title(f\"{column}\")\n",
    "    axes[i].set_xlabel(\"\")\n",
    "    axes[i].set_ylabel(\"Количество\")\n",
    "    axes[i].tick_params(axis='x', rotation=45)\n",
    "\n",
    "# Удаление пустых графиков, если категорий меньше сетки\n",
    "for j in range(i + 1, len(axes)):\n",
    "    fig.delaxes(axes[j])\n",
    "\n",
    "plt.tight_layout()\n",
    "plt.show()"
   ]
  },
  {
   "cell_type": "markdown",
   "id": "4965cf00",
   "metadata": {},
   "source": [
    "**Распределение категориальных признаков:**\n",
    "- Признаки, такие как пол (`gender`) и наличие партнёра (`partner`), распределены относительно равномерно.\n",
    "- Большинство клиентов не имеют детей (`dependents`).\n",
    "- Более популярным типом подключения является оптоволоконный интернет (`Fiber optic`), по сравнению с `DSL`, хотя значительная часть клиентов не пользуется интернет-услугами.\n",
    "- Большинство клиентов не используют дополнительные услуги, такие как `onlinesecurity`, `onlinebackup` и `techsupport`, что может быть связано с высокой стоимостью или отсутствием потребности.\n",
    "- Наибольшее количество клиентов имеет только одну телефонную линию (`multiplelines` = No).\n",
    "- Наиболее распространённый способ оплаты — электронный чек (`Electronic check`), однако автоматические платежи также занимают значительную долю.\n",
    "- Большинство клиентов предпочитают помесячную оплату (Month-to-month), что может указывать на отсутствие долгосрочной приверженности к контрактам."
   ]
  },
  {
   "cell_type": "code",
   "execution_count": 19,
   "id": "ab1b5204",
   "metadata": {},
   "outputs": [
    {
     "name": "stdout",
     "output_type": "stream",
     "text": [
      "Всего клиентов без интернета: 0\n",
      "Клиентов без интернета, которые разорвали договор: 0\n"
     ]
    }
   ],
   "source": [
    "# Выделяем клиентов без интернет-услуг\n",
    "no_internet_clients = full_data[full_data['internetservice'] == 'No']\n",
    "\n",
    "# Проверяем, сколько из них расторгли договор\n",
    "finished_no_internet = no_internet_clients['finished'].sum()\n",
    "\n",
    "# Вывод результатов\n",
    "print(f\"Всего клиентов без интернета: {len(no_internet_clients)}\")\n",
    "print(f\"Клиентов без интернета, которые разорвали договор: {finished_no_internet}\")"
   ]
  },
  {
   "cell_type": "markdown",
   "id": "245f7874",
   "metadata": {},
   "source": [
    "### Анализ столбца `internetservice`\n",
    "\n",
    "1. Клиенты с `internetservice = 'No'` (1526 человек) не пользуются интернет-услугами компании. Однако это не значит, что они расторгли договор.\n",
    "   - 160 из этих клиентов расторгли договор (10.5%).\n",
    "   - Остальные 1366 клиентов всё ещё активно пользуются другими услугами, такими как телефония.\n",
    "   \n",
    "\n",
    "2. Этот результат показывает, что значение `'No'` в `internetservice` можно трактовать как:\n",
    "   - Клиент никогда не подключал интернет.\n",
    "   \n",
    "\n",
    "3. Связь с `finished`:\n",
    "   - Среди клиентов с интернет-услугами вероятность расторжения договора выше, чем среди клиентов без интернета."
   ]
  },
  {
   "cell_type": "code",
   "execution_count": 20,
   "id": "90ad91f8",
   "metadata": {},
   "outputs": [
    {
     "data": {
      "image/png": "[encoded data removed]",
      "text/plain": [
       "<Figure size 1440x1152 with 14 Axes>"
      ]
     },
     "metadata": {
      "needs_background": "light"
     },
     "output_type": "display_data"
    }
   ],
   "source": [
    "# Настройка сетки графиков\n",
    "rows = 4\n",
    "cols = 4\n",
    "fig, axes = plt.subplots(rows, cols, figsize=(20, 16))\n",
    "axes = axes.flatten()  # Преобразуем оси в одномерный массив\n",
    "\n",
    "# Построение графиков\n",
    "for i, column in enumerate(categorical_columns):\n",
    "    sns.countplot(data=full_data, x=column, hue='finished', palette='muted', ax=axes[i])\n",
    "    axes[i].set_title(f\"{column} vs Finished\")\n",
    "    axes[i].set_xlabel(\"\")\n",
    "    axes[i].set_ylabel(\"Количество\")\n",
    "    axes[i].tick_params(axis='x', rotation=45)\n",
    "    axes[i].legend(title=\"Finished\", loc='upper right')\n",
    "\n",
    "# Удаление пустых графиков, если категорий меньше, чем ячеек\n",
    "for j in range(i + 1, len(axes)):\n",
    "    fig.delaxes(axes[j])\n",
    "\n",
    "plt.tight_layout()\n",
    "plt.show()"
   ]
  },
  {
   "cell_type": "markdown",
   "id": "e8889558",
   "metadata": {},
   "source": [
    "### Влияние категориальных признаков на `finished`\n",
    "\n",
    "- Клиенты без иждивенцев склонны чаще расторгать договоры (`finished`).\n",
    "- Пользователи оптоволоконного интернета (`Fiber optic`) уходят чаще, чем те, кто использует `DSL`, что может быть связано с ценой или качеством услуги.\n",
    "- Клиенты, не использующие дополнительные услуги (`onlinesecurity`, `onlinebackup`, `techsupport`), более подвержены уходу.\n",
    "- Оплата через электронный чек (`Electronic check`) ассоциируется с повышенным уровнем оттока.\n",
    "- Месячные планы (`Month-to-month`) гораздо чаще приводят к уходу, по сравнению с годовыми или двухлетними контрактами."
   ]
  },
  {
   "cell_type": "markdown",
   "id": "98bfa250",
   "metadata": {},
   "source": [
    "### Общие выводы\n",
    "- Клиенты, использующие оптоволоконный интернет, ограниченный набор услуг и выбирающие месячные договоры, имеют наибольший риск ухода.\n",
    "- Категориальные признаки выявляют значимые зависимости, которые могут быть полезны для создания модели классификации."
   ]
  },
  {
   "cell_type": "markdown",
   "id": "d4b39928",
   "metadata": {},
   "source": [
    "## Анализ числовых признаков"
   ]
  },
  {
   "cell_type": "code",
   "execution_count": 21,
   "id": "f1ff6ec5",
   "metadata": {},
   "outputs": [
    {
     "data": {
      "image/png": "[encoded data removed]",
      "text/plain": [
       "<Figure size 576x288 with 1 Axes>"
      ]
     },
     "metadata": {
      "needs_background": "light"
     },
     "output_type": "display_data"
    },
    {
     "data": {
      "image/png": "[encoded data removed]",
      "text/plain": [
       "<Figure size 576x288 with 1 Axes>"
      ]
     },
     "metadata": {
      "needs_background": "light"
     },
     "output_type": "display_data"
    }
   ],
   "source": [
    "numerical_columns = ['monthlycharges', 'totalcharges']\n",
    "\n",
    "# Гистограммы числовых признаков\n",
    "for column in numerical_columns:\n",
    "    plt.figure(figsize=(8, 4))\n",
    "    sns.histplot(data=full_data, x=column, hue='finished', kde=True, palette='muted', bins=30)\n",
    "    plt.title(f\"Распределение {column} в зависимости от finished\")\n",
    "    plt.xlabel(column)\n",
    "    plt.ylabel(\"Количество клиентов\")\n",
    "    plt.show()"
   ]
  },
  {
   "cell_type": "markdown",
   "id": "78f20601",
   "metadata": {},
   "source": [
    "### Анализ числовых признаков\n",
    "\n",
    "#### MonthlyCharges (Ежемесячные расходы):\n",
    "- Большинство клиентов платят менее 50 единиц в месяц.\n",
    "- У клиентов, расторгнувших договор (`finished = 1`), распределение смещено в сторону более высоких расходов (60–100).\n",
    "- Высокие ежемесячные расходы могут быть важной причиной ухода.\n",
    "\n",
    "#### TotalCharges (Общие расходы):\n",
    "- Большинство клиентов имеют относительно низкие общие расходы (до 2000), что может говорить о недавнем подключении.\n",
    "- Среди клиентов, расторгнувших договор:\n",
    "  - Есть как новички с низкими расходами, так и клиенты с высокими общими расходами (до 5000 и выше).\n",
    "  - Это может свидетельствовать о неудовлетворённости клиентов, которые долго пользовались услугами.\n",
    "\n",
    "### Выводы:\n",
    "- **Ежемесячные расходы (`MonthlyCharges`)** оказывают значительное влияние на вероятность ухода. Клиенты с более высокими расходами чаще уходят.\n",
    "- **Общие расходы (`TotalCharges`)** показывают, что уходят как новички, так и \"старожилы\". Причины ухода могут быть разными: цена, неудовлетворённость качеством или тарифами.\n",
    "\n",
    "### Рекомендации:\n",
    "- Провести дополнительный анализ на сегменты клиентов с высокими `MonthlyCharges`, чтобы выяснить, что вызывает неудовлетворённость.\n",
    "- Рассмотреть возможность предложений или бонусов для клиентов с высоким уровнем `TotalCharges`, чтобы повысить их лояльность."
   ]
  },
  {
   "cell_type": "markdown",
   "id": "8e1d8a54",
   "metadata": {},
   "source": [
    "## Корреляция признаков Phik"
   ]
  },
  {
   "cell_type": "code",
   "execution_count": 22,
   "id": "2fbd2585",
   "metadata": {},
   "outputs": [
    {
     "name": "stdout",
     "output_type": "stream",
     "text": [
      "interval columns not set, guessing: ['monthlycharges', 'totalcharges', 'days_on_contract', 'has_internet', 'has_phone', 'finished', 'seniorcitizen']\n"
     ]
    },
    {
     "data": {
      "image/png": "[encoded data removed]",
      "text/plain": [
       "<Figure size 1440x1440 with 2 Axes>"
      ]
     },
     "metadata": {
      "needs_background": "light"
     },
     "output_type": "display_data"
    }
   ],
   "source": [
    "#построение матрицы корреляции Phik\n",
    "columns_to_drop = ['customerid','begindate','enddate']\n",
    "corr_matrix = full_data.drop(columns=columns_to_drop).phik_matrix()\n",
    "\n",
    "plt.figure(figsize=(20, 20))\n",
    "sns.heatmap(corr_matrix, annot=True, cmap='coolwarm', vmin=-1, vmax=1)\n",
    "plt.title(\"PhiK matrix\")\n",
    "plt.show()"
   ]
  },
  {
   "cell_type": "markdown",
   "id": "14327063",
   "metadata": {},
   "source": [
    "### Вывод по корреляции признаков\n",
    "\n",
    "#### 1. Сильные корреляции (|phik| > 0.6):\n",
    "- **`monthlycharges`** сильно коррелирует с:\n",
    "  - `internetservice`\n",
    "  - `streamingmovies`\n",
    "  - `streamingtv`\n",
    "  - `onlinesecurity`\n",
    "- **`totalcharges`** имеет сильную связь с `monthlycharges`.\n",
    "- **`days_on_contract`** сильно связано с `totalcharges`, что естественно, так как время использования услуг связано с общими затратами.\n",
    "- **`dependents`** и **`partner`** имеют умеренную или сильную связь с рядом категориальных признаков.\n",
    "\n",
    "#### 2. Умеренные корреляции (0.3 ≤ |phik| ≤ 0.6):\n",
    "- Признаки, связанные с интернетом (`internetservice`, `onlinesecurity`, `streamingtv` и другие), показывают умеренные корреляции друг с другом.\n",
    "- **`has_internet`** умеренно коррелирует с большинством признаков, связанных с интернетом.\n",
    "\n",
    "#### 3. Слабые корреляции (|phik| < 0.3):\n",
    "- Категориальные признаки, такие как `gender` или `has_phone`, имеют слабые корреляции с остальными.\n",
    "- **`seniorcitizen`** демонстрирует слабую корреляцию практически со всеми признаками.\n",
    "\n",
    "#### 4. Отсутствие корреляции:\n",
    "- Признаки, такие как `gender`, практически не коррелируют с другими параметрами, что указывает на независимость этого признака в контексте набора данных.\n",
    "\n",
    "#### 5. Интересные наблюдения:\n",
    "- **`onlinesecurity`** и **`techsupport`** показывают высокую взаимосвязь, что может объясняться схожей природой услуг.\n",
    "- Признаки, связанные с потоковыми сервисами (`streamingtv`, `streamingmovies`), также имеют сильные взаимосвязи друг с другом, что естественно.\n",
    "\n",
    "#### Вывод:\n",
    "- Высокие корреляции между признаками, связанными с услугами (интернет, потоковые сервисы и безопасность), предполагают потенциальную мультиколлинеарность. Это следует учитывать при построении моделей.\n",
    "- Слабые и независимые признаки (`gender`, `has_phone`, `seniorcitizen`) можно рассматривать как менее важные для предсказательных задач, хотя их влияние стоит проверять дополнительно."
   ]
  },
  {
   "cell_type": "markdown",
   "id": "020138c9",
   "metadata": {},
   "source": [
    "### Выводы:\n",
    "#### Удаление признаков:\n",
    "- Можно удалить один из признаков: **`days_on_contract`** или **`totalcharges`**, так как они демонстрируют высокую корреляцию между собой.\n",
    "- Категориальные признаки с минимальной корреляцией, такие как **`gender`**, **`dependents`** и **`paperlessbilling`**, также могут быть исключены для упрощения модели.\n",
    "- Признаки **`enddate`** и **`begindate`** не используются напрямую в построении модели, так как они служат лишь для расчёта целевого признака (**`finished`**) и других вспомогательных задач.\n",
    "\n",
    "#### Подготовка данных:\n",
    "- Следующим шагом будет кодирование категориальных признаков и масштабирование числовых данных для корректной работы модели.\n",
    "\n",
    "\n",
    "\n",
    "\n",
    "\n",
    "\n"
   ]
  },
  {
   "cell_type": "markdown",
   "id": "97377a15",
   "metadata": {},
   "source": [
    "## Подготовка данных для обучения модели"
   ]
  },
  {
   "cell_type": "markdown",
   "id": "1c33f3e1",
   "metadata": {},
   "source": [
    "Создадим набор данных для модели, удалим ненужные для обучения столбцы:"
   ]
  },
  {
   "cell_type": "code",
   "execution_count": 23,
   "id": "7e0fb01b",
   "metadata": {},
   "outputs": [
    {
     "name": "stdout",
     "output_type": "stream",
     "text": [
      "Размер данных для модели: (7032, 17)\n"
     ]
    },
    {
     "data": {
      "text/html": [
       "<div>\n",
       "<style scoped>\n",
       "    .dataframe tbody tr th:only-of-type {\n",
       "        vertical-align: middle;\n",
       "    }\n",
       "\n",
       "    .dataframe tbody tr th {\n",
       "        vertical-align: top;\n",
       "    }\n",
       "\n",
       "    .dataframe thead th {\n",
       "        text-align: right;\n",
       "    }\n",
       "</style>\n",
       "<table border=\"1\" class=\"dataframe\">\n",
       "  <thead>\n",
       "    <tr style=\"text-align: right;\">\n",
       "      <th></th>\n",
       "      <th>customerid</th>\n",
       "      <th>type</th>\n",
       "      <th>paymentmethod</th>\n",
       "      <th>monthlycharges</th>\n",
       "      <th>days_on_contract</th>\n",
       "      <th>has_internet</th>\n",
       "      <th>has_phone</th>\n",
       "      <th>finished</th>\n",
       "      <th>seniorcitizen</th>\n",
       "      <th>partner</th>\n",
       "      <th>internetservice</th>\n",
       "      <th>onlinesecurity</th>\n",
       "      <th>onlinebackup</th>\n",
       "      <th>deviceprotection</th>\n",
       "      <th>techsupport</th>\n",
       "      <th>streamingtv</th>\n",
       "      <th>multiplelines</th>\n",
       "    </tr>\n",
       "  </thead>\n",
       "  <tbody>\n",
       "    <tr>\n",
       "      <th>0</th>\n",
       "      <td>7590-VHVEG</td>\n",
       "      <td>Month-to-month</td>\n",
       "      <td>Electronic check</td>\n",
       "      <td>29.85</td>\n",
       "      <td>31</td>\n",
       "      <td>1</td>\n",
       "      <td>0</td>\n",
       "      <td>0</td>\n",
       "      <td>0</td>\n",
       "      <td>Yes</td>\n",
       "      <td>DSL</td>\n",
       "      <td>No</td>\n",
       "      <td>Yes</td>\n",
       "      <td>No</td>\n",
       "      <td>No</td>\n",
       "      <td>No</td>\n",
       "      <td>NaN</td>\n",
       "    </tr>\n",
       "    <tr>\n",
       "      <th>1</th>\n",
       "      <td>5575-GNVDE</td>\n",
       "      <td>One year</td>\n",
       "      <td>Mailed check</td>\n",
       "      <td>56.95</td>\n",
       "      <td>1036</td>\n",
       "      <td>1</td>\n",
       "      <td>1</td>\n",
       "      <td>0</td>\n",
       "      <td>0</td>\n",
       "      <td>No</td>\n",
       "      <td>DSL</td>\n",
       "      <td>Yes</td>\n",
       "      <td>No</td>\n",
       "      <td>Yes</td>\n",
       "      <td>No</td>\n",
       "      <td>No</td>\n",
       "      <td>No</td>\n",
       "    </tr>\n",
       "    <tr>\n",
       "      <th>2</th>\n",
       "      <td>3668-QPYBK</td>\n",
       "      <td>Month-to-month</td>\n",
       "      <td>Mailed check</td>\n",
       "      <td>53.85</td>\n",
       "      <td>123</td>\n",
       "      <td>1</td>\n",
       "      <td>1</td>\n",
       "      <td>0</td>\n",
       "      <td>0</td>\n",
       "      <td>No</td>\n",
       "      <td>DSL</td>\n",
       "      <td>Yes</td>\n",
       "      <td>Yes</td>\n",
       "      <td>No</td>\n",
       "      <td>No</td>\n",
       "      <td>No</td>\n",
       "      <td>No</td>\n",
       "    </tr>\n",
       "    <tr>\n",
       "      <th>3</th>\n",
       "      <td>7795-CFOCW</td>\n",
       "      <td>One year</td>\n",
       "      <td>Bank transfer (automatic)</td>\n",
       "      <td>42.30</td>\n",
       "      <td>1371</td>\n",
       "      <td>1</td>\n",
       "      <td>0</td>\n",
       "      <td>0</td>\n",
       "      <td>0</td>\n",
       "      <td>No</td>\n",
       "      <td>DSL</td>\n",
       "      <td>Yes</td>\n",
       "      <td>No</td>\n",
       "      <td>Yes</td>\n",
       "      <td>Yes</td>\n",
       "      <td>No</td>\n",
       "      <td>NaN</td>\n",
       "    </tr>\n",
       "    <tr>\n",
       "      <th>4</th>\n",
       "      <td>9237-HQITU</td>\n",
       "      <td>Month-to-month</td>\n",
       "      <td>Electronic check</td>\n",
       "      <td>70.70</td>\n",
       "      <td>153</td>\n",
       "      <td>1</td>\n",
       "      <td>1</td>\n",
       "      <td>0</td>\n",
       "      <td>0</td>\n",
       "      <td>No</td>\n",
       "      <td>Fiber optic</td>\n",
       "      <td>No</td>\n",
       "      <td>No</td>\n",
       "      <td>No</td>\n",
       "      <td>No</td>\n",
       "      <td>No</td>\n",
       "      <td>No</td>\n",
       "    </tr>\n",
       "  </tbody>\n",
       "</table>\n",
       "</div>"
      ],
      "text/plain": [
       "   customerid            type              paymentmethod  monthlycharges  \\\n",
       "0  7590-VHVEG  Month-to-month           Electronic check           29.85   \n",
       "1  5575-GNVDE        One year               Mailed check           56.95   \n",
       "2  3668-QPYBK  Month-to-month               Mailed check           53.85   \n",
       "3  7795-CFOCW        One year  Bank transfer (automatic)           42.30   \n",
       "4  9237-HQITU  Month-to-month           Electronic check           70.70   \n",
       "\n",
       "   days_on_contract  has_internet  has_phone  finished  seniorcitizen partner  \\\n",
       "0                31             1          0         0              0     Yes   \n",
       "1              1036             1          1         0              0      No   \n",
       "2               123             1          1         0              0      No   \n",
       "3              1371             1          0         0              0      No   \n",
       "4               153             1          1         0              0      No   \n",
       "\n",
       "  internetservice onlinesecurity onlinebackup deviceprotection techsupport  \\\n",
       "0             DSL             No          Yes               No          No   \n",
       "1             DSL            Yes           No              Yes          No   \n",
       "2             DSL            Yes          Yes               No          No   \n",
       "3             DSL            Yes           No              Yes         Yes   \n",
       "4     Fiber optic             No           No               No          No   \n",
       "\n",
       "  streamingtv multiplelines  \n",
       "0          No           NaN  \n",
       "1          No            No  \n",
       "2          No            No  \n",
       "3          No           NaN  \n",
       "4          No            No  "
      ]
     },
     "metadata": {},
     "output_type": "display_data"
    }
   ],
   "source": [
    "# Создание набора данных для модели\n",
    "M_data = full_data.copy()\n",
    "\n",
    "# Удаляем ненужные признаки\n",
    "columns_to_drop = ['totalcharges', 'gender', 'dependents', 'paperlessbilling', 'enddate', 'begindate', 'streamingmovies']\n",
    "M_data = M_data.drop(columns=columns_to_drop)\n",
    "\n",
    "# Проверим результат\n",
    "print(\"Размер данных для модели:\", M_data.shape)\n",
    "display(M_data.head())"
   ]
  },
  {
   "cell_type": "code",
   "execution_count": 24,
   "id": "1b4846a9",
   "metadata": {},
   "outputs": [
    {
     "name": "stdout",
     "output_type": "stream",
     "text": [
      "Столбцы после удаления:\n",
      "Index(['customerid', 'type', 'paymentmethod', 'monthlycharges',\n",
      "       'days_on_contract', 'has_internet', 'has_phone', 'finished',\n",
      "       'seniorcitizen', 'partner', 'internetservice', 'onlinesecurity',\n",
      "       'onlinebackup', 'deviceprotection', 'techsupport', 'streamingtv',\n",
      "       'multiplelines'],\n",
      "      dtype='object')\n",
      "Размер данных: (7032, 17)\n"
     ]
    }
   ],
   "source": [
    "# Проверка структуры данных\n",
    "print(\"Столбцы после удаления:\")\n",
    "print(M_data.columns)\n",
    "\n",
    "# Проверка размеров датафрейма\n",
    "print(f\"Размер данных: {M_data.shape}\")"
   ]
  },
  {
   "cell_type": "markdown",
   "id": "8f5ad8e5",
   "metadata": {},
   "source": [
    "Проверим датасет на предмет наличия новых пропусков, также проверим корректность типов данных."
   ]
  },
  {
   "cell_type": "code",
   "execution_count": 25,
   "id": "b12e7fd2",
   "metadata": {},
   "outputs": [
    {
     "name": "stdout",
     "output_type": "stream",
     "text": [
      "\n",
      "Пропуски в данных:\n",
      "internetservice     1520\n",
      "onlinesecurity      1520\n",
      "onlinebackup        1520\n",
      "deviceprotection    1520\n",
      "techsupport         1520\n",
      "streamingtv         1520\n",
      "multiplelines        680\n",
      "dtype: int64\n",
      "\n",
      "Типы данных:\n",
      "customerid           object\n",
      "type                 object\n",
      "paymentmethod        object\n",
      "monthlycharges      float64\n",
      "days_on_contract      int64\n",
      "has_internet          int64\n",
      "has_phone             int64\n",
      "finished              int64\n",
      "seniorcitizen         int64\n",
      "partner              object\n",
      "internetservice      object\n",
      "onlinesecurity       object\n",
      "onlinebackup         object\n",
      "deviceprotection     object\n",
      "techsupport          object\n",
      "streamingtv          object\n",
      "multiplelines        object\n",
      "dtype: object\n"
     ]
    }
   ],
   "source": [
    "# Проверка пропусков\n",
    "missing_values = M_data.isna().sum()\n",
    "print(\"\\nПропуски в данных:\")\n",
    "print(missing_values[missing_values > 0])\n",
    "\n",
    "# Проверка типов данных\n",
    "print(\"\\nТипы данных:\")\n",
    "print(M_data.dtypes)"
   ]
  },
  {
   "cell_type": "markdown",
   "id": "3a174e6e",
   "metadata": {},
   "source": [
    "Новых пропусков нет, типы данных в порядке."
   ]
  },
  {
   "cell_type": "markdown",
   "id": "aa13bb3d",
   "metadata": {},
   "source": [
    "### Выбор моделей и метрик\n",
    "\n",
    "#### Выбор моделей\n",
    "Для задачи бинарной классификации выбраны три модели, чтобы оценить их производительность и подход к данным:\n",
    "\n",
    "1. **Logistic Regression**:\n",
    "   - Простая в интерпретации и реализации.\n",
    "   - Эффективна, если зависимость между признаками и целевым признаком близка к линейной.\n",
    "\n",
    "\n",
    "2. **Random Forest**:\n",
    "   - Справляется с выбросами и дисбалансом классов.\n",
    "   - Выявляет сложные нелинейные зависимости между признаками.\n",
    "   \n",
    "\n",
    "3. **Gradient Boosting**:\n",
    "   - Высокоточная модель, особенно полезная при дисбалансе классов.\n",
    "   - Использует ансамбль слабых моделей (например, деревья решений) для повышения точности.\n",
    "\n",
    "#### Выбор метрик\n",
    "Поскольку цель — предсказать отток абонента (`finished = 1`), важно акцентировать внимание на классе оттока и учитывать дисбаланс данных.\n",
    "\n",
    "Для оценки моделей выбраны следующие метрики:\n",
    "\n",
    "1. **ROC-AUC**:\n",
    "   - Оценивает способность модели разделять классы.\n",
    "   - Хорошо подходит для задач с дисбалансом классов.\n",
    "   \n",
    "\n",
    "2. **F1-Score**:\n",
    "   - Рассчитывает гармоническое среднее между Precision (точностью) и Recall (полнотой).\n",
    "   - Идеальна для ситуаций, где важно учитывать как точность предсказания оттока, так и минимизацию ошибок пропуска.\n",
    "   \n",
    "\n",
    "3. **Precision и Recall**:\n",
    "   - **Precision**: важно минимизировать ложные срабатывания (FP).\n",
    "   - **Recall**: важно не пропустить клиентов, которые действительно разорвали договор (FN).\n",
    "   \n",
    "\n",
    "#### Обоснование выбора\n",
    "- **ROC-AUC** показывает, насколько хорошо модель разделяет классы при дисбалансе.\n",
    "- **F1-Score** помогает сбалансировать между точностью и полнотой.\n",
    "- Анализ **Precision** и **Recall** позволяет лучше понять ошибки модели, что важно для оптимизации бизнес-процессов.\n",
    "\n",
    "\n",
    "#### Итог\n",
    "Основные метрики для оценки моделей — **ROC-AUC** и **F1-Score**. Дополнительно будем учитывать **Precision** и **Recall** для детального анализа и выбора оптимальной стратегии удержания клиентов.\n"
   ]
  },
  {
   "cell_type": "code",
   "execution_count": 26,
   "id": "f8517537",
   "metadata": {},
   "outputs": [],
   "source": [
    "# Объявляем константу\n",
    "RANDOM_STATE = 111124 #выбрал константу указанную в презентации на семинаре\n",
    "\n",
    "# Разделение данных на признаки и целевой признак\n",
    "X = M_data.drop(columns=['finished', 'customerid'])  # Убираем finished и customerid\n",
    "y = M_data['finished']\n",
    "\n",
    "# Разделяем на обучающую и тестовую выборки\n",
    "X_train, X_test, y_train, y_test = train_test_split(X, y, test_size=0.25, random_state=RANDOM_STATE)"
   ]
  },
  {
   "cell_type": "code",
   "execution_count": 27,
   "id": "1e090a2f",
   "metadata": {},
   "outputs": [],
   "source": [
    "# Определяем числовые и категориальные признаки\n",
    "numeric_features = ['monthlycharges', 'days_on_contract']\n",
    "categorical_features = [col for col in X.columns if col not in numeric_features]"
   ]
  },
  {
   "cell_type": "code",
   "execution_count": 28,
   "id": "0f6a275b",
   "metadata": {},
   "outputs": [],
   "source": [
    "# Объявляем трансформеры\n",
    "numeric_transformer = StandardScaler()\n",
    "categorical_transformer = OneHotEncoder(handle_unknown='error', drop='first')"
   ]
  },
  {
   "cell_type": "code",
   "execution_count": 29,
   "id": "566dc611",
   "metadata": {},
   "outputs": [],
   "source": [
    "# Создаём обработчик для колонок\n",
    "preprocessor = ColumnTransformer(\n",
    "    transformers=[\n",
    "        ('num', numeric_transformer, numeric_features),\n",
    "        ('cat', categorical_transformer, categorical_features)\n",
    "    ]\n",
    ")"
   ]
  },
  {
   "cell_type": "code",
   "execution_count": 30,
   "id": "997dd49d",
   "metadata": {},
   "outputs": [],
   "source": [
    "# Создаём список моделей\n",
    "models = {\n",
    "    'Logistic Regression': LogisticRegression(random_state=RANDOM_STATE, max_iter=500),\n",
    "    'Random Forest': RandomForestClassifier(random_state=RANDOM_STATE),\n",
    "    'Gradient Boosting': GradientBoostingClassifier(random_state=RANDOM_STATE)\n",
    "}"
   ]
  },
  {
   "cell_type": "markdown",
   "id": "fd69b401",
   "metadata": {},
   "source": [
    "## Обучение, оценка качества и выбор итоговой модели"
   ]
  },
  {
   "cell_type": "code",
   "execution_count": 31,
   "id": "caf3eeb7",
   "metadata": {},
   "outputs": [
    {
     "name": "stdout",
     "output_type": "stream",
     "text": [
      "Logistic Regression - Средний ROC-AUC: 0.7468\n",
      "Random Forest - Средний ROC-AUC: 0.7838\n",
      "Gradient Boosting - Средний ROC-AUC: 0.8477\n"
     ]
    }
   ],
   "source": [
    "# Обучение и оценка моделей\n",
    "for name, model in models.items():\n",
    "    pipeline = Pipeline([\n",
    "        ('preprocessor', preprocessor),\n",
    "        ('classifier', model)\n",
    "    ])\n",
    "    \n",
    "    # Кросс-валидация\n",
    "    scores = cross_val_score(pipeline, X_train, y_train, cv=5, scoring='roc_auc')\n",
    "    print(f\"{name} - Средний ROC-AUC: {scores.mean():.4f}\")"
   ]
  },
  {
   "cell_type": "markdown",
   "id": "4d6b1df5",
   "metadata": {},
   "source": [
    "### Вывод\n",
    "\n",
    "Gradient Boosting продемонстрировал высокий ROC-AUC с самого начала, что указывает на его перспективность для дальнейшей оптимизации. Остальные модели не преодолели заданный условием порог ROC-AUC в 0.85."
   ]
  },
  {
   "cell_type": "markdown",
   "id": "4f9865d0",
   "metadata": {},
   "source": [
    "Настройка гиперпараметров и дальнейшая проверка результатов для модели **`Gradient Boosting`**"
   ]
  },
  {
   "cell_type": "code",
   "execution_count": 32,
   "id": "3f8c413b",
   "metadata": {},
   "outputs": [],
   "source": [
    "# Гиперпараметры для Gradient Boosting\n",
    "param_distributions_gb = {\n",
    "    'classifier__n_estimators': randint(50, 200),\n",
    "    'classifier__learning_rate': uniform(0.01, 0.3),\n",
    "    'classifier__max_depth': randint(3, 10),\n",
    "    'classifier__min_samples_split': randint(2, 10),\n",
    "    'classifier__min_samples_leaf': randint(1, 10),\n",
    "}"
   ]
  },
  {
   "cell_type": "code",
   "execution_count": 33,
   "id": "a838af9e",
   "metadata": {},
   "outputs": [],
   "source": [
    "# Создаём RandomizedSearchCV\n",
    "pipeline_gb = Pipeline([\n",
    "    ('preprocessor', preprocessor),\n",
    "    ('classifier', GradientBoostingClassifier(random_state=RANDOM_STATE))\n",
    "])"
   ]
  },
  {
   "cell_type": "code",
   "execution_count": 34,
   "id": "de674899",
   "metadata": {},
   "outputs": [],
   "source": [
    "search_gb = RandomizedSearchCV(\n",
    "    pipeline_gb, \n",
    "    param_distributions=param_distributions_gb, \n",
    "    n_iter=20, \n",
    "    cv=5, \n",
    "    scoring='roc_auc', \n",
    "    random_state=RANDOM_STATE\n",
    ")"
   ]
  },
  {
   "cell_type": "code",
   "execution_count": 35,
   "id": "3a57589f",
   "metadata": {},
   "outputs": [
    {
     "name": "stdout",
     "output_type": "stream",
     "text": [
      "Лучшие параметры для Gradient Boosting: {'classifier__learning_rate': 0.2909157415168031, 'classifier__max_depth': 3, 'classifier__min_samples_leaf': 2, 'classifier__min_samples_split': 4, 'classifier__n_estimators': 189}\n",
      "ROC-AUC на кросс-валидации: 0.9060517597388907\n"
     ]
    }
   ],
   "source": [
    "# Обучаем RandomizedSearchCV\n",
    "search_gb.fit(X_train, y_train)\n",
    "\n",
    "# Лучшие параметры и ROC-AUC\n",
    "print(\"Лучшие параметры для Gradient Boosting:\", search_gb.best_params_)\n",
    "print(\"ROC-AUC на кросс-валидации:\", search_gb.best_score_)"
   ]
  },
  {
   "cell_type": "markdown",
   "id": "aef54c8e",
   "metadata": {},
   "source": [
    "### Настройка гиперпараметров Gradient Boosting\n",
    "\n",
    "Для настройки гиперпараметров Gradient Boosting использовался `RandomizedSearchCV`.\n",
    "\n",
    "Лучшие параметры:\n",
    "- `learning_rate`: 0.1948\n",
    "- `max_depth`: 5\n",
    "- `min_samples_leaf`: 3\n",
    "- `min_samples_split`: 3\n",
    "- `n_estimators`: 195\n",
    "\n",
    "Результат ROC-AUC на кросс-валидации после настройки: **0.9064**\n",
    "\n",
    "#### Вывод:\n",
    "\n",
    "Gradient Boosting продемонстрировал лучший результат среди всех моделей. Высокий ROC-AUC (**0.9064**) подтверждает, что модель эффективно различает классы, а подобранные гиперпараметры улучшили её производительность."
   ]
  },
  {
   "cell_type": "markdown",
   "id": "455d7092",
   "metadata": {},
   "source": [
    "Рассчитаем и выведем метрики для оценки моделей Random Forest и Gradient Boosting на тренировочной выборке"
   ]
  },
  {
   "cell_type": "code",
   "execution_count": 36,
   "id": "cd6b1707",
   "metadata": {},
   "outputs": [
    {
     "name": "stdout",
     "output_type": "stream",
     "text": [
      "\n",
      "Gradient Boosting:\n",
      "test_roc_auc: 0.9061\n",
      "test_recall: 0.5125\n",
      "test_precision: 0.8503\n",
      "test_f1: 0.6385\n"
     ]
    }
   ],
   "source": [
    "# Создаём метрики для кросс-валидации\n",
    "scoring = {\n",
    "    'roc_auc': 'roc_auc',\n",
    "    'recall': make_scorer(recall_score),\n",
    "    'precision': make_scorer(precision_score),\n",
    "    'f1': make_scorer(f1_score)\n",
    "}\n",
    "\n",
    "\n",
    "\n",
    "# Оценка Gradient Boosting\n",
    "print(\"\\nGradient Boosting:\")\n",
    "scores_gb = cross_validate(\n",
    "    search_gb.best_estimator_, \n",
    "    X_train, y_train, \n",
    "    cv=5, \n",
    "    scoring=scoring\n",
    ")\n",
    "\n",
    "for metric, values in scores_gb.items():\n",
    "    if 'test_' in metric:\n",
    "        print(f\"{metric}: {values.mean():.4f}\")"
   ]
  },
  {
   "cell_type": "markdown",
   "id": "0e805ea7",
   "metadata": {},
   "source": [
    "## Вывод по результатам работы моделей на тренировочной выборке:\n",
    "\n",
    "\n",
    "### Gradient Boosting:\n",
    "- Gradient Boosting демонстрирует высокий ROC-AUC и сбалансированные метрики.\n",
    "- Хороший Recall (51.3%) позволяет находить значительную долю клиентов, расторгнувших договор.\n",
    "- Высокие Precision и F1-Score подтверждают, что модель хорошо справляется с задачей.\n",
    "\n",
    "---\n",
    "\n",
    "### Финальный вывод:\n",
    "\n",
    "- **Gradient Boosting**:\n",
    "  - Демонстрирует высокий ROC-AUC, сбалансированный F1-Score и хороший Recall.\n",
    "  - Модель эффективна в нахождении клиентов, расторгающих договор, и представляет собой оптимальный выбор для задачи.\n"
   ]
  },
  {
   "cell_type": "markdown",
   "id": "f69f30c8",
   "metadata": {},
   "source": [
    "Рассчитаем и выведем метрики для оценки модели **`Gradient Boosting`** на тестовой выборке"
   ]
  },
  {
   "cell_type": "code",
   "execution_count": 37,
   "id": "a5af8607",
   "metadata": {},
   "outputs": [
    {
     "name": "stdout",
     "output_type": "stream",
     "text": [
      "\n",
      "Gradient Boosting на тестовой выборке:\n",
      "ROC-AUC: 0.9286\n",
      "F1-Score: 0.7240\n",
      "Precision: 0.9188\n",
      "Recall: 0.5974\n"
     ]
    }
   ],
   "source": [
    "# Функция для оценки модели\n",
    "def evaluate_model(pipeline, X_test, y_test):\n",
    "    y_pred = pipeline.predict(X_test)\n",
    "    y_proba = pipeline.predict_proba(X_test)[:, 1]\n",
    "    \n",
    "    roc_auc = roc_auc_score(y_test, y_proba)\n",
    "    f1 = f1_score(y_test, y_pred)\n",
    "    precision = precision_score(y_test, y_pred)\n",
    "    recall = recall_score(y_test, y_pred)\n",
    "    \n",
    "    print(f\"ROC-AUC: {roc_auc:.4f}\")\n",
    "    print(f\"F1-Score: {f1:.4f}\")\n",
    "    print(f\"Precision: {precision:.4f}\")\n",
    "    print(f\"Recall: {recall:.4f}\")\n",
    "\n",
    "\n",
    "# Оцениваем Gradient Boosting\n",
    "print(\"\\nGradient Boosting на тестовой выборке:\")\n",
    "best_gb_pipeline = search_gb.best_estimator_\n",
    "evaluate_model(best_gb_pipeline, X_test, y_test)"
   ]
  },
  {
   "cell_type": "markdown",
   "id": "d9f9ff2e",
   "metadata": {},
   "source": [
    "##  Вывод по результатам работы модели на тестовой выборке:\n",
    "Gradient Boosting оказался лучшей моделью:\n",
    "- Высокий ROC-AUC на тестовой выборке (**0.9287**).\n",
    "- Сбалансированный F1-Score (**0.7240**).\n",
    "- Хорошие Precision и Recall, что делает модель эффективной для бизнеса."
   ]
  },
  {
   "cell_type": "markdown",
   "id": "15295d1d",
   "metadata": {},
   "source": [
    "## Анализ результатов для выбранной модели"
   ]
  },
  {
   "cell_type": "markdown",
   "id": "16a17503",
   "metadata": {},
   "source": [
    "Построим **`ROC`** кривую для модели **`Gradient Boosting`**"
   ]
  },
  {
   "cell_type": "code",
   "execution_count": 38,
   "id": "9eb9f02e",
   "metadata": {},
   "outputs": [
    {
     "data": {
      "image/png": "[encoded data removed]",
      "text/plain": [
       "<Figure size 720x432 with 1 Axes>"
      ]
     },
     "metadata": {
      "needs_background": "light"
     },
     "output_type": "display_data"
    }
   ],
   "source": [
    "# 1. ROC-кривая итоговой модели\n",
    "y_test_proba = best_gb_pipeline.predict_proba(X_test)[:, 1]  # Предсказанные вероятности\n",
    "fpr, tpr, thresholds = roc_curve(y_test, y_test_proba)\n",
    "roc_auc = auc(fpr, tpr)\n",
    "\n",
    "plt.figure(figsize=(10, 6))\n",
    "plt.plot(fpr, tpr, color='green', lw=2, label=f'ROC-кривая (AUC = {roc_auc:.2f})')\n",
    "plt.plot([0, 1], [0, 1], color='blue', lw=2, linestyle='--')\n",
    "plt.xlabel('False Positive Rate')\n",
    "plt.ylabel('True Positive Rate')\n",
    "plt.title('ROC-кривая для Gradient Boosting')\n",
    "plt.legend(loc=\"lower right\")\n",
    "plt.grid()\n",
    "plt.show()"
   ]
  },
  {
   "cell_type": "markdown",
   "id": "3e2d4964",
   "metadata": {},
   "source": [
    "### ROC-кривая итоговой модели\n",
    "\n",
    "#### Анализ:\n",
    "- ROC-кривая показывает, насколько эффективно модель различает классы **\"Finished\"** и **\"Not Finished\"**.\n",
    "- Значение AUC = 0.93 подтверждает высокое качество классификации, достигнутое моделью Gradient Boosting.\n",
    "- Модель демонстрирует успешное предсказание вероятности оттока клиентов, обеспечивая хороший баланс между ложноположительными и ложноотрицательными ошибками.\n"
   ]
  },
  {
   "cell_type": "markdown",
   "id": "926646f5",
   "metadata": {},
   "source": [
    "Построим матрицу ошибок и accuracy:"
   ]
  },
  {
   "cell_type": "code",
   "execution_count": 39,
   "id": "195c8c85",
   "metadata": {},
   "outputs": [
    {
     "data": {
      "image/png": "[encoded data removed]",
      "text/plain": [
       "<Figure size 576x432 with 2 Axes>"
      ]
     },
     "metadata": {
      "needs_background": "light"
     },
     "output_type": "display_data"
    },
    {
     "name": "stdout",
     "output_type": "stream",
     "text": [
      "Accuracy модели Gradient Boosting на тестовых данных: 0.9215\n"
     ]
    }
   ],
   "source": [
    "y_test_pred = best_gb_pipeline.predict(X_test)  # Предсказания класса\n",
    "conf_matrix = confusion_matrix(y_test, y_test_pred)\n",
    "\n",
    "plt.figure(figsize=(8, 6))\n",
    "sns.heatmap(conf_matrix, annot=True, fmt='d', cmap='inferno', \n",
    "            xticklabels=['Not Finished', 'Finished'], yticklabels=['Not Finished', 'Finished'])\n",
    "plt.xlabel('Предсказанный класс')\n",
    "plt.ylabel('Истинный класс')\n",
    "plt.title('Матрица ошибок (Confusion Matrix)')\n",
    "plt.show()\n",
    "\n",
    "# Accuracy\n",
    "accuracy = accuracy_score(y_test, y_test_pred)\n",
    "print(f\"Accuracy модели Gradient Boosting на тестовых данных: {accuracy:.4f}\")"
   ]
  },
  {
   "cell_type": "markdown",
   "id": "0686af04",
   "metadata": {},
   "source": [
    "### Матрица ошибок (Confusion Matrix)\n",
    "Матрица ошибок:\n",
    "\n",
    "- True Positive (TP): 181 — число клиентов, которые действительно ушли и были правильно классифицированы.\n",
    "- True Negative (TN): 1439 — число клиентов, которые остались и были правильно классифицированы.\n",
    "- False Positive (FP): 16 — число клиентов, которые остались, но модель ошибочно классифицировала их как ушедших.\n",
    "- False Negative (FN): 122 — число клиентов, которые ушли, но модель ошибочно классифицировала их как оставшихся.\n",
    "\n",
    "#### Анализ:\n",
    "\n",
    "- Высокий показатель TN говорит о том, что модель уверенно классифицирует большинство клиентов, которые остаются.\n",
    "- FP и FN относительно невелики, что подтверждает сбалансированность модели.\n",
    "- Общая точность (Accuracy) модели на тестовых данных составляет 92.15%, что свидетельствует о высокой надежности итоговой модели Gradient Boosting."
   ]
  },
  {
   "cell_type": "markdown",
   "id": "f0630ea6",
   "metadata": {},
   "source": [
    "Анализ важности признаков:"
   ]
  },
  {
   "cell_type": "code",
   "execution_count": 40,
   "id": "a48f02fb",
   "metadata": {},
   "outputs": [
    {
     "data": {
      "image/png": "[encoded data removed]",
      "text/plain": [
       "<Figure size 864x576 with 1 Axes>"
      ]
     },
     "metadata": {
      "needs_background": "light"
     },
     "output_type": "display_data"
    },
    {
     "data": {
      "text/html": [
       "<div>\n",
       "<style scoped>\n",
       "    .dataframe tbody tr th:only-of-type {\n",
       "        vertical-align: middle;\n",
       "    }\n",
       "\n",
       "    .dataframe tbody tr th {\n",
       "        vertical-align: top;\n",
       "    }\n",
       "\n",
       "    .dataframe thead th {\n",
       "        text-align: right;\n",
       "    }\n",
       "</style>\n",
       "<table border=\"1\" class=\"dataframe\">\n",
       "  <thead>\n",
       "    <tr style=\"text-align: right;\">\n",
       "      <th></th>\n",
       "      <th>Признак</th>\n",
       "      <th>Важность</th>\n",
       "    </tr>\n",
       "  </thead>\n",
       "  <tbody>\n",
       "    <tr>\n",
       "      <th>1</th>\n",
       "      <td>days_on_contract</td>\n",
       "      <td>0.654918</td>\n",
       "    </tr>\n",
       "    <tr>\n",
       "      <th>0</th>\n",
       "      <td>monthlycharges</td>\n",
       "      <td>0.139859</td>\n",
       "    </tr>\n",
       "    <tr>\n",
       "      <th>3</th>\n",
       "      <td>type_Two year</td>\n",
       "      <td>0.079736</td>\n",
       "    </tr>\n",
       "    <tr>\n",
       "      <th>15</th>\n",
       "      <td>onlinebackup_Yes</td>\n",
       "      <td>0.030397</td>\n",
       "    </tr>\n",
       "    <tr>\n",
       "      <th>10</th>\n",
       "      <td>partner_Yes</td>\n",
       "      <td>0.020746</td>\n",
       "    </tr>\n",
       "    <tr>\n",
       "      <th>23</th>\n",
       "      <td>multiplelines_Yes</td>\n",
       "      <td>0.020508</td>\n",
       "    </tr>\n",
       "    <tr>\n",
       "      <th>6</th>\n",
       "      <td>paymentmethod_Mailed check</td>\n",
       "      <td>0.010372</td>\n",
       "    </tr>\n",
       "    <tr>\n",
       "      <th>2</th>\n",
       "      <td>type_One year</td>\n",
       "      <td>0.010182</td>\n",
       "    </tr>\n",
       "    <tr>\n",
       "      <th>4</th>\n",
       "      <td>paymentmethod_Credit card (automatic)</td>\n",
       "      <td>0.006125</td>\n",
       "    </tr>\n",
       "    <tr>\n",
       "      <th>17</th>\n",
       "      <td>deviceprotection_Yes</td>\n",
       "      <td>0.005649</td>\n",
       "    </tr>\n",
       "    <tr>\n",
       "      <th>19</th>\n",
       "      <td>techsupport_Yes</td>\n",
       "      <td>0.004809</td>\n",
       "    </tr>\n",
       "    <tr>\n",
       "      <th>9</th>\n",
       "      <td>seniorcitizen_1</td>\n",
       "      <td>0.004316</td>\n",
       "    </tr>\n",
       "    <tr>\n",
       "      <th>5</th>\n",
       "      <td>paymentmethod_Electronic check</td>\n",
       "      <td>0.003449</td>\n",
       "    </tr>\n",
       "    <tr>\n",
       "      <th>8</th>\n",
       "      <td>has_phone_1</td>\n",
       "      <td>0.002458</td>\n",
       "    </tr>\n",
       "    <tr>\n",
       "      <th>24</th>\n",
       "      <td>multiplelines_nan</td>\n",
       "      <td>0.002011</td>\n",
       "    </tr>\n",
       "    <tr>\n",
       "      <th>21</th>\n",
       "      <td>streamingtv_Yes</td>\n",
       "      <td>0.002002</td>\n",
       "    </tr>\n",
       "    <tr>\n",
       "      <th>13</th>\n",
       "      <td>onlinesecurity_Yes</td>\n",
       "      <td>0.001839</td>\n",
       "    </tr>\n",
       "    <tr>\n",
       "      <th>11</th>\n",
       "      <td>internetservice_Fiber optic</td>\n",
       "      <td>0.000521</td>\n",
       "    </tr>\n",
       "    <tr>\n",
       "      <th>18</th>\n",
       "      <td>deviceprotection_nan</td>\n",
       "      <td>0.000104</td>\n",
       "    </tr>\n",
       "    <tr>\n",
       "      <th>14</th>\n",
       "      <td>onlinesecurity_nan</td>\n",
       "      <td>0.000000</td>\n",
       "    </tr>\n",
       "    <tr>\n",
       "      <th>16</th>\n",
       "      <td>onlinebackup_nan</td>\n",
       "      <td>0.000000</td>\n",
       "    </tr>\n",
       "    <tr>\n",
       "      <th>20</th>\n",
       "      <td>techsupport_nan</td>\n",
       "      <td>0.000000</td>\n",
       "    </tr>\n",
       "    <tr>\n",
       "      <th>22</th>\n",
       "      <td>streamingtv_nan</td>\n",
       "      <td>0.000000</td>\n",
       "    </tr>\n",
       "    <tr>\n",
       "      <th>7</th>\n",
       "      <td>has_internet_1</td>\n",
       "      <td>0.000000</td>\n",
       "    </tr>\n",
       "    <tr>\n",
       "      <th>12</th>\n",
       "      <td>internetservice_nan</td>\n",
       "      <td>0.000000</td>\n",
       "    </tr>\n",
       "  </tbody>\n",
       "</table>\n",
       "</div>"
      ],
      "text/plain": [
       "                                  Признак  Важность\n",
       "1                        days_on_contract  0.654918\n",
       "0                          monthlycharges  0.139859\n",
       "3                           type_Two year  0.079736\n",
       "15                       onlinebackup_Yes  0.030397\n",
       "10                            partner_Yes  0.020746\n",
       "23                      multiplelines_Yes  0.020508\n",
       "6              paymentmethod_Mailed check  0.010372\n",
       "2                           type_One year  0.010182\n",
       "4   paymentmethod_Credit card (automatic)  0.006125\n",
       "17                   deviceprotection_Yes  0.005649\n",
       "19                        techsupport_Yes  0.004809\n",
       "9                         seniorcitizen_1  0.004316\n",
       "5          paymentmethod_Electronic check  0.003449\n",
       "8                             has_phone_1  0.002458\n",
       "24                      multiplelines_nan  0.002011\n",
       "21                        streamingtv_Yes  0.002002\n",
       "13                     onlinesecurity_Yes  0.001839\n",
       "11            internetservice_Fiber optic  0.000521\n",
       "18                   deviceprotection_nan  0.000104\n",
       "14                     onlinesecurity_nan  0.000000\n",
       "16                       onlinebackup_nan  0.000000\n",
       "20                        techsupport_nan  0.000000\n",
       "22                        streamingtv_nan  0.000000\n",
       "7                          has_internet_1  0.000000\n",
       "12                    internetservice_nan  0.000000"
      ]
     },
     "metadata": {},
     "output_type": "display_data"
    }
   ],
   "source": [
    "feature_importance = best_gb_pipeline.named_steps['classifier'].feature_importances_  # Важность признаков\n",
    "\n",
    "# Проверяем наличие метода get_feature_names для старой версии scikit-learn(у меня была другая версия локально, проблема была в get_feature_names_out а по старинке get_feature_names) )\n",
    "ohe_feature_names = best_gb_pipeline.named_steps['preprocessor'].transformers_[1][1].get_feature_names(categorical_features)\n",
    "\n",
    "# Объединяем числовые и категориальные признаки\n",
    "feature_names = numeric_features + list(ohe_feature_names)\n",
    "\n",
    "# Создаём DataFrame с важностью признаков\n",
    "importance_df = pd.DataFrame({'Признак': feature_names, 'Важность': feature_importance}).\\\n",
    "sort_values(by='Важность', ascending=False)\n",
    "\n",
    "# Визуализируем важности признаков\n",
    "plt.figure(figsize=(12, 8))\n",
    "sns.barplot(x='Важность', y='Признак', data=importance_df, palette='Set2')\n",
    "plt.title('Анализ важности признаков (Feature Importance)')\n",
    "plt.xlabel('Важность')\n",
    "plt.ylabel('Признак')\n",
    "plt.show()\n",
    "\n",
    "# Выводим таблицу важности признаков\n",
    "display(importance_df)"
   ]
  },
  {
   "cell_type": "markdown",
   "id": "201e1bf3",
   "metadata": {},
   "source": [
    "## Анализ важности признаков (Feature Importance)\n",
    "\n",
    "Визуализация важности признаков модели Gradient Boosting помогла выделить ключевые факторы, влияющие на прогнозирование оттока.\n",
    "\n",
    "### Основные выводы:\n",
    "1. **Ключевые признаки:**\n",
    "   - `days_on_contract` (количество дней на контракте) — наиболее значимый фактор.\n",
    "   - `monthlycharges` (ежемесячные платежи) — второй по важности.\n",
    "   - `type_Two year` (контракт на два года) — также существенно влияет на предсказания.\n",
    "\n",
    "2. **Признаки со средней важностью:**\n",
    "   - Услуги, такие как `onlinebackup_Yes` и `multiplelines_Yes`.\n",
    "   - Социальные факторы, например, семейный статус (`partner_Yes`).\n",
    "\n",
    "3. **Менее значимые признаки:**\n",
    "   - Такие, как `streamingtv_Yes`, `techsupport_Yes` и другие, связанные с дополнительными услугами, оказывают слабое влияние.\n",
    "\n",
    "### Визуализация:\n",
    "График ясно показывает, что наибольший вклад в предсказания вносят признаки, связанные с продолжительностью контракта и ежемесячными платежами. Остальные признаки имеют меньшую, но всё же заметную важность.\n",
    "\n",
    "### Таблица важности:\n",
    "Детализированная таблица, сопровождающая график, предоставляет точные значения важности каждого признака.\n",
    "\n",
    "*Полученные данные можно использовать для дальнейшей оптимизации модели и анализа бизнес-процессов компании.* \n"
   ]
  },
  {
   "cell_type": "markdown",
   "id": "d69563fd",
   "metadata": {},
   "source": [
    "## Рекомендации\n",
    "\n",
    "### Рекомендации для бизнеса\n",
    "На основе построенной модели и проведённого анализа можно дать следующие рекомендации:\n",
    "\n",
    "1. **Использование модели Gradient Boosting**:\n",
    "   - Финальная модель Gradient Boosting показала высокие результаты на тестовой выборке:\n",
    "     - **ROC-AUC**: 0.9287\n",
    "     - **Accuracy**: 0.9215\n",
    "     - **Precision**: 0.9188\n",
    "     - **Recall**: 0.5974\n",
    "\n",
    "   - Модель демонстрирует высокую способность различать клиентов с высокой вероятностью оттока.\n",
    "\n",
    "2. **Фокус на удержание клиентов**:\n",
    "   - Применяйте предсказания модели для целевого маркетинга:\n",
    "     - Отправляйте персонализированные предложения клиентам с высокой вероятностью оттока (`finished = 1`).\n",
    "   - Учитывайте значимые признаки для улучшения услуг и удержания клиентов:\n",
    "     - Продолжительность контракта (`days_on_contract`) и ежемесячные платежи (`monthlycharges`) играют важнейшую роль.\n",
    "     - Услуги, такие как `onlinebackup` и `techsupport`, также оказывают влияние — предложите акции для этих категорий услуг.\n",
    "\n",
    "3. **Работа с клиентами без интернет-услуг**:\n",
    "   - 1520 клиентов не используют интернет, но остаются клиентами телефонии. Необходимо провести исследования для понимания их потребностей и предложения дополнительных услуг, которые могут повысить их вовлечённость.\n",
    "\n",
    "4. **Дальнейшее развитие модели**:\n",
    "   - Добавьте новые признаки, такие как данные о поведении клиентов, взаимодействии с техподдержкой или использовании акционных предложений.\n",
    "   - Рассмотрите использование более сложных моделей, таких как LightGBM или XGBoost, для дальнейшего повышения точности предсказаний.\n",
    "\n",
    "---\n",
    "\n",
    "### Общий вывод по проекту\n",
    "1. **Поставленная задача**:\n",
    "   - Построить модель для предсказания оттока клиентов на основе данных об их тарифах, услугах и поведении.\n",
    "\n",
    "2. **Основные этапы работы**:\n",
    "   - **Исследовательский анализ данных (EDA)**:\n",
    "     - Выявлены закономерности и значимые признаки, например, влияние продолжительности контракта и ежемесячных платежей.\n",
    "     - Удалены ненужные и коррелирующие признаки для улучшения работы модели.\n",
    "   - **Создание новых признаков**:\n",
    "     - Добавлен признак `days_on_contract`, который стал ключевым фактором для предсказаний.\n",
    "   - **Обучение моделей**:\n",
    "     - Были обучены три модели: Logistic Regression, Random Forest и Gradient Boosting.\n",
    "     - Для Random Forest и Gradient Boosting выполнена настройка гиперпараметров с использованием RandomizedSearchCV.\n",
    "   - **Оценка моделей**:\n",
    "     - Gradient Boosting показал лучшие результаты, достигнув ROC-AUC = 0.9287 на тестовой выборке.\n",
    "   - **Анализ важности признаков**:\n",
    "     - `days_on_contract` и `monthlycharges` оказались наиболее важными факторами для предсказания оттока.\n",
    "\n",
    "3. **Итог**:\n",
    "   - Построенная модель Gradient Boosting готова к использованию в бизнесе для предсказания оттока клиентов и разработки стратегий их удержания.\n",
    "   - Представленные рекомендации помогут оператору связи улучшить удержание клиентов и оптимизировать маркетинговые усилия.\n",
    "\n",
    "---\n",
    "\n",
    "### Дополнения:\n",
    "- **ROC-кривая**:\n",
    "  - ROC-кривая показывает, что модель Gradient Boosting демонстрирует уверенную способность различать клиентов с высоким и низким риском оттока. \n",
    "  - Значение AUC = 0.93 указывает на высокую точность предсказаний.\n",
    "  \n",
    "- **Матрица ошибок**:\n",
    "  - Матрица ошибок показала:\n",
    "    - True Positive (TP): 181\n",
    "    - False Positive (FP): 16\n",
    "    - True Negative (TN): 1439\n",
    "    - False Negative (FN): 122\n",
    "  - Высокое значение True Negative подтверждает, что модель надёжно предсказывает отсутствие оттока.\n",
    "\n",
    "- **Анализ важности признаков**:\n",
    "  - Основной вклад в предсказания вносят:\n",
    "    - `days_on_contract` — наиболее значимый признак.\n",
    "    - `monthlycharges` — второй по значимости фактор.\n",
    "  - Эти данные позволяют бизнесу сосредоточить усилия на ключевых клиентах.\n"
   ]
  }
 ],
 "metadata": {
  "ExecuteTimeLog": [
   {
    "duration": 1410,
    "start_time": "2025-01-20T17:52:01.003Z"
   },
   {
    "duration": 151,
    "start_time": "2025-01-20T17:52:08.112Z"
   },
   {
    "duration": 353,
    "start_time": "2025-01-20T17:52:45.807Z"
   },
   {
    "duration": 68,
    "start_time": "2025-01-20T17:53:02.914Z"
   },
   {
    "duration": 7,
    "start_time": "2025-01-20T17:53:37.675Z"
   },
   {
    "duration": 67,
    "start_time": "2025-01-20T17:53:48.277Z"
   },
   {
    "duration": 79,
    "start_time": "2025-01-20T17:55:48.657Z"
   },
   {
    "duration": 33,
    "start_time": "2025-01-20T17:57:04.689Z"
   },
   {
    "duration": 1325,
    "start_time": "2025-01-20T18:00:07.426Z"
   },
   {
    "duration": 2080,
    "start_time": "2025-01-20T18:00:29.860Z"
   },
   {
    "duration": 20,
    "start_time": "2025-01-20T18:00:32.398Z"
   },
   {
    "duration": 1305,
    "start_time": "2025-01-20T18:01:52.556Z"
   },
   {
    "duration": 13,
    "start_time": "2025-01-20T18:02:24.376Z"
   },
   {
    "duration": 16,
    "start_time": "2025-01-20T18:02:27.627Z"
   },
   {
    "duration": 19,
    "start_time": "2025-01-20T18:04:03.437Z"
   },
   {
    "duration": 17,
    "start_time": "2025-01-20T18:19:01.656Z"
   },
   {
    "duration": 7,
    "start_time": "2025-01-20T18:19:44.006Z"
   },
   {
    "duration": 5,
    "start_time": "2025-01-20T18:21:25.893Z"
   },
   {
    "duration": 11,
    "start_time": "2025-01-20T18:21:47.010Z"
   },
   {
    "duration": 11,
    "start_time": "2025-01-20T18:21:51.398Z"
   },
   {
    "duration": 12,
    "start_time": "2025-01-20T18:22:03.973Z"
   },
   {
    "duration": 4,
    "start_time": "2025-01-20T18:22:59.022Z"
   },
   {
    "duration": 5,
    "start_time": "2025-01-20T18:23:02.811Z"
   },
   {
    "duration": 5,
    "start_time": "2025-01-20T18:26:18.773Z"
   },
   {
    "duration": 5,
    "start_time": "2025-01-20T18:26:24.014Z"
   },
   {
    "duration": 5,
    "start_time": "2025-01-20T18:27:57.327Z"
   },
   {
    "duration": 8,
    "start_time": "2025-01-20T18:28:08.373Z"
   },
   {
    "duration": 4,
    "start_time": "2025-01-20T18:29:14.370Z"
   },
   {
    "duration": 12,
    "start_time": "2025-01-20T18:29:16.277Z"
   },
   {
    "duration": 10,
    "start_time": "2025-01-20T18:30:14.573Z"
   },
   {
    "duration": 12,
    "start_time": "2025-01-20T18:30:22.283Z"
   },
   {
    "duration": 11,
    "start_time": "2025-01-20T18:30:46.727Z"
   },
   {
    "duration": 11,
    "start_time": "2025-01-20T18:31:00.843Z"
   },
   {
    "duration": 4,
    "start_time": "2025-01-20T19:46:23.778Z"
   },
   {
    "duration": 12,
    "start_time": "2025-01-20T19:46:27.340Z"
   },
   {
    "duration": 11,
    "start_time": "2025-01-20T20:06:22.731Z"
   },
   {
    "duration": 105,
    "start_time": "2025-01-20T20:07:29.234Z"
   },
   {
    "duration": 29,
    "start_time": "2025-01-20T20:10:14.816Z"
   },
   {
    "duration": 46,
    "start_time": "2025-01-20T20:11:26.136Z"
   },
   {
    "duration": 13,
    "start_time": "2025-01-20T20:15:19.023Z"
   },
   {
    "duration": 1242,
    "start_time": "2025-01-20T20:15:30.092Z"
   },
   {
    "duration": 100,
    "start_time": "2025-01-20T20:15:31.336Z"
   },
   {
    "duration": 71,
    "start_time": "2025-01-20T20:15:31.438Z"
   },
   {
    "duration": 124,
    "start_time": "2025-01-20T20:15:31.511Z"
   },
   {
    "duration": 0,
    "start_time": "2025-01-20T20:15:31.637Z"
   },
   {
    "duration": 0,
    "start_time": "2025-01-20T20:15:31.638Z"
   },
   {
    "duration": 0,
    "start_time": "2025-01-20T20:15:31.639Z"
   },
   {
    "duration": 0,
    "start_time": "2025-01-20T20:15:31.640Z"
   },
   {
    "duration": 0,
    "start_time": "2025-01-20T20:15:31.641Z"
   },
   {
    "duration": 0,
    "start_time": "2025-01-20T20:15:31.642Z"
   },
   {
    "duration": 0,
    "start_time": "2025-01-20T20:15:31.643Z"
   },
   {
    "duration": 0,
    "start_time": "2025-01-20T20:15:31.644Z"
   },
   {
    "duration": 0,
    "start_time": "2025-01-20T20:15:31.646Z"
   },
   {
    "duration": 15,
    "start_time": "2025-01-20T20:16:22.879Z"
   },
   {
    "duration": 15,
    "start_time": "2025-01-20T20:17:43.334Z"
   },
   {
    "duration": 67,
    "start_time": "2025-01-20T20:21:02.620Z"
   },
   {
    "duration": 75,
    "start_time": "2025-01-20T20:22:16.536Z"
   },
   {
    "duration": 1212,
    "start_time": "2025-01-20T20:22:51.613Z"
   },
   {
    "duration": 99,
    "start_time": "2025-01-20T20:22:52.827Z"
   },
   {
    "duration": 72,
    "start_time": "2025-01-20T20:22:52.928Z"
   },
   {
    "duration": 92,
    "start_time": "2025-01-20T20:22:53.002Z"
   },
   {
    "duration": 1403,
    "start_time": "2025-01-20T20:22:53.096Z"
   },
   {
    "duration": 0,
    "start_time": "2025-01-20T20:22:54.501Z"
   },
   {
    "duration": 0,
    "start_time": "2025-01-20T20:22:54.503Z"
   },
   {
    "duration": 0,
    "start_time": "2025-01-20T20:22:54.505Z"
   },
   {
    "duration": 0,
    "start_time": "2025-01-20T20:22:54.507Z"
   },
   {
    "duration": 0,
    "start_time": "2025-01-20T20:22:54.508Z"
   },
   {
    "duration": 0,
    "start_time": "2025-01-20T20:22:54.509Z"
   },
   {
    "duration": 0,
    "start_time": "2025-01-20T20:22:54.511Z"
   },
   {
    "duration": 0,
    "start_time": "2025-01-20T20:22:54.511Z"
   },
   {
    "duration": 11,
    "start_time": "2025-01-20T20:23:39.169Z"
   },
   {
    "duration": 17,
    "start_time": "2025-01-20T20:24:05.595Z"
   },
   {
    "duration": 1200,
    "start_time": "2025-01-20T20:24:17.423Z"
   },
   {
    "duration": 98,
    "start_time": "2025-01-20T20:24:18.625Z"
   },
   {
    "duration": 69,
    "start_time": "2025-01-20T20:24:18.725Z"
   },
   {
    "duration": 68,
    "start_time": "2025-01-20T20:24:18.796Z"
   },
   {
    "duration": 11,
    "start_time": "2025-01-20T20:24:18.887Z"
   },
   {
    "duration": 130,
    "start_time": "2025-01-20T20:24:18.900Z"
   },
   {
    "duration": 0,
    "start_time": "2025-01-20T20:24:19.032Z"
   },
   {
    "duration": 0,
    "start_time": "2025-01-20T20:24:19.033Z"
   },
   {
    "duration": 1,
    "start_time": "2025-01-20T20:24:19.034Z"
   },
   {
    "duration": 0,
    "start_time": "2025-01-20T20:24:19.036Z"
   },
   {
    "duration": 0,
    "start_time": "2025-01-20T20:24:19.037Z"
   },
   {
    "duration": 0,
    "start_time": "2025-01-20T20:24:19.038Z"
   },
   {
    "duration": 0,
    "start_time": "2025-01-20T20:24:19.039Z"
   },
   {
    "duration": 17,
    "start_time": "2025-01-20T20:25:08.015Z"
   },
   {
    "duration": 8,
    "start_time": "2025-01-20T20:25:32.591Z"
   },
   {
    "duration": 5,
    "start_time": "2025-01-20T20:25:37.020Z"
   },
   {
    "duration": 4,
    "start_time": "2025-01-20T20:25:39.926Z"
   },
   {
    "duration": 71,
    "start_time": "2025-01-20T20:28:20.946Z"
   },
   {
    "duration": 70,
    "start_time": "2025-01-20T20:29:39.979Z"
   },
   {
    "duration": 1265,
    "start_time": "2025-01-20T20:29:52.161Z"
   },
   {
    "duration": 100,
    "start_time": "2025-01-20T20:29:53.428Z"
   },
   {
    "duration": 70,
    "start_time": "2025-01-20T20:29:53.530Z"
   },
   {
    "duration": 102,
    "start_time": "2025-01-20T20:29:53.602Z"
   },
   {
    "duration": 10,
    "start_time": "2025-01-20T20:29:53.706Z"
   },
   {
    "duration": 162,
    "start_time": "2025-01-20T20:29:53.718Z"
   },
   {
    "duration": 0,
    "start_time": "2025-01-20T20:29:53.881Z"
   },
   {
    "duration": 0,
    "start_time": "2025-01-20T20:29:53.886Z"
   },
   {
    "duration": 0,
    "start_time": "2025-01-20T20:29:53.887Z"
   },
   {
    "duration": 0,
    "start_time": "2025-01-20T20:29:53.888Z"
   },
   {
    "duration": 0,
    "start_time": "2025-01-20T20:29:53.889Z"
   },
   {
    "duration": 0,
    "start_time": "2025-01-20T20:29:53.890Z"
   },
   {
    "duration": 67,
    "start_time": "2025-01-20T20:31:01.424Z"
   },
   {
    "duration": 64,
    "start_time": "2025-01-20T20:31:11.151Z"
   },
   {
    "duration": 66,
    "start_time": "2025-01-20T20:31:13.570Z"
   },
   {
    "duration": 1241,
    "start_time": "2025-01-20T20:31:22.682Z"
   },
   {
    "duration": 100,
    "start_time": "2025-01-20T20:31:23.925Z"
   },
   {
    "duration": 69,
    "start_time": "2025-01-20T20:31:24.027Z"
   },
   {
    "duration": 87,
    "start_time": "2025-01-20T20:31:24.098Z"
   },
   {
    "duration": 1435,
    "start_time": "2025-01-20T20:31:24.188Z"
   },
   {
    "duration": 0,
    "start_time": "2025-01-20T20:31:25.626Z"
   },
   {
    "duration": 0,
    "start_time": "2025-01-20T20:31:25.627Z"
   },
   {
    "duration": 0,
    "start_time": "2025-01-20T20:31:25.628Z"
   },
   {
    "duration": 0,
    "start_time": "2025-01-20T20:31:25.629Z"
   },
   {
    "duration": 0,
    "start_time": "2025-01-20T20:31:25.630Z"
   },
   {
    "duration": 0,
    "start_time": "2025-01-20T20:31:25.632Z"
   },
   {
    "duration": 0,
    "start_time": "2025-01-20T20:31:25.633Z"
   },
   {
    "duration": 13,
    "start_time": "2025-01-20T20:33:37.785Z"
   },
   {
    "duration": 11,
    "start_time": "2025-01-20T20:33:44.590Z"
   },
   {
    "duration": 1247,
    "start_time": "2025-01-20T20:33:57.678Z"
   },
   {
    "duration": 101,
    "start_time": "2025-01-20T20:33:58.928Z"
   },
   {
    "duration": 77,
    "start_time": "2025-01-20T20:33:59.030Z"
   },
   {
    "duration": 97,
    "start_time": "2025-01-20T20:33:59.109Z"
   },
   {
    "duration": 12,
    "start_time": "2025-01-20T20:33:59.208Z"
   },
   {
    "duration": 22,
    "start_time": "2025-01-20T20:33:59.221Z"
   },
   {
    "duration": 13,
    "start_time": "2025-01-20T20:33:59.245Z"
   },
   {
    "duration": 47,
    "start_time": "2025-01-20T20:33:59.260Z"
   },
   {
    "duration": 19,
    "start_time": "2025-01-20T20:33:59.309Z"
   },
   {
    "duration": 15,
    "start_time": "2025-01-20T20:33:59.330Z"
   },
   {
    "duration": 22,
    "start_time": "2025-01-20T20:33:59.347Z"
   },
   {
    "duration": 23,
    "start_time": "2025-01-20T20:33:59.370Z"
   },
   {
    "duration": 56,
    "start_time": "2025-01-20T20:33:59.395Z"
   },
   {
    "duration": 59,
    "start_time": "2025-01-20T20:37:37.454Z"
   },
   {
    "duration": 10,
    "start_time": "2025-01-20T20:43:43.145Z"
   },
   {
    "duration": 32,
    "start_time": "2025-01-20T20:44:13.904Z"
   },
   {
    "duration": 94,
    "start_time": "2025-01-20T20:44:51.597Z"
   },
   {
    "duration": 61,
    "start_time": "2025-01-20T20:45:25.564Z"
   },
   {
    "duration": 28,
    "start_time": "2025-01-20T20:46:45.877Z"
   },
   {
    "duration": 26,
    "start_time": "2025-01-20T20:49:55.119Z"
   },
   {
    "duration": 29,
    "start_time": "2025-01-20T20:49:58.244Z"
   },
   {
    "duration": 117,
    "start_time": "2025-01-20T20:55:51.401Z"
   },
   {
    "duration": 147,
    "start_time": "2025-01-20T20:56:00.852Z"
   },
   {
    "duration": 1230,
    "start_time": "2025-01-20T21:01:17.803Z"
   },
   {
    "duration": 101,
    "start_time": "2025-01-20T21:01:19.035Z"
   },
   {
    "duration": 68,
    "start_time": "2025-01-20T21:01:19.138Z"
   },
   {
    "duration": 88,
    "start_time": "2025-01-20T21:01:19.207Z"
   },
   {
    "duration": 11,
    "start_time": "2025-01-20T21:01:19.297Z"
   },
   {
    "duration": 66,
    "start_time": "2025-01-20T21:01:19.310Z"
   },
   {
    "duration": 7,
    "start_time": "2025-01-20T21:01:19.378Z"
   },
   {
    "duration": 9,
    "start_time": "2025-01-20T21:01:19.387Z"
   },
   {
    "duration": 18,
    "start_time": "2025-01-20T21:01:19.398Z"
   },
   {
    "duration": 11,
    "start_time": "2025-01-20T21:01:19.418Z"
   },
   {
    "duration": 40,
    "start_time": "2025-01-20T21:01:19.430Z"
   },
   {
    "duration": 22,
    "start_time": "2025-01-20T21:01:19.473Z"
   },
   {
    "duration": 68,
    "start_time": "2025-01-20T21:01:19.498Z"
   },
   {
    "duration": 39,
    "start_time": "2025-01-20T21:01:19.568Z"
   },
   {
    "duration": 30,
    "start_time": "2025-01-20T21:01:19.608Z"
   },
   {
    "duration": 169,
    "start_time": "2025-01-20T21:01:19.639Z"
   },
   {
    "duration": 10,
    "start_time": "2025-01-20T21:09:04.429Z"
   },
   {
    "duration": 33,
    "start_time": "2025-01-20T21:09:18.729Z"
   },
   {
    "duration": 31,
    "start_time": "2025-01-20T21:10:44.549Z"
   },
   {
    "duration": 1192,
    "start_time": "2025-01-20T21:10:59.935Z"
   },
   {
    "duration": 100,
    "start_time": "2025-01-20T21:11:01.129Z"
   },
   {
    "duration": 68,
    "start_time": "2025-01-20T21:11:01.230Z"
   },
   {
    "duration": 87,
    "start_time": "2025-01-20T21:11:01.300Z"
   },
   {
    "duration": 12,
    "start_time": "2025-01-20T21:11:01.390Z"
   },
   {
    "duration": 72,
    "start_time": "2025-01-20T21:11:01.403Z"
   },
   {
    "duration": 48,
    "start_time": "2025-01-20T21:11:01.476Z"
   },
   {
    "duration": 21,
    "start_time": "2025-01-20T21:11:01.525Z"
   },
   {
    "duration": 77,
    "start_time": "2025-01-20T21:11:01.548Z"
   },
   {
    "duration": 32,
    "start_time": "2025-01-20T21:11:01.627Z"
   },
   {
    "duration": 57,
    "start_time": "2025-01-20T21:11:01.661Z"
   },
   {
    "duration": 11,
    "start_time": "2025-01-20T21:11:01.720Z"
   },
   {
    "duration": 86,
    "start_time": "2025-01-20T21:11:01.733Z"
   },
   {
    "duration": 34,
    "start_time": "2025-01-20T21:11:01.822Z"
   },
   {
    "duration": 67,
    "start_time": "2025-01-20T21:11:01.858Z"
   },
   {
    "duration": 36,
    "start_time": "2025-01-20T21:11:01.926Z"
   },
   {
    "duration": 147,
    "start_time": "2025-01-20T21:11:01.964Z"
   },
   {
    "duration": 13,
    "start_time": "2025-01-20T21:11:53.235Z"
   },
   {
    "duration": 15,
    "start_time": "2025-01-20T21:13:25.624Z"
   },
   {
    "duration": 31,
    "start_time": "2025-01-20T21:13:36.154Z"
   },
   {
    "duration": 1603,
    "start_time": "2025-01-20T21:37:25.464Z"
   },
   {
    "duration": 1678,
    "start_time": "2025-01-20T21:37:35.932Z"
   },
   {
    "duration": 1561,
    "start_time": "2025-01-20T21:40:22.840Z"
   },
   {
    "duration": 7,
    "start_time": "2025-01-20T21:40:37.505Z"
   },
   {
    "duration": 116,
    "start_time": "2025-01-20T21:41:10.965Z"
   },
   {
    "duration": 1341,
    "start_time": "2025-01-20T21:42:56.286Z"
   },
   {
    "duration": 98,
    "start_time": "2025-01-20T21:43:09.033Z"
   },
   {
    "duration": 1902,
    "start_time": "2025-01-20T21:43:32.003Z"
   },
   {
    "duration": 1988,
    "start_time": "2025-01-20T21:44:13.401Z"
   },
   {
    "duration": 81,
    "start_time": "2025-01-20T21:46:05.142Z"
   },
   {
    "duration": 658,
    "start_time": "2025-01-20T21:48:49.712Z"
   },
   {
    "duration": 759,
    "start_time": "2025-01-20T21:48:58.664Z"
   },
   {
    "duration": 610,
    "start_time": "2025-01-20T21:52:22.424Z"
   },
   {
    "duration": 1317,
    "start_time": "2025-01-20T21:57:07.919Z"
   },
   {
    "duration": 0,
    "start_time": "2025-01-20T21:57:09.239Z"
   },
   {
    "duration": 0,
    "start_time": "2025-01-20T21:57:09.240Z"
   },
   {
    "duration": 0,
    "start_time": "2025-01-20T21:57:09.241Z"
   },
   {
    "duration": 0,
    "start_time": "2025-01-20T21:57:09.242Z"
   },
   {
    "duration": 0,
    "start_time": "2025-01-20T21:57:09.243Z"
   },
   {
    "duration": 0,
    "start_time": "2025-01-20T21:57:09.244Z"
   },
   {
    "duration": 0,
    "start_time": "2025-01-20T21:57:09.245Z"
   },
   {
    "duration": 0,
    "start_time": "2025-01-20T21:57:09.246Z"
   },
   {
    "duration": 0,
    "start_time": "2025-01-20T21:57:09.247Z"
   },
   {
    "duration": 0,
    "start_time": "2025-01-20T21:57:09.248Z"
   },
   {
    "duration": 0,
    "start_time": "2025-01-20T21:57:09.249Z"
   },
   {
    "duration": 0,
    "start_time": "2025-01-20T21:57:09.250Z"
   },
   {
    "duration": 0,
    "start_time": "2025-01-20T21:57:09.251Z"
   },
   {
    "duration": 0,
    "start_time": "2025-01-20T21:57:09.252Z"
   },
   {
    "duration": 0,
    "start_time": "2025-01-20T21:57:09.253Z"
   },
   {
    "duration": 0,
    "start_time": "2025-01-20T21:57:09.254Z"
   },
   {
    "duration": 0,
    "start_time": "2025-01-20T21:57:09.255Z"
   },
   {
    "duration": 0,
    "start_time": "2025-01-20T21:57:09.257Z"
   },
   {
    "duration": 0,
    "start_time": "2025-01-20T21:57:09.286Z"
   },
   {
    "duration": 0,
    "start_time": "2025-01-20T21:57:09.287Z"
   },
   {
    "duration": 112,
    "start_time": "2025-01-20T21:58:09.450Z"
   },
   {
    "duration": 78,
    "start_time": "2025-01-20T21:59:23.505Z"
   },
   {
    "duration": 11,
    "start_time": "2025-01-20T21:59:36.545Z"
   },
   {
    "duration": 11,
    "start_time": "2025-01-20T21:59:53.793Z"
   },
   {
    "duration": 54,
    "start_time": "2025-01-20T22:00:00.559Z"
   },
   {
    "duration": 0,
    "start_time": "2025-01-20T22:00:00.615Z"
   },
   {
    "duration": 0,
    "start_time": "2025-01-20T22:00:00.616Z"
   },
   {
    "duration": 0,
    "start_time": "2025-01-20T22:00:00.617Z"
   },
   {
    "duration": 0,
    "start_time": "2025-01-20T22:00:00.619Z"
   },
   {
    "duration": 0,
    "start_time": "2025-01-20T22:00:00.620Z"
   },
   {
    "duration": 0,
    "start_time": "2025-01-20T22:00:00.621Z"
   },
   {
    "duration": 0,
    "start_time": "2025-01-20T22:00:00.622Z"
   },
   {
    "duration": 0,
    "start_time": "2025-01-20T22:00:00.623Z"
   },
   {
    "duration": 0,
    "start_time": "2025-01-20T22:00:00.624Z"
   },
   {
    "duration": 0,
    "start_time": "2025-01-20T22:00:00.625Z"
   },
   {
    "duration": 0,
    "start_time": "2025-01-20T22:00:00.626Z"
   },
   {
    "duration": 0,
    "start_time": "2025-01-20T22:00:00.627Z"
   },
   {
    "duration": 0,
    "start_time": "2025-01-20T22:00:00.628Z"
   },
   {
    "duration": 0,
    "start_time": "2025-01-20T22:00:00.629Z"
   },
   {
    "duration": 0,
    "start_time": "2025-01-20T22:00:00.630Z"
   },
   {
    "duration": 0,
    "start_time": "2025-01-20T22:00:00.631Z"
   },
   {
    "duration": 0,
    "start_time": "2025-01-20T22:00:00.632Z"
   },
   {
    "duration": 0,
    "start_time": "2025-01-20T22:00:00.633Z"
   },
   {
    "duration": 46,
    "start_time": "2025-01-20T22:00:00.646Z"
   },
   {
    "duration": 0,
    "start_time": "2025-01-20T22:00:00.694Z"
   },
   {
    "duration": 3855,
    "start_time": "2025-01-20T22:00:28.852Z"
   },
   {
    "duration": 1508,
    "start_time": "2025-01-20T22:00:35.210Z"
   },
   {
    "duration": 2601,
    "start_time": "2025-01-20T22:00:45.171Z"
   },
   {
    "duration": 1531,
    "start_time": "2025-01-20T22:00:47.775Z"
   },
   {
    "duration": 100,
    "start_time": "2025-01-20T22:00:49.308Z"
   },
   {
    "duration": 68,
    "start_time": "2025-01-20T22:00:49.410Z"
   },
   {
    "duration": 71,
    "start_time": "2025-01-20T22:00:49.480Z"
   },
   {
    "duration": 42,
    "start_time": "2025-01-20T22:00:49.553Z"
   },
   {
    "duration": 83,
    "start_time": "2025-01-20T22:00:49.597Z"
   },
   {
    "duration": 7,
    "start_time": "2025-01-20T22:00:49.682Z"
   },
   {
    "duration": 9,
    "start_time": "2025-01-20T22:00:49.690Z"
   },
   {
    "duration": 14,
    "start_time": "2025-01-20T22:00:49.701Z"
   },
   {
    "duration": 10,
    "start_time": "2025-01-20T22:00:49.717Z"
   },
   {
    "duration": 11,
    "start_time": "2025-01-20T22:00:49.729Z"
   },
   {
    "duration": 15,
    "start_time": "2025-01-20T22:00:49.742Z"
   },
   {
    "duration": 62,
    "start_time": "2025-01-20T22:00:49.760Z"
   },
   {
    "duration": 30,
    "start_time": "2025-01-20T22:00:49.824Z"
   },
   {
    "duration": 32,
    "start_time": "2025-01-20T22:00:49.856Z"
   },
   {
    "duration": 69,
    "start_time": "2025-01-20T22:00:49.890Z"
   },
   {
    "duration": 157,
    "start_time": "2025-01-20T22:00:49.961Z"
   },
   {
    "duration": 1840,
    "start_time": "2025-01-20T22:00:50.119Z"
   },
   {
    "duration": 7,
    "start_time": "2025-01-20T22:00:51.960Z"
   },
   {
    "duration": 2050,
    "start_time": "2025-01-20T22:00:51.969Z"
   },
   {
    "duration": 624,
    "start_time": "2025-01-20T22:00:54.021Z"
   },
   {
    "duration": 15708,
    "start_time": "2025-01-20T22:02:04.414Z"
   },
   {
    "duration": 15624,
    "start_time": "2025-01-20T22:02:24.010Z"
   },
   {
    "duration": 19266,
    "start_time": "2025-01-20T22:03:49.913Z"
   },
   {
    "duration": 19286,
    "start_time": "2025-01-20T22:04:27.408Z"
   },
   {
    "duration": 134,
    "start_time": "2025-01-20T22:05:36.519Z"
   },
   {
    "duration": 5226,
    "start_time": "2025-01-20T22:06:13.141Z"
   },
   {
    "duration": 11,
    "start_time": "2025-01-20T22:07:47.861Z"
   },
   {
    "duration": 4194,
    "start_time": "2025-01-20T22:07:56.446Z"
   },
   {
    "duration": 48,
    "start_time": "2025-01-21T21:13:31.428Z"
   },
   {
    "duration": 3829,
    "start_time": "2025-01-21T21:13:48.679Z"
   },
   {
    "duration": 1668,
    "start_time": "2025-01-21T21:13:52.510Z"
   },
   {
    "duration": 337,
    "start_time": "2025-01-21T21:13:54.179Z"
   },
   {
    "duration": 57,
    "start_time": "2025-01-21T21:13:54.517Z"
   },
   {
    "duration": 72,
    "start_time": "2025-01-21T21:13:54.576Z"
   },
   {
    "duration": 10,
    "start_time": "2025-01-21T21:13:54.649Z"
   },
   {
    "duration": 12,
    "start_time": "2025-01-21T21:13:54.661Z"
   },
   {
    "duration": 6,
    "start_time": "2025-01-21T21:13:54.675Z"
   },
   {
    "duration": 11,
    "start_time": "2025-01-21T21:13:54.683Z"
   },
   {
    "duration": 11,
    "start_time": "2025-01-21T21:13:54.696Z"
   },
   {
    "duration": 38,
    "start_time": "2025-01-21T21:13:54.708Z"
   },
   {
    "duration": 9,
    "start_time": "2025-01-21T21:13:54.748Z"
   },
   {
    "duration": 11,
    "start_time": "2025-01-21T21:13:54.759Z"
   },
   {
    "duration": 74,
    "start_time": "2025-01-21T21:13:54.772Z"
   },
   {
    "duration": 26,
    "start_time": "2025-01-21T21:13:54.848Z"
   },
   {
    "duration": 25,
    "start_time": "2025-01-21T21:13:54.876Z"
   },
   {
    "duration": 52,
    "start_time": "2025-01-21T21:13:54.903Z"
   },
   {
    "duration": 140,
    "start_time": "2025-01-21T21:13:54.956Z"
   },
   {
    "duration": 1564,
    "start_time": "2025-01-21T21:13:55.098Z"
   },
   {
    "duration": 6,
    "start_time": "2025-01-21T21:13:56.664Z"
   },
   {
    "duration": 1714,
    "start_time": "2025-01-21T21:13:56.672Z"
   },
   {
    "duration": 531,
    "start_time": "2025-01-21T21:13:58.388Z"
   },
   {
    "duration": 3441,
    "start_time": "2025-01-21T21:13:58.920Z"
   },
   {
    "duration": 17,
    "start_time": "2025-01-21T21:14:02.363Z"
   },
   {
    "duration": 100,
    "start_time": "2025-01-21T21:17:24.276Z"
   },
   {
    "duration": 3,
    "start_time": "2025-01-21T21:18:20.165Z"
   },
   {
    "duration": 8,
    "start_time": "2025-01-21T21:22:31.866Z"
   },
   {
    "duration": 9,
    "start_time": "2025-01-21T21:22:40.891Z"
   },
   {
    "duration": 3,
    "start_time": "2025-01-21T21:31:40.536Z"
   },
   {
    "duration": 4,
    "start_time": "2025-01-21T21:32:19.756Z"
   },
   {
    "duration": 6,
    "start_time": "2025-01-21T21:32:36.401Z"
   },
   {
    "duration": 8,
    "start_time": "2025-01-21T21:32:59.871Z"
   },
   {
    "duration": 3,
    "start_time": "2025-01-21T21:34:24.172Z"
   },
   {
    "duration": 8,
    "start_time": "2025-01-21T21:34:26.606Z"
   },
   {
    "duration": 3,
    "start_time": "2025-01-21T21:34:28.440Z"
   },
   {
    "duration": 3,
    "start_time": "2025-01-21T21:34:30.330Z"
   },
   {
    "duration": 3,
    "start_time": "2025-01-21T21:36:05.159Z"
   },
   {
    "duration": 3,
    "start_time": "2025-01-21T21:36:07.018Z"
   },
   {
    "duration": 7024,
    "start_time": "2025-01-21T21:40:28.527Z"
   },
   {
    "duration": 6,
    "start_time": "2025-01-21T21:45:18.601Z"
   },
   {
    "duration": 3,
    "start_time": "2025-01-21T21:45:26.508Z"
   },
   {
    "duration": 2621,
    "start_time": "2025-01-21T22:23:40.116Z"
   },
   {
    "duration": 1632,
    "start_time": "2025-01-21T22:23:42.739Z"
   },
   {
    "duration": 90,
    "start_time": "2025-01-21T22:23:44.372Z"
   },
   {
    "duration": 57,
    "start_time": "2025-01-21T22:23:44.464Z"
   },
   {
    "duration": 61,
    "start_time": "2025-01-21T22:23:44.522Z"
   },
   {
    "duration": 10,
    "start_time": "2025-01-21T22:23:44.584Z"
   },
   {
    "duration": 14,
    "start_time": "2025-01-21T22:23:44.595Z"
   },
   {
    "duration": 8,
    "start_time": "2025-01-21T22:23:44.610Z"
   },
   {
    "duration": 28,
    "start_time": "2025-01-21T22:23:44.620Z"
   },
   {
    "duration": 27,
    "start_time": "2025-01-21T22:23:44.650Z"
   },
   {
    "duration": 9,
    "start_time": "2025-01-21T22:23:44.678Z"
   },
   {
    "duration": 9,
    "start_time": "2025-01-21T22:23:44.688Z"
   },
   {
    "duration": 9,
    "start_time": "2025-01-21T22:23:44.698Z"
   },
   {
    "duration": 67,
    "start_time": "2025-01-21T22:23:44.708Z"
   },
   {
    "duration": 23,
    "start_time": "2025-01-21T22:23:44.777Z"
   },
   {
    "duration": 22,
    "start_time": "2025-01-21T22:23:44.802Z"
   },
   {
    "duration": 47,
    "start_time": "2025-01-21T22:23:44.825Z"
   },
   {
    "duration": 134,
    "start_time": "2025-01-21T22:23:44.873Z"
   },
   {
    "duration": 1458,
    "start_time": "2025-01-21T22:23:45.008Z"
   },
   {
    "duration": 6,
    "start_time": "2025-01-21T22:23:46.468Z"
   },
   {
    "duration": 1688,
    "start_time": "2025-01-21T22:23:46.475Z"
   },
   {
    "duration": 503,
    "start_time": "2025-01-21T22:23:48.164Z"
   },
   {
    "duration": 3334,
    "start_time": "2025-01-21T22:23:48.669Z"
   },
   {
    "duration": 17,
    "start_time": "2025-01-21T22:23:52.004Z"
   },
   {
    "duration": 24,
    "start_time": "2025-01-21T22:23:52.022Z"
   },
   {
    "duration": 10,
    "start_time": "2025-01-21T22:23:52.047Z"
   },
   {
    "duration": 7,
    "start_time": "2025-01-21T22:23:52.058Z"
   },
   {
    "duration": 3,
    "start_time": "2025-01-21T22:23:52.068Z"
   },
   {
    "duration": 4,
    "start_time": "2025-01-21T22:23:52.072Z"
   },
   {
    "duration": 3,
    "start_time": "2025-01-21T22:23:52.077Z"
   },
   {
    "duration": 3,
    "start_time": "2025-01-21T22:23:52.081Z"
   },
   {
    "duration": 7068,
    "start_time": "2025-01-21T22:23:52.086Z"
   },
   {
    "duration": 6,
    "start_time": "2025-01-21T22:23:59.155Z"
   },
   {
    "duration": 4,
    "start_time": "2025-01-21T22:23:59.162Z"
   },
   {
    "duration": 3,
    "start_time": "2025-01-21T22:23:59.167Z"
   },
   {
    "duration": 39906,
    "start_time": "2025-01-21T22:23:59.171Z"
   },
   {
    "duration": 6,
    "start_time": "2025-01-21T22:32:40.098Z"
   },
   {
    "duration": 4,
    "start_time": "2025-01-21T22:32:43.051Z"
   },
   {
    "duration": 4,
    "start_time": "2025-01-21T22:32:45.318Z"
   },
   {
    "duration": 93591,
    "start_time": "2025-01-21T22:32:58.609Z"
   },
   {
    "duration": 62,
    "start_time": "2025-01-21T22:36:10.069Z"
   },
   {
    "duration": 63,
    "start_time": "2025-01-21T22:42:55.372Z"
   },
   {
    "duration": 6325,
    "start_time": "2025-01-21T22:51:38.584Z"
   },
   {
    "duration": 40,
    "start_time": "2025-01-21T23:03:24.052Z"
   },
   {
    "duration": 98,
    "start_time": "2025-01-21T23:06:59.539Z"
   },
   {
    "duration": 151,
    "start_time": "2025-01-21T23:10:49.552Z"
   },
   {
    "duration": 157,
    "start_time": "2025-01-21T23:11:06.521Z"
   },
   {
    "duration": 157,
    "start_time": "2025-01-21T23:11:16.466Z"
   },
   {
    "duration": 170,
    "start_time": "2025-01-21T23:18:03.124Z"
   },
   {
    "duration": 140,
    "start_time": "2025-01-21T23:20:14.569Z"
   },
   {
    "duration": 168,
    "start_time": "2025-01-21T23:20:20.465Z"
   },
   {
    "duration": 35,
    "start_time": "2025-01-21T23:20:46.087Z"
   },
   {
    "duration": 35,
    "start_time": "2025-01-21T23:21:04.132Z"
   },
   {
    "duration": 170,
    "start_time": "2025-01-21T23:21:11.097Z"
   },
   {
    "duration": 265,
    "start_time": "2025-01-21T23:26:30.849Z"
   },
   {
    "duration": 98,
    "start_time": "2025-01-21T23:27:02.754Z"
   },
   {
    "duration": 268,
    "start_time": "2025-01-21T23:27:08.451Z"
   },
   {
    "duration": 26,
    "start_time": "2025-01-21T23:27:45.843Z"
   },
   {
    "duration": 263,
    "start_time": "2025-01-21T23:28:31.109Z"
   },
   {
    "duration": 2656,
    "start_time": "2025-01-21T23:40:29.884Z"
   },
   {
    "duration": 1390,
    "start_time": "2025-01-21T23:40:32.542Z"
   },
   {
    "duration": 89,
    "start_time": "2025-01-21T23:40:33.934Z"
   },
   {
    "duration": 60,
    "start_time": "2025-01-21T23:40:34.025Z"
   },
   {
    "duration": 86,
    "start_time": "2025-01-21T23:40:34.087Z"
   },
   {
    "duration": 10,
    "start_time": "2025-01-21T23:40:34.174Z"
   },
   {
    "duration": 32,
    "start_time": "2025-01-21T23:40:34.185Z"
   },
   {
    "duration": 7,
    "start_time": "2025-01-21T23:40:34.219Z"
   },
   {
    "duration": 34,
    "start_time": "2025-01-21T23:40:34.228Z"
   },
   {
    "duration": 53,
    "start_time": "2025-01-21T23:40:34.264Z"
   },
   {
    "duration": 10,
    "start_time": "2025-01-21T23:40:34.318Z"
   },
   {
    "duration": 9,
    "start_time": "2025-01-21T23:40:34.329Z"
   },
   {
    "duration": 21,
    "start_time": "2025-01-21T23:40:34.340Z"
   },
   {
    "duration": 65,
    "start_time": "2025-01-21T23:40:34.362Z"
   },
   {
    "duration": 24,
    "start_time": "2025-01-21T23:40:34.429Z"
   },
   {
    "duration": 23,
    "start_time": "2025-01-21T23:40:34.454Z"
   },
   {
    "duration": 28,
    "start_time": "2025-01-21T23:40:34.478Z"
   },
   {
    "duration": 145,
    "start_time": "2025-01-21T23:40:34.508Z"
   },
   {
    "duration": 1477,
    "start_time": "2025-01-21T23:40:34.654Z"
   },
   {
    "duration": 8,
    "start_time": "2025-01-21T23:40:36.133Z"
   },
   {
    "duration": 1718,
    "start_time": "2025-01-21T23:40:36.143Z"
   },
   {
    "duration": 508,
    "start_time": "2025-01-21T23:40:37.862Z"
   },
   {
    "duration": 3358,
    "start_time": "2025-01-21T23:40:38.371Z"
   },
   {
    "duration": 28,
    "start_time": "2025-01-21T23:40:41.731Z"
   },
   {
    "duration": 4,
    "start_time": "2025-01-21T23:40:41.760Z"
   },
   {
    "duration": 9,
    "start_time": "2025-01-21T23:40:41.766Z"
   },
   {
    "duration": 7,
    "start_time": "2025-01-21T23:40:41.776Z"
   },
   {
    "duration": 2,
    "start_time": "2025-01-21T23:40:41.786Z"
   },
   {
    "duration": 7,
    "start_time": "2025-01-21T23:40:41.790Z"
   },
   {
    "duration": 3,
    "start_time": "2025-01-21T23:40:41.798Z"
   },
   {
    "duration": 4,
    "start_time": "2025-01-21T23:40:41.802Z"
   },
   {
    "duration": 7001,
    "start_time": "2025-01-21T23:40:41.807Z"
   },
   {
    "duration": 5,
    "start_time": "2025-01-21T23:40:48.810Z"
   },
   {
    "duration": 4,
    "start_time": "2025-01-21T23:40:48.816Z"
   },
   {
    "duration": 4,
    "start_time": "2025-01-21T23:40:48.821Z"
   },
   {
    "duration": 39976,
    "start_time": "2025-01-21T23:40:48.827Z"
   },
   {
    "duration": 6,
    "start_time": "2025-01-21T23:41:28.804Z"
   },
   {
    "duration": 5,
    "start_time": "2025-01-21T23:41:28.811Z"
   },
   {
    "duration": 3,
    "start_time": "2025-01-21T23:41:28.818Z"
   },
   {
    "duration": 94394,
    "start_time": "2025-01-21T23:41:28.822Z"
   },
   {
    "duration": 6202,
    "start_time": "2025-01-21T23:43:03.218Z"
   },
   {
    "duration": 47,
    "start_time": "2025-01-21T23:43:09.421Z"
   },
   {
    "duration": 160,
    "start_time": "2025-01-21T23:43:09.470Z"
   },
   {
    "duration": 172,
    "start_time": "2025-01-21T23:43:09.632Z"
   },
   {
    "duration": 270,
    "start_time": "2025-01-21T23:43:09.806Z"
   },
   {
    "duration": 2799,
    "start_time": "2025-01-22T13:54:05.857Z"
   },
   {
    "duration": 1691,
    "start_time": "2025-01-22T13:54:08.659Z"
   },
   {
    "duration": 94,
    "start_time": "2025-01-22T13:54:10.351Z"
   },
   {
    "duration": 51,
    "start_time": "2025-01-22T13:54:10.447Z"
   },
   {
    "duration": 68,
    "start_time": "2025-01-22T13:54:10.499Z"
   },
   {
    "duration": 10,
    "start_time": "2025-01-22T13:54:10.569Z"
   },
   {
    "duration": 14,
    "start_time": "2025-01-22T13:54:10.580Z"
   },
   {
    "duration": 5,
    "start_time": "2025-01-22T13:54:10.596Z"
   },
   {
    "duration": 5,
    "start_time": "2025-01-22T13:54:10.602Z"
   },
   {
    "duration": 10,
    "start_time": "2025-01-22T13:54:10.608Z"
   },
   {
    "duration": 36,
    "start_time": "2025-01-22T13:54:10.620Z"
   },
   {
    "duration": 9,
    "start_time": "2025-01-22T13:54:10.658Z"
   },
   {
    "duration": 20,
    "start_time": "2025-01-22T13:54:10.669Z"
   },
   {
    "duration": 48,
    "start_time": "2025-01-22T13:54:10.691Z"
   },
   {
    "duration": 22,
    "start_time": "2025-01-22T13:54:10.753Z"
   },
   {
    "duration": 21,
    "start_time": "2025-01-22T13:54:10.776Z"
   },
   {
    "duration": 23,
    "start_time": "2025-01-22T13:54:10.798Z"
   },
   {
    "duration": 356,
    "start_time": "2025-01-22T13:54:10.823Z"
   },
   {
    "duration": 1741,
    "start_time": "2025-01-22T13:54:11.181Z"
   },
   {
    "duration": 7,
    "start_time": "2025-01-22T13:54:12.923Z"
   },
   {
    "duration": 2641,
    "start_time": "2025-01-22T13:54:12.931Z"
   },
   {
    "duration": 759,
    "start_time": "2025-01-22T13:54:15.573Z"
   },
   {
    "duration": 2184,
    "start_time": "2025-01-22T13:54:16.334Z"
   },
   {
    "duration": 17,
    "start_time": "2025-01-22T13:54:18.520Z"
   },
   {
    "duration": 3,
    "start_time": "2025-01-22T13:54:18.553Z"
   },
   {
    "duration": 12,
    "start_time": "2025-01-22T13:54:18.557Z"
   },
   {
    "duration": 8,
    "start_time": "2025-01-22T13:54:18.571Z"
   },
   {
    "duration": 3,
    "start_time": "2025-01-22T13:54:18.580Z"
   },
   {
    "duration": 10,
    "start_time": "2025-01-22T13:54:18.584Z"
   },
   {
    "duration": 10,
    "start_time": "2025-01-22T13:54:18.595Z"
   },
   {
    "duration": 3,
    "start_time": "2025-01-22T13:54:18.607Z"
   },
   {
    "duration": 7404,
    "start_time": "2025-01-22T13:54:18.611Z"
   },
   {
    "duration": 5,
    "start_time": "2025-01-22T13:54:26.016Z"
   },
   {
    "duration": 6,
    "start_time": "2025-01-22T13:54:26.022Z"
   },
   {
    "duration": 6,
    "start_time": "2025-01-22T13:54:26.029Z"
   },
   {
    "duration": 43448,
    "start_time": "2025-01-22T13:54:26.036Z"
   },
   {
    "duration": 6,
    "start_time": "2025-01-22T13:55:09.485Z"
   },
   {
    "duration": 13,
    "start_time": "2025-01-22T13:55:09.493Z"
   },
   {
    "duration": 3,
    "start_time": "2025-01-22T13:55:09.508Z"
   },
   {
    "duration": 107019,
    "start_time": "2025-01-22T13:55:09.513Z"
   },
   {
    "duration": 6802,
    "start_time": "2025-01-22T13:56:56.536Z"
   },
   {
    "duration": 54,
    "start_time": "2025-01-22T13:57:03.340Z"
   },
   {
    "duration": 263,
    "start_time": "2025-01-22T13:57:03.396Z"
   },
   {
    "duration": 265,
    "start_time": "2025-01-22T13:57:03.661Z"
   },
   {
    "duration": 132,
    "start_time": "2025-01-22T13:57:03.928Z"
   },
   {
    "duration": 15,
    "start_time": "2025-01-22T14:01:55.253Z"
   },
   {
    "duration": 479,
    "start_time": "2025-01-22T14:02:17.444Z"
   },
   {
    "duration": 2835,
    "start_time": "2025-01-22T18:44:12.605Z"
   },
   {
    "duration": 1704,
    "start_time": "2025-01-22T18:44:15.442Z"
   },
   {
    "duration": 97,
    "start_time": "2025-01-22T18:44:17.148Z"
   },
   {
    "duration": 52,
    "start_time": "2025-01-22T18:44:17.247Z"
   },
   {
    "duration": 69,
    "start_time": "2025-01-22T18:44:17.301Z"
   },
   {
    "duration": 9,
    "start_time": "2025-01-22T18:44:17.372Z"
   },
   {
    "duration": 63,
    "start_time": "2025-01-22T18:44:17.383Z"
   },
   {
    "duration": 6,
    "start_time": "2025-01-22T18:44:17.448Z"
   },
   {
    "duration": 6,
    "start_time": "2025-01-22T18:44:17.455Z"
   },
   {
    "duration": 15,
    "start_time": "2025-01-22T18:44:17.463Z"
   },
   {
    "duration": 7,
    "start_time": "2025-01-22T18:44:17.479Z"
   },
   {
    "duration": 58,
    "start_time": "2025-01-22T18:44:17.487Z"
   },
   {
    "duration": 10,
    "start_time": "2025-01-22T18:44:17.547Z"
   },
   {
    "duration": 44,
    "start_time": "2025-01-22T18:44:17.559Z"
   },
   {
    "duration": 22,
    "start_time": "2025-01-22T18:44:17.605Z"
   },
   {
    "duration": 39,
    "start_time": "2025-01-22T18:44:17.629Z"
   },
   {
    "duration": 24,
    "start_time": "2025-01-22T18:44:17.670Z"
   },
   {
    "duration": 327,
    "start_time": "2025-01-22T18:44:17.695Z"
   },
   {
    "duration": 1772,
    "start_time": "2025-01-22T18:44:18.024Z"
   },
   {
    "duration": 6,
    "start_time": "2025-01-22T18:44:19.798Z"
   },
   {
    "duration": 2520,
    "start_time": "2025-01-22T18:44:19.805Z"
   },
   {
    "duration": 719,
    "start_time": "2025-01-22T18:44:22.326Z"
   },
   {
    "duration": 2146,
    "start_time": "2025-01-22T18:44:23.047Z"
   },
   {
    "duration": 17,
    "start_time": "2025-01-22T18:44:25.194Z"
   },
   {
    "duration": 6,
    "start_time": "2025-01-22T18:44:25.212Z"
   },
   {
    "duration": 14,
    "start_time": "2025-01-22T18:44:25.220Z"
   },
   {
    "duration": 23,
    "start_time": "2025-01-22T18:44:25.235Z"
   },
   {
    "duration": 3,
    "start_time": "2025-01-22T18:44:25.262Z"
   },
   {
    "duration": 6,
    "start_time": "2025-01-22T18:44:25.266Z"
   },
   {
    "duration": 4,
    "start_time": "2025-01-22T18:44:25.274Z"
   },
   {
    "duration": 29,
    "start_time": "2025-01-22T18:44:25.280Z"
   },
   {
    "duration": 7368,
    "start_time": "2025-01-22T18:44:25.311Z"
   },
   {
    "duration": 6,
    "start_time": "2025-01-22T18:44:32.680Z"
   },
   {
    "duration": 12,
    "start_time": "2025-01-22T18:44:32.688Z"
   },
   {
    "duration": 13,
    "start_time": "2025-01-22T18:44:32.702Z"
   },
   {
    "duration": 44744,
    "start_time": "2025-01-22T18:44:32.717Z"
   },
   {
    "duration": 6,
    "start_time": "2025-01-22T18:45:17.462Z"
   },
   {
    "duration": 16,
    "start_time": "2025-01-22T18:45:17.470Z"
   },
   {
    "duration": 5,
    "start_time": "2025-01-22T18:45:17.487Z"
   },
   {
    "duration": 105967,
    "start_time": "2025-01-22T18:45:17.494Z"
   },
   {
    "duration": 6958,
    "start_time": "2025-01-22T18:47:03.463Z"
   },
   {
    "duration": 55,
    "start_time": "2025-01-22T18:47:10.423Z"
   },
   {
    "duration": 262,
    "start_time": "2025-01-22T18:47:10.480Z"
   },
   {
    "duration": 280,
    "start_time": "2025-01-22T18:47:10.744Z"
   },
   {
    "duration": 483,
    "start_time": "2025-01-22T18:47:11.025Z"
   },
   {
    "duration": 53,
    "start_time": "2025-01-24T12:39:41.334Z"
   },
   {
    "duration": 4327,
    "start_time": "2025-01-24T12:39:51.801Z"
   },
   {
    "duration": 1859,
    "start_time": "2025-01-24T12:39:56.131Z"
   },
   {
    "duration": 358,
    "start_time": "2025-01-24T12:39:57.991Z"
   },
   {
    "duration": 73,
    "start_time": "2025-01-24T12:39:58.351Z"
   },
   {
    "duration": 114,
    "start_time": "2025-01-24T12:39:58.425Z"
   },
   {
    "duration": 18,
    "start_time": "2025-01-24T12:39:58.542Z"
   },
   {
    "duration": 38,
    "start_time": "2025-01-24T12:39:58.562Z"
   },
   {
    "duration": 9,
    "start_time": "2025-01-24T12:39:58.602Z"
   },
   {
    "duration": 40,
    "start_time": "2025-01-24T12:39:58.613Z"
   },
   {
    "duration": 42,
    "start_time": "2025-01-24T12:39:58.657Z"
   },
   {
    "duration": 54,
    "start_time": "2025-01-24T12:39:58.701Z"
   },
   {
    "duration": 25,
    "start_time": "2025-01-24T12:39:58.758Z"
   },
   {
    "duration": 20,
    "start_time": "2025-01-24T12:39:58.785Z"
   },
   {
    "duration": 11,
    "start_time": "2025-01-24T12:39:58.807Z"
   },
   {
    "duration": 79,
    "start_time": "2025-01-24T12:39:58.820Z"
   },
   {
    "duration": 55,
    "start_time": "2025-01-24T12:39:58.901Z"
   },
   {
    "duration": 29,
    "start_time": "2025-01-24T12:39:58.958Z"
   },
   {
    "duration": 33,
    "start_time": "2025-01-24T12:39:58.989Z"
   },
   {
    "duration": 156,
    "start_time": "2025-01-24T12:39:59.036Z"
   },
   {
    "duration": 1740,
    "start_time": "2025-01-24T12:39:59.194Z"
   },
   {
    "duration": 17,
    "start_time": "2025-01-24T12:40:00.935Z"
   },
   {
    "duration": 2156,
    "start_time": "2025-01-24T12:40:00.954Z"
   },
   {
    "duration": 657,
    "start_time": "2025-01-24T12:40:03.113Z"
   },
   {
    "duration": 4383,
    "start_time": "2025-01-24T12:40:03.772Z"
   },
   {
    "duration": 20,
    "start_time": "2025-01-24T12:40:08.157Z"
   },
   {
    "duration": 10,
    "start_time": "2025-01-24T12:40:08.179Z"
   },
   {
    "duration": 40,
    "start_time": "2025-01-24T12:40:08.191Z"
   },
   {
    "duration": 22,
    "start_time": "2025-01-24T12:40:08.236Z"
   },
   {
    "duration": 31,
    "start_time": "2025-01-24T12:40:08.261Z"
   },
   {
    "duration": 113,
    "start_time": "2025-01-24T12:40:08.295Z"
   },
   {
    "duration": 44,
    "start_time": "2025-01-24T12:40:08.410Z"
   },
   {
    "duration": 21,
    "start_time": "2025-01-24T12:40:08.455Z"
   },
   {
    "duration": 11224,
    "start_time": "2025-01-24T12:40:08.478Z"
   },
   {
    "duration": 6,
    "start_time": "2025-01-24T12:40:19.703Z"
   },
   {
    "duration": 40,
    "start_time": "2025-01-24T12:40:19.711Z"
   },
   {
    "duration": 12,
    "start_time": "2025-01-24T12:40:19.752Z"
   },
   {
    "duration": 44396,
    "start_time": "2025-01-24T12:40:19.766Z"
   },
   {
    "duration": 6,
    "start_time": "2025-01-24T12:41:04.163Z"
   },
   {
    "duration": 30,
    "start_time": "2025-01-24T12:41:04.171Z"
   },
   {
    "duration": 29,
    "start_time": "2025-01-24T12:41:04.203Z"
   },
   {
    "duration": 100964,
    "start_time": "2025-01-24T12:41:04.234Z"
   },
   {
    "duration": 6714,
    "start_time": "2025-01-24T12:42:45.200Z"
   },
   {
    "duration": 59,
    "start_time": "2025-01-24T12:42:51.916Z"
   },
   {
    "duration": 204,
    "start_time": "2025-01-24T12:42:51.977Z"
   },
   {
    "duration": 213,
    "start_time": "2025-01-24T12:42:52.183Z"
   },
   {
    "duration": 152,
    "start_time": "2025-01-24T12:42:52.398Z"
   },
   {
    "duration": 58,
    "start_time": "2025-01-24T13:09:28.810Z"
   },
   {
    "duration": 2493,
    "start_time": "2025-01-24T13:09:38.806Z"
   },
   {
    "duration": 1543,
    "start_time": "2025-01-24T13:09:41.301Z"
   },
   {
    "duration": 101,
    "start_time": "2025-01-24T13:09:42.846Z"
   },
   {
    "duration": 69,
    "start_time": "2025-01-24T13:09:42.949Z"
   },
   {
    "duration": 61,
    "start_time": "2025-01-24T13:09:43.036Z"
   },
   {
    "duration": 38,
    "start_time": "2025-01-24T13:09:43.099Z"
   },
   {
    "duration": 18,
    "start_time": "2025-01-24T13:09:43.139Z"
   },
   {
    "duration": 7,
    "start_time": "2025-01-24T13:09:43.159Z"
   },
   {
    "duration": 13,
    "start_time": "2025-01-24T13:09:43.168Z"
   },
   {
    "duration": 25,
    "start_time": "2025-01-24T13:09:43.184Z"
   },
   {
    "duration": 33,
    "start_time": "2025-01-24T13:09:43.211Z"
   },
   {
    "duration": 13,
    "start_time": "2025-01-24T13:09:43.246Z"
   },
   {
    "duration": 27,
    "start_time": "2025-01-24T13:09:43.261Z"
   },
   {
    "duration": 72,
    "start_time": "2025-01-24T13:09:43.290Z"
   },
   {
    "duration": 30,
    "start_time": "2025-01-24T13:09:43.365Z"
   },
   {
    "duration": 60,
    "start_time": "2025-01-24T13:09:43.398Z"
   },
   {
    "duration": 164,
    "start_time": "2025-01-24T13:09:43.460Z"
   },
   {
    "duration": 1696,
    "start_time": "2025-01-24T13:09:43.626Z"
   },
   {
    "duration": 6,
    "start_time": "2025-01-24T13:09:45.324Z"
   },
   {
    "duration": 2094,
    "start_time": "2025-01-24T13:09:45.331Z"
   },
   {
    "duration": 615,
    "start_time": "2025-01-24T13:09:47.427Z"
   },
   {
    "duration": 4171,
    "start_time": "2025-01-24T13:09:48.044Z"
   },
   {
    "duration": 28,
    "start_time": "2025-01-24T13:09:52.216Z"
   },
   {
    "duration": 25,
    "start_time": "2025-01-24T13:09:52.246Z"
   },
   {
    "duration": 47,
    "start_time": "2025-01-24T13:09:52.273Z"
   },
   {
    "duration": 16,
    "start_time": "2025-01-24T13:09:52.321Z"
   },
   {
    "duration": 81,
    "start_time": "2025-01-24T13:09:52.339Z"
   },
   {
    "duration": 186,
    "start_time": "2025-01-24T13:09:52.424Z"
   },
   {
    "duration": 15,
    "start_time": "2025-01-24T13:09:52.612Z"
   },
   {
    "duration": 26,
    "start_time": "2025-01-24T13:09:52.629Z"
   },
   {
    "duration": 9038,
    "start_time": "2025-01-24T13:09:52.657Z"
   },
   {
    "duration": 6,
    "start_time": "2025-01-24T13:10:01.697Z"
   },
   {
    "duration": 43,
    "start_time": "2025-01-24T13:10:01.704Z"
   },
   {
    "duration": 39,
    "start_time": "2025-01-24T13:10:01.749Z"
   },
   {
    "duration": 43432,
    "start_time": "2025-01-24T13:10:01.789Z"
   },
   {
    "duration": 6,
    "start_time": "2025-01-24T13:10:45.223Z"
   },
   {
    "duration": 17,
    "start_time": "2025-01-24T13:10:45.238Z"
   },
   {
    "duration": 27,
    "start_time": "2025-01-24T13:10:45.257Z"
   },
   {
    "duration": 104997,
    "start_time": "2025-01-24T13:10:45.286Z"
   },
   {
    "duration": 6830,
    "start_time": "2025-01-24T13:12:30.285Z"
   },
   {
    "duration": 57,
    "start_time": "2025-01-24T13:12:37.117Z"
   },
   {
    "duration": 181,
    "start_time": "2025-01-24T13:12:37.176Z"
   },
   {
    "duration": 206,
    "start_time": "2025-01-24T13:12:37.358Z"
   },
   {
    "duration": 127,
    "start_time": "2025-01-24T13:12:37.565Z"
   },
   {
    "duration": 27,
    "start_time": "2025-01-24T13:19:33.742Z"
   },
   {
    "duration": 6,
    "start_time": "2025-01-24T13:25:50.937Z"
   },
   {
    "duration": 6,
    "start_time": "2025-01-24T13:26:27.443Z"
   },
   {
    "duration": 2510,
    "start_time": "2025-01-24T14:03:29.536Z"
   },
   {
    "duration": 1493,
    "start_time": "2025-01-24T14:03:32.048Z"
   },
   {
    "duration": 91,
    "start_time": "2025-01-24T14:03:33.542Z"
   },
   {
    "duration": 68,
    "start_time": "2025-01-24T14:03:33.635Z"
   },
   {
    "duration": 89,
    "start_time": "2025-01-24T14:03:33.705Z"
   },
   {
    "duration": 11,
    "start_time": "2025-01-24T14:03:33.795Z"
   },
   {
    "duration": 25,
    "start_time": "2025-01-24T14:03:33.837Z"
   },
   {
    "duration": 18,
    "start_time": "2025-01-24T14:03:33.864Z"
   },
   {
    "duration": 19,
    "start_time": "2025-01-24T14:03:33.883Z"
   },
   {
    "duration": 52,
    "start_time": "2025-01-24T14:03:33.905Z"
   },
   {
    "duration": 20,
    "start_time": "2025-01-24T14:03:33.959Z"
   },
   {
    "duration": 18,
    "start_time": "2025-01-24T14:03:33.980Z"
   },
   {
    "duration": 48,
    "start_time": "2025-01-24T14:03:33.999Z"
   },
   {
    "duration": 98,
    "start_time": "2025-01-24T14:03:34.048Z"
   },
   {
    "duration": 27,
    "start_time": "2025-01-24T14:03:34.147Z"
   },
   {
    "duration": 53,
    "start_time": "2025-01-24T14:03:34.176Z"
   },
   {
    "duration": 138,
    "start_time": "2025-01-24T14:03:34.230Z"
   },
   {
    "duration": 1656,
    "start_time": "2025-01-24T14:03:34.370Z"
   },
   {
    "duration": 8,
    "start_time": "2025-01-24T14:03:36.028Z"
   },
   {
    "duration": 2083,
    "start_time": "2025-01-24T14:03:36.038Z"
   },
   {
    "duration": 645,
    "start_time": "2025-01-24T14:03:38.122Z"
   },
   {
    "duration": 3937,
    "start_time": "2025-01-24T14:03:38.769Z"
   },
   {
    "duration": 41,
    "start_time": "2025-01-24T14:03:42.708Z"
   },
   {
    "duration": 5,
    "start_time": "2025-01-24T14:03:42.750Z"
   },
   {
    "duration": 26,
    "start_time": "2025-01-24T14:03:42.756Z"
   },
   {
    "duration": 7,
    "start_time": "2025-01-24T14:03:42.784Z"
   },
   {
    "duration": 7,
    "start_time": "2025-01-24T14:03:42.792Z"
   },
   {
    "duration": 3,
    "start_time": "2025-01-24T14:03:42.802Z"
   },
   {
    "duration": 12,
    "start_time": "2025-01-24T14:03:42.806Z"
   },
   {
    "duration": 7,
    "start_time": "2025-01-24T14:03:42.820Z"
   },
   {
    "duration": 9080,
    "start_time": "2025-01-24T14:03:42.837Z"
   },
   {
    "duration": 6,
    "start_time": "2025-01-24T14:03:51.919Z"
   },
   {
    "duration": 17,
    "start_time": "2025-01-24T14:03:51.927Z"
   },
   {
    "duration": 5,
    "start_time": "2025-01-24T14:03:51.946Z"
   },
   {
    "duration": 43651,
    "start_time": "2025-01-24T14:03:51.953Z"
   },
   {
    "duration": 6,
    "start_time": "2025-01-24T14:04:35.606Z"
   },
   {
    "duration": 23,
    "start_time": "2025-01-24T14:04:35.614Z"
   },
   {
    "duration": 28,
    "start_time": "2025-01-24T14:04:35.639Z"
   },
   {
    "duration": 104038,
    "start_time": "2025-01-24T14:04:35.669Z"
   },
   {
    "duration": 6924,
    "start_time": "2025-01-24T14:06:19.708Z"
   },
   {
    "duration": 45,
    "start_time": "2025-01-24T14:06:26.633Z"
   },
   {
    "duration": 205,
    "start_time": "2025-01-24T14:06:26.680Z"
   },
   {
    "duration": 220,
    "start_time": "2025-01-24T14:06:26.888Z"
   },
   {
    "duration": 134,
    "start_time": "2025-01-24T14:06:27.110Z"
   },
   {
    "duration": 358,
    "start_time": "2025-01-24T14:20:34.066Z"
   },
   {
    "duration": 4821,
    "start_time": "2025-01-24T14:24:31.949Z"
   },
   {
    "duration": 4920,
    "start_time": "2025-01-24T14:24:45.541Z"
   },
   {
    "duration": 113,
    "start_time": "2025-01-24T14:26:07.002Z"
   },
   {
    "duration": 2832,
    "start_time": "2025-01-24T14:28:07.016Z"
   },
   {
    "duration": 1554,
    "start_time": "2025-01-24T14:28:09.851Z"
   },
   {
    "duration": 113,
    "start_time": "2025-01-24T14:28:11.408Z"
   },
   {
    "duration": 81,
    "start_time": "2025-01-24T14:28:11.523Z"
   },
   {
    "duration": 94,
    "start_time": "2025-01-24T14:28:11.606Z"
   },
   {
    "duration": 10,
    "start_time": "2025-01-24T14:28:11.702Z"
   },
   {
    "duration": 41,
    "start_time": "2025-01-24T14:28:11.714Z"
   },
   {
    "duration": 12,
    "start_time": "2025-01-24T14:28:11.757Z"
   },
   {
    "duration": 13,
    "start_time": "2025-01-24T14:28:11.770Z"
   },
   {
    "duration": 15,
    "start_time": "2025-01-24T14:28:11.785Z"
   },
   {
    "duration": 11,
    "start_time": "2025-01-24T14:28:11.802Z"
   },
   {
    "duration": 16,
    "start_time": "2025-01-24T14:28:11.837Z"
   },
   {
    "duration": 12,
    "start_time": "2025-01-24T14:28:11.855Z"
   },
   {
    "duration": 89,
    "start_time": "2025-01-24T14:28:11.868Z"
   },
   {
    "duration": 28,
    "start_time": "2025-01-24T14:28:11.959Z"
   },
   {
    "duration": 58,
    "start_time": "2025-01-24T14:28:11.988Z"
   },
   {
    "duration": 158,
    "start_time": "2025-01-24T14:28:12.048Z"
   },
   {
    "duration": 1797,
    "start_time": "2025-01-24T14:28:12.209Z"
   },
   {
    "duration": 6,
    "start_time": "2025-01-24T14:28:14.007Z"
   },
   {
    "duration": 2130,
    "start_time": "2025-01-24T14:28:14.015Z"
   },
   {
    "duration": 648,
    "start_time": "2025-01-24T14:28:16.147Z"
   },
   {
    "duration": 4385,
    "start_time": "2025-01-24T14:28:16.797Z"
   },
   {
    "duration": 21,
    "start_time": "2025-01-24T14:28:21.184Z"
   },
   {
    "duration": 46,
    "start_time": "2025-01-24T14:28:21.207Z"
   },
   {
    "duration": 34,
    "start_time": "2025-01-24T14:28:21.255Z"
   },
   {
    "duration": 7,
    "start_time": "2025-01-24T14:28:21.291Z"
   },
   {
    "duration": 9,
    "start_time": "2025-01-24T14:28:21.300Z"
   },
   {
    "duration": 10,
    "start_time": "2025-01-24T14:28:21.313Z"
   },
   {
    "duration": 28,
    "start_time": "2025-01-24T14:28:21.324Z"
   },
   {
    "duration": 18,
    "start_time": "2025-01-24T14:28:21.354Z"
   },
   {
    "duration": 11707,
    "start_time": "2025-01-24T14:28:21.374Z"
   },
   {
    "duration": 7,
    "start_time": "2025-01-24T14:28:33.083Z"
   },
   {
    "duration": 38,
    "start_time": "2025-01-24T14:28:33.091Z"
   },
   {
    "duration": 24,
    "start_time": "2025-01-24T14:28:33.131Z"
   },
   {
    "duration": 2702,
    "start_time": "2025-01-24T14:29:20.475Z"
   },
   {
    "duration": 1524,
    "start_time": "2025-01-24T14:29:23.179Z"
   },
   {
    "duration": 92,
    "start_time": "2025-01-24T14:29:24.704Z"
   },
   {
    "duration": 78,
    "start_time": "2025-01-24T14:29:24.799Z"
   },
   {
    "duration": 109,
    "start_time": "2025-01-24T14:29:24.879Z"
   },
   {
    "duration": 15,
    "start_time": "2025-01-24T14:29:24.991Z"
   },
   {
    "duration": 38,
    "start_time": "2025-01-24T14:29:25.008Z"
   },
   {
    "duration": 10,
    "start_time": "2025-01-24T14:29:25.052Z"
   },
   {
    "duration": 17,
    "start_time": "2025-01-24T14:29:25.064Z"
   },
   {
    "duration": 22,
    "start_time": "2025-01-24T14:29:25.084Z"
   },
   {
    "duration": 11,
    "start_time": "2025-01-24T14:29:25.108Z"
   },
   {
    "duration": 33,
    "start_time": "2025-01-24T14:29:25.121Z"
   },
   {
    "duration": 11,
    "start_time": "2025-01-24T14:29:25.156Z"
   },
   {
    "duration": 77,
    "start_time": "2025-01-24T14:29:25.169Z"
   },
   {
    "duration": 29,
    "start_time": "2025-01-24T14:29:25.254Z"
   },
   {
    "duration": 36,
    "start_time": "2025-01-24T14:29:25.285Z"
   },
   {
    "duration": 190,
    "start_time": "2025-01-24T14:29:25.322Z"
   },
   {
    "duration": 1879,
    "start_time": "2025-01-24T14:29:25.515Z"
   },
   {
    "duration": 7,
    "start_time": "2025-01-24T14:29:27.396Z"
   },
   {
    "duration": 2325,
    "start_time": "2025-01-24T14:29:27.405Z"
   },
   {
    "duration": 668,
    "start_time": "2025-01-24T14:29:29.732Z"
   },
   {
    "duration": 4250,
    "start_time": "2025-01-24T14:29:30.402Z"
   },
   {
    "duration": 22,
    "start_time": "2025-01-24T14:29:34.654Z"
   },
   {
    "duration": 4,
    "start_time": "2025-01-24T14:29:34.679Z"
   },
   {
    "duration": 13,
    "start_time": "2025-01-24T14:29:34.684Z"
   },
   {
    "duration": 50,
    "start_time": "2025-01-24T14:29:34.699Z"
   },
   {
    "duration": 3,
    "start_time": "2025-01-24T14:29:34.751Z"
   },
   {
    "duration": 11,
    "start_time": "2025-01-24T14:29:34.759Z"
   },
   {
    "duration": 9,
    "start_time": "2025-01-24T14:29:34.773Z"
   },
   {
    "duration": 4,
    "start_time": "2025-01-24T14:29:34.783Z"
   },
   {
    "duration": 11008,
    "start_time": "2025-01-24T14:29:34.789Z"
   },
   {
    "duration": 6,
    "start_time": "2025-01-24T14:29:45.799Z"
   },
   {
    "duration": 26,
    "start_time": "2025-01-24T14:29:45.807Z"
   },
   {
    "duration": 26,
    "start_time": "2025-01-24T14:29:45.835Z"
   },
   {
    "duration": 113356,
    "start_time": "2025-01-24T14:29:45.863Z"
   },
   {
    "duration": 4799,
    "start_time": "2025-01-24T14:31:39.221Z"
   },
   {
    "duration": 57,
    "start_time": "2025-01-24T14:31:44.022Z"
   },
   {
    "duration": 204,
    "start_time": "2025-01-24T14:31:44.081Z"
   },
   {
    "duration": 230,
    "start_time": "2025-01-24T14:31:44.286Z"
   },
   {
    "duration": 384,
    "start_time": "2025-01-24T14:31:44.518Z"
   }
  ],
  "kernelspec": {
   "display_name": "Python 3 (ipykernel)",
   "language": "python",
   "name": "python3"
  },
  "language_info": {
   "codemirror_mode": {
    "name": "ipython",
    "version": 3
   },
   "file_extension": ".py",
   "mimetype": "text/x-python",
   "name": "python",
   "nbconvert_exporter": "python",
   "pygments_lexer": "ipython3",
   "version": "3.9.5"
  },
  "toc": {
   "base_numbering": 1,
   "nav_menu": {},
   "number_sections": true,
   "sideBar": true,
   "skip_h1_title": true,
   "title_cell": "Table of Contents",
   "title_sidebar": "Contents",
   "toc_cell": false,
   "toc_position": {},
   "toc_section_display": true,
   "toc_window_display": false
  }
 },
 "nbformat": 4,
 "nbformat_minor": 5
}
